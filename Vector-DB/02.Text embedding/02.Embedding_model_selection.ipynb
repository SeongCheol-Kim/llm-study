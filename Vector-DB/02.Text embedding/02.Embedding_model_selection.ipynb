{
 "cells": [
  {
   "cell_type": "markdown",
   "metadata": {},
   "source": [
    "## 알맞은 embedding model 선택 방법\n",
    "\n",
    "- 임베딩 후보 리스트 준비 (OpenAI, Cohere, e5-base-v2)\n",
    "- 활용하고자 하는 데이터셋을 임베딩 변환\n",
    "- Test set 랜덤 선별 후 평가 지표 생성\n",
    "\n",
    "---"
   ]
  },
  {
   "cell_type": "code",
   "execution_count": 1,
   "metadata": {},
   "outputs": [],
   "source": [
    "import pandas as pd\n",
    "import os\n",
    "import random\n",
    "import cohere\n",
    "import torch\n",
    "import numpy as np\n",
    "from transformers import AutoModel, AutoTokenizer\n",
    "import openai\n",
    "from openai import OpenAI\n",
    "from tqdm.notebook import tqdm\n",
    "from dotenv import load_dotenv\n",
    "load_dotenv()\n",
    "\n",
    "os.environ[\"TOKENIZERS_PARALLELISM\"] = \"false\"\n",
    "\n",
    "# initialize openai\n",
    "openai.api_key = os.environ[\"OPENAI_API_KEY\"]\n",
    "\n",
    "# initialize cohere\n",
    "co = cohere.Client(api_key=os.environ[\"CO_API_KEY\"])\n",
    "\n",
    "import warnings\n",
    "warnings.filterwarnings('ignore')\n"
   ]
  },
  {
   "cell_type": "markdown",
   "metadata": {},
   "source": [
    "### Read dataset"
   ]
  },
  {
   "cell_type": "code",
   "execution_count": 2,
   "metadata": {},
   "outputs": [],
   "source": [
    "df = pd.read_csv(\"../data/quora_dataset.csv\")"
   ]
  },
  {
   "cell_type": "code",
   "execution_count": 3,
   "metadata": {},
   "outputs": [
    {
     "data": {
      "text/html": [
       "<div>\n",
       "<style scoped>\n",
       "    .dataframe tbody tr th:only-of-type {\n",
       "        vertical-align: middle;\n",
       "    }\n",
       "\n",
       "    .dataframe tbody tr th {\n",
       "        vertical-align: top;\n",
       "    }\n",
       "\n",
       "    .dataframe thead th {\n",
       "        text-align: right;\n",
       "    }\n",
       "</style>\n",
       "<table border=\"1\" class=\"dataframe\">\n",
       "  <thead>\n",
       "    <tr style=\"text-align: right;\">\n",
       "      <th></th>\n",
       "      <th>text</th>\n",
       "      <th>id</th>\n",
       "      <th>duplicated_questions</th>\n",
       "      <th>length</th>\n",
       "    </tr>\n",
       "  </thead>\n",
       "  <tbody>\n",
       "    <tr>\n",
       "      <th>0</th>\n",
       "      <td>Astrology: I am a Capricorn Sun Cap moon and c...</td>\n",
       "      <td>11</td>\n",
       "      <td>[12]</td>\n",
       "      <td>1</td>\n",
       "    </tr>\n",
       "    <tr>\n",
       "      <th>1</th>\n",
       "      <td>I'm a triple Capricorn (Sun, Moon and ascendan...</td>\n",
       "      <td>12</td>\n",
       "      <td>[11]</td>\n",
       "      <td>1</td>\n",
       "    </tr>\n",
       "    <tr>\n",
       "      <th>2</th>\n",
       "      <td>How can I be a good geologist?</td>\n",
       "      <td>15</td>\n",
       "      <td>[16]</td>\n",
       "      <td>1</td>\n",
       "    </tr>\n",
       "    <tr>\n",
       "      <th>3</th>\n",
       "      <td>What should I do to be a great geologist?</td>\n",
       "      <td>16</td>\n",
       "      <td>[15]</td>\n",
       "      <td>1</td>\n",
       "    </tr>\n",
       "    <tr>\n",
       "      <th>4</th>\n",
       "      <td>How do I read and find my YouTube comments?</td>\n",
       "      <td>23</td>\n",
       "      <td>[24]</td>\n",
       "      <td>1</td>\n",
       "    </tr>\n",
       "  </tbody>\n",
       "</table>\n",
       "</div>"
      ],
      "text/plain": [
       "                                                text  id duplicated_questions  \\\n",
       "0  Astrology: I am a Capricorn Sun Cap moon and c...  11                 [12]   \n",
       "1  I'm a triple Capricorn (Sun, Moon and ascendan...  12                 [11]   \n",
       "2                     How can I be a good geologist?  15                 [16]   \n",
       "3          What should I do to be a great geologist?  16                 [15]   \n",
       "4        How do I read and find my YouTube comments?  23                 [24]   \n",
       "\n",
       "   length  \n",
       "0       1  \n",
       "1       1  \n",
       "2       1  \n",
       "3       1  \n",
       "4       1  "
      ]
     },
     "execution_count": 3,
     "metadata": {},
     "output_type": "execute_result"
    }
   ],
   "source": [
    "df.head()"
   ]
  },
  {
   "cell_type": "markdown",
   "metadata": {},
   "source": [
    "### 1. Playground"
   ]
  },
  {
   "cell_type": "code",
   "execution_count": 4,
   "metadata": {},
   "outputs": [
    {
     "name": "stdout",
     "output_type": "stream",
     "text": [
      "How can I be a good geologist?\n"
     ]
    }
   ],
   "source": [
    "text1 = df.loc[2, 'text']\n",
    "print(text1)"
   ]
  },
  {
   "cell_type": "code",
   "execution_count": 5,
   "metadata": {},
   "outputs": [
    {
     "name": "stdout",
     "output_type": "stream",
     "text": [
      "What should I do to be a great geologist?\n"
     ]
    }
   ],
   "source": [
    "text2 = df.loc[3, 'text']\n",
    "print(text2)"
   ]
  },
  {
   "cell_type": "code",
   "execution_count": 19,
   "metadata": {},
   "outputs": [],
   "source": [
    "def create_embeddings(txt_list, provider='openai'):\n",
    "    if provider=='openai':\n",
    "        client = OpenAI()\n",
    "        \n",
    "        # 최대 길이 설정\n",
    "        max_length = 2048\n",
    "\n",
    "        # 입력 텍스트를 나누기\n",
    "\n",
    "        if len(txt_list) > max_length:\n",
    "            chunks = [txt_list[i:i+max_length] for i in range(0, len(txt_list), max_length)]\n",
    "        \n",
    "            responses = []\n",
    "            for chunk in chunks:\n",
    "                response = client.embeddings.create(\n",
    "                    input=chunk,\n",
    "                    model=\"text-embedding-3-small\")\n",
    "                responses.extend([r.embedding for r in response.data])\n",
    "        else:\n",
    "            response = client.embeddings.create(\n",
    "                input=txt_list,\n",
    "                model=\"text-embedding-3-small\")\n",
    "            responses = [r.embedding for r in response.data]\n",
    "\n",
    "        return responses\n",
    "    \n",
    "    elif provider=='cohere':\n",
    "        doc_embeds = co.embed(\n",
    "        txt_list,\n",
    "        input_type=\"search_document\",\n",
    "        model=\"embed-english-v3.0\")\n",
    "        return doc_embeds.embeddings\n",
    "    else:\n",
    "        assert False, \"Double check provider name\""
   ]
  },
  {
   "cell_type": "code",
   "execution_count": 9,
   "metadata": {},
   "outputs": [],
   "source": [
    "emb1 = create_embeddings(df.loc[2, 'text'])\n",
    "emb2 = create_embeddings(df.loc[3, 'text'])"
   ]
  },
  {
   "cell_type": "code",
   "execution_count": 10,
   "metadata": {},
   "outputs": [],
   "source": [
    "from utils import cosine_similarity"
   ]
  },
  {
   "cell_type": "code",
   "execution_count": 11,
   "metadata": {},
   "outputs": [
    {
     "name": "stdout",
     "output_type": "stream",
     "text": [
      "Cosine 유사도 : 0.9153451440997994.\n",
      "사용된 문장 : \n",
      "How can I be a good geologist?\n",
      "What should I do to be a great geologist?\n"
     ]
    }
   ],
   "source": [
    "# simarity between two embeddings\n",
    "print(\"Cosine 유사도 : {}.\\n사용된 문장 : \\n{}\\n{}\".format(cosine_similarity(emb1[0], emb2[0]), text1, text2))"
   ]
  },
  {
   "cell_type": "code",
   "execution_count": 12,
   "metadata": {},
   "outputs": [
    {
     "name": "stdout",
     "output_type": "stream",
     "text": [
      "Cosine 유사도 : 0.18174818369524162.\n",
      "사용된 문장 : \n",
      "How can I be a good geologist?\n",
      "How do I read and find my YouTube comments?\n"
     ]
    }
   ],
   "source": [
    "text3 = df.loc[4, 'text']\n",
    "\n",
    "emb3 = create_embeddings(text3)\n",
    "print(\"Cosine 유사도 : {}.\\n사용된 문장 : \\n{}\\n{}\".format(cosine_similarity(emb1[0], emb3[0]), text1, text3))"
   ]
  },
  {
   "cell_type": "code",
   "execution_count": 13,
   "metadata": {},
   "outputs": [
    {
     "name": "stdout",
     "output_type": "stream",
     "text": [
      "Cosine 유사도 : 0.279567739394289.\n",
      "사용된 문장 : \n",
      "How can I be a good geologist?\n",
      "What can make Physics easy to learn?\n"
     ]
    }
   ],
   "source": [
    "text4 = df.loc[6, 'text']\n",
    "\n",
    "emb3 = create_embeddings(text4)\n",
    "print(\"Cosine 유사도 : {}.\\n사용된 문장 : \\n{}\\n{}\".format(cosine_similarity(emb1[0], emb3[0]), text1, text4))"
   ]
  },
  {
   "cell_type": "markdown",
   "metadata": {},
   "source": [
    "---"
   ]
  },
  {
   "cell_type": "markdown",
   "metadata": {},
   "source": [
    "### 2. Embedding vector Dataset 만들기"
   ]
  },
  {
   "cell_type": "markdown",
   "metadata": {},
   "source": [
    "openai embeddings"
   ]
  },
  {
   "cell_type": "code",
   "execution_count": 20,
   "metadata": {
    "scrolled": true
   },
   "outputs": [],
   "source": [
    "# create embeddings (openai)\n",
    "openai_emb = create_embeddings(df.text.tolist(), provider='openai')"
   ]
  },
  {
   "cell_type": "code",
   "execution_count": 23,
   "metadata": {},
   "outputs": [],
   "source": [
    "df['openai_emb'] = openai_emb"
   ]
  },
  {
   "cell_type": "markdown",
   "metadata": {},
   "source": [
    "cohere embeddings"
   ]
  },
  {
   "cell_type": "code",
   "execution_count": 24,
   "metadata": {},
   "outputs": [],
   "source": [
    "# create embeddings (cohere)\n",
    "cohere_emb = create_embeddings(df.text.tolist(), 'cohere')"
   ]
  },
  {
   "cell_type": "code",
   "execution_count": 25,
   "metadata": {},
   "outputs": [],
   "source": [
    "df['cohere_emb'] = cohere_emb"
   ]
  },
  {
   "cell_type": "markdown",
   "metadata": {},
   "source": [
    "e5 embeddings"
   ]
  },
  {
   "cell_type": "code",
   "execution_count": 26,
   "metadata": {},
   "outputs": [
    {
     "data": {
      "text/plain": [
       "BertModel(\n",
       "  (embeddings): BertEmbeddings(\n",
       "    (word_embeddings): Embedding(30522, 768, padding_idx=0)\n",
       "    (position_embeddings): Embedding(512, 768)\n",
       "    (token_type_embeddings): Embedding(2, 768)\n",
       "    (LayerNorm): LayerNorm((768,), eps=1e-12, elementwise_affine=True)\n",
       "    (dropout): Dropout(p=0.1, inplace=False)\n",
       "  )\n",
       "  (encoder): BertEncoder(\n",
       "    (layer): ModuleList(\n",
       "      (0-11): 12 x BertLayer(\n",
       "        (attention): BertAttention(\n",
       "          (self): BertSelfAttention(\n",
       "            (query): Linear(in_features=768, out_features=768, bias=True)\n",
       "            (key): Linear(in_features=768, out_features=768, bias=True)\n",
       "            (value): Linear(in_features=768, out_features=768, bias=True)\n",
       "            (dropout): Dropout(p=0.1, inplace=False)\n",
       "          )\n",
       "          (output): BertSelfOutput(\n",
       "            (dense): Linear(in_features=768, out_features=768, bias=True)\n",
       "            (LayerNorm): LayerNorm((768,), eps=1e-12, elementwise_affine=True)\n",
       "            (dropout): Dropout(p=0.1, inplace=False)\n",
       "          )\n",
       "        )\n",
       "        (intermediate): BertIntermediate(\n",
       "          (dense): Linear(in_features=768, out_features=3072, bias=True)\n",
       "          (intermediate_act_fn): GELUActivation()\n",
       "        )\n",
       "        (output): BertOutput(\n",
       "          (dense): Linear(in_features=3072, out_features=768, bias=True)\n",
       "          (LayerNorm): LayerNorm((768,), eps=1e-12, elementwise_affine=True)\n",
       "          (dropout): Dropout(p=0.1, inplace=False)\n",
       "        )\n",
       "      )\n",
       "    )\n",
       "  )\n",
       "  (pooler): BertPooler(\n",
       "    (dense): Linear(in_features=768, out_features=768, bias=True)\n",
       "    (activation): Tanh()\n",
       "  )\n",
       ")"
      ]
     },
     "execution_count": 26,
     "metadata": {},
     "output_type": "execute_result"
    }
   ],
   "source": [
    "# load gpu if possible\n",
    "device = \"cuda\" if torch.cuda.is_available() else \"cpu\"\n",
    "\n",
    "model_id = \"intfloat/e5-base-v2\"\n",
    "\n",
    "# init tokenizer and model\n",
    "tokenizer = AutoTokenizer.from_pretrained(model_id)\n",
    "model = AutoModel.from_pretrained(model_id).to(device)\n",
    "model.eval()"
   ]
  },
  {
   "cell_type": "code",
   "execution_count": 27,
   "metadata": {},
   "outputs": [],
   "source": [
    "def create_e5_emb(docs, model=model):\n",
    "    \"\"\"\n",
    "    e5 embedding 모델을 활용하여 임베딩 벡터 생성\n",
    "    \"\"\"\n",
    "    docs = [f\"query: {d}\" for d in docs]\n",
    "    # tokenize\n",
    "    tokens = tokenizer(\n",
    "        docs, padding=True, max_length=512, truncation=True, return_tensors=\"pt\"\n",
    "    ).to(device)\n",
    "    with torch.no_grad():\n",
    "        out = model(**tokens)\n",
    "        last_hidden = out.last_hidden_state.masked_fill( # from last hidden state\n",
    "            ~tokens[\"attention_mask\"][..., None].bool(), 0.0\n",
    "        )\n",
    "        # average out embeddings per token (non-padding)\n",
    "        doc_embeds = last_hidden.sum(dim=1) / tokens[\"attention_mask\"].sum(dim=1)[..., None]\n",
    "    return doc_embeds.cpu().numpy()"
   ]
  },
  {
   "cell_type": "markdown",
   "metadata": {},
   "source": [
    "긴 runtime 주의 (약 2시간)"
   ]
  },
  {
   "cell_type": "code",
   "execution_count": 28,
   "metadata": {},
   "outputs": [
    {
     "data": {
      "application/vnd.jupyter.widget-view+json": {
       "model_id": "8aaab0cc122d48699e14ceea17766705",
       "version_major": 2,
       "version_minor": 0
      },
      "text/plain": [
       "  0%|          | 0/44 [00:00<?, ?it/s]"
      ]
     },
     "metadata": {},
     "output_type": "display_data"
    }
   ],
   "source": [
    "data = df.text.tolist()\n",
    "batch_size = 128\n",
    "\n",
    "for i in tqdm(range(0, len(data), batch_size)):\n",
    "    i_end = min(len(data), i+batch_size)\n",
    "    data_batch = data[i:i_end]\n",
    "    # embed current batch\n",
    "    embed_batch = create_e5_emb(data_batch)\n",
    "    if i == 0:\n",
    "        emb3 = embed_batch.copy()\n",
    "    else:\n",
    "        emb3 = np.concatenate([emb3, embed_batch.copy()])"
   ]
  },
  {
   "cell_type": "code",
   "execution_count": 29,
   "metadata": {},
   "outputs": [],
   "source": [
    "emb3 = [list(e) for e in emb3]\n",
    "df['e5_emb'] = emb3"
   ]
  },
  {
   "cell_type": "code",
   "execution_count": 30,
   "metadata": {},
   "outputs": [],
   "source": [
    "df.to_csv(\"../data/quora_dataset_emb.csv\", index=False)"
   ]
  },
  {
   "cell_type": "markdown",
   "metadata": {},
   "source": [
    "embedding이 이미 처리된 데이터 읽어오기"
   ]
  },
  {
   "cell_type": "code",
   "execution_count": 31,
   "metadata": {},
   "outputs": [],
   "source": [
    "df = pd.read_csv(\"../data/quora_dataset_emb.csv\")\n",
    "# str -> list 형태로 변환\n",
    "import json\n",
    "df['openai_emb'] = df['openai_emb'].apply(json.loads)\n",
    "df['cohere_emb'] = df['cohere_emb'].apply(json.loads)\n",
    "df['e5_emb'] = df['e5_emb'].apply(json.loads)\n",
    "df['duplicated_questions'] = df['duplicated_questions'].apply(json.loads)"
   ]
  },
  {
   "cell_type": "code",
   "execution_count": 32,
   "metadata": {},
   "outputs": [
    {
     "data": {
      "text/html": [
       "<div>\n",
       "<style scoped>\n",
       "    .dataframe tbody tr th:only-of-type {\n",
       "        vertical-align: middle;\n",
       "    }\n",
       "\n",
       "    .dataframe tbody tr th {\n",
       "        vertical-align: top;\n",
       "    }\n",
       "\n",
       "    .dataframe thead th {\n",
       "        text-align: right;\n",
       "    }\n",
       "</style>\n",
       "<table border=\"1\" class=\"dataframe\">\n",
       "  <thead>\n",
       "    <tr style=\"text-align: right;\">\n",
       "      <th></th>\n",
       "      <th>text</th>\n",
       "      <th>id</th>\n",
       "      <th>duplicated_questions</th>\n",
       "      <th>length</th>\n",
       "      <th>openai_emb</th>\n",
       "      <th>cohere_emb</th>\n",
       "      <th>e5_emb</th>\n",
       "    </tr>\n",
       "  </thead>\n",
       "  <tbody>\n",
       "    <tr>\n",
       "      <th>0</th>\n",
       "      <td>Astrology: I am a Capricorn Sun Cap moon and c...</td>\n",
       "      <td>11</td>\n",
       "      <td>[12]</td>\n",
       "      <td>1</td>\n",
       "      <td>[-0.005708687007427216, -0.018573936074972153,...</td>\n",
       "      <td>[-0.05834961, -0.010795593, -0.04522705, 0.035...</td>\n",
       "      <td>[0.059878025, -0.15769613, -0.14131476, -0.546...</td>\n",
       "    </tr>\n",
       "    <tr>\n",
       "      <th>1</th>\n",
       "      <td>I'm a triple Capricorn (Sun, Moon and ascendan...</td>\n",
       "      <td>12</td>\n",
       "      <td>[11]</td>\n",
       "      <td>1</td>\n",
       "      <td>[0.026049701496958733, -0.014290662482380867, ...</td>\n",
       "      <td>[-0.022338867, -0.0063285828, -0.057128906, 0....</td>\n",
       "      <td>[0.08937602, -0.29545033, -0.33455348, -0.3294...</td>\n",
       "    </tr>\n",
       "    <tr>\n",
       "      <th>2</th>\n",
       "      <td>How can I be a good geologist?</td>\n",
       "      <td>15</td>\n",
       "      <td>[16]</td>\n",
       "      <td>1</td>\n",
       "      <td>[0.005289203487336636, 0.004235886037349701, 0...</td>\n",
       "      <td>[-0.012535095, 0.005092621, -0.033233643, -0.0...</td>\n",
       "      <td>[0.082580894, -0.09264571, -0.78053635, -0.324...</td>\n",
       "    </tr>\n",
       "    <tr>\n",
       "      <th>3</th>\n",
       "      <td>What should I do to be a great geologist?</td>\n",
       "      <td>16</td>\n",
       "      <td>[15]</td>\n",
       "      <td>1</td>\n",
       "      <td>[0.015141667798161507, 0.0010603171540424228, ...</td>\n",
       "      <td>[-0.013465881, 0.0018148422, -0.052612305, 0.0...</td>\n",
       "      <td>[-0.16533084, 0.19044475, -0.8906654, -0.36435...</td>\n",
       "    </tr>\n",
       "    <tr>\n",
       "      <th>4</th>\n",
       "      <td>How do I read and find my YouTube comments?</td>\n",
       "      <td>23</td>\n",
       "      <td>[24]</td>\n",
       "      <td>1</td>\n",
       "      <td>[0.03507072106003761, -0.0010471956338733435, ...</td>\n",
       "      <td>[-0.0047836304, 0.028137207, -0.037231445, -0....</td>\n",
       "      <td>[0.50644594, -0.62657803, -0.25233975, -0.1711...</td>\n",
       "    </tr>\n",
       "  </tbody>\n",
       "</table>\n",
       "</div>"
      ],
      "text/plain": [
       "                                                text  id duplicated_questions  \\\n",
       "0  Astrology: I am a Capricorn Sun Cap moon and c...  11                 [12]   \n",
       "1  I'm a triple Capricorn (Sun, Moon and ascendan...  12                 [11]   \n",
       "2                     How can I be a good geologist?  15                 [16]   \n",
       "3          What should I do to be a great geologist?  16                 [15]   \n",
       "4        How do I read and find my YouTube comments?  23                 [24]   \n",
       "\n",
       "   length                                         openai_emb  \\\n",
       "0       1  [-0.005708687007427216, -0.018573936074972153,...   \n",
       "1       1  [0.026049701496958733, -0.014290662482380867, ...   \n",
       "2       1  [0.005289203487336636, 0.004235886037349701, 0...   \n",
       "3       1  [0.015141667798161507, 0.0010603171540424228, ...   \n",
       "4       1  [0.03507072106003761, -0.0010471956338733435, ...   \n",
       "\n",
       "                                          cohere_emb  \\\n",
       "0  [-0.05834961, -0.010795593, -0.04522705, 0.035...   \n",
       "1  [-0.022338867, -0.0063285828, -0.057128906, 0....   \n",
       "2  [-0.012535095, 0.005092621, -0.033233643, -0.0...   \n",
       "3  [-0.013465881, 0.0018148422, -0.052612305, 0.0...   \n",
       "4  [-0.0047836304, 0.028137207, -0.037231445, -0....   \n",
       "\n",
       "                                              e5_emb  \n",
       "0  [0.059878025, -0.15769613, -0.14131476, -0.546...  \n",
       "1  [0.08937602, -0.29545033, -0.33455348, -0.3294...  \n",
       "2  [0.082580894, -0.09264571, -0.78053635, -0.324...  \n",
       "3  [-0.16533084, 0.19044475, -0.8906654, -0.36435...  \n",
       "4  [0.50644594, -0.62657803, -0.25233975, -0.1711...  "
      ]
     },
     "execution_count": 32,
     "metadata": {},
     "output_type": "execute_result"
    }
   ],
   "source": [
    "df.head()"
   ]
  },
  {
   "cell_type": "markdown",
   "metadata": {},
   "source": [
    "### 3. Test set 선별"
   ]
  },
  {
   "cell_type": "markdown",
   "metadata": {},
   "source": [
    "테스팅을 위해 필요한 랜덤 질문들 선별"
   ]
  },
  {
   "cell_type": "code",
   "execution_count": 33,
   "metadata": {},
   "outputs": [],
   "source": [
    "# now choose random 10 rows of answers\n",
    "test_query = random.choices(df.id, k=1000)"
   ]
  },
  {
   "cell_type": "code",
   "execution_count": 34,
   "metadata": {},
   "outputs": [
    {
     "data": {
      "text/plain": [
       "[1440, 4962, 4878, 287, 12591]"
      ]
     },
     "execution_count": 34,
     "metadata": {},
     "output_type": "execute_result"
    }
   ],
   "source": [
    "test_query[:5]"
   ]
  },
  {
   "cell_type": "code",
   "execution_count": 35,
   "metadata": {},
   "outputs": [],
   "source": [
    "test = df.loc[df.id.isin(test_query)]"
   ]
  },
  {
   "cell_type": "markdown",
   "metadata": {},
   "source": [
    "각 테스트 질문별로 가장 유사한 질문들 top-k개 retrieve"
   ]
  },
  {
   "cell_type": "code",
   "execution_count": 36,
   "metadata": {},
   "outputs": [],
   "source": [
    "from sklearn.metrics.pairwise import cosine_similarity\n",
    "\n",
    "def search_top_k(search_df, search_df_column, id, topk):\n",
    "    \"\"\"\n",
    "    search_df : search를 할 대상 dataframe\n",
    "    search_df_column : search를 위해 사용될 embedding column name\n",
    "    id : test query id\n",
    "    topk : 유사도 기반으로 top-k개 선별\n",
    "    \"\"\"\n",
    "    query = search_df.loc[search_df['id']==id, search_df_column].values[0]\n",
    "    query_reshaped = np.array(query).reshape(1, -1)\n",
    "    \n",
    "    search_df = search_df.loc[search_df['id']!=id]\n",
    "    # cosine similarity in batch\n",
    "    similarities = cosine_similarity(query_reshaped, np.vstack(search_df[search_df_column].values)).flatten()\n",
    "    \n",
    "    search_df['similarity'] = similarities\n",
    "    \n",
    "    # Get top-k indices\n",
    "    # hence we sort the topk indices again to ensure they are truly the top-k\n",
    "    topk_indices = np.argpartition(similarities, -topk)[-topk:]\n",
    "    topk_indices_sorted = topk_indices[np.argsort(-similarities[topk_indices])]\n",
    "    \n",
    "    # Retrieve the top-k results\n",
    "    search_result = search_df.iloc[topk_indices_sorted]\n",
    "    \n",
    "    return search_result\n"
   ]
  },
  {
   "cell_type": "markdown",
   "metadata": {},
   "source": [
    "- 각 테스트 질문당 데이터 전체를 대상으로 cosine_similarity를 계산하고\n",
    "- openai embedding, cohere embedding에 대해 각각 질문 k 개씩 진행\n",
    "- search_result format :\n",
    "```json\n",
    "{\n",
    "    'question id' : cosine_sim 기준 유사한 질문 top-k개를 담은 pd.DataFrame,\n",
    "    'question id' : ...\n",
    "}\n",
    "```"
   ]
  },
  {
   "cell_type": "code",
   "execution_count": 37,
   "metadata": {},
   "outputs": [],
   "source": [
    "# 각 질문들 중, test 질문과 동일한 질문이 가장 유사하게 도출될 것이기 때문에\n",
    "# test 질문을 제외한 top-5\n",
    "query_results_openai = { k:search_top_k(df, 'openai_emb', k, 5) for k in test.id }\n",
    "query_results_cohere = { k:search_top_k(df, 'cohere_emb', k, 5) for k in test.id }\n",
    "query_results_e5 = { k:search_top_k(df, 'e5_emb', k, 5) for k in test.id }"
   ]
  },
  {
   "cell_type": "markdown",
   "metadata": {},
   "source": [
    "테스트 결과 엿보기"
   ]
  },
  {
   "cell_type": "code",
   "execution_count": 38,
   "metadata": {},
   "outputs": [
    {
     "data": {
      "text/html": [
       "<div>\n",
       "<style scoped>\n",
       "    .dataframe tbody tr th:only-of-type {\n",
       "        vertical-align: middle;\n",
       "    }\n",
       "\n",
       "    .dataframe tbody tr th {\n",
       "        vertical-align: top;\n",
       "    }\n",
       "\n",
       "    .dataframe thead th {\n",
       "        text-align: right;\n",
       "    }\n",
       "</style>\n",
       "<table border=\"1\" class=\"dataframe\">\n",
       "  <thead>\n",
       "    <tr style=\"text-align: right;\">\n",
       "      <th></th>\n",
       "      <th>text</th>\n",
       "      <th>id</th>\n",
       "      <th>duplicated_questions</th>\n",
       "      <th>length</th>\n",
       "      <th>openai_emb</th>\n",
       "      <th>cohere_emb</th>\n",
       "      <th>e5_emb</th>\n",
       "    </tr>\n",
       "  </thead>\n",
       "  <tbody>\n",
       "    <tr>\n",
       "      <th>4784</th>\n",
       "      <td>What is best investment option?</td>\n",
       "      <td>12694</td>\n",
       "      <td>[12695, 14212, 14211]</td>\n",
       "      <td>3</td>\n",
       "      <td>[0.006630514282733202, 0.01731019653379917, 0....</td>\n",
       "      <td>[0.0029945374, -0.028869629, 0.028793335, 0.00...</td>\n",
       "      <td>[-0.876402, -0.50939333, -0.9197594, -0.143355...</td>\n",
       "    </tr>\n",
       "    <tr>\n",
       "      <th>5054</th>\n",
       "      <td>How do I improve my writing skills?</td>\n",
       "      <td>13556</td>\n",
       "      <td>[3066, 13555, 3065]</td>\n",
       "      <td>3</td>\n",
       "      <td>[0.03843690827488899, 0.006117657292634249, 0....</td>\n",
       "      <td>[-0.029449463, 0.025756836, -0.027435303, 0.03...</td>\n",
       "      <td>[0.33717027, -0.27030376, -0.75061697, 0.00306...</td>\n",
       "    </tr>\n",
       "    <tr>\n",
       "      <th>5099</th>\n",
       "      <td>What does semen taste like?</td>\n",
       "      <td>13680</td>\n",
       "      <td>[4395, 4396, 13681]</td>\n",
       "      <td>3</td>\n",
       "      <td>[-0.022604946047067642, -0.0003302536206319928...</td>\n",
       "      <td>[0.017456055, 0.042053223, -0.01852417, 0.0114...</td>\n",
       "      <td>[-0.09342691, -0.1040042, -0.6521572, 0.000391...</td>\n",
       "    </tr>\n",
       "    <tr>\n",
       "      <th>5274</th>\n",
       "      <td>What same food should I eat every day to prote...</td>\n",
       "      <td>14182</td>\n",
       "      <td>[6194, 854, 14183]</td>\n",
       "      <td>3</td>\n",
       "      <td>[-0.004422239027917385, -0.04021645337343216, ...</td>\n",
       "      <td>[0.023086548, 0.03036499, -0.08929443, -0.0823...</td>\n",
       "      <td>[0.18870227, -0.30070493, -0.93830246, -0.1201...</td>\n",
       "    </tr>\n",
       "    <tr>\n",
       "      <th>5404</th>\n",
       "      <td>How do I my increase memory power?</td>\n",
       "      <td>14637</td>\n",
       "      <td>[14636, 10681, 10682]</td>\n",
       "      <td>3</td>\n",
       "      <td>[0.022613229230046272, -0.005336236674338579, ...</td>\n",
       "      <td>[0.0038757324, 0.027053833, -0.05279541, -0.02...</td>\n",
       "      <td>[-0.31909928, -0.46033445, -0.46627197, -0.031...</td>\n",
       "    </tr>\n",
       "  </tbody>\n",
       "</table>\n",
       "</div>"
      ],
      "text/plain": [
       "                                                   text     id  \\\n",
       "4784                    What is best investment option?  12694   \n",
       "5054                How do I improve my writing skills?  13556   \n",
       "5099                        What does semen taste like?  13680   \n",
       "5274  What same food should I eat every day to prote...  14182   \n",
       "5404                 How do I my increase memory power?  14637   \n",
       "\n",
       "       duplicated_questions  length  \\\n",
       "4784  [12695, 14212, 14211]       3   \n",
       "5054    [3066, 13555, 3065]       3   \n",
       "5099    [4395, 4396, 13681]       3   \n",
       "5274     [6194, 854, 14183]       3   \n",
       "5404  [14636, 10681, 10682]       3   \n",
       "\n",
       "                                             openai_emb  \\\n",
       "4784  [0.006630514282733202, 0.01731019653379917, 0....   \n",
       "5054  [0.03843690827488899, 0.006117657292634249, 0....   \n",
       "5099  [-0.022604946047067642, -0.0003302536206319928...   \n",
       "5274  [-0.004422239027917385, -0.04021645337343216, ...   \n",
       "5404  [0.022613229230046272, -0.005336236674338579, ...   \n",
       "\n",
       "                                             cohere_emb  \\\n",
       "4784  [0.0029945374, -0.028869629, 0.028793335, 0.00...   \n",
       "5054  [-0.029449463, 0.025756836, -0.027435303, 0.03...   \n",
       "5099  [0.017456055, 0.042053223, -0.01852417, 0.0114...   \n",
       "5274  [0.023086548, 0.03036499, -0.08929443, -0.0823...   \n",
       "5404  [0.0038757324, 0.027053833, -0.05279541, -0.02...   \n",
       "\n",
       "                                                 e5_emb  \n",
       "4784  [-0.876402, -0.50939333, -0.9197594, -0.143355...  \n",
       "5054  [0.33717027, -0.27030376, -0.75061697, 0.00306...  \n",
       "5099  [-0.09342691, -0.1040042, -0.6521572, 0.000391...  \n",
       "5274  [0.18870227, -0.30070493, -0.93830246, -0.1201...  \n",
       "5404  [-0.31909928, -0.46033445, -0.46627197, -0.031...  "
      ]
     },
     "execution_count": 38,
     "metadata": {},
     "output_type": "execute_result"
    }
   ],
   "source": [
    "test.loc[test.length==3].tail()"
   ]
  },
  {
   "cell_type": "code",
   "execution_count": 40,
   "metadata": {},
   "outputs": [
    {
     "data": {
      "text/plain": [
       "array(['What same food should I eat every day to protect my health?'],\n",
       "      dtype=object)"
      ]
     },
     "execution_count": 40,
     "metadata": {},
     "output_type": "execute_result"
    }
   ],
   "source": [
    "test.loc[test['id']==14182, 'text'].values"
   ]
  },
  {
   "cell_type": "code",
   "execution_count": 41,
   "metadata": {},
   "outputs": [
    {
     "data": {
      "text/html": [
       "<div>\n",
       "<style scoped>\n",
       "    .dataframe tbody tr th:only-of-type {\n",
       "        vertical-align: middle;\n",
       "    }\n",
       "\n",
       "    .dataframe tbody tr th {\n",
       "        vertical-align: top;\n",
       "    }\n",
       "\n",
       "    .dataframe thead th {\n",
       "        text-align: right;\n",
       "    }\n",
       "</style>\n",
       "<table border=\"1\" class=\"dataframe\">\n",
       "  <thead>\n",
       "    <tr style=\"text-align: right;\">\n",
       "      <th></th>\n",
       "      <th>text</th>\n",
       "      <th>id</th>\n",
       "      <th>duplicated_questions</th>\n",
       "      <th>length</th>\n",
       "      <th>openai_emb</th>\n",
       "      <th>cohere_emb</th>\n",
       "      <th>e5_emb</th>\n",
       "      <th>similarity</th>\n",
       "    </tr>\n",
       "  </thead>\n",
       "  <tbody>\n",
       "    <tr>\n",
       "      <th>325</th>\n",
       "      <td>What can I eat every day to be more healthy?</td>\n",
       "      <td>854</td>\n",
       "      <td>[1038, 14182, 7834, 1039, 855, 14183, 8569, 6194]</td>\n",
       "      <td>8</td>\n",
       "      <td>[0.011935393325984478, -0.010704121552407742, ...</td>\n",
       "      <td>[0.02798462, 0.04119873, -0.091918945, -0.0729...</td>\n",
       "      <td>[-0.025168408, -0.6016849, -1.001702, -0.25107...</td>\n",
       "      <td>0.772547</td>\n",
       "    </tr>\n",
       "    <tr>\n",
       "      <th>5275</th>\n",
       "      <td>Is it healthy to eat a tomato every day?</td>\n",
       "      <td>14183</td>\n",
       "      <td>[6194, 1039, 14182, 8569, 855, 854, 7834, 1038]</td>\n",
       "      <td>8</td>\n",
       "      <td>[-0.0049662101082503796, -0.03403849899768829,...</td>\n",
       "      <td>[0.03652954, 0.015296936, -0.04888916, -0.0508...</td>\n",
       "      <td>[-0.1945919, -0.5700765, -0.9981252, -0.337994...</td>\n",
       "      <td>0.595106</td>\n",
       "    </tr>\n",
       "    <tr>\n",
       "      <th>2976</th>\n",
       "      <td>Is it bad for health to eat eggs every day?</td>\n",
       "      <td>7834</td>\n",
       "      <td>[1039, 854, 7835, 8569, 1038, 14183, 6194, 855]</td>\n",
       "      <td>8</td>\n",
       "      <td>[0.029310524463653564, -0.01589602790772915, 0...</td>\n",
       "      <td>[0.045318604, 0.013931274, -0.057281494, -0.03...</td>\n",
       "      <td>[-0.16033919, -0.2664684, -0.9629141, -0.30153...</td>\n",
       "      <td>0.594825</td>\n",
       "    </tr>\n",
       "    <tr>\n",
       "      <th>400</th>\n",
       "      <td>Is it healthy to eat one chicken every day?</td>\n",
       "      <td>1039</td>\n",
       "      <td>[854, 7834, 1038, 8569, 6194, 14183, 855]</td>\n",
       "      <td>7</td>\n",
       "      <td>[0.055881962180137634, -0.02762104570865631, 0...</td>\n",
       "      <td>[0.030822754, 0.008201599, -0.07324219, -0.066...</td>\n",
       "      <td>[0.08981193, -0.37340692, -1.0105896, -0.21025...</td>\n",
       "      <td>0.587366</td>\n",
       "    </tr>\n",
       "    <tr>\n",
       "      <th>2365</th>\n",
       "      <td>Is it healthy to eat bread every day?</td>\n",
       "      <td>6194</td>\n",
       "      <td>[1038, 854, 7834, 1039, 14182, 8569, 855, 14183]</td>\n",
       "      <td>8</td>\n",
       "      <td>[0.022258378565311432, -0.010956810787320137, ...</td>\n",
       "      <td>[0.0317688, 0.041259766, -0.07977295, -0.05123...</td>\n",
       "      <td>[0.08884292, -0.286787, -1.2354673, -0.3420725...</td>\n",
       "      <td>0.586837</td>\n",
       "    </tr>\n",
       "  </tbody>\n",
       "</table>\n",
       "</div>"
      ],
      "text/plain": [
       "                                              text     id  \\\n",
       "325   What can I eat every day to be more healthy?    854   \n",
       "5275      Is it healthy to eat a tomato every day?  14183   \n",
       "2976   Is it bad for health to eat eggs every day?   7834   \n",
       "400    Is it healthy to eat one chicken every day?   1039   \n",
       "2365         Is it healthy to eat bread every day?   6194   \n",
       "\n",
       "                                   duplicated_questions  length  \\\n",
       "325   [1038, 14182, 7834, 1039, 855, 14183, 8569, 6194]       8   \n",
       "5275    [6194, 1039, 14182, 8569, 855, 854, 7834, 1038]       8   \n",
       "2976    [1039, 854, 7835, 8569, 1038, 14183, 6194, 855]       8   \n",
       "400           [854, 7834, 1038, 8569, 6194, 14183, 855]       7   \n",
       "2365   [1038, 854, 7834, 1039, 14182, 8569, 855, 14183]       8   \n",
       "\n",
       "                                             openai_emb  \\\n",
       "325   [0.011935393325984478, -0.010704121552407742, ...   \n",
       "5275  [-0.0049662101082503796, -0.03403849899768829,...   \n",
       "2976  [0.029310524463653564, -0.01589602790772915, 0...   \n",
       "400   [0.055881962180137634, -0.02762104570865631, 0...   \n",
       "2365  [0.022258378565311432, -0.010956810787320137, ...   \n",
       "\n",
       "                                             cohere_emb  \\\n",
       "325   [0.02798462, 0.04119873, -0.091918945, -0.0729...   \n",
       "5275  [0.03652954, 0.015296936, -0.04888916, -0.0508...   \n",
       "2976  [0.045318604, 0.013931274, -0.057281494, -0.03...   \n",
       "400   [0.030822754, 0.008201599, -0.07324219, -0.066...   \n",
       "2365  [0.0317688, 0.041259766, -0.07977295, -0.05123...   \n",
       "\n",
       "                                                 e5_emb  similarity  \n",
       "325   [-0.025168408, -0.6016849, -1.001702, -0.25107...    0.772547  \n",
       "5275  [-0.1945919, -0.5700765, -0.9981252, -0.337994...    0.595106  \n",
       "2976  [-0.16033919, -0.2664684, -0.9629141, -0.30153...    0.594825  \n",
       "400   [0.08981193, -0.37340692, -1.0105896, -0.21025...    0.587366  \n",
       "2365  [0.08884292, -0.286787, -1.2354673, -0.3420725...    0.586837  "
      ]
     },
     "execution_count": 41,
     "metadata": {},
     "output_type": "execute_result"
    }
   ],
   "source": [
    "query_results_openai[14182]"
   ]
  },
  {
   "cell_type": "code",
   "execution_count": 42,
   "metadata": {},
   "outputs": [
    {
     "data": {
      "text/html": [
       "<div>\n",
       "<style scoped>\n",
       "    .dataframe tbody tr th:only-of-type {\n",
       "        vertical-align: middle;\n",
       "    }\n",
       "\n",
       "    .dataframe tbody tr th {\n",
       "        vertical-align: top;\n",
       "    }\n",
       "\n",
       "    .dataframe thead th {\n",
       "        text-align: right;\n",
       "    }\n",
       "</style>\n",
       "<table border=\"1\" class=\"dataframe\">\n",
       "  <thead>\n",
       "    <tr style=\"text-align: right;\">\n",
       "      <th></th>\n",
       "      <th>text</th>\n",
       "      <th>id</th>\n",
       "      <th>duplicated_questions</th>\n",
       "      <th>length</th>\n",
       "      <th>openai_emb</th>\n",
       "      <th>cohere_emb</th>\n",
       "      <th>e5_emb</th>\n",
       "      <th>similarity</th>\n",
       "    </tr>\n",
       "  </thead>\n",
       "  <tbody>\n",
       "    <tr>\n",
       "      <th>325</th>\n",
       "      <td>What can I eat every day to be more healthy?</td>\n",
       "      <td>854</td>\n",
       "      <td>[1038, 14182, 7834, 1039, 855, 14183, 8569, 6194]</td>\n",
       "      <td>8</td>\n",
       "      <td>[0.011935393325984478, -0.010704121552407742, ...</td>\n",
       "      <td>[0.02798462, 0.04119873, -0.091918945, -0.0729...</td>\n",
       "      <td>[-0.025168408, -0.6016849, -1.001702, -0.25107...</td>\n",
       "      <td>0.838867</td>\n",
       "    </tr>\n",
       "    <tr>\n",
       "      <th>2365</th>\n",
       "      <td>Is it healthy to eat bread every day?</td>\n",
       "      <td>6194</td>\n",
       "      <td>[1038, 854, 7834, 1039, 14182, 8569, 855, 14183]</td>\n",
       "      <td>8</td>\n",
       "      <td>[0.022258378565311432, -0.010956810787320137, ...</td>\n",
       "      <td>[0.0317688, 0.041259766, -0.07977295, -0.05123...</td>\n",
       "      <td>[0.08884292, -0.286787, -1.2354673, -0.3420725...</td>\n",
       "      <td>0.783043</td>\n",
       "    </tr>\n",
       "    <tr>\n",
       "      <th>400</th>\n",
       "      <td>Is it healthy to eat one chicken every day?</td>\n",
       "      <td>1039</td>\n",
       "      <td>[854, 7834, 1038, 8569, 6194, 14183, 855]</td>\n",
       "      <td>7</td>\n",
       "      <td>[0.055881962180137634, -0.02762104570865631, 0...</td>\n",
       "      <td>[0.030822754, 0.008201599, -0.07324219, -0.066...</td>\n",
       "      <td>[0.08981193, -0.37340692, -1.0105896, -0.21025...</td>\n",
       "      <td>0.779106</td>\n",
       "    </tr>\n",
       "    <tr>\n",
       "      <th>5275</th>\n",
       "      <td>Is it healthy to eat a tomato every day?</td>\n",
       "      <td>14183</td>\n",
       "      <td>[6194, 1039, 14182, 8569, 855, 854, 7834, 1038]</td>\n",
       "      <td>8</td>\n",
       "      <td>[-0.0049662101082503796, -0.03403849899768829,...</td>\n",
       "      <td>[0.03652954, 0.015296936, -0.04888916, -0.0508...</td>\n",
       "      <td>[-0.1945919, -0.5700765, -0.9981252, -0.337994...</td>\n",
       "      <td>0.778738</td>\n",
       "    </tr>\n",
       "    <tr>\n",
       "      <th>399</th>\n",
       "      <td>Is it healthy to eat egg whites every day?</td>\n",
       "      <td>1038</td>\n",
       "      <td>[7834, 854, 855, 6194, 14183, 8569, 1039]</td>\n",
       "      <td>7</td>\n",
       "      <td>[0.04111170023679733, -0.016867700964212418, 0...</td>\n",
       "      <td>[0.012512207, 0.01525116, -0.08520508, -0.0538...</td>\n",
       "      <td>[-0.24898852, -0.40012923, -1.0762928, -0.2151...</td>\n",
       "      <td>0.774438</td>\n",
       "    </tr>\n",
       "  </tbody>\n",
       "</table>\n",
       "</div>"
      ],
      "text/plain": [
       "                                              text     id  \\\n",
       "325   What can I eat every day to be more healthy?    854   \n",
       "2365         Is it healthy to eat bread every day?   6194   \n",
       "400    Is it healthy to eat one chicken every day?   1039   \n",
       "5275      Is it healthy to eat a tomato every day?  14183   \n",
       "399     Is it healthy to eat egg whites every day?   1038   \n",
       "\n",
       "                                   duplicated_questions  length  \\\n",
       "325   [1038, 14182, 7834, 1039, 855, 14183, 8569, 6194]       8   \n",
       "2365   [1038, 854, 7834, 1039, 14182, 8569, 855, 14183]       8   \n",
       "400           [854, 7834, 1038, 8569, 6194, 14183, 855]       7   \n",
       "5275    [6194, 1039, 14182, 8569, 855, 854, 7834, 1038]       8   \n",
       "399           [7834, 854, 855, 6194, 14183, 8569, 1039]       7   \n",
       "\n",
       "                                             openai_emb  \\\n",
       "325   [0.011935393325984478, -0.010704121552407742, ...   \n",
       "2365  [0.022258378565311432, -0.010956810787320137, ...   \n",
       "400   [0.055881962180137634, -0.02762104570865631, 0...   \n",
       "5275  [-0.0049662101082503796, -0.03403849899768829,...   \n",
       "399   [0.04111170023679733, -0.016867700964212418, 0...   \n",
       "\n",
       "                                             cohere_emb  \\\n",
       "325   [0.02798462, 0.04119873, -0.091918945, -0.0729...   \n",
       "2365  [0.0317688, 0.041259766, -0.07977295, -0.05123...   \n",
       "400   [0.030822754, 0.008201599, -0.07324219, -0.066...   \n",
       "5275  [0.03652954, 0.015296936, -0.04888916, -0.0508...   \n",
       "399   [0.012512207, 0.01525116, -0.08520508, -0.0538...   \n",
       "\n",
       "                                                 e5_emb  similarity  \n",
       "325   [-0.025168408, -0.6016849, -1.001702, -0.25107...    0.838867  \n",
       "2365  [0.08884292, -0.286787, -1.2354673, -0.3420725...    0.783043  \n",
       "400   [0.08981193, -0.37340692, -1.0105896, -0.21025...    0.779106  \n",
       "5275  [-0.1945919, -0.5700765, -0.9981252, -0.337994...    0.778738  \n",
       "399   [-0.24898852, -0.40012923, -1.0762928, -0.2151...    0.774438  "
      ]
     },
     "execution_count": 42,
     "metadata": {},
     "output_type": "execute_result"
    }
   ],
   "source": [
    "query_results_cohere[14182]"
   ]
  },
  {
   "cell_type": "code",
   "execution_count": 43,
   "metadata": {},
   "outputs": [
    {
     "data": {
      "text/html": [
       "<div>\n",
       "<style scoped>\n",
       "    .dataframe tbody tr th:only-of-type {\n",
       "        vertical-align: middle;\n",
       "    }\n",
       "\n",
       "    .dataframe tbody tr th {\n",
       "        vertical-align: top;\n",
       "    }\n",
       "\n",
       "    .dataframe thead th {\n",
       "        text-align: right;\n",
       "    }\n",
       "</style>\n",
       "<table border=\"1\" class=\"dataframe\">\n",
       "  <thead>\n",
       "    <tr style=\"text-align: right;\">\n",
       "      <th></th>\n",
       "      <th>text</th>\n",
       "      <th>id</th>\n",
       "      <th>duplicated_questions</th>\n",
       "      <th>length</th>\n",
       "      <th>openai_emb</th>\n",
       "      <th>cohere_emb</th>\n",
       "      <th>e5_emb</th>\n",
       "      <th>similarity</th>\n",
       "    </tr>\n",
       "  </thead>\n",
       "  <tbody>\n",
       "    <tr>\n",
       "      <th>325</th>\n",
       "      <td>What can I eat every day to be more healthy?</td>\n",
       "      <td>854</td>\n",
       "      <td>[1038, 14182, 7834, 1039, 855, 14183, 8569, 6194]</td>\n",
       "      <td>8</td>\n",
       "      <td>[0.011935393325984478, -0.010704121552407742, ...</td>\n",
       "      <td>[0.02798462, 0.04119873, -0.091918945, -0.0729...</td>\n",
       "      <td>[-0.025168408, -0.6016849, -1.001702, -0.25107...</td>\n",
       "      <td>0.945122</td>\n",
       "    </tr>\n",
       "    <tr>\n",
       "      <th>794</th>\n",
       "      <td>What food should I eat to gain weight?</td>\n",
       "      <td>2049</td>\n",
       "      <td>[6772]</td>\n",
       "      <td>1</td>\n",
       "      <td>[0.03730776160955429, -0.008663864806294441, -...</td>\n",
       "      <td>[0.0020828247, 0.019592285, -0.05657959, 0.011...</td>\n",
       "      <td>[-0.2074798, -0.5919306, -1.0544997, -0.356902...</td>\n",
       "      <td>0.877167</td>\n",
       "    </tr>\n",
       "    <tr>\n",
       "      <th>2365</th>\n",
       "      <td>Is it healthy to eat bread every day?</td>\n",
       "      <td>6194</td>\n",
       "      <td>[1038, 854, 7834, 1039, 14182, 8569, 855, 14183]</td>\n",
       "      <td>8</td>\n",
       "      <td>[0.022258378565311432, -0.010956810787320137, ...</td>\n",
       "      <td>[0.0317688, 0.041259766, -0.07977295, -0.05123...</td>\n",
       "      <td>[0.08884292, -0.286787, -1.2354673, -0.3420725...</td>\n",
       "      <td>0.875936</td>\n",
       "    </tr>\n",
       "    <tr>\n",
       "      <th>400</th>\n",
       "      <td>Is it healthy to eat one chicken every day?</td>\n",
       "      <td>1039</td>\n",
       "      <td>[854, 7834, 1038, 8569, 6194, 14183, 855]</td>\n",
       "      <td>7</td>\n",
       "      <td>[0.055881962180137634, -0.02762104570865631, 0...</td>\n",
       "      <td>[0.030822754, 0.008201599, -0.07324219, -0.066...</td>\n",
       "      <td>[0.08981193, -0.37340692, -1.0105896, -0.21025...</td>\n",
       "      <td>0.874174</td>\n",
       "    </tr>\n",
       "    <tr>\n",
       "      <th>2976</th>\n",
       "      <td>Is it bad for health to eat eggs every day?</td>\n",
       "      <td>7834</td>\n",
       "      <td>[1039, 854, 7835, 8569, 1038, 14183, 6194, 855]</td>\n",
       "      <td>8</td>\n",
       "      <td>[0.029310524463653564, -0.01589602790772915, 0...</td>\n",
       "      <td>[0.045318604, 0.013931274, -0.057281494, -0.03...</td>\n",
       "      <td>[-0.16033919, -0.2664684, -0.9629141, -0.30153...</td>\n",
       "      <td>0.871546</td>\n",
       "    </tr>\n",
       "  </tbody>\n",
       "</table>\n",
       "</div>"
      ],
      "text/plain": [
       "                                              text    id  \\\n",
       "325   What can I eat every day to be more healthy?   854   \n",
       "794         What food should I eat to gain weight?  2049   \n",
       "2365         Is it healthy to eat bread every day?  6194   \n",
       "400    Is it healthy to eat one chicken every day?  1039   \n",
       "2976   Is it bad for health to eat eggs every day?  7834   \n",
       "\n",
       "                                   duplicated_questions  length  \\\n",
       "325   [1038, 14182, 7834, 1039, 855, 14183, 8569, 6194]       8   \n",
       "794                                              [6772]       1   \n",
       "2365   [1038, 854, 7834, 1039, 14182, 8569, 855, 14183]       8   \n",
       "400           [854, 7834, 1038, 8569, 6194, 14183, 855]       7   \n",
       "2976    [1039, 854, 7835, 8569, 1038, 14183, 6194, 855]       8   \n",
       "\n",
       "                                             openai_emb  \\\n",
       "325   [0.011935393325984478, -0.010704121552407742, ...   \n",
       "794   [0.03730776160955429, -0.008663864806294441, -...   \n",
       "2365  [0.022258378565311432, -0.010956810787320137, ...   \n",
       "400   [0.055881962180137634, -0.02762104570865631, 0...   \n",
       "2976  [0.029310524463653564, -0.01589602790772915, 0...   \n",
       "\n",
       "                                             cohere_emb  \\\n",
       "325   [0.02798462, 0.04119873, -0.091918945, -0.0729...   \n",
       "794   [0.0020828247, 0.019592285, -0.05657959, 0.011...   \n",
       "2365  [0.0317688, 0.041259766, -0.07977295, -0.05123...   \n",
       "400   [0.030822754, 0.008201599, -0.07324219, -0.066...   \n",
       "2976  [0.045318604, 0.013931274, -0.057281494, -0.03...   \n",
       "\n",
       "                                                 e5_emb  similarity  \n",
       "325   [-0.025168408, -0.6016849, -1.001702, -0.25107...    0.945122  \n",
       "794   [-0.2074798, -0.5919306, -1.0544997, -0.356902...    0.877167  \n",
       "2365  [0.08884292, -0.286787, -1.2354673, -0.3420725...    0.875936  \n",
       "400   [0.08981193, -0.37340692, -1.0105896, -0.21025...    0.874174  \n",
       "2976  [-0.16033919, -0.2664684, -0.9629141, -0.30153...    0.871546  "
      ]
     },
     "execution_count": 43,
     "metadata": {},
     "output_type": "execute_result"
    }
   ],
   "source": [
    "query_results_e5[14182]"
   ]
  },
  {
   "cell_type": "markdown",
   "metadata": {},
   "source": [
    "### 4. Scoring function 정의\n",
    "\n",
    "- 각 질문별로 accuracy score 부여\n",
    "    - Accuracy score : 현재 유사하다고 태그된 질문들 중 몇 개가 실제 유사한 질문들인가?"
   ]
  },
  {
   "cell_type": "code",
   "execution_count": 44,
   "metadata": {},
   "outputs": [],
   "source": [
    "def score_accuracy(full_df, tmp_df, test_id):\n",
    "    \"\"\"\n",
    "    각 테스트 질문과 유사하다고 판단된 질문들 중, 실제 duplicated_questions에 들어있는 질문들을 count\n",
    "    \"\"\"\n",
    "    duplicated_questions = full_df.loc[full_df['id'] == test_id, 'duplicated_questions'].values[0]\n",
    "\n",
    "    # 본인 ID는 제외\n",
    "    filtered_df = tmp_df[tmp_df['id'] != test_id]\n",
    "    # 현재 retrieve 해온 ID들이, 테스트 질문 내에 들어있는 아이디들인지 count\n",
    "    match_count = filtered_df['id'].isin(duplicated_questions).sum()\n",
    "\n",
    "    # Calculate the accuracy in terms of percentage\n",
    "    if filtered_df.shape[0]<len(duplicated_questions):\n",
    "        percentage = (match_count / filtered_df.shape[0])\n",
    "    else:\n",
    "        percentage = (match_count / len(duplicated_questions))\n",
    "    return percentage\n"
   ]
  },
  {
   "cell_type": "code",
   "execution_count": 45,
   "metadata": {},
   "outputs": [],
   "source": [
    "accuracy_openai = [score_accuracy(df, query_results_openai[i], i) for i in query_results_openai.keys()]\n",
    "accuracy_cohere = [score_accuracy(df, query_results_cohere[i], i) for i in query_results_cohere.keys()]\n",
    "accuracy_e5 = [score_accuracy(df, query_results_e5[i], i) for i in query_results_e5.keys()]"
   ]
  },
  {
   "cell_type": "code",
   "execution_count": 46,
   "metadata": {},
   "outputs": [
    {
     "data": {
      "text/plain": [
       "0.9537016973636692"
      ]
     },
     "execution_count": 46,
     "metadata": {},
     "output_type": "execute_result"
    }
   ],
   "source": [
    "np.mean(accuracy_openai)"
   ]
  },
  {
   "cell_type": "code",
   "execution_count": 47,
   "metadata": {},
   "outputs": [
    {
     "data": {
      "text/plain": [
       "0.9536114120621163"
      ]
     },
     "execution_count": 47,
     "metadata": {},
     "output_type": "execute_result"
    }
   ],
   "source": [
    "np.mean(accuracy_cohere)"
   ]
  },
  {
   "cell_type": "code",
   "execution_count": 48,
   "metadata": {},
   "outputs": [
    {
     "data": {
      "text/plain": [
       "0.9427591188154569"
      ]
     },
     "execution_count": 48,
     "metadata": {},
     "output_type": "execute_result"
    }
   ],
   "source": [
    "np.mean(accuracy_e5)"
   ]
  },
  {
   "cell_type": "markdown",
   "metadata": {},
   "source": [
    "오답 엿보기"
   ]
  },
  {
   "cell_type": "code",
   "execution_count": 49,
   "metadata": {},
   "outputs": [],
   "source": [
    "indices = [index for index, value in enumerate(accuracy_openai) if value <= 0.5]"
   ]
  },
  {
   "cell_type": "code",
   "execution_count": 50,
   "metadata": {
    "scrolled": true
   },
   "outputs": [
    {
     "data": {
      "text/plain": [
       "[3,\n",
       " 11,\n",
       " 15,\n",
       " 23,\n",
       " 58,\n",
       " 98,\n",
       " 155,\n",
       " 271,\n",
       " 272,\n",
       " 316,\n",
       " 346,\n",
       " 367,\n",
       " 394,\n",
       " 469,\n",
       " 483,\n",
       " 486,\n",
       " 491,\n",
       " 496,\n",
       " 556,\n",
       " 619,\n",
       " 641,\n",
       " 662,\n",
       " 708,\n",
       " 751,\n",
       " 779,\n",
       " 808,\n",
       " 813,\n",
       " 815,\n",
       " 828,\n",
       " 832,\n",
       " 884,\n",
       " 889,\n",
       " 907,\n",
       " 916,\n",
       " 922]"
      ]
     },
     "execution_count": 50,
     "metadata": {},
     "output_type": "execute_result"
    }
   ],
   "source": [
    "indices"
   ]
  },
  {
   "cell_type": "code",
   "execution_count": 51,
   "metadata": {},
   "outputs": [
    {
     "data": {
      "text/plain": [
       "1004"
      ]
     },
     "execution_count": 51,
     "metadata": {},
     "output_type": "execute_result"
    }
   ],
   "source": [
    "list(query_results_openai.keys())[60]"
   ]
  },
  {
   "cell_type": "code",
   "execution_count": 55,
   "metadata": {},
   "outputs": [
    {
     "data": {
      "text/html": [
       "<div>\n",
       "<style scoped>\n",
       "    .dataframe tbody tr th:only-of-type {\n",
       "        vertical-align: middle;\n",
       "    }\n",
       "\n",
       "    .dataframe tbody tr th {\n",
       "        vertical-align: top;\n",
       "    }\n",
       "\n",
       "    .dataframe thead th {\n",
       "        text-align: right;\n",
       "    }\n",
       "</style>\n",
       "<table border=\"1\" class=\"dataframe\">\n",
       "  <thead>\n",
       "    <tr style=\"text-align: right;\">\n",
       "      <th></th>\n",
       "      <th>text</th>\n",
       "      <th>id</th>\n",
       "      <th>duplicated_questions</th>\n",
       "      <th>length</th>\n",
       "      <th>openai_emb</th>\n",
       "      <th>cohere_emb</th>\n",
       "      <th>e5_emb</th>\n",
       "    </tr>\n",
       "  </thead>\n",
       "  <tbody>\n",
       "    <tr>\n",
       "      <th>381</th>\n",
       "      <td>Is civil war likely after the US presidential ...</td>\n",
       "      <td>1004</td>\n",
       "      <td>[1005]</td>\n",
       "      <td>1</td>\n",
       "      <td>[-0.005477967206388712, 0.001724598347209394, ...</td>\n",
       "      <td>[0.06341553, 0.007911682, 0.027252197, 0.00665...</td>\n",
       "      <td>[-0.21286142, -0.51795757, -0.6739897, 0.21920...</td>\n",
       "    </tr>\n",
       "  </tbody>\n",
       "</table>\n",
       "</div>"
      ],
      "text/plain": [
       "                                                  text    id  \\\n",
       "381  Is civil war likely after the US presidential ...  1004   \n",
       "\n",
       "    duplicated_questions  length  \\\n",
       "381               [1005]       1   \n",
       "\n",
       "                                            openai_emb  \\\n",
       "381  [-0.005477967206388712, 0.001724598347209394, ...   \n",
       "\n",
       "                                            cohere_emb  \\\n",
       "381  [0.06341553, 0.007911682, 0.027252197, 0.00665...   \n",
       "\n",
       "                                                e5_emb  \n",
       "381  [-0.21286142, -0.51795757, -0.6739897, 0.21920...  "
      ]
     },
     "execution_count": 55,
     "metadata": {},
     "output_type": "execute_result"
    }
   ],
   "source": [
    "test.loc[test['id']==1004]"
   ]
  },
  {
   "cell_type": "code",
   "execution_count": 57,
   "metadata": {},
   "outputs": [
    {
     "data": {
      "text/html": [
       "<div>\n",
       "<style scoped>\n",
       "    .dataframe tbody tr th:only-of-type {\n",
       "        vertical-align: middle;\n",
       "    }\n",
       "\n",
       "    .dataframe tbody tr th {\n",
       "        vertical-align: top;\n",
       "    }\n",
       "\n",
       "    .dataframe thead th {\n",
       "        text-align: right;\n",
       "    }\n",
       "</style>\n",
       "<table border=\"1\" class=\"dataframe\">\n",
       "  <thead>\n",
       "    <tr style=\"text-align: right;\">\n",
       "      <th></th>\n",
       "      <th>text</th>\n",
       "      <th>id</th>\n",
       "      <th>duplicated_questions</th>\n",
       "      <th>length</th>\n",
       "      <th>openai_emb</th>\n",
       "      <th>cohere_emb</th>\n",
       "      <th>e5_emb</th>\n",
       "      <th>similarity</th>\n",
       "    </tr>\n",
       "  </thead>\n",
       "  <tbody>\n",
       "    <tr>\n",
       "      <th>382</th>\n",
       "      <td>Is the US at risk of some type of uprising aft...</td>\n",
       "      <td>1005</td>\n",
       "      <td>[1004]</td>\n",
       "      <td>1</td>\n",
       "      <td>[-0.012636340223252773, 0.023401089012622833, ...</td>\n",
       "      <td>[0.094177246, 0.030075073, 0.016159058, 0.0226...</td>\n",
       "      <td>[-0.015371838, -0.51635826, -0.7222448, 0.4520...</td>\n",
       "      <td>0.661845</td>\n",
       "    </tr>\n",
       "    <tr>\n",
       "      <th>4793</th>\n",
       "      <td>Is Clinton likely to win the election?</td>\n",
       "      <td>12734</td>\n",
       "      <td>[8879, 12733]</td>\n",
       "      <td>2</td>\n",
       "      <td>[0.03306662663817406, -0.0001477139157941565, ...</td>\n",
       "      <td>[0.059326172, 0.029678345, 0.022003174, -0.008...</td>\n",
       "      <td>[-0.19828011, -0.8402219, -0.8515694, 0.171634...</td>\n",
       "      <td>0.575099</td>\n",
       "    </tr>\n",
       "    <tr>\n",
       "      <th>3768</th>\n",
       "      <td>Who is going to win the presidential election?</td>\n",
       "      <td>9849</td>\n",
       "      <td>[14362, 5912, 2026, 9848, 5913, 2025]</td>\n",
       "      <td>6</td>\n",
       "      <td>[0.03162300959229469, -0.045507289469242096, 0...</td>\n",
       "      <td>[0.04626465, 0.01763916, 0.004360199, -0.03671...</td>\n",
       "      <td>[-0.13966073, -0.6944983, -0.8997508, 0.458869...</td>\n",
       "      <td>0.563720</td>\n",
       "    </tr>\n",
       "    <tr>\n",
       "      <th>1303</th>\n",
       "      <td>What will happen if Donald Trump wins the elec...</td>\n",
       "      <td>3473</td>\n",
       "      <td>[6741, 6740]</td>\n",
       "      <td>2</td>\n",
       "      <td>[-0.011887616477906704, 0.03239825740456581, 0...</td>\n",
       "      <td>[0.046722412, 0.020050049, 0.010284424, -0.022...</td>\n",
       "      <td>[-0.24453327, -0.47462377, -0.28943318, 0.3990...</td>\n",
       "      <td>0.557842</td>\n",
       "    </tr>\n",
       "    <tr>\n",
       "      <th>734</th>\n",
       "      <td>Realistically speaking, what would happen to t...</td>\n",
       "      <td>1903</td>\n",
       "      <td>[1904]</td>\n",
       "      <td>1</td>\n",
       "      <td>[-0.02038819156587124, 0.043668001890182495, 0...</td>\n",
       "      <td>[0.0619812, -0.0063705444, 0.006061554, 0.0156...</td>\n",
       "      <td>[-0.3581315, -0.40213132, -0.30093434, 0.53169...</td>\n",
       "      <td>0.548706</td>\n",
       "    </tr>\n",
       "  </tbody>\n",
       "</table>\n",
       "</div>"
      ],
      "text/plain": [
       "                                                   text     id  \\\n",
       "382   Is the US at risk of some type of uprising aft...   1005   \n",
       "4793             Is Clinton likely to win the election?  12734   \n",
       "3768     Who is going to win the presidential election?   9849   \n",
       "1303  What will happen if Donald Trump wins the elec...   3473   \n",
       "734   Realistically speaking, what would happen to t...   1903   \n",
       "\n",
       "                       duplicated_questions  length  \\\n",
       "382                                  [1004]       1   \n",
       "4793                          [8879, 12733]       2   \n",
       "3768  [14362, 5912, 2026, 9848, 5913, 2025]       6   \n",
       "1303                           [6741, 6740]       2   \n",
       "734                                  [1904]       1   \n",
       "\n",
       "                                             openai_emb  \\\n",
       "382   [-0.012636340223252773, 0.023401089012622833, ...   \n",
       "4793  [0.03306662663817406, -0.0001477139157941565, ...   \n",
       "3768  [0.03162300959229469, -0.045507289469242096, 0...   \n",
       "1303  [-0.011887616477906704, 0.03239825740456581, 0...   \n",
       "734   [-0.02038819156587124, 0.043668001890182495, 0...   \n",
       "\n",
       "                                             cohere_emb  \\\n",
       "382   [0.094177246, 0.030075073, 0.016159058, 0.0226...   \n",
       "4793  [0.059326172, 0.029678345, 0.022003174, -0.008...   \n",
       "3768  [0.04626465, 0.01763916, 0.004360199, -0.03671...   \n",
       "1303  [0.046722412, 0.020050049, 0.010284424, -0.022...   \n",
       "734   [0.0619812, -0.0063705444, 0.006061554, 0.0156...   \n",
       "\n",
       "                                                 e5_emb  similarity  \n",
       "382   [-0.015371838, -0.51635826, -0.7222448, 0.4520...    0.661845  \n",
       "4793  [-0.19828011, -0.8402219, -0.8515694, 0.171634...    0.575099  \n",
       "3768  [-0.13966073, -0.6944983, -0.8997508, 0.458869...    0.563720  \n",
       "1303  [-0.24453327, -0.47462377, -0.28943318, 0.3990...    0.557842  \n",
       "734   [-0.3581315, -0.40213132, -0.30093434, 0.53169...    0.548706  "
      ]
     },
     "execution_count": 57,
     "metadata": {},
     "output_type": "execute_result"
    }
   ],
   "source": [
    "query_results_openai[1004]"
   ]
  },
  {
   "cell_type": "markdown",
   "metadata": {},
   "source": [
    "#### 결론\n",
    "\n",
    "- cohere, openai, e5 모두 굉장히 성능이 좋기 때문에 대부분의 task에 곧바로 활용해도 무방함.\n",
    "- Local embedding 모델을 활용하고자 할 때 위와 같은 방법으로 classification 성능 & 자원 할당 체크 필요.\n",
    "- 성능 평가 방법\n",
    "    - 태깅된 데이터 셋 활용\n",
    "    - 정성적 평가\n",
    "        - 데이터 태깅을 할 노동력이 부족할 때\n",
    "        - 태깅을 하기 애매한 분야 (정답이 없는 경우)"
   ]
  },
  {
   "cell_type": "markdown",
   "metadata": {},
   "source": [
    "--END--"
   ]
  }
 ],
 "metadata": {
  "kernelspec": {
   "display_name": "Python 3 (ipykernel)",
   "language": "python",
   "name": "python3"
  },
  "language_info": {
   "codemirror_mode": {
    "name": "ipython",
    "version": 3
   },
   "file_extension": ".py",
   "mimetype": "text/x-python",
   "name": "python",
   "nbconvert_exporter": "python",
   "pygments_lexer": "ipython3",
   "version": "3.11.9"
  }
 },
 "nbformat": 4,
 "nbformat_minor": 4
}
