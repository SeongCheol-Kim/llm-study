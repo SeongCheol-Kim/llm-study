{
 "cells": [
  {
   "cell_type": "markdown",
   "metadata": {},
   "source": [
    "Search 이외 임베딩 활용 방법\n",
    "- ABC news topic modeling\n",
    "    - Clustering\n",
    "    - 정보의 다양성 측정\n",
    "    - Outlier detection\n",
    "\n",
    "    \n",
    "=> VectorDB에 저장하고자 하는 컨텐츠에 대한 검수 및 전처리\n",
    "\n",
    "---"
   ]
  },
  {
   "cell_type": "code",
   "execution_count": 1,
   "metadata": {},
   "outputs": [],
   "source": [
    "import pandas as pd\n",
    "import os\n",
    "import json\n",
    "import openai\n",
    "from openai import OpenAI\n",
    "import numpy as np\n",
    "from tqdm.notebook import tqdm, trange\n",
    "from sklearn.cluster import KMeans\n",
    "from utils import create_embeddings\n",
    "from dotenv import load_dotenv\n",
    "load_dotenv()\n",
    "\n",
    "# initialize openai\n",
    "openai.api_key = os.environ[\"OPENAI_API_KEY\"]"
   ]
  },
  {
   "cell_type": "markdown",
   "metadata": {},
   "source": [
    "# How To (ABC News)"
   ]
  },
  {
   "cell_type": "markdown",
   "metadata": {},
   "source": [
    "## 1. Clustering\n",
    "- 2020년에 어떤 주제들의 뉴스들이 있었을까?\n",
    "##### => __각 문서의 주제 탐색 / 유사 문서 그룹핑__"
   ]
  },
  {
   "cell_type": "code",
   "execution_count": 2,
   "metadata": {},
   "outputs": [],
   "source": [
    "df = pd.read_csv(\"../data/abcnews_2020.csv\")"
   ]
  },
  {
   "cell_type": "markdown",
   "metadata": {},
   "source": [
    "(비용 발생 주의) batch 별로 embedding화"
   ]
  },
  {
   "cell_type": "code",
   "execution_count": 3,
   "metadata": {},
   "outputs": [
    {
     "data": {
      "application/vnd.jupyter.widget-view+json": {
       "model_id": "72589ae445074008843701bbc13f9769",
       "version_major": 2,
       "version_minor": 0
      },
      "text/plain": [
       "  0%|          | 0/2 [00:00<?, ?it/s]"
      ]
     },
     "metadata": {},
     "output_type": "display_data"
    }
   ],
   "source": [
    "batch_size = 2000\n",
    "headline_emb = list()\n",
    "\n",
    "headline = df['headline_text'].tolist()\n",
    "\n",
    "for i in trange(0, len(headline), batch_size):\n",
    "    i_end = min(len(headline), i+batch_size)\n",
    "    data_batch = headline[i:i_end]\n",
    "\n",
    "    tmp_emb = create_embeddings(data_batch)\n",
    "    headline_emb.extend(tmp_emb)"
   ]
  },
  {
   "cell_type": "code",
   "execution_count": 4,
   "metadata": {},
   "outputs": [],
   "source": [
    "df['headline_emb'] = headline_emb"
   ]
  },
  {
   "cell_type": "code",
   "execution_count": 5,
   "metadata": {},
   "outputs": [
    {
     "data": {
      "text/html": [
       "<div>\n",
       "<style scoped>\n",
       "    .dataframe tbody tr th:only-of-type {\n",
       "        vertical-align: middle;\n",
       "    }\n",
       "\n",
       "    .dataframe tbody tr th {\n",
       "        vertical-align: top;\n",
       "    }\n",
       "\n",
       "    .dataframe thead th {\n",
       "        text-align: right;\n",
       "    }\n",
       "</style>\n",
       "<table border=\"1\" class=\"dataframe\">\n",
       "  <thead>\n",
       "    <tr style=\"text-align: right;\">\n",
       "      <th></th>\n",
       "      <th>publish_date</th>\n",
       "      <th>headline_text</th>\n",
       "      <th>headline_emb</th>\n",
       "    </tr>\n",
       "  </thead>\n",
       "  <tbody>\n",
       "    <tr>\n",
       "      <th>0</th>\n",
       "      <td>20200101</td>\n",
       "      <td>a new type of resolution for the new year</td>\n",
       "      <td>[-0.0299206729978323, 0.02757796086370945, 0.0...</td>\n",
       "    </tr>\n",
       "    <tr>\n",
       "      <th>1</th>\n",
       "      <td>20200101</td>\n",
       "      <td>adelaide records driest year in more than a de...</td>\n",
       "      <td>[0.02336890995502472, 0.02421138435602188, 0.0...</td>\n",
       "    </tr>\n",
       "    <tr>\n",
       "      <th>2</th>\n",
       "      <td>20200101</td>\n",
       "      <td>adelaide riverbank catches alight after new ye...</td>\n",
       "      <td>[0.008516565896570683, -0.006767496466636658, ...</td>\n",
       "    </tr>\n",
       "    <tr>\n",
       "      <th>3</th>\n",
       "      <td>20200101</td>\n",
       "      <td>adelaides 9pm fireworks spark blaze on riverbank</td>\n",
       "      <td>[0.03186402469873428, 3.975793561039609e-07, 0...</td>\n",
       "    </tr>\n",
       "    <tr>\n",
       "      <th>4</th>\n",
       "      <td>20200101</td>\n",
       "      <td>archaic legislation governing nt women propert...</td>\n",
       "      <td>[0.05418519303202629, 0.06181729584932327, 0.0...</td>\n",
       "    </tr>\n",
       "  </tbody>\n",
       "</table>\n",
       "</div>"
      ],
      "text/plain": [
       "   publish_date                                      headline_text  \\\n",
       "0      20200101          a new type of resolution for the new year   \n",
       "1      20200101  adelaide records driest year in more than a de...   \n",
       "2      20200101  adelaide riverbank catches alight after new ye...   \n",
       "3      20200101   adelaides 9pm fireworks spark blaze on riverbank   \n",
       "4      20200101  archaic legislation governing nt women propert...   \n",
       "\n",
       "                                        headline_emb  \n",
       "0  [-0.0299206729978323, 0.02757796086370945, 0.0...  \n",
       "1  [0.02336890995502472, 0.02421138435602188, 0.0...  \n",
       "2  [0.008516565896570683, -0.006767496466636658, ...  \n",
       "3  [0.03186402469873428, 3.975793561039609e-07, 0...  \n",
       "4  [0.05418519303202629, 0.06181729584932327, 0.0...  "
      ]
     },
     "execution_count": 5,
     "metadata": {},
     "output_type": "execute_result"
    }
   ],
   "source": [
    "df.head()"
   ]
  },
  {
   "cell_type": "code",
   "execution_count": 6,
   "metadata": {},
   "outputs": [],
   "source": [
    "df.to_csv(\"../data/abcnews_2020_emb.csv\", index=False)"
   ]
  },
  {
   "cell_type": "markdown",
   "metadata": {},
   "source": [
    "k-means를 활용하여 주요 토픽별 cluster 생성"
   ]
  },
  {
   "cell_type": "markdown",
   "metadata": {},
   "source": [
    "<img src=\"https://static.javatpoint.com/tutorial/machine-learning/images/k-means-clustering-algorithm-in-machine-learning.png\" width=\"500\" height=\"300\"/>\n",
    "<br>\n",
    "출처 : https://static.javatpoint.com/tutorial/machine-learning/images/k-means-clustering-algorithm-in-machine-learning.png"
   ]
  },
  {
   "cell_type": "code",
   "execution_count": 7,
   "metadata": {},
   "outputs": [],
   "source": [
    "df = pd.read_csv(\"../data/abcnews_2020_emb.csv\")"
   ]
  },
  {
   "cell_type": "code",
   "execution_count": 8,
   "metadata": {},
   "outputs": [
    {
     "data": {
      "text/html": [
       "<div>\n",
       "<style scoped>\n",
       "    .dataframe tbody tr th:only-of-type {\n",
       "        vertical-align: middle;\n",
       "    }\n",
       "\n",
       "    .dataframe tbody tr th {\n",
       "        vertical-align: top;\n",
       "    }\n",
       "\n",
       "    .dataframe thead th {\n",
       "        text-align: right;\n",
       "    }\n",
       "</style>\n",
       "<table border=\"1\" class=\"dataframe\">\n",
       "  <thead>\n",
       "    <tr style=\"text-align: right;\">\n",
       "      <th></th>\n",
       "      <th>publish_date</th>\n",
       "      <th>headline_text</th>\n",
       "      <th>headline_emb</th>\n",
       "    </tr>\n",
       "  </thead>\n",
       "  <tbody>\n",
       "    <tr>\n",
       "      <th>0</th>\n",
       "      <td>20200101</td>\n",
       "      <td>a new type of resolution for the new year</td>\n",
       "      <td>[-0.0299206729978323, 0.02757796086370945, 0.0...</td>\n",
       "    </tr>\n",
       "    <tr>\n",
       "      <th>1</th>\n",
       "      <td>20200101</td>\n",
       "      <td>adelaide records driest year in more than a de...</td>\n",
       "      <td>[0.02336890995502472, 0.02421138435602188, 0.0...</td>\n",
       "    </tr>\n",
       "    <tr>\n",
       "      <th>2</th>\n",
       "      <td>20200101</td>\n",
       "      <td>adelaide riverbank catches alight after new ye...</td>\n",
       "      <td>[0.008516565896570683, -0.006767496466636658, ...</td>\n",
       "    </tr>\n",
       "    <tr>\n",
       "      <th>3</th>\n",
       "      <td>20200101</td>\n",
       "      <td>adelaides 9pm fireworks spark blaze on riverbank</td>\n",
       "      <td>[0.03186402469873428, 3.975793561039609e-07, 0...</td>\n",
       "    </tr>\n",
       "    <tr>\n",
       "      <th>4</th>\n",
       "      <td>20200101</td>\n",
       "      <td>archaic legislation governing nt women propert...</td>\n",
       "      <td>[0.05418519303202629, 0.06181729584932327, 0.0...</td>\n",
       "    </tr>\n",
       "  </tbody>\n",
       "</table>\n",
       "</div>"
      ],
      "text/plain": [
       "   publish_date                                      headline_text  \\\n",
       "0      20200101          a new type of resolution for the new year   \n",
       "1      20200101  adelaide records driest year in more than a de...   \n",
       "2      20200101  adelaide riverbank catches alight after new ye...   \n",
       "3      20200101   adelaides 9pm fireworks spark blaze on riverbank   \n",
       "4      20200101  archaic legislation governing nt women propert...   \n",
       "\n",
       "                                        headline_emb  \n",
       "0  [-0.0299206729978323, 0.02757796086370945, 0.0...  \n",
       "1  [0.02336890995502472, 0.02421138435602188, 0.0...  \n",
       "2  [0.008516565896570683, -0.006767496466636658, ...  \n",
       "3  [0.03186402469873428, 3.975793561039609e-07, 0...  \n",
       "4  [0.05418519303202629, 0.06181729584932327, 0.0...  "
      ]
     },
     "execution_count": 8,
     "metadata": {},
     "output_type": "execute_result"
    }
   ],
   "source": [
    "df.head()"
   ]
  },
  {
   "cell_type": "code",
   "execution_count": 9,
   "metadata": {},
   "outputs": [
    {
     "data": {
      "text/plain": [
       "str"
      ]
     },
     "execution_count": 9,
     "metadata": {},
     "output_type": "execute_result"
    }
   ],
   "source": [
    "type(df.loc[0, 'headline_emb'])"
   ]
  },
  {
   "cell_type": "code",
   "execution_count": 10,
   "metadata": {},
   "outputs": [],
   "source": [
    "df['headline_emb'] = df['headline_emb'].apply(json.loads) ## str to array"
   ]
  },
  {
   "cell_type": "code",
   "execution_count": 11,
   "metadata": {},
   "outputs": [
    {
     "data": {
      "text/plain": [
       "list"
      ]
     },
     "execution_count": 11,
     "metadata": {},
     "output_type": "execute_result"
    }
   ],
   "source": [
    "type(df.loc[0, 'headline_emb'])"
   ]
  },
  {
   "cell_type": "code",
   "execution_count": 12,
   "metadata": {},
   "outputs": [
    {
     "data": {
      "text/html": [
       "<div>\n",
       "<style scoped>\n",
       "    .dataframe tbody tr th:only-of-type {\n",
       "        vertical-align: middle;\n",
       "    }\n",
       "\n",
       "    .dataframe tbody tr th {\n",
       "        vertical-align: top;\n",
       "    }\n",
       "\n",
       "    .dataframe thead th {\n",
       "        text-align: right;\n",
       "    }\n",
       "</style>\n",
       "<table border=\"1\" class=\"dataframe\">\n",
       "  <thead>\n",
       "    <tr style=\"text-align: right;\">\n",
       "      <th></th>\n",
       "      <th>publish_date</th>\n",
       "      <th>headline_text</th>\n",
       "      <th>headline_emb</th>\n",
       "    </tr>\n",
       "  </thead>\n",
       "  <tbody>\n",
       "    <tr>\n",
       "      <th>0</th>\n",
       "      <td>20200101</td>\n",
       "      <td>a new type of resolution for the new year</td>\n",
       "      <td>[-0.0299206729978323, 0.02757796086370945, 0.0...</td>\n",
       "    </tr>\n",
       "    <tr>\n",
       "      <th>1</th>\n",
       "      <td>20200101</td>\n",
       "      <td>adelaide records driest year in more than a de...</td>\n",
       "      <td>[0.02336890995502472, 0.02421138435602188, 0.0...</td>\n",
       "    </tr>\n",
       "  </tbody>\n",
       "</table>\n",
       "</div>"
      ],
      "text/plain": [
       "   publish_date                                      headline_text  \\\n",
       "0      20200101          a new type of resolution for the new year   \n",
       "1      20200101  adelaide records driest year in more than a de...   \n",
       "\n",
       "                                        headline_emb  \n",
       "0  [-0.0299206729978323, 0.02757796086370945, 0.0...  \n",
       "1  [0.02336890995502472, 0.02421138435602188, 0.0...  "
      ]
     },
     "execution_count": 12,
     "metadata": {},
     "output_type": "execute_result"
    }
   ],
   "source": [
    "df.head(2)"
   ]
  },
  {
   "cell_type": "code",
   "execution_count": 13,
   "metadata": {},
   "outputs": [],
   "source": [
    "clusters = KMeans(n_clusters=15, random_state=0).fit_predict(df['headline_emb'].tolist())\n",
    "df['cluster'] = clusters"
   ]
  },
  {
   "cell_type": "code",
   "execution_count": 14,
   "metadata": {},
   "outputs": [
    {
     "data": {
      "text/html": [
       "<div>\n",
       "<style scoped>\n",
       "    .dataframe tbody tr th:only-of-type {\n",
       "        vertical-align: middle;\n",
       "    }\n",
       "\n",
       "    .dataframe tbody tr th {\n",
       "        vertical-align: top;\n",
       "    }\n",
       "\n",
       "    .dataframe thead th {\n",
       "        text-align: right;\n",
       "    }\n",
       "</style>\n",
       "<table border=\"1\" class=\"dataframe\">\n",
       "  <thead>\n",
       "    <tr style=\"text-align: right;\">\n",
       "      <th></th>\n",
       "      <th>publish_date</th>\n",
       "      <th>headline_text</th>\n",
       "      <th>headline_emb</th>\n",
       "      <th>cluster</th>\n",
       "    </tr>\n",
       "  </thead>\n",
       "  <tbody>\n",
       "    <tr>\n",
       "      <th>0</th>\n",
       "      <td>20200101</td>\n",
       "      <td>a new type of resolution for the new year</td>\n",
       "      <td>[-0.0299206729978323, 0.02757796086370945, 0.0...</td>\n",
       "      <td>2</td>\n",
       "    </tr>\n",
       "    <tr>\n",
       "      <th>1</th>\n",
       "      <td>20200101</td>\n",
       "      <td>adelaide records driest year in more than a de...</td>\n",
       "      <td>[0.02336890995502472, 0.02421138435602188, 0.0...</td>\n",
       "      <td>11</td>\n",
       "    </tr>\n",
       "  </tbody>\n",
       "</table>\n",
       "</div>"
      ],
      "text/plain": [
       "   publish_date                                      headline_text  \\\n",
       "0      20200101          a new type of resolution for the new year   \n",
       "1      20200101  adelaide records driest year in more than a de...   \n",
       "\n",
       "                                        headline_emb  cluster  \n",
       "0  [-0.0299206729978323, 0.02757796086370945, 0.0...        2  \n",
       "1  [0.02336890995502472, 0.02421138435602188, 0.0...       11  "
      ]
     },
     "execution_count": 14,
     "metadata": {},
     "output_type": "execute_result"
    }
   ],
   "source": [
    "df.head(2)"
   ]
  },
  {
   "cell_type": "code",
   "execution_count": 15,
   "metadata": {},
   "outputs": [
    {
     "data": {
      "text/html": [
       "<div>\n",
       "<style scoped>\n",
       "    .dataframe tbody tr th:only-of-type {\n",
       "        vertical-align: middle;\n",
       "    }\n",
       "\n",
       "    .dataframe tbody tr th {\n",
       "        vertical-align: top;\n",
       "    }\n",
       "\n",
       "    .dataframe thead th {\n",
       "        text-align: right;\n",
       "    }\n",
       "</style>\n",
       "<table border=\"1\" class=\"dataframe\">\n",
       "  <thead>\n",
       "    <tr style=\"text-align: right;\">\n",
       "      <th></th>\n",
       "      <th>publish_date</th>\n",
       "      <th>headline_text</th>\n",
       "      <th>headline_emb</th>\n",
       "      <th>cluster</th>\n",
       "    </tr>\n",
       "  </thead>\n",
       "  <tbody>\n",
       "    <tr>\n",
       "      <th>162</th>\n",
       "      <td>20200103</td>\n",
       "      <td>nick kyrgios kicks off australias atp cup chal...</td>\n",
       "      <td>[-0.055879849940538406, 0.018472496420145035, ...</td>\n",
       "      <td>1</td>\n",
       "    </tr>\n",
       "    <tr>\n",
       "      <th>201</th>\n",
       "      <td>20200104</td>\n",
       "      <td>bushfire help sparked by ashleigh barty pink a...</td>\n",
       "      <td>[-0.006274708081036806, -0.03248249366879463, ...</td>\n",
       "      <td>1</td>\n",
       "    </tr>\n",
       "    <tr>\n",
       "      <th>249</th>\n",
       "      <td>20200104</td>\n",
       "      <td>wrong anthem played for moldova at atp cup</td>\n",
       "      <td>[-0.03378334268927574, 0.012585321441292763, 0...</td>\n",
       "      <td>1</td>\n",
       "    </tr>\n",
       "    <tr>\n",
       "      <th>297</th>\n",
       "      <td>20200105</td>\n",
       "      <td>sasha zhoya turns back on australia athletics ...</td>\n",
       "      <td>[0.026827052235603333, 0.032450079917907715, 0...</td>\n",
       "      <td>1</td>\n",
       "    </tr>\n",
       "    <tr>\n",
       "      <th>302</th>\n",
       "      <td>20200105</td>\n",
       "      <td>stars marcus stoinis fined personal abuse rene...</td>\n",
       "      <td>[-0.029239336028695107, 0.06348463147878647, 0...</td>\n",
       "      <td>1</td>\n",
       "    </tr>\n",
       "    <tr>\n",
       "      <th>...</th>\n",
       "      <td>...</td>\n",
       "      <td>...</td>\n",
       "      <td>...</td>\n",
       "      <td>...</td>\n",
       "    </tr>\n",
       "    <tr>\n",
       "      <th>2314</th>\n",
       "      <td>20200130</td>\n",
       "      <td>rafael nadal agitated by chair umpire after gi...</td>\n",
       "      <td>[-0.051277462393045425, 0.030257854610681534, ...</td>\n",
       "      <td>1</td>\n",
       "    </tr>\n",
       "    <tr>\n",
       "      <th>2315</th>\n",
       "      <td>20200130</td>\n",
       "      <td>rafael nadal loses to dominic thiem australian...</td>\n",
       "      <td>[-0.018174681812524796, 0.014082658104598522, ...</td>\n",
       "      <td>1</td>\n",
       "    </tr>\n",
       "    <tr>\n",
       "      <th>2354</th>\n",
       "      <td>20200131</td>\n",
       "      <td>australian open dominic thiem beats alexander ...</td>\n",
       "      <td>[-0.01039914321154356, 0.03773451969027519, 0....</td>\n",
       "      <td>1</td>\n",
       "    </tr>\n",
       "    <tr>\n",
       "      <th>2355</th>\n",
       "      <td>20200131</td>\n",
       "      <td>australian open has delivered more that we cou...</td>\n",
       "      <td>[-0.01898774690926075, 0.051637910306453705, 0...</td>\n",
       "      <td>1</td>\n",
       "    </tr>\n",
       "    <tr>\n",
       "      <th>2421</th>\n",
       "      <td>20200131</td>\n",
       "      <td>roger federer keeps career record alive austra...</td>\n",
       "      <td>[-0.0010463392827659845, 0.025528229773044586,...</td>\n",
       "      <td>1</td>\n",
       "    </tr>\n",
       "  </tbody>\n",
       "</table>\n",
       "<p>125 rows × 4 columns</p>\n",
       "</div>"
      ],
      "text/plain": [
       "      publish_date                                      headline_text  \\\n",
       "162       20200103  nick kyrgios kicks off australias atp cup chal...   \n",
       "201       20200104  bushfire help sparked by ashleigh barty pink a...   \n",
       "249       20200104         wrong anthem played for moldova at atp cup   \n",
       "297       20200105  sasha zhoya turns back on australia athletics ...   \n",
       "302       20200105  stars marcus stoinis fined personal abuse rene...   \n",
       "...            ...                                                ...   \n",
       "2314      20200130  rafael nadal agitated by chair umpire after gi...   \n",
       "2315      20200130  rafael nadal loses to dominic thiem australian...   \n",
       "2354      20200131  australian open dominic thiem beats alexander ...   \n",
       "2355      20200131  australian open has delivered more that we cou...   \n",
       "2421      20200131  roger federer keeps career record alive austra...   \n",
       "\n",
       "                                           headline_emb  cluster  \n",
       "162   [-0.055879849940538406, 0.018472496420145035, ...        1  \n",
       "201   [-0.006274708081036806, -0.03248249366879463, ...        1  \n",
       "249   [-0.03378334268927574, 0.012585321441292763, 0...        1  \n",
       "297   [0.026827052235603333, 0.032450079917907715, 0...        1  \n",
       "302   [-0.029239336028695107, 0.06348463147878647, 0...        1  \n",
       "...                                                 ...      ...  \n",
       "2314  [-0.051277462393045425, 0.030257854610681534, ...        1  \n",
       "2315  [-0.018174681812524796, 0.014082658104598522, ...        1  \n",
       "2354  [-0.01039914321154356, 0.03773451969027519, 0....        1  \n",
       "2355  [-0.01898774690926075, 0.051637910306453705, 0...        1  \n",
       "2421  [-0.0010463392827659845, 0.025528229773044586,...        1  \n",
       "\n",
       "[125 rows x 4 columns]"
      ]
     },
     "execution_count": 15,
     "metadata": {},
     "output_type": "execute_result"
    }
   ],
   "source": [
    "df.loc[df['cluster']==1]"
   ]
  },
  {
   "cell_type": "markdown",
   "metadata": {},
   "source": [
    "## 2. 정보의 다양성 (Diversity) 측정"
   ]
  },
  {
   "cell_type": "markdown",
   "metadata": {},
   "source": [
    "- 각 클러스터 내에 있는 뉴스들은 얼마나 유사한 정보를 담고 있을까?"
   ]
  },
  {
   "cell_type": "code",
   "execution_count": 16,
   "metadata": {},
   "outputs": [],
   "source": [
    "from sklearn.metrics.pairwise import cosine_similarity\n",
    "\n",
    "def calculate_diversity(df, column_name):\n",
    "    \"\"\"\n",
    "    Calculates the diversity of a set of embeddings based on cosine distance.\n",
    "    \n",
    "    :param embeddings: NumPy array of embeddings\n",
    "    :return: The average cosine distance between embeddings, higher means more diverse\n",
    "    \"\"\"\n",
    "    # 각각의 임베딩끼리 모두 pairwise cosine similarity를 계산\n",
    "    embeddings = np.vstack(df[column_name])\n",
    "    cosine_sim = cosine_similarity(embeddings)\n",
    "    \n",
    "    # self-comparisons (diagonal elements)를 제외하고 cosine similarity 계산\n",
    "    np.fill_diagonal(cosine_sim, np.nan) # 본인과의 similarity는 제외\n",
    "    avg_distance = np.nanmean(cosine_sim)\n",
    "    \n",
    "    return cosine_sim, avg_distance\n"
   ]
  },
  {
   "cell_type": "code",
   "execution_count": 17,
   "metadata": {},
   "outputs": [],
   "source": [
    "dist, avg = calculate_diversity(df, 'headline_emb')"
   ]
  },
  {
   "cell_type": "code",
   "execution_count": 28,
   "metadata": {},
   "outputs": [
    {
     "data": {
      "text/plain": [
       "array([[       nan, 0.1746668 , 0.30672911, ..., 0.05149311, 0.21791545,\n",
       "        0.09140314],\n",
       "       [0.1746668 ,        nan, 0.51810496, ..., 0.03842442, 0.19517199,\n",
       "        0.07771924],\n",
       "       [0.30672911, 0.51810496,        nan, ..., 0.07020558, 0.12080507,\n",
       "        0.09901438],\n",
       "       ...,\n",
       "       [0.05149311, 0.03842442, 0.07020558, ...,        nan, 0.05112324,\n",
       "        0.31272533],\n",
       "       [0.21791545, 0.19517199, 0.12080507, ..., 0.05112324,        nan,\n",
       "        0.0762298 ],\n",
       "       [0.09140314, 0.07771924, 0.09901438, ..., 0.31272533, 0.0762298 ,\n",
       "               nan]])"
      ]
     },
     "execution_count": 28,
     "metadata": {},
     "output_type": "execute_result"
    }
   ],
   "source": [
    "dist"
   ]
  },
  {
   "cell_type": "code",
   "execution_count": 18,
   "metadata": {},
   "outputs": [
    {
     "data": {
      "text/plain": [
       "0.19836681801768138"
      ]
     },
     "execution_count": 18,
     "metadata": {},
     "output_type": "execute_result"
    }
   ],
   "source": [
    "avg"
   ]
  },
  {
   "cell_type": "code",
   "execution_count": 19,
   "metadata": {},
   "outputs": [],
   "source": [
    "diversity_score = {k:calculate_diversity(df.loc[df['cluster']==k], 'headline_emb')[1] for k in range(0, 15)}"
   ]
  },
  {
   "cell_type": "code",
   "execution_count": 20,
   "metadata": {},
   "outputs": [
    {
     "data": {
      "text/plain": [
       "{0: 0.2680357512495172,\n",
       " 1: 0.42701174844124884,\n",
       " 2: 0.15113842472548009,\n",
       " 3: 0.3878776156825337,\n",
       " 4: 0.2909252194955938,\n",
       " 5: 0.5789271380584485,\n",
       " 6: 0.47415081854318053,\n",
       " 7: 0.28207174145432246,\n",
       " 8: 0.2937214030248429,\n",
       " 9: 0.4680506879504668,\n",
       " 10: 0.19553639050745047,\n",
       " 11: 0.405714894175974,\n",
       " 12: 0.3850829531453164,\n",
       " 13: 0.5048776279133564,\n",
       " 14: 0.28626770531104967}"
      ]
     },
     "execution_count": 20,
     "metadata": {},
     "output_type": "execute_result"
    }
   ],
   "source": [
    "diversity_score"
   ]
  },
  {
   "cell_type": "code",
   "execution_count": 27,
   "metadata": {},
   "outputs": [
    {
     "data": {
      "text/html": [
       "<div>\n",
       "<style scoped>\n",
       "    .dataframe tbody tr th:only-of-type {\n",
       "        vertical-align: middle;\n",
       "    }\n",
       "\n",
       "    .dataframe tbody tr th {\n",
       "        vertical-align: top;\n",
       "    }\n",
       "\n",
       "    .dataframe thead th {\n",
       "        text-align: right;\n",
       "    }\n",
       "</style>\n",
       "<table border=\"1\" class=\"dataframe\">\n",
       "  <thead>\n",
       "    <tr style=\"text-align: right;\">\n",
       "      <th></th>\n",
       "      <th>publish_date</th>\n",
       "      <th>headline_text</th>\n",
       "      <th>headline_emb</th>\n",
       "      <th>cluster</th>\n",
       "    </tr>\n",
       "  </thead>\n",
       "  <tbody>\n",
       "    <tr>\n",
       "      <th>616</th>\n",
       "      <td>20200109</td>\n",
       "      <td>harry and meghan royal family in uncharted ter...</td>\n",
       "      <td>[0.008956545032560825, 0.013932404108345509, 0...</td>\n",
       "      <td>13</td>\n",
       "    </tr>\n",
       "    <tr>\n",
       "      <th>644</th>\n",
       "      <td>20200109</td>\n",
       "      <td>prince harry and meghan markle step back as se...</td>\n",
       "      <td>[0.023914147168397903, 0.0278632715344429, 0.0...</td>\n",
       "      <td>13</td>\n",
       "    </tr>\n",
       "    <tr>\n",
       "      <th>645</th>\n",
       "      <td>20200109</td>\n",
       "      <td>prince harry and meghan markle step back uk me...</td>\n",
       "      <td>[0.005646861158311367, 0.03033471666276455, -0...</td>\n",
       "      <td>13</td>\n",
       "    </tr>\n",
       "    <tr>\n",
       "      <th>646</th>\n",
       "      <td>20200109</td>\n",
       "      <td>prince harry and meghan markle to step back as...</td>\n",
       "      <td>[0.022870700806379318, 0.03542037680745125, 0....</td>\n",
       "      <td>13</td>\n",
       "    </tr>\n",
       "    <tr>\n",
       "      <th>647</th>\n",
       "      <td>20200109</td>\n",
       "      <td>prince harry and meghan to step back from royal</td>\n",
       "      <td>[0.01944713294506073, 0.03662598878145218, 0.0...</td>\n",
       "      <td>13</td>\n",
       "    </tr>\n",
       "    <tr>\n",
       "      <th>668</th>\n",
       "      <td>20200109</td>\n",
       "      <td>your prince harry and meghan markle questions ...</td>\n",
       "      <td>[0.01220667827874422, 0.0202767513692379, 0.02...</td>\n",
       "      <td>13</td>\n",
       "    </tr>\n",
       "    <tr>\n",
       "      <th>702</th>\n",
       "      <td>20200111</td>\n",
       "      <td>prince harry meghan markle conference call fut...</td>\n",
       "      <td>[0.00656588189303875, 0.007069929502904415, 0....</td>\n",
       "      <td>13</td>\n",
       "    </tr>\n",
       "    <tr>\n",
       "      <th>703</th>\n",
       "      <td>20200111</td>\n",
       "      <td>prince harry meghan markle exodus is monarchy ...</td>\n",
       "      <td>[-0.01837480440735817, 0.045023079961538315, 0...</td>\n",
       "      <td>13</td>\n",
       "    </tr>\n",
       "    <tr>\n",
       "      <th>745</th>\n",
       "      <td>20200112</td>\n",
       "      <td>prince harry meghan markle do they have their ...</td>\n",
       "      <td>[0.047689106315374374, 0.02747255377471447, 0....</td>\n",
       "      <td>13</td>\n",
       "    </tr>\n",
       "    <tr>\n",
       "      <th>747</th>\n",
       "      <td>20200112</td>\n",
       "      <td>queen elizabeth ii calls prince harry for cris...</td>\n",
       "      <td>[-0.03957179933786392, 0.01446374412626028, 0....</td>\n",
       "      <td>13</td>\n",
       "    </tr>\n",
       "    <tr>\n",
       "      <th>842</th>\n",
       "      <td>20200113</td>\n",
       "      <td>what would a royal family with no prince harry...</td>\n",
       "      <td>[0.015209823846817017, 0.032590754330158234, -...</td>\n",
       "      <td>13</td>\n",
       "    </tr>\n",
       "    <tr>\n",
       "      <th>885</th>\n",
       "      <td>20200114</td>\n",
       "      <td>how can the royal brand be protected as the su...</td>\n",
       "      <td>[0.052185315638780594, 0.06170905753970146, 0....</td>\n",
       "      <td>13</td>\n",
       "    </tr>\n",
       "    <tr>\n",
       "      <th>911</th>\n",
       "      <td>20200114</td>\n",
       "      <td>prince william harry deny royal rift ahead fam...</td>\n",
       "      <td>[0.029303038492798805, 0.05583926662802696, 0....</td>\n",
       "      <td>13</td>\n",
       "    </tr>\n",
       "    <tr>\n",
       "      <th>913</th>\n",
       "      <td>20200114</td>\n",
       "      <td>queen gives blessing to prince harry and meghan</td>\n",
       "      <td>[0.02625969611108303, 0.011233820579946041, 0....</td>\n",
       "      <td>13</td>\n",
       "    </tr>\n",
       "    <tr>\n",
       "      <th>1046</th>\n",
       "      <td>20200115</td>\n",
       "      <td>who will pay for harry and meghans security ex...</td>\n",
       "      <td>[0.015619792975485325, 0.015550922602415085, 0...</td>\n",
       "      <td>13</td>\n",
       "    </tr>\n",
       "    <tr>\n",
       "      <th>1116</th>\n",
       "      <td>20200116</td>\n",
       "      <td>meghan markle estranged father testify against...</td>\n",
       "      <td>[0.02715185284614563, 0.036233361810445786, 0....</td>\n",
       "      <td>13</td>\n",
       "    </tr>\n",
       "    <tr>\n",
       "      <th>1218</th>\n",
       "      <td>20200117</td>\n",
       "      <td>prince harry completes final public appearance</td>\n",
       "      <td>[0.025710824877023697, 0.03253103792667389, 0....</td>\n",
       "      <td>13</td>\n",
       "    </tr>\n",
       "    <tr>\n",
       "      <th>1219</th>\n",
       "      <td>20200117</td>\n",
       "      <td>prince harry last appearance before stepping a...</td>\n",
       "      <td>[0.0239347442984581, 0.04234608635306358, 0.01...</td>\n",
       "      <td>13</td>\n",
       "    </tr>\n",
       "    <tr>\n",
       "      <th>1329</th>\n",
       "      <td>20200119</td>\n",
       "      <td>harry and meghan markle drop royal highness ti...</td>\n",
       "      <td>[0.02078278549015522, 0.025956017896533012, 0....</td>\n",
       "      <td>13</td>\n",
       "    </tr>\n",
       "    <tr>\n",
       "      <th>1341</th>\n",
       "      <td>20200119</td>\n",
       "      <td>new era for royal family as harry and meghan d...</td>\n",
       "      <td>[0.037154149264097214, 0.04129934310913086, 0....</td>\n",
       "      <td>13</td>\n",
       "    </tr>\n",
       "    <tr>\n",
       "      <th>1413</th>\n",
       "      <td>20200120</td>\n",
       "      <td>prince harry meghan markle no other option roy...</td>\n",
       "      <td>[0.014177217148244381, 0.04844832792878151, 0....</td>\n",
       "      <td>13</td>\n",
       "    </tr>\n",
       "    <tr>\n",
       "      <th>1414</th>\n",
       "      <td>20200120</td>\n",
       "      <td>prince harry says he and meghan were left with...</td>\n",
       "      <td>[-0.0059967366978526115, 0.0521588996052742, 0...</td>\n",
       "      <td>13</td>\n",
       "    </tr>\n",
       "    <tr>\n",
       "      <th>1476</th>\n",
       "      <td>20200121</td>\n",
       "      <td>harry duke sussex arrives canada after royal s...</td>\n",
       "      <td>[-0.008424396626651287, 0.013845913112163544, ...</td>\n",
       "      <td>13</td>\n",
       "    </tr>\n",
       "    <tr>\n",
       "      <th>1503</th>\n",
       "      <td>20200121</td>\n",
       "      <td>prince harry arrives in canada</td>\n",
       "      <td>[-0.009597452357411385, 0.026146572083234787, ...</td>\n",
       "      <td>13</td>\n",
       "    </tr>\n",
       "    <tr>\n",
       "      <th>1574</th>\n",
       "      <td>20200122</td>\n",
       "      <td>harry and meghan threaten legal action against...</td>\n",
       "      <td>[0.010485516861081123, 0.04843222722411156, 0....</td>\n",
       "      <td>13</td>\n",
       "    </tr>\n",
       "    <tr>\n",
       "      <th>1597</th>\n",
       "      <td>20200122</td>\n",
       "      <td>meghan markle father thomas to defend reputati...</td>\n",
       "      <td>[0.029875004664063454, 0.05598108470439911, 0....</td>\n",
       "      <td>13</td>\n",
       "    </tr>\n",
       "    <tr>\n",
       "      <th>1729</th>\n",
       "      <td>20200123</td>\n",
       "      <td>un report indicates crown prince involved in b...</td>\n",
       "      <td>[-0.0009186796378344297, -0.025264784693717957...</td>\n",
       "      <td>13</td>\n",
       "    </tr>\n",
       "    <tr>\n",
       "      <th>2117</th>\n",
       "      <td>20200128</td>\n",
       "      <td>prince andrew fbi jeffrey epstein</td>\n",
       "      <td>[0.003519621444866061, -0.037508562207221985, ...</td>\n",
       "      <td>13</td>\n",
       "    </tr>\n",
       "    <tr>\n",
       "      <th>2118</th>\n",
       "      <td>20200128</td>\n",
       "      <td>prince andrew zero cooperation on jeffrey epst...</td>\n",
       "      <td>[-0.002204987220466137, -0.0412740595638752, 0...</td>\n",
       "      <td>13</td>\n",
       "    </tr>\n",
       "    <tr>\n",
       "      <th>2416</th>\n",
       "      <td>20200131</td>\n",
       "      <td>prince harry complaint rejected over drugged w...</td>\n",
       "      <td>[0.02943512797355652, 0.042419541627168655, 0....</td>\n",
       "      <td>13</td>\n",
       "    </tr>\n",
       "  </tbody>\n",
       "</table>\n",
       "</div>"
      ],
      "text/plain": [
       "      publish_date                                      headline_text  \\\n",
       "616       20200109  harry and meghan royal family in uncharted ter...   \n",
       "644       20200109  prince harry and meghan markle step back as se...   \n",
       "645       20200109  prince harry and meghan markle step back uk me...   \n",
       "646       20200109  prince harry and meghan markle to step back as...   \n",
       "647       20200109    prince harry and meghan to step back from royal   \n",
       "668       20200109  your prince harry and meghan markle questions ...   \n",
       "702       20200111  prince harry meghan markle conference call fut...   \n",
       "703       20200111  prince harry meghan markle exodus is monarchy ...   \n",
       "745       20200112  prince harry meghan markle do they have their ...   \n",
       "747       20200112  queen elizabeth ii calls prince harry for cris...   \n",
       "842       20200113  what would a royal family with no prince harry...   \n",
       "885       20200114  how can the royal brand be protected as the su...   \n",
       "911       20200114  prince william harry deny royal rift ahead fam...   \n",
       "913       20200114    queen gives blessing to prince harry and meghan   \n",
       "1046      20200115  who will pay for harry and meghans security ex...   \n",
       "1116      20200116  meghan markle estranged father testify against...   \n",
       "1218      20200117     prince harry completes final public appearance   \n",
       "1219      20200117  prince harry last appearance before stepping a...   \n",
       "1329      20200119  harry and meghan markle drop royal highness ti...   \n",
       "1341      20200119  new era for royal family as harry and meghan d...   \n",
       "1413      20200120  prince harry meghan markle no other option roy...   \n",
       "1414      20200120  prince harry says he and meghan were left with...   \n",
       "1476      20200121  harry duke sussex arrives canada after royal s...   \n",
       "1503      20200121                     prince harry arrives in canada   \n",
       "1574      20200122  harry and meghan threaten legal action against...   \n",
       "1597      20200122  meghan markle father thomas to defend reputati...   \n",
       "1729      20200123  un report indicates crown prince involved in b...   \n",
       "2117      20200128                  prince andrew fbi jeffrey epstein   \n",
       "2118      20200128  prince andrew zero cooperation on jeffrey epst...   \n",
       "2416      20200131  prince harry complaint rejected over drugged w...   \n",
       "\n",
       "                                           headline_emb  cluster  \n",
       "616   [0.008956545032560825, 0.013932404108345509, 0...       13  \n",
       "644   [0.023914147168397903, 0.0278632715344429, 0.0...       13  \n",
       "645   [0.005646861158311367, 0.03033471666276455, -0...       13  \n",
       "646   [0.022870700806379318, 0.03542037680745125, 0....       13  \n",
       "647   [0.01944713294506073, 0.03662598878145218, 0.0...       13  \n",
       "668   [0.01220667827874422, 0.0202767513692379, 0.02...       13  \n",
       "702   [0.00656588189303875, 0.007069929502904415, 0....       13  \n",
       "703   [-0.01837480440735817, 0.045023079961538315, 0...       13  \n",
       "745   [0.047689106315374374, 0.02747255377471447, 0....       13  \n",
       "747   [-0.03957179933786392, 0.01446374412626028, 0....       13  \n",
       "842   [0.015209823846817017, 0.032590754330158234, -...       13  \n",
       "885   [0.052185315638780594, 0.06170905753970146, 0....       13  \n",
       "911   [0.029303038492798805, 0.05583926662802696, 0....       13  \n",
       "913   [0.02625969611108303, 0.011233820579946041, 0....       13  \n",
       "1046  [0.015619792975485325, 0.015550922602415085, 0...       13  \n",
       "1116  [0.02715185284614563, 0.036233361810445786, 0....       13  \n",
       "1218  [0.025710824877023697, 0.03253103792667389, 0....       13  \n",
       "1219  [0.0239347442984581, 0.04234608635306358, 0.01...       13  \n",
       "1329  [0.02078278549015522, 0.025956017896533012, 0....       13  \n",
       "1341  [0.037154149264097214, 0.04129934310913086, 0....       13  \n",
       "1413  [0.014177217148244381, 0.04844832792878151, 0....       13  \n",
       "1414  [-0.0059967366978526115, 0.0521588996052742, 0...       13  \n",
       "1476  [-0.008424396626651287, 0.013845913112163544, ...       13  \n",
       "1503  [-0.009597452357411385, 0.026146572083234787, ...       13  \n",
       "1574  [0.010485516861081123, 0.04843222722411156, 0....       13  \n",
       "1597  [0.029875004664063454, 0.05598108470439911, 0....       13  \n",
       "1729  [-0.0009186796378344297, -0.025264784693717957...       13  \n",
       "2117  [0.003519621444866061, -0.037508562207221985, ...       13  \n",
       "2118  [-0.002204987220466137, -0.0412740595638752, 0...       13  \n",
       "2416  [0.02943512797355652, 0.042419541627168655, 0....       13  "
      ]
     },
     "execution_count": 27,
     "metadata": {},
     "output_type": "execute_result"
    }
   ],
   "source": [
    "df.loc[df['cluster']==13]"
   ]
  },
  {
   "cell_type": "markdown",
   "metadata": {},
   "source": [
    "## 4. Outlier detection\n",
    "- 각 클러스터 내에 속하지 않는 정보들이 있을까?"
   ]
  },
  {
   "cell_type": "markdown",
   "metadata": {},
   "source": [
    "<img src=\"https://miro.medium.com/v2/resize:fit:725/1*y3wXEId0poYUIzCD3HBh4w.png\"/>\n",
    "<br>\n",
    "출처 : https://miro.medium.com/v2/resize:fit:725/1*y3wXEId0poYUIzCD3HBh4w.png"
   ]
  },
  {
   "cell_type": "code",
   "execution_count": 22,
   "metadata": {},
   "outputs": [],
   "source": [
    "from sklearn.ensemble import IsolationForest"
   ]
  },
  {
   "cell_type": "code",
   "execution_count": 23,
   "metadata": {},
   "outputs": [],
   "source": [
    "cluster = df.loc[df['cluster']==10]"
   ]
  },
  {
   "cell_type": "code",
   "execution_count": 29,
   "metadata": {},
   "outputs": [
    {
     "name": "stdout",
     "output_type": "stream",
     "text": [
      "Anomalous Headlines: ['more blood donors needed' 'a pocket guide to climate change'\n",
      " 'reserve bank braces for record number of damaged bank notes'\n",
      " 'chemical plant explosion in spain'\n",
      " 'where did the drop bear myth originate'\n",
      " 'hundreds central american migrants wade across river into mexico'\n",
      " 'hours in dinosaurs day physics astrophysics'\n",
      " 'streamlined fire assistance still too hard for many farmers'\n",
      " 'unemployment numbers fail to paint full picture of jobs market'\n",
      " 'honey bees insect colony collapse varroa mite deformed wing'\n",
      " 'how you can send your child to school outside catchment zone']\n"
     ]
    }
   ],
   "source": [
    "iso_forest = IsolationForest(contamination=0.05)  # Adjust contamination as needed\n",
    "anomalies = iso_forest.fit_predict(cluster['headline_emb'].tolist())\n",
    "\n",
    "anomalous_headlines = np.array(cluster['headline_text'].tolist())[anomalies == -1]\n",
    "print(\"Anomalous Headlines:\", anomalous_headlines)"
   ]
  },
  {
   "cell_type": "code",
   "execution_count": 25,
   "metadata": {},
   "outputs": [
    {
     "data": {
      "text/plain": [
       "array([ 1,  1,  1,  1,  1,  1,  1,  1,  1,  1,  1, -1,  1,  1,  1,  1,  1,\n",
       "        1,  1,  1,  1,  1, -1,  1,  1,  1,  1,  1,  1,  1,  1,  1,  1,  1,\n",
       "        1,  1,  1,  1,  1,  1,  1,  1,  1,  1,  1,  1,  1,  1, -1,  1,  1,\n",
       "        1,  1,  1,  1,  1,  1,  1,  1,  1,  1,  1,  1,  1,  1,  1,  1,  1,\n",
       "        1,  1,  1,  1,  1,  1,  1,  1,  1,  1,  1,  1,  1,  1,  1,  1,  1,\n",
       "        1, -1,  1,  1,  1,  1,  1,  1,  1,  1,  1,  1,  1,  1,  1,  1,  1,\n",
       "        1, -1,  1,  1,  1,  1,  1,  1,  1,  1, -1,  1,  1,  1,  1,  1,  1,\n",
       "        1,  1,  1,  1,  1,  1, -1,  1,  1,  1,  1,  1,  1,  1,  1,  1,  1,\n",
       "        1,  1,  1,  1,  1,  1,  1,  1,  1,  1,  1,  1,  1,  1,  1,  1,  1,\n",
       "        1,  1,  1,  1,  1,  1,  1,  1,  1, -1,  1,  1,  1,  1,  1,  1,  1,\n",
       "        1, -1,  1,  1,  1,  1,  1,  1,  1,  1,  1,  1,  1,  1,  1,  1,  1,\n",
       "        1,  1,  1,  1,  1,  1,  1,  1,  1,  1,  1,  1,  1,  1, -1,  1,  1,\n",
       "        1,  1,  1, -1,  1,  1,  1,  1,  1])"
      ]
     },
     "execution_count": 25,
     "metadata": {},
     "output_type": "execute_result"
    }
   ],
   "source": [
    "anomalies"
   ]
  },
  {
   "cell_type": "code",
   "execution_count": 26,
   "metadata": {},
   "outputs": [
    {
     "data": {
      "text/plain": [
       "array(['meteorologist describes why forecast conditions are so dangerous',\n",
       "       'nols moldova 0401',\n",
       "       'lithium sulfur battery greener cheaper and more efficient',\n",
       "       'rain gardens green roofs solutions for stormwater problem',\n",
       "       'genetically engineered mosquitoes immune to all dengue strains',\n",
       "       'where did the drop bear myth originate',\n",
       "       'why experts say it is easy to leave children in cars',\n",
       "       'consumers urged to eat more pineapple to combat glut',\n",
       "       'indonesia plans to build ten more balis for tourists',\n",
       "       'how does car measure temperature in a heatwave',\n",
       "       'how you can send your child to school outside catchment zone'],\n",
       "      dtype='<U64')"
      ]
     },
     "execution_count": 26,
     "metadata": {},
     "output_type": "execute_result"
    }
   ],
   "source": [
    "anomalous_headlines"
   ]
  },
  {
   "cell_type": "markdown",
   "metadata": {},
   "source": [
    "단순히 텍스트를 embedding화 하는 것에서 더 나아가, <br>\n",
    "텍스트를 특징별로 묶거나 유관하지 않다고 판단되는 텍스트는 제외하는 등, 컨텐츠 자체를 preprocessing/탐색 하는데에 활용 가능"
   ]
  },
  {
   "cell_type": "markdown",
   "metadata": {},
   "source": [
    "--END--"
   ]
  }
 ],
 "metadata": {
  "kernelspec": {
   "display_name": "Python 3 (ipykernel)",
   "language": "python",
   "name": "python3"
  },
  "language_info": {
   "codemirror_mode": {
    "name": "ipython",
    "version": 3
   },
   "file_extension": ".py",
   "mimetype": "text/x-python",
   "name": "python",
   "nbconvert_exporter": "python",
   "pygments_lexer": "ipython3",
   "version": "3.11.9"
  }
 },
 "nbformat": 4,
 "nbformat_minor": 4
}
