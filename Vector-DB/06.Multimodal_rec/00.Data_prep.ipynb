{
 "cells": [
  {
   "cell_type": "code",
   "execution_count": 1,
   "metadata": {},
   "outputs": [],
   "source": [
    "import json\n",
    "import pandas as pd\n",
    "import os\n",
    "from tqdm.notebook import tqdm\n",
    "import matplotlib.pyplot as plt\n",
    "import warnings\n",
    "import numpy as np\n",
    "from PIL import Image\n",
    "import torch\n",
    "from ultralytics.utils.metrics import mask_iou\n",
    "import itertools\n",
    "import cv2\n",
    "import matplotlib.image as mpimg\n",
    "\n",
    "os.environ['KMP_DUPLICATE_LIB_OK']='True' # mkl 라이브러리 중복 실행 방지\n",
    "# Ignore warnings\n",
    "warnings.filterwarnings('ignore')\n",
    "# pandas dataframe display\n",
    "pd.set_option('display.max_columns', None)"
   ]
  },
  {
   "cell_type": "code",
   "execution_count": 59,
   "metadata": {},
   "outputs": [],
   "source": [
    "anno = pd.read_csv('../data/imaterialist-fashion-2020-fgvc7/train.csv')\n",
    "with open('../data/imaterialist-fashion-2020-fgvc7/label_descriptions.json', 'r') as file:\n",
    "    labels = json.load(file)\n",
    "\n",
    "categories = pd.DataFrame(labels['categories'])\n",
    "attributes = pd.DataFrame(labels['attributes'])"
   ]
  },
  {
   "cell_type": "code",
   "execution_count": 3,
   "metadata": {},
   "outputs": [
    {
     "data": {
      "text/plain": [
       "(333401, 6)"
      ]
     },
     "execution_count": 3,
     "metadata": {},
     "output_type": "execute_result"
    }
   ],
   "source": [
    "anno.shape"
   ]
  },
  {
   "cell_type": "code",
   "execution_count": 4,
   "metadata": {},
   "outputs": [],
   "source": [
    "# anno.head()"
   ]
  },
  {
   "cell_type": "code",
   "execution_count": 5,
   "metadata": {
    "scrolled": true
   },
   "outputs": [],
   "source": [
    "# categories"
   ]
  },
  {
   "cell_type": "code",
   "execution_count": 6,
   "metadata": {},
   "outputs": [],
   "source": [
    "# attributes.head(15)"
   ]
  },
  {
   "cell_type": "code",
   "execution_count": 7,
   "metadata": {},
   "outputs": [],
   "source": [
    "# attributes.tail(15)"
   ]
  },
  {
   "cell_type": "code",
   "execution_count": 8,
   "metadata": {},
   "outputs": [
    {
     "data": {
      "text/plain": [
       "array(['nickname', 'silhouette', 'waistline', 'length', 'neckline type', 'opening type', 'non-textile material type', 'leather', 'textile finishing, manufacturing techniques', 'textile pattern', 'animal'], dtype=object)"
      ]
     },
     "execution_count": 8,
     "metadata": {},
     "output_type": "execute_result"
    }
   ],
   "source": [
    "attributes.supercategory.unique()"
   ]
  },
  {
   "cell_type": "code",
   "execution_count": 9,
   "metadata": {},
   "outputs": [],
   "source": [
    "# attributes.name.unique()"
   ]
  },
  {
   "cell_type": "code",
   "execution_count": 10,
   "metadata": {},
   "outputs": [
    {
     "data": {
      "text/plain": [
       "(294, 4)"
      ]
     },
     "execution_count": 10,
     "metadata": {},
     "output_type": "execute_result"
    }
   ],
   "source": [
    "attributes.shape"
   ]
  },
  {
   "cell_type": "code",
   "execution_count": 11,
   "metadata": {},
   "outputs": [],
   "source": [
    "anno = pd.merge(anno, categories[['id', 'name', 'supercategory']], left_on='ClassId', right_on=['id'], how='left')"
   ]
  },
  {
   "cell_type": "code",
   "execution_count": 12,
   "metadata": {},
   "outputs": [
    {
     "data": {
      "text/html": [
       "<div>\n",
       "<style scoped>\n",
       "    .dataframe tbody tr th:only-of-type {\n",
       "        vertical-align: middle;\n",
       "    }\n",
       "\n",
       "    .dataframe tbody tr th {\n",
       "        vertical-align: top;\n",
       "    }\n",
       "\n",
       "    .dataframe thead th {\n",
       "        text-align: right;\n",
       "    }\n",
       "</style>\n",
       "<table border=\"1\" class=\"dataframe\">\n",
       "  <thead>\n",
       "    <tr style=\"text-align: right;\">\n",
       "      <th></th>\n",
       "      <th>ImageId</th>\n",
       "      <th>EncodedPixels</th>\n",
       "      <th>Height</th>\n",
       "      <th>Width</th>\n",
       "      <th>ClassId</th>\n",
       "      <th>AttributesIds</th>\n",
       "      <th>id</th>\n",
       "      <th>name</th>\n",
       "      <th>supercategory</th>\n",
       "    </tr>\n",
       "  </thead>\n",
       "  <tbody>\n",
       "    <tr>\n",
       "      <th>0</th>\n",
       "      <td>00000663ed1ff0c4e0132b9b9ac53f6e</td>\n",
       "      <td>6068157 7 6073371 20 6078584 34 6083797 48 608...</td>\n",
       "      <td>5214</td>\n",
       "      <td>3676</td>\n",
       "      <td>6</td>\n",
       "      <td>115,136,143,154,230,295,316,317</td>\n",
       "      <td>6</td>\n",
       "      <td>pants</td>\n",
       "      <td>lowerbody</td>\n",
       "    </tr>\n",
       "    <tr>\n",
       "      <th>1</th>\n",
       "      <td>00000663ed1ff0c4e0132b9b9ac53f6e</td>\n",
       "      <td>6323163 11 6328356 32 6333549 53 6338742 75 63...</td>\n",
       "      <td>5214</td>\n",
       "      <td>3676</td>\n",
       "      <td>0</td>\n",
       "      <td>115,136,142,146,225,295,316,317</td>\n",
       "      <td>0</td>\n",
       "      <td>shirt, blouse</td>\n",
       "      <td>upperbody</td>\n",
       "    </tr>\n",
       "  </tbody>\n",
       "</table>\n",
       "</div>"
      ],
      "text/plain": [
       "                            ImageId  \\\n",
       "0  00000663ed1ff0c4e0132b9b9ac53f6e   \n",
       "1  00000663ed1ff0c4e0132b9b9ac53f6e   \n",
       "\n",
       "                                       EncodedPixels  Height  Width  ClassId  \\\n",
       "0  6068157 7 6073371 20 6078584 34 6083797 48 608...    5214   3676        6   \n",
       "1  6323163 11 6328356 32 6333549 53 6338742 75 63...    5214   3676        0   \n",
       "\n",
       "                     AttributesIds  id           name supercategory  \n",
       "0  115,136,143,154,230,295,316,317   6          pants     lowerbody  \n",
       "1  115,136,142,146,225,295,316,317   0  shirt, blouse     upperbody  "
      ]
     },
     "execution_count": 12,
     "metadata": {},
     "output_type": "execute_result"
    }
   ],
   "source": [
    "# EncodedPixels - 마스킹 관련 annotation\n",
    "anno.head(2)"
   ]
  },
  {
   "cell_type": "markdown",
   "metadata": {},
   "source": [
    "## 데이터 형식 변환을 위해 필요한 절차"
   ]
  },
  {
   "cell_type": "markdown",
   "metadata": {},
   "source": [
    "---"
   ]
  },
  {
   "cell_type": "markdown",
   "metadata": {},
   "source": [
    "## 1. 옷의 종류와 특징 파악 (category & attributes)  \n",
    "- 데이터 셋의 범위 파악\n",
    "#### : 각 class 별로 어떤 attribute들이 있는지 살펴보기"
   ]
  },
  {
   "cell_type": "code",
   "execution_count": 13,
   "metadata": {},
   "outputs": [],
   "source": [
    "id_to_name = pd.Series(attributes.name.values, index=attributes.id).to_dict()\n",
    "\n",
    "# function to convert IDs to names\n",
    "def ids_to_names(ids):\n",
    "    if pd.isna(ids):\n",
    "        return np.nan\n",
    "    names = [id_to_name.get(int(id_), 'Unknown') for id_ in ids.split(',')]\n",
    "    return ', '.join(names)\n",
    "\n",
    "# Apply the function to the AttributesIds column\n",
    "anno['AttributesNames'] = anno['AttributesIds'].apply(ids_to_names)"
   ]
  },
  {
   "cell_type": "code",
   "execution_count": 14,
   "metadata": {},
   "outputs": [
    {
     "data": {
      "text/plain": [
       "'symmetrical'"
      ]
     },
     "execution_count": 14,
     "metadata": {},
     "output_type": "execute_result"
    }
   ],
   "source": [
    "id_to_name[115]"
   ]
  },
  {
   "cell_type": "code",
   "execution_count": 15,
   "metadata": {},
   "outputs": [],
   "source": [
    "# anno.head()"
   ]
  },
  {
   "cell_type": "code",
   "execution_count": 16,
   "metadata": {},
   "outputs": [],
   "source": [
    "anno_tmp = anno.copy()\n",
    "\n",
    "# attribute를 string 형태에서 list 형태로 변환\n",
    "anno_tmp['AttributesIds'] = anno_tmp['AttributesIds'].str.split(',')\n",
    "anno_tmp['AttributesNames'] = anno_tmp['AttributesNames'].str.split(',')"
   ]
  },
  {
   "cell_type": "code",
   "execution_count": 17,
   "metadata": {},
   "outputs": [],
   "source": [
    "# attribute를 row-wise로 길게 늘린다\n",
    "exploded_df = anno_tmp.explode('AttributesIds')\n",
    "# 'name', 'AttributesIds' 기준으로 unique pair만 골라낸다\n",
    "unique_pairs = exploded_df[['name', 'AttributesIds']].drop_duplicates()\n",
    "unique_pairs.reset_index(drop=True, inplace=True)\n",
    "unique_pairs = unique_pairs.loc[unique_pairs['AttributesIds'].notna()]\n",
    "unique_pairs['AttributesIds'] = unique_pairs['AttributesIds'].astype(int)\n",
    "unique_pairs.rename(columns={\"name\":\"class_name\"}, inplace=True)"
   ]
  },
  {
   "cell_type": "code",
   "execution_count": 18,
   "metadata": {},
   "outputs": [],
   "source": [
    "# exploded_df.head()"
   ]
  },
  {
   "cell_type": "code",
   "execution_count": 19,
   "metadata": {},
   "outputs": [],
   "source": [
    "# unique_pairs.head(20)"
   ]
  },
  {
   "cell_type": "code",
   "execution_count": 20,
   "metadata": {},
   "outputs": [],
   "source": [
    "# 각 attribute ID를 human readable한 텍스트로 변환\n",
    "pairs = pd.merge(unique_pairs, attributes, left_on='AttributesIds', right_on='id', how='left')\n",
    "pairs.sort_values(by=['class_name', 'id'], inplace=True)"
   ]
  },
  {
   "cell_type": "code",
   "execution_count": 21,
   "metadata": {},
   "outputs": [
    {
     "data": {
      "text/html": [
       "<div>\n",
       "<style scoped>\n",
       "    .dataframe tbody tr th:only-of-type {\n",
       "        vertical-align: middle;\n",
       "    }\n",
       "\n",
       "    .dataframe tbody tr th {\n",
       "        vertical-align: top;\n",
       "    }\n",
       "\n",
       "    .dataframe thead th {\n",
       "        text-align: right;\n",
       "    }\n",
       "</style>\n",
       "<table border=\"1\" class=\"dataframe\">\n",
       "  <thead>\n",
       "    <tr style=\"text-align: right;\">\n",
       "      <th></th>\n",
       "      <th>class_name</th>\n",
       "      <th>AttributesIds</th>\n",
       "      <th>id</th>\n",
       "      <th>name</th>\n",
       "      <th>supercategory</th>\n",
       "      <th>level</th>\n",
       "    </tr>\n",
       "  </thead>\n",
       "  <tbody>\n",
       "    <tr>\n",
       "      <th>941</th>\n",
       "      <td>applique</td>\n",
       "      <td>182</td>\n",
       "      <td>182</td>\n",
       "      <td>round (neck)</td>\n",
       "      <td>neckline type</td>\n",
       "      <td>1</td>\n",
       "    </tr>\n",
       "    <tr>\n",
       "      <th>1171</th>\n",
       "      <td>bead</td>\n",
       "      <td>182</td>\n",
       "      <td>182</td>\n",
       "      <td>round (neck)</td>\n",
       "      <td>neckline type</td>\n",
       "      <td>1</td>\n",
       "    </tr>\n",
       "    <tr>\n",
       "      <th>884</th>\n",
       "      <td>bead</td>\n",
       "      <td>183</td>\n",
       "      <td>183</td>\n",
       "      <td>v-neck</td>\n",
       "      <td>neckline type</td>\n",
       "      <td>1</td>\n",
       "    </tr>\n",
       "    <tr>\n",
       "      <th>871</th>\n",
       "      <td>bead</td>\n",
       "      <td>190</td>\n",
       "      <td>190</td>\n",
       "      <td>scoop (neck)</td>\n",
       "      <td>neckline type</td>\n",
       "      <td>1</td>\n",
       "    </tr>\n",
       "    <tr>\n",
       "      <th>1267</th>\n",
       "      <td>bead</td>\n",
       "      <td>192</td>\n",
       "      <td>192</td>\n",
       "      <td>plunging (neckline)</td>\n",
       "      <td>neckline type</td>\n",
       "      <td>1</td>\n",
       "    </tr>\n",
       "  </tbody>\n",
       "</table>\n",
       "</div>"
      ],
      "text/plain": [
       "     class_name  AttributesIds   id                 name  supercategory  level\n",
       "941    applique            182  182         round (neck)  neckline type      1\n",
       "1171       bead            182  182         round (neck)  neckline type      1\n",
       "884        bead            183  183               v-neck  neckline type      1\n",
       "871        bead            190  190         scoop (neck)  neckline type      1\n",
       "1267       bead            192  192  plunging (neckline)  neckline type      1"
      ]
     },
     "execution_count": 21,
     "metadata": {},
     "output_type": "execute_result"
    }
   ],
   "source": [
    "pairs.head()"
   ]
  },
  {
   "cell_type": "code",
   "execution_count": 22,
   "metadata": {},
   "outputs": [],
   "source": [
    "pairs.to_csv(\"../data/clothes_pairs.csv\", index=False)"
   ]
  },
  {
   "cell_type": "code",
   "execution_count": 23,
   "metadata": {},
   "outputs": [
    {
     "name": "stdout",
     "output_type": "stream",
     "text": [
      "applique\n",
      "bead\n",
      "cape\n",
      "cardigan\n",
      "coat\n",
      "collar\n",
      "dress\n",
      "flower\n",
      "fringe\n",
      "hood\n",
      "jacket\n",
      "jumpsuit\n",
      "lapel\n",
      "neckline\n",
      "pants\n",
      "pocket\n",
      "ruffle\n",
      "shirt, blouse\n",
      "shorts\n",
      "skirt\n",
      "sleeve\n",
      "sweater\n",
      "top, t-shirt, sweatshirt\n",
      "vest\n",
      "zipper\n"
     ]
    }
   ],
   "source": [
    "for c in pairs.class_name.unique():\n",
    "    print(c)"
   ]
  },
  {
   "cell_type": "markdown",
   "metadata": {},
   "source": [
    "- class name 별로 attribute이 명확히 구분되지는 않는다"
   ]
  },
  {
   "cell_type": "code",
   "execution_count": 24,
   "metadata": {},
   "outputs": [],
   "source": [
    "# pairs.loc[pairs['class_name']=='pants', 'name'].values"
   ]
  },
  {
   "cell_type": "code",
   "execution_count": 25,
   "metadata": {},
   "outputs": [],
   "source": [
    "# pairs.loc[pairs['class_name']=='jacket', 'name'].values"
   ]
  },
  {
   "cell_type": "markdown",
   "metadata": {},
   "source": [
    "##### example\n",
    "\n",
    "- [trucker (jacket)](https://www.billyreid.com/cdn/shop/files/f23_203-482_moleskin-tupelo-trucker-jacket_olive_201_A_3000x.jpg)\n",
    "\n",
    "- [houndstooth (pattern)](https://www.thecuttingclass.com/wp-content/uploads/2011/03/593bfb3e455e5_houndstooth.jpg)\n"
   ]
  },
  {
   "cell_type": "markdown",
   "metadata": {},
   "source": [
    "## 2. 상위 / 하위 카테고리의 관계 정의\n",
    "- 보다 온전한 데이터를 위한 전처리 작업\n",
    "#### : annotation 살펴보기"
   ]
  },
  {
   "cell_type": "markdown",
   "metadata": {},
   "source": [
    "- Run-Length Encoding (RLE) 포맷\n",
    "    - 예) 6068157 7 6073371 20 6078584 34\n",
    "    - 2D를 일차원으로 변형했을 때 6068157번째에 오는 픽셀부터 7개의 픽셀들이 annotate\n",
    "    - 효율적인 데이터 저장을 위한 선택"
   ]
  },
  {
   "cell_type": "code",
   "execution_count": 26,
   "metadata": {},
   "outputs": [],
   "source": [
    "# anno.head(2)"
   ]
  },
  {
   "cell_type": "code",
   "execution_count": 27,
   "metadata": {
    "scrolled": true
   },
   "outputs": [],
   "source": [
    "# anno.loc[0, 'EncodedPixels']"
   ]
  },
  {
   "cell_type": "code",
   "execution_count": 28,
   "metadata": {},
   "outputs": [],
   "source": [
    "tmp = anno.loc[anno['ImageId']=='2f18aaab685a98876504a0f32d4c1d8e']\n",
    "tmp.reset_index(inplace=True, drop=True)"
   ]
  },
  {
   "cell_type": "markdown",
   "metadata": {},
   "source": [
    "- 이때, `garment parts`나 `closures`와 같이 옷의 한 부분을 지칭하는 레이블들은 `shirt, blouse`와 같은 다른 레이블의 annotation의 일부분으로 표시된다"
   ]
  },
  {
   "cell_type": "code",
   "execution_count": 29,
   "metadata": {
    "scrolled": true
   },
   "outputs": [],
   "source": [
    "# tmp"
   ]
  },
  {
   "cell_type": "code",
   "execution_count": 30,
   "metadata": {},
   "outputs": [],
   "source": [
    "def create_single_mask(image, annoations, class_ids):\n",
    "    masks = []\n",
    "    shape = image.shape\n",
    "\n",
    "    # Initialize numpy array with shape same as image size\n",
    "    height, width = shape[:2]\n",
    "    mask = np.zeros((height, width)).reshape(-1)\n",
    "\n",
    "    # Iterate over encoded pixels and create mask\n",
    "    for segment, (pixel_str, class_id) in enumerate(zip(annoations, class_ids)):\n",
    "        splitted_pixels = list(map(int, pixel_str.split()))\n",
    "        pixel_starts = splitted_pixels[::2]\n",
    "        run_lengths = splitted_pixels[1::2]\n",
    "        assert max(pixel_starts) < mask.shape[0]\n",
    "        for pixel_start, run_length in zip(pixel_starts, run_lengths):\n",
    "            pixel_start = int(pixel_start) - 1\n",
    "            run_length = int(run_length)\n",
    "            mask[pixel_start:pixel_start+run_length] = 255 - class_id * 4\n",
    "    masks.append(mask.reshape((height, width), order='F'))\n",
    "    return masks"
   ]
  },
  {
   "cell_type": "code",
   "execution_count": 15,
   "metadata": {},
   "outputs": [],
   "source": [
    "def show_image_with_mask(image_path, mask):\n",
    "    # Load the original image\n",
    "    image = Image.open(image_path)\n",
    "    \n",
    "    # Plotting the original image\n",
    "    plt.figure(figsize=(15, 15))\n",
    "    plt.subplot(1, 2, 1)\n",
    "    plt.imshow(image)\n",
    "    plt.title('Original Image')\n",
    "    plt.axis('off')\n",
    "    \n",
    "    # Plotting the mask on top of the image\n",
    "    plt.subplot(1, 2, 2)\n",
    "    plt.imshow(image)\n",
    "    plt.imshow(mask, cmap='jet', alpha=0.5)  # Overlaying the mask with transparency\n",
    "    plt.title('Image with Mask')\n",
    "    plt.axis('off')\n",
    "    \n",
    "    plt.show()"
   ]
  },
  {
   "cell_type": "code",
   "execution_count": null,
   "metadata": {
    "scrolled": true
   },
   "outputs": [],
   "source": [
    "image = mpimg.imread('../data/imaterialist-fashion-2020-fgvc7/train/2f18aaab685a98876504a0f32d4c1d8e.jpg')\n",
    "masks = create_single_mask(image, tmp['EncodedPixels'], tmp['id'])\n",
    "\n",
    "show_image_with_mask('../data/imaterialist-fashion-2020-fgvc7/train/2f18aaab685a98876504a0f32d4c1d8e.jpg', masks[0])"
   ]
  },
  {
   "cell_type": "markdown",
   "metadata": {},
   "source": [
    "## 3. 추천 서비스에 활용할 단위의 데이터로 변환\n",
    "- 서비스와의 연계성을 고려한 데이터 변환"
   ]
  },
  {
   "cell_type": "markdown",
   "metadata": {},
   "source": [
    "### 옷 추천 서비스의 단위는 자켓, 바지 등 온전한 옷감의 단위\n",
    "\n",
    "- 주머니, 소매, 깃 등은 셔츠나 블라우스 등과 같은 상의 카테고리와 함께 고려되어야 한다\n",
    "    - 하위 카테고리 (주머니, 소매, 깃)의 annotation은 상위 카테고리의 annotation과 겹치게 만들어져 있음\n",
    "- 또한, 같은 주머니라도, 바지 주머니와 상의 주머니가 함께 한 이미지에 존재함\n",
    "- 따라서 하위와 상위 카테고리들의 pair 생성을 통해 온전한 옷 전체의 특징을 고려할 수 있어야 함"
   ]
  },
  {
   "cell_type": "code",
   "execution_count": 13,
   "metadata": {},
   "outputs": [],
   "source": [
    "def create_separate_masks(annoations, class_ids, height, width):\n",
    "    masks = []\n",
    "\n",
    "    for segment, (pixel_str, class_id) in enumerate(zip(annoations, class_ids)):\n",
    "        mask = np.zeros((height, width)).reshape(-1)\n",
    "        splitted_pixels = list(map(int, pixel_str.split()))\n",
    "        pixel_starts = splitted_pixels[::2]\n",
    "        run_lengths = splitted_pixels[1::2]\n",
    "        assert max(pixel_starts) < mask.shape[0]\n",
    "        for pixel_start, run_length in zip(pixel_starts, run_lengths):\n",
    "            pixel_start = int(pixel_start) - 1\n",
    "            run_length = int(run_length)\n",
    "            mask[pixel_start:pixel_start+run_length] = 1\n",
    "        masks.append(mask.reshape((height, width), order='F'))\n",
    "    return masks"
   ]
  },
  {
   "cell_type": "code",
   "execution_count": 36,
   "metadata": {},
   "outputs": [],
   "source": [
    "masks = create_separate_masks(tmp['EncodedPixels'], tmp['id'], tmp['Height'].values[0], tmp['Width'].values[0])"
   ]
  },
  {
   "cell_type": "code",
   "execution_count": 37,
   "metadata": {},
   "outputs": [
    {
     "data": {
      "text/plain": [
       "(5120, 3184)"
      ]
     },
     "execution_count": 37,
     "metadata": {},
     "output_type": "execute_result"
    }
   ],
   "source": [
    "masks[2].shape"
   ]
  },
  {
   "cell_type": "code",
   "execution_count": 38,
   "metadata": {},
   "outputs": [
    {
     "name": "stdout",
     "output_type": "stream",
     "text": [
      "수트 특징 : \n",
      "blazer, symmetrical, regular (fit), normal waist, above-the-hip (length), single breasted, no non-textile material, lining, plain (pattern)\n"
     ]
    }
   ],
   "source": [
    "print(\"수트 특징 : \")\n",
    "print(tmp.loc[8, 'AttributesNames'])"
   ]
  },
  {
   "cell_type": "code",
   "execution_count": null,
   "metadata": {},
   "outputs": [],
   "source": [
    "show_image_with_mask('../data/imaterialist-fashion-2020-fgvc7/train/2f18aaab685a98876504a0f32d4c1d8e.jpg', masks[8])"
   ]
  },
  {
   "cell_type": "code",
   "execution_count": 39,
   "metadata": {},
   "outputs": [
    {
     "name": "stdout",
     "output_type": "stream",
     "text": [
      "자켓 주머니 특징 : \n",
      "welt (pocket)\n"
     ]
    }
   ],
   "source": [
    "print(\"자켓 주머니 특징 : \")\n",
    "print(tmp.loc[5, 'AttributesNames'])"
   ]
  },
  {
   "cell_type": "code",
   "execution_count": null,
   "metadata": {},
   "outputs": [],
   "source": [
    "show_image_with_mask('../data/imaterialist-fashion-2020-fgvc7/train/2f18aaab685a98876504a0f32d4c1d8e.jpg', masks[5])"
   ]
  },
  {
   "cell_type": "code",
   "execution_count": 40,
   "metadata": {},
   "outputs": [
    {
     "name": "stdout",
     "output_type": "stream",
     "text": [
      "바지 특징 : \n",
      "symmetrical, peg, regular (fit), normal waist, maxi (length), fly (opening), no non-textile material, no special manufacturing technique, plain (pattern)\n"
     ]
    }
   ],
   "source": [
    "print(\"바지 특징 : \")\n",
    "print(tmp.loc[9, 'AttributesNames'])"
   ]
  },
  {
   "cell_type": "code",
   "execution_count": null,
   "metadata": {},
   "outputs": [],
   "source": [
    "show_image_with_mask('../data/imaterialist-fashion-2020-fgvc7/train/2f18aaab685a98876504a0f32d4c1d8e.jpg', masks[9])"
   ]
  },
  {
   "cell_type": "code",
   "execution_count": 41,
   "metadata": {},
   "outputs": [
    {
     "name": "stdout",
     "output_type": "stream",
     "text": [
      "바지 주머니 특징 : \n",
      "curved (pocket)\n"
     ]
    }
   ],
   "source": [
    "print(\"바지 주머니 특징 : \")\n",
    "print(tmp.loc[10, 'AttributesNames'])"
   ]
  },
  {
   "cell_type": "code",
   "execution_count": null,
   "metadata": {},
   "outputs": [],
   "source": [
    "show_image_with_mask('../data/imaterialist-fashion-2020-fgvc7/train/2f18aaab685a98876504a0f32d4c1d8e.jpg', masks[10])"
   ]
  },
  {
   "cell_type": "code",
   "execution_count": 42,
   "metadata": {},
   "outputs": [
    {
     "name": "stdout",
     "output_type": "stream",
     "text": [
      "벨트 특징 : \n",
      "nan\n"
     ]
    }
   ],
   "source": [
    "print(\"벨트 특징 : \")\n",
    "print(tmp.loc[11, 'AttributesNames'])"
   ]
  },
  {
   "cell_type": "code",
   "execution_count": null,
   "metadata": {},
   "outputs": [],
   "source": [
    "show_image_with_mask('../data/imaterialist-fashion-2020-fgvc7/train/2f18aaab685a98876504a0f32d4c1d8e.jpg', masks[11])"
   ]
  },
  {
   "cell_type": "code",
   "execution_count": 43,
   "metadata": {},
   "outputs": [
    {
     "name": "stdout",
     "output_type": "stream",
     "text": [
      "벨트 버클의 특징 : \n",
      "nan\n"
     ]
    }
   ],
   "source": [
    "print(\"벨트 버클의 특징 : \")\n",
    "print(tmp.loc[12, 'AttributesNames'])"
   ]
  },
  {
   "cell_type": "code",
   "execution_count": null,
   "metadata": {},
   "outputs": [],
   "source": [
    "show_image_with_mask('../data/imaterialist-fashion-2020-fgvc7/train/2f18aaab685a98876504a0f32d4c1d8e.jpg', masks[12])"
   ]
  },
  {
   "cell_type": "markdown",
   "metadata": {},
   "source": [
    "### Annotation pair 생성하기\n",
    "1. annotation을 binary mask 형태로 변환\n",
    "2. 한 이미지 내에서, 90% 이상 겹치는 한 쌍의 annotation 존재 여부 탐색\n",
    "3. 해당 annotation pair 중 범위가 더 큰 annotation을 기준으로 통합"
   ]
  },
  {
   "cell_type": "code",
   "execution_count": 44,
   "metadata": {},
   "outputs": [],
   "source": [
    "def flatten_mask(mask):\n",
    "\n",
    "    flattened_mask = mask.flatten()\n",
    "    mask_tensor = np.reshape(flattened_mask, (1, -1))\n",
    "\n",
    "    mask_tensor = torch.tensor(mask_tensor, dtype=torch.float32)\n",
    "    return mask_tensor"
   ]
  },
  {
   "cell_type": "code",
   "execution_count": 45,
   "metadata": {},
   "outputs": [],
   "source": [
    "def check_overlap(mask1, mask2, threshold=0.9):\n",
    "    \"\"\"\n",
    "    Determine if the overlap between two masks covers more than `threshold` of the smaller mask.\n",
    "    \"\"\"\n",
    "    # Calculate IoU using the mask_iou function\n",
    "    iou = mask_iou(mask1, mask2).item()\n",
    "    if iou==0:\n",
    "        return False\n",
    "    \n",
    "    # Calculate the areas of the masks\n",
    "    area1 = mask1.sum().item()\n",
    "    area2 = mask2.sum().item()\n",
    "    \n",
    "    # Determine the smaller mask\n",
    "    smaller_area = min(area1, area2)\n",
    "    \n",
    "    # Calculate the intersection area based on IoU and union\n",
    "    intersection = iou * (area1 + area2) / (1 + iou)\n",
    "    \n",
    "    # Check if the intersection covers more than threshold of the smaller mask\n",
    "    if intersection / smaller_area > threshold:\n",
    "        return True\n",
    "    else:\n",
    "        return False"
   ]
  },
  {
   "cell_type": "code",
   "execution_count": 46,
   "metadata": {},
   "outputs": [],
   "source": [
    "image = mpimg.imread('../data/imaterialist-fashion-2020-fgvc7/train/{}.jpg'.format(tmp.ImageId.unique()[0]))\n",
    "masks = create_separate_masks(tmp['EncodedPixels'], tmp['id'], tmp['Height'].values[0], tmp['Width'].values[0])\n",
    "\n",
    "combinations = list(itertools.combinations(range(len(masks)), 2))\n",
    "\n",
    "pairs = list()\n",
    "\n",
    "# 모든 combination 고려\n",
    "for comb in combinations:\n",
    "    mask1 = masks[comb[0]]\n",
    "    mask2 = masks[comb[1]]\n",
    "    # 비교를 위해 flatten\n",
    "    flat1 = flatten_mask(mask1)\n",
    "    flat2 = flatten_mask(mask2)\n",
    "    # 두 binary mask들 중 작은 mask가 큰 mask와 90% 이상 픽셀을 공유하는지 여부 체크\n",
    "    if check_overlap(flat1, flat2):\n",
    "        # 둘 중 큰 mask를 선별하여 대표 mask로 설정\n",
    "        if mask1.sum() > mask2.sum():\n",
    "            pairs.append([comb[0], comb])\n",
    "        else:\n",
    "            pairs.append([comb[1], comb])"
   ]
  },
  {
   "cell_type": "code",
   "execution_count": 47,
   "metadata": {},
   "outputs": [
    {
     "data": {
      "text/plain": [
       "[[2, (0, 2)],\n",
       " [2, (1, 2)],\n",
       " [2, (2, 3)],\n",
       " [8, (4, 8)],\n",
       " [8, (5, 8)],\n",
       " [8, (6, 8)],\n",
       " [8, (7, 8)],\n",
       " [8, (8, 16)],\n",
       " [9, (9, 10)]]"
      ]
     },
     "execution_count": 47,
     "metadata": {},
     "output_type": "execute_result"
    }
   ],
   "source": [
    "pairs"
   ]
  },
  {
   "cell_type": "code",
   "execution_count": 48,
   "metadata": {},
   "outputs": [
    {
     "name": "stdout",
     "output_type": "stream",
     "text": [
      "셔츠\n"
     ]
    },
    {
     "data": {
      "text/html": [
       "<div>\n",
       "<style scoped>\n",
       "    .dataframe tbody tr th:only-of-type {\n",
       "        vertical-align: middle;\n",
       "    }\n",
       "\n",
       "    .dataframe tbody tr th {\n",
       "        vertical-align: top;\n",
       "    }\n",
       "\n",
       "    .dataframe thead th {\n",
       "        text-align: right;\n",
       "    }\n",
       "</style>\n",
       "<table border=\"1\" class=\"dataframe\">\n",
       "  <thead>\n",
       "    <tr style=\"text-align: right;\">\n",
       "      <th></th>\n",
       "      <th>ImageId</th>\n",
       "      <th>EncodedPixels</th>\n",
       "      <th>Height</th>\n",
       "      <th>Width</th>\n",
       "      <th>ClassId</th>\n",
       "      <th>AttributesIds</th>\n",
       "      <th>id</th>\n",
       "      <th>name</th>\n",
       "      <th>supercategory</th>\n",
       "      <th>AttributesNames</th>\n",
       "    </tr>\n",
       "  </thead>\n",
       "  <tbody>\n",
       "    <tr>\n",
       "      <th>0</th>\n",
       "      <td>2f18aaab685a98876504a0f32d4c1d8e</td>\n",
       "      <td>6918332 12 6923450 27 6928569 31 6933687 35 69...</td>\n",
       "      <td>5120</td>\n",
       "      <td>3184</td>\n",
       "      <td>28</td>\n",
       "      <td>163</td>\n",
       "      <td>28</td>\n",
       "      <td>collar</td>\n",
       "      <td>garment parts</td>\n",
       "      <td>shirt (collar)</td>\n",
       "    </tr>\n",
       "    <tr>\n",
       "      <th>1</th>\n",
       "      <td>2f18aaab685a98876504a0f32d4c1d8e</td>\n",
       "      <td>9008680 2 9013799 6 9018919 6 9024038 7 902915...</td>\n",
       "      <td>5120</td>\n",
       "      <td>3184</td>\n",
       "      <td>31</td>\n",
       "      <td>160</td>\n",
       "      <td>31</td>\n",
       "      <td>sleeve</td>\n",
       "      <td>garment parts</td>\n",
       "      <td>wrist-length</td>\n",
       "    </tr>\n",
       "    <tr>\n",
       "      <th>2</th>\n",
       "      <td>2f18aaab685a98876504a0f32d4c1d8e</td>\n",
       "      <td>4937594 6 4942715 17 4947835 25 4952955 28 495...</td>\n",
       "      <td>5120</td>\n",
       "      <td>3184</td>\n",
       "      <td>0</td>\n",
       "      <td>115,136,145,225,295,316,317</td>\n",
       "      <td>0</td>\n",
       "      <td>shirt, blouse</td>\n",
       "      <td>upperbody</td>\n",
       "      <td>symmetrical, regular (fit), no waistline, sing...</td>\n",
       "    </tr>\n",
       "    <tr>\n",
       "      <th>3</th>\n",
       "      <td>2f18aaab685a98876504a0f32d4c1d8e</td>\n",
       "      <td>4937594 6 4942715 17 4947835 25 4952955 28 495...</td>\n",
       "      <td>5120</td>\n",
       "      <td>3184</td>\n",
       "      <td>31</td>\n",
       "      <td>160</td>\n",
       "      <td>31</td>\n",
       "      <td>sleeve</td>\n",
       "      <td>garment parts</td>\n",
       "      <td>wrist-length</td>\n",
       "    </tr>\n",
       "  </tbody>\n",
       "</table>\n",
       "</div>"
      ],
      "text/plain": [
       "                            ImageId  \\\n",
       "0  2f18aaab685a98876504a0f32d4c1d8e   \n",
       "1  2f18aaab685a98876504a0f32d4c1d8e   \n",
       "2  2f18aaab685a98876504a0f32d4c1d8e   \n",
       "3  2f18aaab685a98876504a0f32d4c1d8e   \n",
       "\n",
       "                                       EncodedPixels  Height  Width  ClassId  \\\n",
       "0  6918332 12 6923450 27 6928569 31 6933687 35 69...    5120   3184       28   \n",
       "1  9008680 2 9013799 6 9018919 6 9024038 7 902915...    5120   3184       31   \n",
       "2  4937594 6 4942715 17 4947835 25 4952955 28 495...    5120   3184        0   \n",
       "3  4937594 6 4942715 17 4947835 25 4952955 28 495...    5120   3184       31   \n",
       "\n",
       "                 AttributesIds  id           name  supercategory  \\\n",
       "0                          163  28         collar  garment parts   \n",
       "1                          160  31         sleeve  garment parts   \n",
       "2  115,136,145,225,295,316,317   0  shirt, blouse      upperbody   \n",
       "3                          160  31         sleeve  garment parts   \n",
       "\n",
       "                                     AttributesNames  \n",
       "0                                     shirt (collar)  \n",
       "1                                       wrist-length  \n",
       "2  symmetrical, regular (fit), no waistline, sing...  \n",
       "3                                       wrist-length  "
      ]
     },
     "execution_count": 48,
     "metadata": {},
     "output_type": "execute_result"
    }
   ],
   "source": [
    "print(\"셔츠\")\n",
    "tmp.loc[[0,1,2,3]]"
   ]
  },
  {
   "cell_type": "code",
   "execution_count": null,
   "metadata": {},
   "outputs": [],
   "source": [
    "print('자켓')\n",
    "tmp.loc[[4,5,6,7,8,16]]"
   ]
  },
  {
   "cell_type": "code",
   "execution_count": null,
   "metadata": {},
   "outputs": [],
   "source": [
    "print('바지')\n",
    "tmp.loc[[9, 10]]"
   ]
  },
  {
   "cell_type": "markdown",
   "metadata": {},
   "source": [
    "- 소매, 주머니와 같은 `하위 항목`의 특징을 하나의 컬럼에 추가"
   ]
  },
  {
   "cell_type": "code",
   "execution_count": null,
   "metadata": {
    "scrolled": true
   },
   "outputs": [],
   "source": [
    "attributes.tail(30)"
   ]
  },
  {
   "cell_type": "code",
   "execution_count": 50,
   "metadata": {},
   "outputs": [],
   "source": [
    "tmp['second_AttributesIds'] = ''"
   ]
  },
  {
   "cell_type": "code",
   "execution_count": 51,
   "metadata": {},
   "outputs": [
    {
     "data": {
      "text/html": [
       "<div>\n",
       "<style scoped>\n",
       "    .dataframe tbody tr th:only-of-type {\n",
       "        vertical-align: middle;\n",
       "    }\n",
       "\n",
       "    .dataframe tbody tr th {\n",
       "        vertical-align: top;\n",
       "    }\n",
       "\n",
       "    .dataframe thead th {\n",
       "        text-align: right;\n",
       "    }\n",
       "</style>\n",
       "<table border=\"1\" class=\"dataframe\">\n",
       "  <thead>\n",
       "    <tr style=\"text-align: right;\">\n",
       "      <th></th>\n",
       "      <th>ImageId</th>\n",
       "      <th>EncodedPixels</th>\n",
       "      <th>Height</th>\n",
       "      <th>Width</th>\n",
       "      <th>ClassId</th>\n",
       "      <th>AttributesIds</th>\n",
       "      <th>id</th>\n",
       "      <th>name</th>\n",
       "      <th>supercategory</th>\n",
       "      <th>AttributesNames</th>\n",
       "      <th>second_AttributesIds</th>\n",
       "    </tr>\n",
       "  </thead>\n",
       "  <tbody>\n",
       "    <tr>\n",
       "      <th>0</th>\n",
       "      <td>2f18aaab685a98876504a0f32d4c1d8e</td>\n",
       "      <td>6918332 12 6923450 27 6928569 31 6933687 35 69...</td>\n",
       "      <td>5120</td>\n",
       "      <td>3184</td>\n",
       "      <td>28</td>\n",
       "      <td>163</td>\n",
       "      <td>28</td>\n",
       "      <td>collar</td>\n",
       "      <td>garment parts</td>\n",
       "      <td>shirt (collar)</td>\n",
       "      <td></td>\n",
       "    </tr>\n",
       "  </tbody>\n",
       "</table>\n",
       "</div>"
      ],
      "text/plain": [
       "                            ImageId  \\\n",
       "0  2f18aaab685a98876504a0f32d4c1d8e   \n",
       "\n",
       "                                       EncodedPixels  Height  Width  ClassId  \\\n",
       "0  6918332 12 6923450 27 6928569 31 6933687 35 69...    5120   3184       28   \n",
       "\n",
       "  AttributesIds  id    name  supercategory AttributesNames  \\\n",
       "0           163  28  collar  garment parts  shirt (collar)   \n",
       "\n",
       "  second_AttributesIds  \n",
       "0                       "
      ]
     },
     "execution_count": 51,
     "metadata": {},
     "output_type": "execute_result"
    }
   ],
   "source": [
    "tmp.head(1)"
   ]
  },
  {
   "cell_type": "code",
   "execution_count": 52,
   "metadata": {},
   "outputs": [
    {
     "data": {
      "text/plain": [
       "[[2, (0, 2)],\n",
       " [2, (1, 2)],\n",
       " [2, (2, 3)],\n",
       " [8, (4, 8)],\n",
       " [8, (5, 8)],\n",
       " [8, (6, 8)],\n",
       " [8, (7, 8)],\n",
       " [8, (8, 16)],\n",
       " [9, (9, 10)]]"
      ]
     },
     "execution_count": 52,
     "metadata": {},
     "output_type": "execute_result"
    }
   ],
   "source": [
    "pairs"
   ]
  },
  {
   "cell_type": "code",
   "execution_count": 55,
   "metadata": {},
   "outputs": [
    {
     "name": "stdout",
     "output_type": "stream",
     "text": [
      "옷 번호 8과 관련된 옷감 :  [(4, 8), (5, 8), (6, 8), (7, 8), (8, 16)]\n",
      "옷 번호 8의 하위 카테고리 :  [4, 5, 6, 7, 16]\n",
      "옷 번호 8의 하위 특징 id :  160,204,174,219\n",
      "--------------------\n",
      "옷 번호 9과 관련된 옷감 :  [(9, 10)]\n",
      "옷 번호 9의 하위 카테고리 :  [10]\n",
      "옷 번호 9의 하위 특징 id :  223\n",
      "--------------------\n",
      "옷 번호 2과 관련된 옷감 :  [(0, 2), (1, 2), (2, 3)]\n",
      "옷 번호 2의 하위 카테고리 :  [0, 1, 3]\n",
      "옷 번호 2의 하위 특징 id :  160,163\n",
      "--------------------\n"
     ]
    }
   ],
   "source": [
    "main_pairs = list(set([i[0] for i in pairs]))\n",
    "\n",
    "for mp in main_pairs:\n",
    "    pair = [i[1] for i in pairs if i[0]==mp]\n",
    "    print(\"옷 번호 {}과 관련된 옷감 : \".format(mp), pair)\n",
    "    flat_pair = list(set([element for tuple_ in pair for element in tuple_]))\n",
    "    sub_category = [i for i in flat_pair if i!=mp]\n",
    "    print(\"옷 번호 {}의 하위 카테고리 : \".format(mp), sub_category)\n",
    "    sub_attributes = tmp.loc[sub_category, 'AttributesIds'].values\n",
    "    sub_attributes = list(set(','.join(sub_attributes).split(',')))\n",
    "    sub_attributes = ','.join(sub_attributes)\n",
    "    print(\"옷 번호 {}의 하위 특징 id : \".format(mp), sub_attributes)\n",
    "    tmp.loc[mp, 'second_AttributesIds'] = sub_attributes\n",
    "\n",
    "    print(\"-\"*20)\n"
   ]
  },
  {
   "cell_type": "code",
   "execution_count": 56,
   "metadata": {},
   "outputs": [
    {
     "data": {
      "text/plain": [
       "[8, 9, 2]"
      ]
     },
     "execution_count": 56,
     "metadata": {},
     "output_type": "execute_result"
    }
   ],
   "source": [
    "main_pairs"
   ]
  },
  {
   "cell_type": "code",
   "execution_count": 57,
   "metadata": {},
   "outputs": [
    {
     "data": {
      "text/plain": [
       "[(0, 2), (1, 2), (2, 3)]"
      ]
     },
     "execution_count": 57,
     "metadata": {},
     "output_type": "execute_result"
    }
   ],
   "source": [
    "pair"
   ]
  },
  {
   "cell_type": "code",
   "execution_count": 58,
   "metadata": {},
   "outputs": [
    {
     "data": {
      "text/plain": [
       "([0, 1, 2, 3], [0, 1, 3])"
      ]
     },
     "execution_count": 58,
     "metadata": {},
     "output_type": "execute_result"
    }
   ],
   "source": [
    "flat_pair, sub_category"
   ]
  },
  {
   "cell_type": "code",
   "execution_count": 59,
   "metadata": {},
   "outputs": [
    {
     "data": {
      "text/plain": [
       "'160,163'"
      ]
     },
     "execution_count": 59,
     "metadata": {},
     "output_type": "execute_result"
    }
   ],
   "source": [
    "sub_attributes"
   ]
  },
  {
   "cell_type": "code",
   "execution_count": 60,
   "metadata": {
    "scrolled": true
   },
   "outputs": [
    {
     "data": {
      "text/html": [
       "<div>\n",
       "<style scoped>\n",
       "    .dataframe tbody tr th:only-of-type {\n",
       "        vertical-align: middle;\n",
       "    }\n",
       "\n",
       "    .dataframe tbody tr th {\n",
       "        vertical-align: top;\n",
       "    }\n",
       "\n",
       "    .dataframe thead th {\n",
       "        text-align: right;\n",
       "    }\n",
       "</style>\n",
       "<table border=\"1\" class=\"dataframe\">\n",
       "  <thead>\n",
       "    <tr style=\"text-align: right;\">\n",
       "      <th></th>\n",
       "      <th>ImageId</th>\n",
       "      <th>EncodedPixels</th>\n",
       "      <th>Height</th>\n",
       "      <th>Width</th>\n",
       "      <th>ClassId</th>\n",
       "      <th>AttributesIds</th>\n",
       "      <th>id</th>\n",
       "      <th>name</th>\n",
       "      <th>supercategory</th>\n",
       "      <th>AttributesNames</th>\n",
       "      <th>second_AttributesIds</th>\n",
       "    </tr>\n",
       "  </thead>\n",
       "  <tbody>\n",
       "    <tr>\n",
       "      <th>0</th>\n",
       "      <td>2f18aaab685a98876504a0f32d4c1d8e</td>\n",
       "      <td>6918332 12 6923450 27 6928569 31 6933687 35 69...</td>\n",
       "      <td>5120</td>\n",
       "      <td>3184</td>\n",
       "      <td>28</td>\n",
       "      <td>163</td>\n",
       "      <td>28</td>\n",
       "      <td>collar</td>\n",
       "      <td>garment parts</td>\n",
       "      <td>shirt (collar)</td>\n",
       "      <td></td>\n",
       "    </tr>\n",
       "    <tr>\n",
       "      <th>1</th>\n",
       "      <td>2f18aaab685a98876504a0f32d4c1d8e</td>\n",
       "      <td>9008680 2 9013799 6 9018919 6 9024038 7 902915...</td>\n",
       "      <td>5120</td>\n",
       "      <td>3184</td>\n",
       "      <td>31</td>\n",
       "      <td>160</td>\n",
       "      <td>31</td>\n",
       "      <td>sleeve</td>\n",
       "      <td>garment parts</td>\n",
       "      <td>wrist-length</td>\n",
       "      <td></td>\n",
       "    </tr>\n",
       "    <tr>\n",
       "      <th>2</th>\n",
       "      <td>2f18aaab685a98876504a0f32d4c1d8e</td>\n",
       "      <td>4937594 6 4942715 17 4947835 25 4952955 28 495...</td>\n",
       "      <td>5120</td>\n",
       "      <td>3184</td>\n",
       "      <td>0</td>\n",
       "      <td>115,136,145,225,295,316,317</td>\n",
       "      <td>0</td>\n",
       "      <td>shirt, blouse</td>\n",
       "      <td>upperbody</td>\n",
       "      <td>symmetrical, regular (fit), no waistline, sing...</td>\n",
       "      <td>160,163</td>\n",
       "    </tr>\n",
       "    <tr>\n",
       "      <th>3</th>\n",
       "      <td>2f18aaab685a98876504a0f32d4c1d8e</td>\n",
       "      <td>4937594 6 4942715 17 4947835 25 4952955 28 495...</td>\n",
       "      <td>5120</td>\n",
       "      <td>3184</td>\n",
       "      <td>31</td>\n",
       "      <td>160</td>\n",
       "      <td>31</td>\n",
       "      <td>sleeve</td>\n",
       "      <td>garment parts</td>\n",
       "      <td>wrist-length</td>\n",
       "      <td></td>\n",
       "    </tr>\n",
       "    <tr>\n",
       "      <th>4</th>\n",
       "      <td>2f18aaab685a98876504a0f32d4c1d8e</td>\n",
       "      <td>6278549 1 6283666 3 6288784 4 6293902 4 629902...</td>\n",
       "      <td>5120</td>\n",
       "      <td>3184</td>\n",
       "      <td>29</td>\n",
       "      <td>174</td>\n",
       "      <td>29</td>\n",
       "      <td>lapel</td>\n",
       "      <td>garment parts</td>\n",
       "      <td>notched (lapel)</td>\n",
       "      <td></td>\n",
       "    </tr>\n",
       "    <tr>\n",
       "      <th>5</th>\n",
       "      <td>2f18aaab685a98876504a0f32d4c1d8e</td>\n",
       "      <td>8895205 3 8900318 10 8905431 17 8910545 23 891...</td>\n",
       "      <td>5120</td>\n",
       "      <td>3184</td>\n",
       "      <td>32</td>\n",
       "      <td>219</td>\n",
       "      <td>32</td>\n",
       "      <td>pocket</td>\n",
       "      <td>garment parts</td>\n",
       "      <td>welt (pocket)</td>\n",
       "      <td></td>\n",
       "    </tr>\n",
       "    <tr>\n",
       "      <th>6</th>\n",
       "      <td>2f18aaab685a98876504a0f32d4c1d8e</td>\n",
       "      <td>9305606 2 9310725 4 9315844 6 9320963 8 932608...</td>\n",
       "      <td>5120</td>\n",
       "      <td>3184</td>\n",
       "      <td>31</td>\n",
       "      <td>160,204</td>\n",
       "      <td>31</td>\n",
       "      <td>sleeve</td>\n",
       "      <td>garment parts</td>\n",
       "      <td>wrist-length, set-in sleeve</td>\n",
       "      <td></td>\n",
       "    </tr>\n",
       "    <tr>\n",
       "      <th>7</th>\n",
       "      <td>2f18aaab685a98876504a0f32d4c1d8e</td>\n",
       "      <td>4937636 9 4942744 27 4947860 36 4952983 39 495...</td>\n",
       "      <td>5120</td>\n",
       "      <td>3184</td>\n",
       "      <td>31</td>\n",
       "      <td>160,204</td>\n",
       "      <td>31</td>\n",
       "      <td>sleeve</td>\n",
       "      <td>garment parts</td>\n",
       "      <td>wrist-length, set-in sleeve</td>\n",
       "      <td></td>\n",
       "    </tr>\n",
       "    <tr>\n",
       "      <th>8</th>\n",
       "      <td>2f18aaab685a98876504a0f32d4c1d8e</td>\n",
       "      <td>4549114 15 4554223 46 4559332 76 4564441 106 4...</td>\n",
       "      <td>5120</td>\n",
       "      <td>3184</td>\n",
       "      <td>4</td>\n",
       "      <td>17,115,136,142,146,225,295,311,317</td>\n",
       "      <td>4</td>\n",
       "      <td>jacket</td>\n",
       "      <td>upperbody</td>\n",
       "      <td>blazer, symmetrical, regular (fit), normal wai...</td>\n",
       "      <td>160,204,174,219</td>\n",
       "    </tr>\n",
       "    <tr>\n",
       "      <th>9</th>\n",
       "      <td>2f18aaab685a98876504a0f32d4c1d8e</td>\n",
       "      <td>4304404 6 4309517 18 4314629 32 4319742 44 432...</td>\n",
       "      <td>5120</td>\n",
       "      <td>3184</td>\n",
       "      <td>6</td>\n",
       "      <td>115,126,136,142,154,230,295,316,317</td>\n",
       "      <td>6</td>\n",
       "      <td>pants</td>\n",
       "      <td>lowerbody</td>\n",
       "      <td>symmetrical, peg, regular (fit), normal waist,...</td>\n",
       "      <td>223</td>\n",
       "    </tr>\n",
       "    <tr>\n",
       "      <th>10</th>\n",
       "      <td>2f18aaab685a98876504a0f32d4c1d8e</td>\n",
       "      <td>7815894 2 7821014 6 7826133 10 7831252 14 7836...</td>\n",
       "      <td>5120</td>\n",
       "      <td>3184</td>\n",
       "      <td>32</td>\n",
       "      <td>223</td>\n",
       "      <td>32</td>\n",
       "      <td>pocket</td>\n",
       "      <td>garment parts</td>\n",
       "      <td>curved (pocket)</td>\n",
       "      <td></td>\n",
       "    </tr>\n",
       "    <tr>\n",
       "      <th>11</th>\n",
       "      <td>2f18aaab685a98876504a0f32d4c1d8e</td>\n",
       "      <td>5957157 3 5962270 11 5967384 17 5972498 24 597...</td>\n",
       "      <td>5120</td>\n",
       "      <td>3184</td>\n",
       "      <td>19</td>\n",
       "      <td>NaN</td>\n",
       "      <td>19</td>\n",
       "      <td>belt</td>\n",
       "      <td>waist</td>\n",
       "      <td>NaN</td>\n",
       "      <td></td>\n",
       "    </tr>\n",
       "    <tr>\n",
       "      <th>12</th>\n",
       "      <td>2f18aaab685a98876504a0f32d4c1d8e</td>\n",
       "      <td>6648448 1 6653565 5 6658683 7 6663800 10 66689...</td>\n",
       "      <td>5120</td>\n",
       "      <td>3184</td>\n",
       "      <td>34</td>\n",
       "      <td>NaN</td>\n",
       "      <td>34</td>\n",
       "      <td>buckle</td>\n",
       "      <td>closures</td>\n",
       "      <td>NaN</td>\n",
       "      <td></td>\n",
       "    </tr>\n",
       "    <tr>\n",
       "      <th>13</th>\n",
       "      <td>2f18aaab685a98876504a0f32d4c1d8e</td>\n",
       "      <td>8773183 4 8778302 10 8783421 12 8788540 14 879...</td>\n",
       "      <td>5120</td>\n",
       "      <td>3184</td>\n",
       "      <td>18</td>\n",
       "      <td>NaN</td>\n",
       "      <td>18</td>\n",
       "      <td>watch</td>\n",
       "      <td>arms and hands</td>\n",
       "      <td>NaN</td>\n",
       "      <td></td>\n",
       "    </tr>\n",
       "    <tr>\n",
       "      <th>14</th>\n",
       "      <td>2f18aaab685a98876504a0f32d4c1d8e</td>\n",
       "      <td>6399899 5 6405015 15 6410131 25 6415248 34 642...</td>\n",
       "      <td>5120</td>\n",
       "      <td>3184</td>\n",
       "      <td>23</td>\n",
       "      <td>NaN</td>\n",
       "      <td>23</td>\n",
       "      <td>shoe</td>\n",
       "      <td>legs and feet</td>\n",
       "      <td>NaN</td>\n",
       "      <td></td>\n",
       "    </tr>\n",
       "    <tr>\n",
       "      <th>15</th>\n",
       "      <td>2f18aaab685a98876504a0f32d4c1d8e</td>\n",
       "      <td>2457241 6 2462358 18 2467474 31 2472591 39 247...</td>\n",
       "      <td>5120</td>\n",
       "      <td>3184</td>\n",
       "      <td>23</td>\n",
       "      <td>NaN</td>\n",
       "      <td>23</td>\n",
       "      <td>shoe</td>\n",
       "      <td>legs and feet</td>\n",
       "      <td>NaN</td>\n",
       "      <td></td>\n",
       "    </tr>\n",
       "    <tr>\n",
       "      <th>16</th>\n",
       "      <td>2f18aaab685a98876504a0f32d4c1d8e</td>\n",
       "      <td>9300482 5 9305592 14 9310703 22 9315813 31 932...</td>\n",
       "      <td>5120</td>\n",
       "      <td>3184</td>\n",
       "      <td>32</td>\n",
       "      <td>219</td>\n",
       "      <td>32</td>\n",
       "      <td>pocket</td>\n",
       "      <td>garment parts</td>\n",
       "      <td>welt (pocket)</td>\n",
       "      <td></td>\n",
       "    </tr>\n",
       "  </tbody>\n",
       "</table>\n",
       "</div>"
      ],
      "text/plain": [
       "                             ImageId  \\\n",
       "0   2f18aaab685a98876504a0f32d4c1d8e   \n",
       "1   2f18aaab685a98876504a0f32d4c1d8e   \n",
       "2   2f18aaab685a98876504a0f32d4c1d8e   \n",
       "3   2f18aaab685a98876504a0f32d4c1d8e   \n",
       "4   2f18aaab685a98876504a0f32d4c1d8e   \n",
       "5   2f18aaab685a98876504a0f32d4c1d8e   \n",
       "6   2f18aaab685a98876504a0f32d4c1d8e   \n",
       "7   2f18aaab685a98876504a0f32d4c1d8e   \n",
       "8   2f18aaab685a98876504a0f32d4c1d8e   \n",
       "9   2f18aaab685a98876504a0f32d4c1d8e   \n",
       "10  2f18aaab685a98876504a0f32d4c1d8e   \n",
       "11  2f18aaab685a98876504a0f32d4c1d8e   \n",
       "12  2f18aaab685a98876504a0f32d4c1d8e   \n",
       "13  2f18aaab685a98876504a0f32d4c1d8e   \n",
       "14  2f18aaab685a98876504a0f32d4c1d8e   \n",
       "15  2f18aaab685a98876504a0f32d4c1d8e   \n",
       "16  2f18aaab685a98876504a0f32d4c1d8e   \n",
       "\n",
       "                                        EncodedPixels  Height  Width  ClassId  \\\n",
       "0   6918332 12 6923450 27 6928569 31 6933687 35 69...    5120   3184       28   \n",
       "1   9008680 2 9013799 6 9018919 6 9024038 7 902915...    5120   3184       31   \n",
       "2   4937594 6 4942715 17 4947835 25 4952955 28 495...    5120   3184        0   \n",
       "3   4937594 6 4942715 17 4947835 25 4952955 28 495...    5120   3184       31   \n",
       "4   6278549 1 6283666 3 6288784 4 6293902 4 629902...    5120   3184       29   \n",
       "5   8895205 3 8900318 10 8905431 17 8910545 23 891...    5120   3184       32   \n",
       "6   9305606 2 9310725 4 9315844 6 9320963 8 932608...    5120   3184       31   \n",
       "7   4937636 9 4942744 27 4947860 36 4952983 39 495...    5120   3184       31   \n",
       "8   4549114 15 4554223 46 4559332 76 4564441 106 4...    5120   3184        4   \n",
       "9   4304404 6 4309517 18 4314629 32 4319742 44 432...    5120   3184        6   \n",
       "10  7815894 2 7821014 6 7826133 10 7831252 14 7836...    5120   3184       32   \n",
       "11  5957157 3 5962270 11 5967384 17 5972498 24 597...    5120   3184       19   \n",
       "12  6648448 1 6653565 5 6658683 7 6663800 10 66689...    5120   3184       34   \n",
       "13  8773183 4 8778302 10 8783421 12 8788540 14 879...    5120   3184       18   \n",
       "14  6399899 5 6405015 15 6410131 25 6415248 34 642...    5120   3184       23   \n",
       "15  2457241 6 2462358 18 2467474 31 2472591 39 247...    5120   3184       23   \n",
       "16  9300482 5 9305592 14 9310703 22 9315813 31 932...    5120   3184       32   \n",
       "\n",
       "                          AttributesIds  id           name   supercategory  \\\n",
       "0                                   163  28         collar   garment parts   \n",
       "1                                   160  31         sleeve   garment parts   \n",
       "2           115,136,145,225,295,316,317   0  shirt, blouse       upperbody   \n",
       "3                                   160  31         sleeve   garment parts   \n",
       "4                                   174  29          lapel   garment parts   \n",
       "5                                   219  32         pocket   garment parts   \n",
       "6                               160,204  31         sleeve   garment parts   \n",
       "7                               160,204  31         sleeve   garment parts   \n",
       "8    17,115,136,142,146,225,295,311,317   4         jacket       upperbody   \n",
       "9   115,126,136,142,154,230,295,316,317   6          pants       lowerbody   \n",
       "10                                  223  32         pocket   garment parts   \n",
       "11                                  NaN  19           belt           waist   \n",
       "12                                  NaN  34         buckle        closures   \n",
       "13                                  NaN  18          watch  arms and hands   \n",
       "14                                  NaN  23           shoe   legs and feet   \n",
       "15                                  NaN  23           shoe   legs and feet   \n",
       "16                                  219  32         pocket   garment parts   \n",
       "\n",
       "                                      AttributesNames second_AttributesIds  \n",
       "0                                      shirt (collar)                       \n",
       "1                                        wrist-length                       \n",
       "2   symmetrical, regular (fit), no waistline, sing...              160,163  \n",
       "3                                        wrist-length                       \n",
       "4                                     notched (lapel)                       \n",
       "5                                       welt (pocket)                       \n",
       "6                         wrist-length, set-in sleeve                       \n",
       "7                         wrist-length, set-in sleeve                       \n",
       "8   blazer, symmetrical, regular (fit), normal wai...      160,204,174,219  \n",
       "9   symmetrical, peg, regular (fit), normal waist,...                  223  \n",
       "10                                    curved (pocket)                       \n",
       "11                                                NaN                       \n",
       "12                                                NaN                       \n",
       "13                                                NaN                       \n",
       "14                                                NaN                       \n",
       "15                                                NaN                       \n",
       "16                                      welt (pocket)                       "
      ]
     },
     "execution_count": 60,
     "metadata": {},
     "output_type": "execute_result"
    }
   ],
   "source": [
    "tmp"
   ]
  },
  {
   "cell_type": "code",
   "execution_count": 61,
   "metadata": {},
   "outputs": [
    {
     "data": {
      "text/plain": [
       "136"
      ]
     },
     "execution_count": 61,
     "metadata": {},
     "output_type": "execute_result"
    }
   ],
   "source": [
    "len(combinations)"
   ]
  },
  {
   "cell_type": "code",
   "execution_count": 62,
   "metadata": {},
   "outputs": [
    {
     "data": {
      "text/plain": [
       "(17, 11)"
      ]
     },
     "execution_count": 62,
     "metadata": {},
     "output_type": "execute_result"
    }
   ],
   "source": [
    "tmp.shape"
   ]
  },
  {
   "cell_type": "markdown",
   "metadata": {},
   "source": [
    "### 전체 데이터 셋에 적용하기"
   ]
  },
  {
   "cell_type": "markdown",
   "metadata": {},
   "source": [
    "- `00.preprocess_annotations.py` 참고\n",
    "- 실행 방법 : `python 00.preprocess_annotations.py` (소요시간 대략 10시간)"
   ]
  },
  {
   "cell_type": "code",
   "execution_count": null,
   "metadata": {},
   "outputs": [],
   "source": [
    "def search_attribute_pairs(tmp_df, image_base_path='../data/imaterialist-fashion-2020-fgvc7/train'):\n",
    "    tmp = tmp_df.reset_index(drop=True).copy()\n",
    "    image = mpimg.imread(os.path.join(image_base_path, tmp.ImageId.unique()[0]+'.jpg'))\n",
    "    # binary mask 생성\n",
    "    masks = create_separate_masks(tmp['EncodedPixels'], tmp['id'], tmp['Height'].values[0], tmp['Width'].values[0])\n",
    "\n",
    "    combinations = list(itertools.combinations(range(len(masks)), 2))\n",
    "\n",
    "    pairs = list()\n",
    "\n",
    "    # 모든 combination 고려\n",
    "    for comb in combinations:\n",
    "        # binary mask 선택\n",
    "        mask1 = masks[comb[0]]\n",
    "        mask2 = masks[comb[1]]\n",
    "        # 비교를 위해 flatten\n",
    "        flat1 = flatten_mask(mask1)\n",
    "        flat2 = flatten_mask(mask2)\n",
    "        # 두 binary mask들 중 작은 mask가 큰 mask와 90% 이상 픽셀을 공유하는지 여부 체크\n",
    "        if check_overlap(flat1, flat2):\n",
    "            # 둘 중 큰 mask를 선별하여 대표 mask로 설정\n",
    "            if mask1.sum() > mask2.sum():\n",
    "                pairs.append([comb[0], comb])\n",
    "            else:\n",
    "                pairs.append([comb[1], comb])\n",
    "    return pairs"
   ]
  },
  {
   "cell_type": "code",
   "execution_count": null,
   "metadata": {},
   "outputs": [],
   "source": [
    "def merge_attribute_pairs(tmp_df, pairs):\n",
    "    tmp = tmp_df.reset_index(drop=True).copy()\n",
    "    # attribute이 없는 경우도 존재하기 때문에, string 값으로 변환\n",
    "    tmp.loc[tmp['AttributesIds'].isna(), 'AttributesIds'] = ''\n",
    "    main_pairs = list(set([i[0] for i in pairs]))\n",
    "\n",
    "    for mp in main_pairs:\n",
    "        # 상위 카테고리가 포함된 pair 선택\n",
    "        pair = [i[1] for i in pairs if i[0]==mp]\n",
    "        # 상위 카테고리를 제외한 다른 id만 선택 == 하위 카테고리\n",
    "        flat_pair = list(set([element for tuple_ in pair for element in tuple_]))\n",
    "        sub_category = [i for i in flat_pair if i!=mp]\n",
    "        # 하위 카테고리들의 attribute를 하나로 병합\n",
    "        sub_attributes = tmp.loc[sub_category, 'AttributesIds'].values\n",
    "        sub_attributes = list(set(','.join(sub_attributes).split(',')))\n",
    "        sub_attributes = ','.join(sub_attributes)\n",
    "        # 상위 카테고리의 second attribute로 저장\n",
    "        tmp.loc[mp, 'second_AttributesIds'] = sub_attributes\n",
    "\n",
    "    return tmp"
   ]
  },
  {
   "cell_type": "code",
   "execution_count": null,
   "metadata": {},
   "outputs": [],
   "source": [
    "# # 전체 데이터를 새로 만들 예정\n",
    "# new_anno = pd.DataFrame()\n",
    "\n",
    "# # 각 이미지 단위로 iterate\n",
    "# for image in tqdm(anno['ImageId'].unique()):\n",
    "#     # 한 이미지 단위 df\n",
    "#     tmp_df = anno.loc[anno['ImageId']==image]\n",
    "#     # pair 찾기\n",
    "#     pairs = search_attribute_pairs(tmp_df)\n",
    "#     if len(pairs)>0:\n",
    "#         # attribute들을 합쳐서 update\n",
    "#         tmp_df = merge_attribute_pairs(tmp_df, pairs)\n",
    "#     # 새로운 df에 추가\n",
    "#     new_anno = pd.concat([new_anno, tmp_df])"
   ]
  },
  {
   "cell_type": "markdown",
   "metadata": {},
   "source": [
    "### read"
   ]
  },
  {
   "cell_type": "code",
   "execution_count": 2,
   "metadata": {},
   "outputs": [],
   "source": [
    "file_path = '../data/imaterialist-fashion-2020-fgvc7/outputs.json'\n",
    "\n",
    "data = []\n",
    "\n",
    "# Open the file for reading\n",
    "with open(file_path, 'r') as file:\n",
    "    for line in file:\n",
    "        # Parse the JSON data from each line\n",
    "        json_line = json.loads(line)\n",
    "        \n",
    "        # Optional: append the parsed JSON data to a list for further processing\n",
    "        data.append(json_line)"
   ]
  },
  {
   "cell_type": "code",
   "execution_count": 3,
   "metadata": {},
   "outputs": [
    {
     "data": {
      "text/html": [
       "<div>\n",
       "<style scoped>\n",
       "    .dataframe tbody tr th:only-of-type {\n",
       "        vertical-align: middle;\n",
       "    }\n",
       "\n",
       "    .dataframe tbody tr th {\n",
       "        vertical-align: top;\n",
       "    }\n",
       "\n",
       "    .dataframe thead th {\n",
       "        text-align: right;\n",
       "    }\n",
       "</style>\n",
       "<table border=\"1\" class=\"dataframe\">\n",
       "  <thead>\n",
       "    <tr style=\"text-align: right;\">\n",
       "      <th></th>\n",
       "      <th>ImageId</th>\n",
       "      <th>EncodedPixels</th>\n",
       "      <th>Height</th>\n",
       "      <th>Width</th>\n",
       "      <th>ClassId</th>\n",
       "      <th>AttributesIds</th>\n",
       "      <th>second_AttributesIds</th>\n",
       "    </tr>\n",
       "  </thead>\n",
       "  <tbody>\n",
       "    <tr>\n",
       "      <th>0</th>\n",
       "      <td>00000663ed1ff0c4e0132b9b9ac53f6e</td>\n",
       "      <td>6068157 7 6073371 20 6078584 34 6083797 48 608...</td>\n",
       "      <td>5214</td>\n",
       "      <td>3676</td>\n",
       "      <td>6</td>\n",
       "      <td>115,136,143,154,230,295,316,317</td>\n",
       "      <td>None</td>\n",
       "    </tr>\n",
       "    <tr>\n",
       "      <th>1</th>\n",
       "      <td>00000663ed1ff0c4e0132b9b9ac53f6e</td>\n",
       "      <td>6323163 11 6328356 32 6333549 53 6338742 75 63...</td>\n",
       "      <td>5214</td>\n",
       "      <td>3676</td>\n",
       "      <td>0</td>\n",
       "      <td>115,136,142,146,225,295,316,317</td>\n",
       "      <td>163</td>\n",
       "    </tr>\n",
       "    <tr>\n",
       "      <th>2</th>\n",
       "      <td>00000663ed1ff0c4e0132b9b9ac53f6e</td>\n",
       "      <td>8521389 10 8526585 30 8531789 42 8537002 46 85...</td>\n",
       "      <td>5214</td>\n",
       "      <td>3676</td>\n",
       "      <td>28</td>\n",
       "      <td>163</td>\n",
       "      <td>None</td>\n",
       "    </tr>\n",
       "    <tr>\n",
       "      <th>3</th>\n",
       "      <td>00000663ed1ff0c4e0132b9b9ac53f6e</td>\n",
       "      <td>12903854 2 12909064 7 12914275 10 12919485 15 ...</td>\n",
       "      <td>5214</td>\n",
       "      <td>3676</td>\n",
       "      <td>31</td>\n",
       "      <td>160,204</td>\n",
       "      <td>None</td>\n",
       "    </tr>\n",
       "    <tr>\n",
       "      <th>4</th>\n",
       "      <td>00000663ed1ff0c4e0132b9b9ac53f6e</td>\n",
       "      <td>10837337 5 10842542 14 10847746 24 10852951 33...</td>\n",
       "      <td>5214</td>\n",
       "      <td>3676</td>\n",
       "      <td>32</td>\n",
       "      <td>219</td>\n",
       "      <td>None</td>\n",
       "    </tr>\n",
       "    <tr>\n",
       "      <th>5</th>\n",
       "      <td>00000663ed1ff0c4e0132b9b9ac53f6e</td>\n",
       "      <td>11464158 10 11469372 30 11474586 43 11479800 4...</td>\n",
       "      <td>5214</td>\n",
       "      <td>3676</td>\n",
       "      <td>32</td>\n",
       "      <td>219</td>\n",
       "      <td>None</td>\n",
       "    </tr>\n",
       "    <tr>\n",
       "      <th>6</th>\n",
       "      <td>00000663ed1ff0c4e0132b9b9ac53f6e</td>\n",
       "      <td>5910568 31 5915775 65 5920982 69 5926189 73 59...</td>\n",
       "      <td>5214</td>\n",
       "      <td>3676</td>\n",
       "      <td>31</td>\n",
       "      <td>160,204</td>\n",
       "      <td>None</td>\n",
       "    </tr>\n",
       "    <tr>\n",
       "      <th>7</th>\n",
       "      <td>00000663ed1ff0c4e0132b9b9ac53f6e</td>\n",
       "      <td>6421446 292 6426657 298 6431867 305 6437078 31...</td>\n",
       "      <td>5214</td>\n",
       "      <td>3676</td>\n",
       "      <td>29</td>\n",
       "      <td>174</td>\n",
       "      <td>None</td>\n",
       "    </tr>\n",
       "    <tr>\n",
       "      <th>8</th>\n",
       "      <td>00000663ed1ff0c4e0132b9b9ac53f6e</td>\n",
       "      <td>4566382 8 4571592 25 4576803 41 4582013 58 458...</td>\n",
       "      <td>5214</td>\n",
       "      <td>3676</td>\n",
       "      <td>4</td>\n",
       "      <td>17,115,136,145,149,225,295,311,317</td>\n",
       "      <td>219,204,160,174</td>\n",
       "    </tr>\n",
       "  </tbody>\n",
       "</table>\n",
       "</div>"
      ],
      "text/plain": [
       "                            ImageId  \\\n",
       "0  00000663ed1ff0c4e0132b9b9ac53f6e   \n",
       "1  00000663ed1ff0c4e0132b9b9ac53f6e   \n",
       "2  00000663ed1ff0c4e0132b9b9ac53f6e   \n",
       "3  00000663ed1ff0c4e0132b9b9ac53f6e   \n",
       "4  00000663ed1ff0c4e0132b9b9ac53f6e   \n",
       "5  00000663ed1ff0c4e0132b9b9ac53f6e   \n",
       "6  00000663ed1ff0c4e0132b9b9ac53f6e   \n",
       "7  00000663ed1ff0c4e0132b9b9ac53f6e   \n",
       "8  00000663ed1ff0c4e0132b9b9ac53f6e   \n",
       "\n",
       "                                       EncodedPixels  Height  Width  ClassId  \\\n",
       "0  6068157 7 6073371 20 6078584 34 6083797 48 608...    5214   3676        6   \n",
       "1  6323163 11 6328356 32 6333549 53 6338742 75 63...    5214   3676        0   \n",
       "2  8521389 10 8526585 30 8531789 42 8537002 46 85...    5214   3676       28   \n",
       "3  12903854 2 12909064 7 12914275 10 12919485 15 ...    5214   3676       31   \n",
       "4  10837337 5 10842542 14 10847746 24 10852951 33...    5214   3676       32   \n",
       "5  11464158 10 11469372 30 11474586 43 11479800 4...    5214   3676       32   \n",
       "6  5910568 31 5915775 65 5920982 69 5926189 73 59...    5214   3676       31   \n",
       "7  6421446 292 6426657 298 6431867 305 6437078 31...    5214   3676       29   \n",
       "8  4566382 8 4571592 25 4576803 41 4582013 58 458...    5214   3676        4   \n",
       "\n",
       "                        AttributesIds second_AttributesIds  \n",
       "0     115,136,143,154,230,295,316,317                 None  \n",
       "1     115,136,142,146,225,295,316,317                  163  \n",
       "2                                 163                 None  \n",
       "3                             160,204                 None  \n",
       "4                                 219                 None  \n",
       "5                                 219                 None  \n",
       "6                             160,204                 None  \n",
       "7                                 174                 None  \n",
       "8  17,115,136,145,149,225,295,311,317      219,204,160,174  "
      ]
     },
     "execution_count": 3,
     "metadata": {},
     "output_type": "execute_result"
    }
   ],
   "source": [
    "pd.DataFrame(data[0])"
   ]
  },
  {
   "cell_type": "code",
   "execution_count": 4,
   "metadata": {},
   "outputs": [
    {
     "data": {
      "text/html": [
       "<div>\n",
       "<style scoped>\n",
       "    .dataframe tbody tr th:only-of-type {\n",
       "        vertical-align: middle;\n",
       "    }\n",
       "\n",
       "    .dataframe tbody tr th {\n",
       "        vertical-align: top;\n",
       "    }\n",
       "\n",
       "    .dataframe thead th {\n",
       "        text-align: right;\n",
       "    }\n",
       "</style>\n",
       "<table border=\"1\" class=\"dataframe\">\n",
       "  <thead>\n",
       "    <tr style=\"text-align: right;\">\n",
       "      <th></th>\n",
       "      <th>ImageId</th>\n",
       "      <th>EncodedPixels</th>\n",
       "      <th>Height</th>\n",
       "      <th>Width</th>\n",
       "      <th>ClassId</th>\n",
       "      <th>AttributesIds</th>\n",
       "      <th>second_AttributesIds</th>\n",
       "    </tr>\n",
       "  </thead>\n",
       "  <tbody>\n",
       "    <tr>\n",
       "      <th>0</th>\n",
       "      <td>0000fe7c9191fba733c8a69cfaf962b7</td>\n",
       "      <td>2201176 1 2203623 3 2206071 5 2208518 8 221096...</td>\n",
       "      <td>2448</td>\n",
       "      <td>2448</td>\n",
       "      <td>33</td>\n",
       "      <td>190</td>\n",
       "      <td>None</td>\n",
       "    </tr>\n",
       "    <tr>\n",
       "      <th>1</th>\n",
       "      <td>0000fe7c9191fba733c8a69cfaf962b7</td>\n",
       "      <td>1343707 9 1346138 27 1348569 44 1351000 62 135...</td>\n",
       "      <td>2448</td>\n",
       "      <td>2448</td>\n",
       "      <td>1</td>\n",
       "      <td>0,115,145,146,295,316,317</td>\n",
       "      <td>190</td>\n",
       "    </tr>\n",
       "  </tbody>\n",
       "</table>\n",
       "</div>"
      ],
      "text/plain": [
       "                            ImageId  \\\n",
       "0  0000fe7c9191fba733c8a69cfaf962b7   \n",
       "1  0000fe7c9191fba733c8a69cfaf962b7   \n",
       "\n",
       "                                       EncodedPixels  Height  Width  ClassId  \\\n",
       "0  2201176 1 2203623 3 2206071 5 2208518 8 221096...    2448   2448       33   \n",
       "1  1343707 9 1346138 27 1348569 44 1351000 62 135...    2448   2448        1   \n",
       "\n",
       "               AttributesIds second_AttributesIds  \n",
       "0                        190                 None  \n",
       "1  0,115,145,146,295,316,317                  190  "
      ]
     },
     "execution_count": 4,
     "metadata": {},
     "output_type": "execute_result"
    }
   ],
   "source": [
    "pd.DataFrame(data[1])"
   ]
  },
  {
   "cell_type": "code",
   "execution_count": null,
   "metadata": {},
   "outputs": [],
   "source": []
  },
  {
   "cell_type": "code",
   "execution_count": 5,
   "metadata": {},
   "outputs": [],
   "source": [
    "data = [pd.DataFrame(data[i]) for i in range(len(data))]"
   ]
  },
  {
   "cell_type": "code",
   "execution_count": 6,
   "metadata": {},
   "outputs": [],
   "source": [
    "anno = pd.concat(data, axis=0)"
   ]
  },
  {
   "cell_type": "code",
   "execution_count": 7,
   "metadata": {},
   "outputs": [
    {
     "data": {
      "text/html": [
       "<div>\n",
       "<style scoped>\n",
       "    .dataframe tbody tr th:only-of-type {\n",
       "        vertical-align: middle;\n",
       "    }\n",
       "\n",
       "    .dataframe tbody tr th {\n",
       "        vertical-align: top;\n",
       "    }\n",
       "\n",
       "    .dataframe thead th {\n",
       "        text-align: right;\n",
       "    }\n",
       "</style>\n",
       "<table border=\"1\" class=\"dataframe\">\n",
       "  <thead>\n",
       "    <tr style=\"text-align: right;\">\n",
       "      <th></th>\n",
       "      <th>ImageId</th>\n",
       "      <th>EncodedPixels</th>\n",
       "      <th>Height</th>\n",
       "      <th>Width</th>\n",
       "      <th>ClassId</th>\n",
       "      <th>AttributesIds</th>\n",
       "      <th>second_AttributesIds</th>\n",
       "    </tr>\n",
       "  </thead>\n",
       "  <tbody>\n",
       "    <tr>\n",
       "      <th>0</th>\n",
       "      <td>00000663ed1ff0c4e0132b9b9ac53f6e</td>\n",
       "      <td>6068157 7 6073371 20 6078584 34 6083797 48 608...</td>\n",
       "      <td>5214</td>\n",
       "      <td>3676</td>\n",
       "      <td>6</td>\n",
       "      <td>115,136,143,154,230,295,316,317</td>\n",
       "      <td>None</td>\n",
       "    </tr>\n",
       "    <tr>\n",
       "      <th>1</th>\n",
       "      <td>00000663ed1ff0c4e0132b9b9ac53f6e</td>\n",
       "      <td>6323163 11 6328356 32 6333549 53 6338742 75 63...</td>\n",
       "      <td>5214</td>\n",
       "      <td>3676</td>\n",
       "      <td>0</td>\n",
       "      <td>115,136,142,146,225,295,316,317</td>\n",
       "      <td>163</td>\n",
       "    </tr>\n",
       "    <tr>\n",
       "      <th>2</th>\n",
       "      <td>00000663ed1ff0c4e0132b9b9ac53f6e</td>\n",
       "      <td>8521389 10 8526585 30 8531789 42 8537002 46 85...</td>\n",
       "      <td>5214</td>\n",
       "      <td>3676</td>\n",
       "      <td>28</td>\n",
       "      <td>163</td>\n",
       "      <td>None</td>\n",
       "    </tr>\n",
       "    <tr>\n",
       "      <th>3</th>\n",
       "      <td>00000663ed1ff0c4e0132b9b9ac53f6e</td>\n",
       "      <td>12903854 2 12909064 7 12914275 10 12919485 15 ...</td>\n",
       "      <td>5214</td>\n",
       "      <td>3676</td>\n",
       "      <td>31</td>\n",
       "      <td>160,204</td>\n",
       "      <td>None</td>\n",
       "    </tr>\n",
       "    <tr>\n",
       "      <th>4</th>\n",
       "      <td>00000663ed1ff0c4e0132b9b9ac53f6e</td>\n",
       "      <td>10837337 5 10842542 14 10847746 24 10852951 33...</td>\n",
       "      <td>5214</td>\n",
       "      <td>3676</td>\n",
       "      <td>32</td>\n",
       "      <td>219</td>\n",
       "      <td>None</td>\n",
       "    </tr>\n",
       "  </tbody>\n",
       "</table>\n",
       "</div>"
      ],
      "text/plain": [
       "                            ImageId  \\\n",
       "0  00000663ed1ff0c4e0132b9b9ac53f6e   \n",
       "1  00000663ed1ff0c4e0132b9b9ac53f6e   \n",
       "2  00000663ed1ff0c4e0132b9b9ac53f6e   \n",
       "3  00000663ed1ff0c4e0132b9b9ac53f6e   \n",
       "4  00000663ed1ff0c4e0132b9b9ac53f6e   \n",
       "\n",
       "                                       EncodedPixels  Height  Width  ClassId  \\\n",
       "0  6068157 7 6073371 20 6078584 34 6083797 48 608...    5214   3676        6   \n",
       "1  6323163 11 6328356 32 6333549 53 6338742 75 63...    5214   3676        0   \n",
       "2  8521389 10 8526585 30 8531789 42 8537002 46 85...    5214   3676       28   \n",
       "3  12903854 2 12909064 7 12914275 10 12919485 15 ...    5214   3676       31   \n",
       "4  10837337 5 10842542 14 10847746 24 10852951 33...    5214   3676       32   \n",
       "\n",
       "                     AttributesIds second_AttributesIds  \n",
       "0  115,136,143,154,230,295,316,317                 None  \n",
       "1  115,136,142,146,225,295,316,317                  163  \n",
       "2                              163                 None  \n",
       "3                          160,204                 None  \n",
       "4                              219                 None  "
      ]
     },
     "execution_count": 7,
     "metadata": {},
     "output_type": "execute_result"
    }
   ],
   "source": [
    "anno.head()"
   ]
  },
  {
   "cell_type": "code",
   "execution_count": 8,
   "metadata": {},
   "outputs": [
    {
     "data": {
      "text/plain": [
       "(200047, 7)"
      ]
     },
     "execution_count": 8,
     "metadata": {},
     "output_type": "execute_result"
    }
   ],
   "source": [
    "anno.shape"
   ]
  },
  {
   "cell_type": "markdown",
   "metadata": {},
   "source": [
    "## 4. 이미지 cropping을 위한 전처리\n",
    "- 효율적인 search를 위한 데이터 정규화\n",
    "#### : Bounding box를 생성하고, 이미지를 crop하여 개별 저장"
   ]
  },
  {
   "cell_type": "markdown",
   "metadata": {},
   "source": [
    "- 이때, 소매나 주머니 같은 하위 카테고리는 제거 (이미 관련 attribute을 상위카테고리의 second-attribute에 저장)"
   ]
  },
  {
   "cell_type": "code",
   "execution_count": 9,
   "metadata": {},
   "outputs": [],
   "source": [
    "## 27번 이후는 옷의 파츠들에 대한 카테고리 \n",
    "## 해당 카테고리는 불필요\n",
    "anno = anno.loc[anno['ClassId']<27]"
   ]
  },
  {
   "cell_type": "code",
   "execution_count": 10,
   "metadata": {},
   "outputs": [
    {
     "data": {
      "text/html": [
       "<div>\n",
       "<style scoped>\n",
       "    .dataframe tbody tr th:only-of-type {\n",
       "        vertical-align: middle;\n",
       "    }\n",
       "\n",
       "    .dataframe tbody tr th {\n",
       "        vertical-align: top;\n",
       "    }\n",
       "\n",
       "    .dataframe thead th {\n",
       "        text-align: right;\n",
       "    }\n",
       "</style>\n",
       "<table border=\"1\" class=\"dataframe\">\n",
       "  <thead>\n",
       "    <tr style=\"text-align: right;\">\n",
       "      <th></th>\n",
       "      <th>ImageId</th>\n",
       "      <th>EncodedPixels</th>\n",
       "      <th>Height</th>\n",
       "      <th>Width</th>\n",
       "      <th>ClassId</th>\n",
       "      <th>AttributesIds</th>\n",
       "      <th>second_AttributesIds</th>\n",
       "    </tr>\n",
       "  </thead>\n",
       "  <tbody>\n",
       "    <tr>\n",
       "      <th>0</th>\n",
       "      <td>00000663ed1ff0c4e0132b9b9ac53f6e</td>\n",
       "      <td>6068157 7 6073371 20 6078584 34 6083797 48 608...</td>\n",
       "      <td>5214</td>\n",
       "      <td>3676</td>\n",
       "      <td>6</td>\n",
       "      <td>115,136,143,154,230,295,316,317</td>\n",
       "      <td>None</td>\n",
       "    </tr>\n",
       "    <tr>\n",
       "      <th>1</th>\n",
       "      <td>00000663ed1ff0c4e0132b9b9ac53f6e</td>\n",
       "      <td>6323163 11 6328356 32 6333549 53 6338742 75 63...</td>\n",
       "      <td>5214</td>\n",
       "      <td>3676</td>\n",
       "      <td>0</td>\n",
       "      <td>115,136,142,146,225,295,316,317</td>\n",
       "      <td>163</td>\n",
       "    </tr>\n",
       "    <tr>\n",
       "      <th>8</th>\n",
       "      <td>00000663ed1ff0c4e0132b9b9ac53f6e</td>\n",
       "      <td>4566382 8 4571592 25 4576803 41 4582013 58 458...</td>\n",
       "      <td>5214</td>\n",
       "      <td>3676</td>\n",
       "      <td>4</td>\n",
       "      <td>17,115,136,145,149,225,295,311,317</td>\n",
       "      <td>219,204,160,174</td>\n",
       "    </tr>\n",
       "    <tr>\n",
       "      <th>1</th>\n",
       "      <td>0000fe7c9191fba733c8a69cfaf962b7</td>\n",
       "      <td>1343707 9 1346138 27 1348569 44 1351000 62 135...</td>\n",
       "      <td>2448</td>\n",
       "      <td>2448</td>\n",
       "      <td>1</td>\n",
       "      <td>0,115,145,146,295,316,317</td>\n",
       "      <td>190</td>\n",
       "    </tr>\n",
       "    <tr>\n",
       "      <th>1</th>\n",
       "      <td>0002ec21ddb8477e98b2cbb87ea2e269</td>\n",
       "      <td>2287509 4 2290504 12 2290588 26 2293501 18 229...</td>\n",
       "      <td>3000</td>\n",
       "      <td>1997</td>\n",
       "      <td>10</td>\n",
       "      <td>102,128,142,150,229,295,301,318</td>\n",
       "      <td>182</td>\n",
       "    </tr>\n",
       "  </tbody>\n",
       "</table>\n",
       "</div>"
      ],
      "text/plain": [
       "                            ImageId  \\\n",
       "0  00000663ed1ff0c4e0132b9b9ac53f6e   \n",
       "1  00000663ed1ff0c4e0132b9b9ac53f6e   \n",
       "8  00000663ed1ff0c4e0132b9b9ac53f6e   \n",
       "1  0000fe7c9191fba733c8a69cfaf962b7   \n",
       "1  0002ec21ddb8477e98b2cbb87ea2e269   \n",
       "\n",
       "                                       EncodedPixels  Height  Width  ClassId  \\\n",
       "0  6068157 7 6073371 20 6078584 34 6083797 48 608...    5214   3676        6   \n",
       "1  6323163 11 6328356 32 6333549 53 6338742 75 63...    5214   3676        0   \n",
       "8  4566382 8 4571592 25 4576803 41 4582013 58 458...    5214   3676        4   \n",
       "1  1343707 9 1346138 27 1348569 44 1351000 62 135...    2448   2448        1   \n",
       "1  2287509 4 2290504 12 2290588 26 2293501 18 229...    3000   1997       10   \n",
       "\n",
       "                        AttributesIds second_AttributesIds  \n",
       "0     115,136,143,154,230,295,316,317                 None  \n",
       "1     115,136,142,146,225,295,316,317                  163  \n",
       "8  17,115,136,145,149,225,295,311,317      219,204,160,174  \n",
       "1           0,115,145,146,295,316,317                  190  \n",
       "1     102,128,142,150,229,295,301,318                  182  "
      ]
     },
     "execution_count": 10,
     "metadata": {},
     "output_type": "execute_result"
    }
   ],
   "source": [
    "anno.head()"
   ]
  },
  {
   "cell_type": "code",
   "execution_count": 11,
   "metadata": {},
   "outputs": [
    {
     "data": {
      "text/plain": [
       "(97924, 7)"
      ]
     },
     "execution_count": 11,
     "metadata": {},
     "output_type": "execute_result"
    }
   ],
   "source": [
    "anno.shape"
   ]
  },
  {
   "cell_type": "markdown",
   "metadata": {},
   "source": [
    "##### cropping 방법\n",
    "\n",
    "1. mask\n",
    "2. bbox"
   ]
  },
  {
   "cell_type": "markdown",
   "metadata": {},
   "source": [
    "- 왜 bbox?\n",
    "    - 주변 context까지 참고 할 수 있도록 이미지 crop"
   ]
  },
  {
   "cell_type": "code",
   "execution_count": null,
   "metadata": {},
   "outputs": [],
   "source": [
    "tmp = anno.loc[anno['ImageId']=='2f18aaab685a98876504a0f32d4c1d8e']\n",
    "\n",
    "masks = create_separate_masks(tmp['EncodedPixels'], tmp['ClassId'], tmp['Height'].values[0], tmp['Width'].values[0])\n",
    "\n",
    "# show_image_with_mask('../data/imaterialist-fashion-2020-fgvc7/train/2f18aaab685a98876504a0f32d4c1d8e.jpg', masks[2])"
   ]
  },
  {
   "cell_type": "code",
   "execution_count": 17,
   "metadata": {},
   "outputs": [],
   "source": [
    "def find_bounding_box(mask):\n",
    "    \"\"\"\n",
    "    Find the bounding box of non-zero pixels in a mask.\n",
    "    \n",
    "    :param mask: The binary mask.\n",
    "    :return: A tuple (x_min, y_min, x_max, y_max) representing the bounding box.\n",
    "    \"\"\"\n",
    "    rows = np.any(mask, axis=1)\n",
    "    cols = np.any(mask, axis=0)\n",
    "    y_min, y_max = np.where(rows)[0][[0, -1]]\n",
    "    x_min, x_max = np.where(cols)[0][[0, -1]]\n",
    "    \n",
    "    return x_min, y_min, x_max, y_max"
   ]
  },
  {
   "cell_type": "markdown",
   "metadata": {},
   "source": [
    "- 약 30분 소요"
   ]
  },
  {
   "cell_type": "code",
   "execution_count": 29,
   "metadata": {},
   "outputs": [
    {
     "data": {
      "application/vnd.jupyter.widget-view+json": {
       "model_id": "c086b3e8343b49e7b6bd4408ec55b1ac",
       "version_major": 2,
       "version_minor": 0
      },
      "text/plain": [
       "  0%|          | 0/27375 [00:00<?, ?it/s]"
      ]
     },
     "metadata": {},
     "output_type": "display_data"
    }
   ],
   "source": [
    "bboxes = list()\n",
    "\n",
    "for i in tqdm(anno.ImageId.unique()):\n",
    "    tmp = anno.loc[anno['ImageId']==i]\n",
    "    masks = create_separate_masks(tmp['EncodedPixels'], tmp['ClassId'], tmp['Height'].values[0], tmp['Width'].values[0])\n",
    "    bbox = [find_bounding_box(i) for i in masks]\n",
    "    bboxes.extend(bbox)\n",
    "    # break\n",
    "\n",
    "anno.reset_index(drop=True, inplace=True)"
   ]
  },
  {
   "cell_type": "code",
   "execution_count": 19,
   "metadata": {},
   "outputs": [
    {
     "data": {
      "text/plain": [
       "'00000663ed1ff0c4e0132b9b9ac53f6e'"
      ]
     },
     "execution_count": 19,
     "metadata": {},
     "output_type": "execute_result"
    }
   ],
   "source": [
    "i"
   ]
  },
  {
   "cell_type": "code",
   "execution_count": 32,
   "metadata": {},
   "outputs": [
    {
     "data": {
      "text/html": [
       "<div>\n",
       "<style scoped>\n",
       "    .dataframe tbody tr th:only-of-type {\n",
       "        vertical-align: middle;\n",
       "    }\n",
       "\n",
       "    .dataframe tbody tr th {\n",
       "        vertical-align: top;\n",
       "    }\n",
       "\n",
       "    .dataframe thead th {\n",
       "        text-align: right;\n",
       "    }\n",
       "</style>\n",
       "<table border=\"1\" class=\"dataframe\">\n",
       "  <thead>\n",
       "    <tr style=\"text-align: right;\">\n",
       "      <th></th>\n",
       "      <th>ImageId</th>\n",
       "      <th>EncodedPixels</th>\n",
       "      <th>Height</th>\n",
       "      <th>Width</th>\n",
       "      <th>ClassId</th>\n",
       "      <th>AttributesIds</th>\n",
       "      <th>second_AttributesIds</th>\n",
       "    </tr>\n",
       "  </thead>\n",
       "  <tbody>\n",
       "    <tr>\n",
       "      <th>97923</th>\n",
       "      <td>ffffbf7014a9e408bfbb81a75bc70638</td>\n",
       "      <td>63365 36 63852 77 64343 85 64838 89 65332 94 6...</td>\n",
       "      <td>500</td>\n",
       "      <td>375</td>\n",
       "      <td>10</td>\n",
       "      <td>102,128,142,150,295,308,317</td>\n",
       "      <td>,157</td>\n",
       "    </tr>\n",
       "  </tbody>\n",
       "</table>\n",
       "</div>"
      ],
      "text/plain": [
       "                                ImageId  \\\n",
       "97923  ffffbf7014a9e408bfbb81a75bc70638   \n",
       "\n",
       "                                           EncodedPixels  Height  Width  \\\n",
       "97923  63365 36 63852 77 64343 85 64838 89 65332 94 6...     500    375   \n",
       "\n",
       "       ClassId                AttributesIds second_AttributesIds  \n",
       "97923       10  102,128,142,150,295,308,317                 ,157  "
      ]
     },
     "execution_count": 32,
     "metadata": {},
     "output_type": "execute_result"
    }
   ],
   "source": [
    "tmp"
   ]
  },
  {
   "cell_type": "code",
   "execution_count": 39,
   "metadata": {},
   "outputs": [],
   "source": [
    "anno['bbox'] = bboxes  # bbox 컬럼 추가\n",
    "anno['bbox'] = anno['bbox'].apply(lambda x: str(x))  # bbox를 문자열로 변환\n",
    "anno.to_csv(\"../data/imaterialist-fashion-2020-fgvc7/clothes_final.csv\", index=False)"
   ]
  },
  {
   "cell_type": "code",
   "execution_count": 63,
   "metadata": {},
   "outputs": [],
   "source": [
    "# 위 function이 오래 걸리기 때문에,\n",
    "# 시간 관계상 미리 만들어 놓은 data frame 활용\n",
    "\n",
    "def listify(string, encap_type=\"()\"):\n",
    "    return [int(num) for num in string.strip(encap_type).split(', ')]\n",
    "\n",
    "anno = pd.read_csv(\"../data/imaterialist-fashion-2020-fgvc7/clothes_final.csv\")\n",
    "\n",
    "# 처음 읽을 때, pandas dataframe에서 list가 아닌 string 값으로 인식하기 때문에 변환 필요\n",
    "anno['bbox'] = [listify(i) for i in anno['bbox']]\n",
    "# anno['bbox_big'] = [listify(i) for i in anno['bbox_big']]"
   ]
  },
  {
   "cell_type": "code",
   "execution_count": 64,
   "metadata": {},
   "outputs": [
    {
     "data": {
      "text/html": [
       "<div>\n",
       "<style scoped>\n",
       "    .dataframe tbody tr th:only-of-type {\n",
       "        vertical-align: middle;\n",
       "    }\n",
       "\n",
       "    .dataframe tbody tr th {\n",
       "        vertical-align: top;\n",
       "    }\n",
       "\n",
       "    .dataframe thead th {\n",
       "        text-align: right;\n",
       "    }\n",
       "</style>\n",
       "<table border=\"1\" class=\"dataframe\">\n",
       "  <thead>\n",
       "    <tr style=\"text-align: right;\">\n",
       "      <th></th>\n",
       "      <th>ImageId</th>\n",
       "      <th>EncodedPixels</th>\n",
       "      <th>Height</th>\n",
       "      <th>Width</th>\n",
       "      <th>ClassId</th>\n",
       "      <th>AttributesIds</th>\n",
       "      <th>second_AttributesIds</th>\n",
       "      <th>bbox</th>\n",
       "    </tr>\n",
       "  </thead>\n",
       "  <tbody>\n",
       "    <tr>\n",
       "      <th>0</th>\n",
       "      <td>00000663ed1ff0c4e0132b9b9ac53f6e</td>\n",
       "      <td>6068157 7 6073371 20 6078584 34 6083797 48 608...</td>\n",
       "      <td>5214</td>\n",
       "      <td>3676</td>\n",
       "      <td>6</td>\n",
       "      <td>115,136,143,154,230,295,316,317</td>\n",
       "      <td>NaN</td>\n",
       "      <td>[1163, 3923, 2839, 5212]</td>\n",
       "    </tr>\n",
       "    <tr>\n",
       "      <th>1</th>\n",
       "      <td>00000663ed1ff0c4e0132b9b9ac53f6e</td>\n",
       "      <td>6323163 11 6328356 32 6333549 53 6338742 75 63...</td>\n",
       "      <td>5214</td>\n",
       "      <td>3676</td>\n",
       "      <td>0</td>\n",
       "      <td>115,136,142,146,225,295,316,317</td>\n",
       "      <td>163</td>\n",
       "      <td>[1212, 1371, 2394, 3978]</td>\n",
       "    </tr>\n",
       "  </tbody>\n",
       "</table>\n",
       "</div>"
      ],
      "text/plain": [
       "                            ImageId  \\\n",
       "0  00000663ed1ff0c4e0132b9b9ac53f6e   \n",
       "1  00000663ed1ff0c4e0132b9b9ac53f6e   \n",
       "\n",
       "                                       EncodedPixels  Height  Width  ClassId  \\\n",
       "0  6068157 7 6073371 20 6078584 34 6083797 48 608...    5214   3676        6   \n",
       "1  6323163 11 6328356 32 6333549 53 6338742 75 63...    5214   3676        0   \n",
       "\n",
       "                     AttributesIds second_AttributesIds  \\\n",
       "0  115,136,143,154,230,295,316,317                  NaN   \n",
       "1  115,136,142,146,225,295,316,317                  163   \n",
       "\n",
       "                       bbox  \n",
       "0  [1163, 3923, 2839, 5212]  \n",
       "1  [1212, 1371, 2394, 3978]  "
      ]
     },
     "execution_count": 64,
     "metadata": {},
     "output_type": "execute_result"
    }
   ],
   "source": [
    "anno.head(2)"
   ]
  },
  {
   "cell_type": "code",
   "execution_count": 65,
   "metadata": {},
   "outputs": [],
   "source": [
    "def enlarge_bounding_box(bbox, img_shape, scale=0.05):\n",
    "    x_min, y_min, x_max, y_max = bbox\n",
    "    width = x_max - x_min\n",
    "    height = y_max - y_min\n",
    "    \n",
    "    # Calculate enlargement\n",
    "    enlarge_width = width * scale\n",
    "    enlarge_height = height * scale\n",
    "    \n",
    "    # Apply enlargement\n",
    "    x_min = max(0, x_min - enlarge_width // 2)\n",
    "    y_min = max(0, y_min - enlarge_height // 2)\n",
    "    x_max = min(img_shape[1], x_max + enlarge_width // 2)\n",
    "    y_max = min(img_shape[0], y_max + enlarge_height // 2)\n",
    "    \n",
    "    return int(x_min), int(y_min), int(x_max), int(y_max)"
   ]
  },
  {
   "cell_type": "code",
   "execution_count": 66,
   "metadata": {},
   "outputs": [],
   "source": [
    "bigger_bboxes = [enlarge_bounding_box(box, [h, w]) for box, h, w in zip(anno['bbox'], anno['Height'], anno['Width'])]"
   ]
  },
  {
   "cell_type": "code",
   "execution_count": 67,
   "metadata": {},
   "outputs": [],
   "source": [
    "anno['bbox_big'] = bigger_bboxes"
   ]
  },
  {
   "cell_type": "markdown",
   "metadata": {},
   "source": [
    "bbox가 알맞게 만들어졌는지 테스트"
   ]
  },
  {
   "cell_type": "code",
   "execution_count": 68,
   "metadata": {},
   "outputs": [],
   "source": [
    "def draw_bounding_box(image, bbox, color=(0, 255, 0), thickness=20):\n",
    "    image = cv2.cvtColor(image, cv2.COLOR_BGR2RGB)\n",
    "    \n",
    "    # Draw the rectangle on the image\n",
    "    cv2.rectangle(image, (bbox[0], bbox[1]), (bbox[2], bbox[3]), color[::-1], thickness)  # Convert color to RGB\n",
    "    \n",
    "    # Display the image\n",
    "    plt.imshow(image)\n",
    "    plt.axis('off')  # Hide the axis"
   ]
  },
  {
   "cell_type": "code",
   "execution_count": 69,
   "metadata": {},
   "outputs": [
    {
     "data": {
      "text/html": [
       "<div>\n",
       "<style scoped>\n",
       "    .dataframe tbody tr th:only-of-type {\n",
       "        vertical-align: middle;\n",
       "    }\n",
       "\n",
       "    .dataframe tbody tr th {\n",
       "        vertical-align: top;\n",
       "    }\n",
       "\n",
       "    .dataframe thead th {\n",
       "        text-align: right;\n",
       "    }\n",
       "</style>\n",
       "<table border=\"1\" class=\"dataframe\">\n",
       "  <thead>\n",
       "    <tr style=\"text-align: right;\">\n",
       "      <th></th>\n",
       "      <th>ImageId</th>\n",
       "      <th>EncodedPixels</th>\n",
       "      <th>Height</th>\n",
       "      <th>Width</th>\n",
       "      <th>ClassId</th>\n",
       "      <th>AttributesIds</th>\n",
       "      <th>second_AttributesIds</th>\n",
       "      <th>bbox</th>\n",
       "      <th>bbox_big</th>\n",
       "    </tr>\n",
       "  </thead>\n",
       "  <tbody>\n",
       "    <tr>\n",
       "      <th>0</th>\n",
       "      <td>00000663ed1ff0c4e0132b9b9ac53f6e</td>\n",
       "      <td>6068157 7 6073371 20 6078584 34 6083797 48 608...</td>\n",
       "      <td>5214</td>\n",
       "      <td>3676</td>\n",
       "      <td>6</td>\n",
       "      <td>115,136,143,154,230,295,316,317</td>\n",
       "      <td>NaN</td>\n",
       "      <td>[1163, 3923, 2839, 5212]</td>\n",
       "      <td>(1122, 3891, 2880, 5214)</td>\n",
       "    </tr>\n",
       "    <tr>\n",
       "      <th>1</th>\n",
       "      <td>00000663ed1ff0c4e0132b9b9ac53f6e</td>\n",
       "      <td>6323163 11 6328356 32 6333549 53 6338742 75 63...</td>\n",
       "      <td>5214</td>\n",
       "      <td>3676</td>\n",
       "      <td>0</td>\n",
       "      <td>115,136,142,146,225,295,316,317</td>\n",
       "      <td>163</td>\n",
       "      <td>[1212, 1371, 2394, 3978]</td>\n",
       "      <td>(1183, 1306, 2423, 4043)</td>\n",
       "    </tr>\n",
       "  </tbody>\n",
       "</table>\n",
       "</div>"
      ],
      "text/plain": [
       "                            ImageId  \\\n",
       "0  00000663ed1ff0c4e0132b9b9ac53f6e   \n",
       "1  00000663ed1ff0c4e0132b9b9ac53f6e   \n",
       "\n",
       "                                       EncodedPixels  Height  Width  ClassId  \\\n",
       "0  6068157 7 6073371 20 6078584 34 6083797 48 608...    5214   3676        6   \n",
       "1  6323163 11 6328356 32 6333549 53 6338742 75 63...    5214   3676        0   \n",
       "\n",
       "                     AttributesIds second_AttributesIds  \\\n",
       "0  115,136,143,154,230,295,316,317                  NaN   \n",
       "1  115,136,142,146,225,295,316,317                  163   \n",
       "\n",
       "                       bbox                  bbox_big  \n",
       "0  [1163, 3923, 2839, 5212]  (1122, 3891, 2880, 5214)  \n",
       "1  [1212, 1371, 2394, 3978]  (1183, 1306, 2423, 4043)  "
      ]
     },
     "execution_count": 69,
     "metadata": {},
     "output_type": "execute_result"
    }
   ],
   "source": [
    "anno.head(2)"
   ]
  },
  {
   "cell_type": "code",
   "execution_count": 70,
   "metadata": {},
   "outputs": [],
   "source": [
    "tmp = anno.loc[anno['ImageId']==\"00000663ed1ff0c4e0132b9b9ac53f6e\"]"
   ]
  },
  {
   "cell_type": "code",
   "execution_count": 71,
   "metadata": {},
   "outputs": [],
   "source": [
    "masks = create_separate_masks(tmp['EncodedPixels'], tmp['ClassId'], tmp['Height'].values[0], tmp['Width'].values[0])"
   ]
  },
  {
   "cell_type": "code",
   "execution_count": 72,
   "metadata": {},
   "outputs": [],
   "source": [
    "# show_image_with_mask('../data/imaterialist-fashion-2020-fgvc7/train/00000663ed1ff0c4e0132b9b9ac53f6e.jpg', masks[0])"
   ]
  },
  {
   "cell_type": "code",
   "execution_count": 73,
   "metadata": {},
   "outputs": [],
   "source": [
    "# draw = draw_bounding_box(cv2.imread(\"../data/imaterialist-fashion-2020-fgvc7/train/00000663ed1ff0c4e0132b9b9ac53f6e.jpg\"), tmp['bbox'][0])"
   ]
  },
  {
   "cell_type": "code",
   "execution_count": 74,
   "metadata": {},
   "outputs": [],
   "source": [
    "# draw = draw_bounding_box(cv2.imread(\"../data/imaterialist-fashion-2020-fgvc7/train/00000663ed1ff0c4e0132b9b9ac53f6e.jpg\"), tmp['bbox_big'][0])"
   ]
  },
  {
   "cell_type": "code",
   "execution_count": 75,
   "metadata": {},
   "outputs": [],
   "source": [
    "# show_image_with_mask('../data/imaterialist-fashion-2020-fgvc7/train/00000663ed1ff0c4e0132b9b9ac53f6e.jpg', masks[1])"
   ]
  },
  {
   "cell_type": "code",
   "execution_count": 76,
   "metadata": {},
   "outputs": [
    {
     "data": {
      "image/png": "[encoded data removed]",
      "text/plain": [
       "<Figure size 640x480 with 1 Axes>"
      ]
     },
     "metadata": {},
     "output_type": "display_data"
    }
   ],
   "source": [
    "# draw = draw_bounding_box(cv2.imread(\"../data/imaterialist-fashion-2020-fgvc7/train/00000663ed1ff0c4e0132b9b9ac53f6e.jpg\"), tmp['bbox_big'][1])"
   ]
  },
  {
   "cell_type": "code",
   "execution_count": 77,
   "metadata": {},
   "outputs": [],
   "source": [
    "def calculate_bbox_metrics(bbox):\n",
    "    x_min, y_min, x_max, y_max = bbox\n",
    "    width = x_max - x_min\n",
    "    height = y_max - y_min\n",
    "    area = width * height\n",
    "    \n",
    "    return {'width': width, 'height': height, 'area': area}"
   ]
  },
  {
   "cell_type": "markdown",
   "metadata": {},
   "source": [
    "- bounding box 관련 정보 추가"
   ]
  },
  {
   "cell_type": "code",
   "execution_count": 78,
   "metadata": {},
   "outputs": [
    {
     "data": {
      "text/html": [
       "<div>\n",
       "<style scoped>\n",
       "    .dataframe tbody tr th:only-of-type {\n",
       "        vertical-align: middle;\n",
       "    }\n",
       "\n",
       "    .dataframe tbody tr th {\n",
       "        vertical-align: top;\n",
       "    }\n",
       "\n",
       "    .dataframe thead th {\n",
       "        text-align: right;\n",
       "    }\n",
       "</style>\n",
       "<table border=\"1\" class=\"dataframe\">\n",
       "  <thead>\n",
       "    <tr style=\"text-align: right;\">\n",
       "      <th></th>\n",
       "      <th>ImageId</th>\n",
       "      <th>EncodedPixels</th>\n",
       "      <th>Height</th>\n",
       "      <th>Width</th>\n",
       "      <th>ClassId</th>\n",
       "      <th>AttributesIds</th>\n",
       "      <th>second_AttributesIds</th>\n",
       "      <th>bbox</th>\n",
       "      <th>bbox_big</th>\n",
       "    </tr>\n",
       "  </thead>\n",
       "  <tbody>\n",
       "    <tr>\n",
       "      <th>0</th>\n",
       "      <td>00000663ed1ff0c4e0132b9b9ac53f6e</td>\n",
       "      <td>6068157 7 6073371 20 6078584 34 6083797 48 608...</td>\n",
       "      <td>5214</td>\n",
       "      <td>3676</td>\n",
       "      <td>6</td>\n",
       "      <td>115,136,143,154,230,295,316,317</td>\n",
       "      <td>NaN</td>\n",
       "      <td>[1163, 3923, 2839, 5212]</td>\n",
       "      <td>(1122, 3891, 2880, 5214)</td>\n",
       "    </tr>\n",
       "    <tr>\n",
       "      <th>1</th>\n",
       "      <td>00000663ed1ff0c4e0132b9b9ac53f6e</td>\n",
       "      <td>6323163 11 6328356 32 6333549 53 6338742 75 63...</td>\n",
       "      <td>5214</td>\n",
       "      <td>3676</td>\n",
       "      <td>0</td>\n",
       "      <td>115,136,142,146,225,295,316,317</td>\n",
       "      <td>163</td>\n",
       "      <td>[1212, 1371, 2394, 3978]</td>\n",
       "      <td>(1183, 1306, 2423, 4043)</td>\n",
       "    </tr>\n",
       "  </tbody>\n",
       "</table>\n",
       "</div>"
      ],
      "text/plain": [
       "                            ImageId  \\\n",
       "0  00000663ed1ff0c4e0132b9b9ac53f6e   \n",
       "1  00000663ed1ff0c4e0132b9b9ac53f6e   \n",
       "\n",
       "                                       EncodedPixels  Height  Width  ClassId  \\\n",
       "0  6068157 7 6073371 20 6078584 34 6083797 48 608...    5214   3676        6   \n",
       "1  6323163 11 6328356 32 6333549 53 6338742 75 63...    5214   3676        0   \n",
       "\n",
       "                     AttributesIds second_AttributesIds  \\\n",
       "0  115,136,143,154,230,295,316,317                  NaN   \n",
       "1  115,136,142,146,225,295,316,317                  163   \n",
       "\n",
       "                       bbox                  bbox_big  \n",
       "0  [1163, 3923, 2839, 5212]  (1122, 3891, 2880, 5214)  \n",
       "1  [1212, 1371, 2394, 3978]  (1183, 1306, 2423, 4043)  "
      ]
     },
     "execution_count": 78,
     "metadata": {},
     "output_type": "execute_result"
    }
   ],
   "source": [
    "anno.head(2)"
   ]
  },
  {
   "cell_type": "code",
   "execution_count": 80,
   "metadata": {},
   "outputs": [],
   "source": [
    "bbox_metrics = [calculate_bbox_metrics(i) for i in anno['bbox_big']]"
   ]
  },
  {
   "cell_type": "code",
   "execution_count": 82,
   "metadata": {},
   "outputs": [],
   "source": [
    "anno = pd.concat([anno, pd.DataFrame(bbox_metrics)], axis=1)"
   ]
  },
  {
   "cell_type": "markdown",
   "metadata": {},
   "source": [
    "- attribute과 classId 이름 다시 붙이기"
   ]
  },
  {
   "cell_type": "code",
   "execution_count": 85,
   "metadata": {},
   "outputs": [],
   "source": [
    "# category\n",
    "anno = pd.merge(anno, categories[['id', 'name', 'supercategory']], left_on='ClassId', right_on=['id'], how='left')"
   ]
  },
  {
   "cell_type": "code",
   "execution_count": 87,
   "metadata": {},
   "outputs": [],
   "source": [
    "# attributionId 전처리\n",
    "def clean_attributes(attr_str):\n",
    "    if isinstance(attr_str, float):\n",
    "        return np.nan\n",
    "    l = attr_str.split(',')\n",
    "    l = [i for i in l if i != '']\n",
    "    s = ','.join(l)\n",
    "    if s=='':\n",
    "        return np.nan\n",
    "    else:\n",
    "        return s\n",
    "    \n",
    "\n",
    "anno.loc[anno['AttributesIds']=='', 'AttributesIds'] = np.nan\n",
    "\n",
    "anno['second_AttributesIds'] = anno['second_AttributesIds'].fillna(np.nan)\n",
    "anno.loc[anno['second_AttributesIds']=='', 'second_AttributesIds'] = np.nan"
   ]
  },
  {
   "cell_type": "code",
   "execution_count": 92,
   "metadata": {},
   "outputs": [],
   "source": [
    "anno['AttributesNames'] = [ids_to_names(i) for i in anno['AttributesIds']]"
   ]
  },
  {
   "cell_type": "code",
   "execution_count": 93,
   "metadata": {},
   "outputs": [],
   "source": [
    "anno['second_AttributesIds'] = [clean_attributes(i) for i in anno['second_AttributesIds']]\n",
    "anno['second_AttributesNames'] = [ids_to_names(i) for i in anno['second_AttributesIds']]"
   ]
  },
  {
   "cell_type": "code",
   "execution_count": 95,
   "metadata": {},
   "outputs": [
    {
     "data": {
      "text/html": [
       "<div>\n",
       "<style scoped>\n",
       "    .dataframe tbody tr th:only-of-type {\n",
       "        vertical-align: middle;\n",
       "    }\n",
       "\n",
       "    .dataframe tbody tr th {\n",
       "        vertical-align: top;\n",
       "    }\n",
       "\n",
       "    .dataframe thead th {\n",
       "        text-align: right;\n",
       "    }\n",
       "</style>\n",
       "<table border=\"1\" class=\"dataframe\">\n",
       "  <thead>\n",
       "    <tr style=\"text-align: right;\">\n",
       "      <th></th>\n",
       "      <th>ImageId</th>\n",
       "      <th>EncodedPixels</th>\n",
       "      <th>Height</th>\n",
       "      <th>Width</th>\n",
       "      <th>ClassId</th>\n",
       "      <th>AttributesIds</th>\n",
       "      <th>second_AttributesIds</th>\n",
       "      <th>bbox</th>\n",
       "      <th>bbox_big</th>\n",
       "      <th>width</th>\n",
       "      <th>height</th>\n",
       "      <th>area</th>\n",
       "      <th>id</th>\n",
       "      <th>name</th>\n",
       "      <th>supercategory</th>\n",
       "      <th>AttributesNames</th>\n",
       "      <th>second_AttributesNames</th>\n",
       "    </tr>\n",
       "  </thead>\n",
       "  <tbody>\n",
       "    <tr>\n",
       "      <th>0</th>\n",
       "      <td>00000663ed1ff0c4e0132b9b9ac53f6e</td>\n",
       "      <td>6068157 7 6073371 20 6078584 34 6083797 48 608...</td>\n",
       "      <td>5214</td>\n",
       "      <td>3676</td>\n",
       "      <td>6</td>\n",
       "      <td>115,136,143,154,230,295,316,317</td>\n",
       "      <td>NaN</td>\n",
       "      <td>[1163, 3923, 2839, 5212]</td>\n",
       "      <td>(1122, 3891, 2880, 5214)</td>\n",
       "      <td>1758</td>\n",
       "      <td>1323</td>\n",
       "      <td>2325834</td>\n",
       "      <td>6</td>\n",
       "      <td>pants</td>\n",
       "      <td>lowerbody</td>\n",
       "      <td>symmetrical, regular (fit), low waist, maxi (l...</td>\n",
       "      <td>NaN</td>\n",
       "    </tr>\n",
       "    <tr>\n",
       "      <th>1</th>\n",
       "      <td>00000663ed1ff0c4e0132b9b9ac53f6e</td>\n",
       "      <td>6323163 11 6328356 32 6333549 53 6338742 75 63...</td>\n",
       "      <td>5214</td>\n",
       "      <td>3676</td>\n",
       "      <td>0</td>\n",
       "      <td>115,136,142,146,225,295,316,317</td>\n",
       "      <td>163</td>\n",
       "      <td>[1212, 1371, 2394, 3978]</td>\n",
       "      <td>(1183, 1306, 2423, 4043)</td>\n",
       "      <td>1240</td>\n",
       "      <td>2737</td>\n",
       "      <td>3393880</td>\n",
       "      <td>0</td>\n",
       "      <td>shirt, blouse</td>\n",
       "      <td>upperbody</td>\n",
       "      <td>symmetrical, regular (fit), normal waist, abov...</td>\n",
       "      <td>shirt (collar)</td>\n",
       "    </tr>\n",
       "  </tbody>\n",
       "</table>\n",
       "</div>"
      ],
      "text/plain": [
       "                            ImageId  \\\n",
       "0  00000663ed1ff0c4e0132b9b9ac53f6e   \n",
       "1  00000663ed1ff0c4e0132b9b9ac53f6e   \n",
       "\n",
       "                                       EncodedPixels  Height  Width  ClassId  \\\n",
       "0  6068157 7 6073371 20 6078584 34 6083797 48 608...    5214   3676        6   \n",
       "1  6323163 11 6328356 32 6333549 53 6338742 75 63...    5214   3676        0   \n",
       "\n",
       "                     AttributesIds second_AttributesIds  \\\n",
       "0  115,136,143,154,230,295,316,317                  NaN   \n",
       "1  115,136,142,146,225,295,316,317                  163   \n",
       "\n",
       "                       bbox                  bbox_big  width  height     area  \\\n",
       "0  [1163, 3923, 2839, 5212]  (1122, 3891, 2880, 5214)   1758    1323  2325834   \n",
       "1  [1212, 1371, 2394, 3978]  (1183, 1306, 2423, 4043)   1240    2737  3393880   \n",
       "\n",
       "   id           name supercategory  \\\n",
       "0   6          pants     lowerbody   \n",
       "1   0  shirt, blouse     upperbody   \n",
       "\n",
       "                                     AttributesNames second_AttributesNames  \n",
       "0  symmetrical, regular (fit), low waist, maxi (l...                    NaN  \n",
       "1  symmetrical, regular (fit), normal waist, abov...         shirt (collar)  "
      ]
     },
     "execution_count": 95,
     "metadata": {},
     "output_type": "execute_result"
    }
   ],
   "source": [
    "anno.head(2)"
   ]
  },
  {
   "cell_type": "code",
   "execution_count": 96,
   "metadata": {},
   "outputs": [],
   "source": [
    "anno.to_csv(\"../data/imaterialist-fashion-2020-fgvc7/clothes_final.csv\", index=False)"
   ]
  }
 ],
 "metadata": {
  "kernelspec": {
   "display_name": "Python 3 (ipykernel)",
   "language": "python",
   "name": "python3"
  },
  "language_info": {
   "codemirror_mode": {
    "name": "ipython",
    "version": 3
   },
   "file_extension": ".py",
   "mimetype": "text/x-python",
   "name": "python",
   "nbconvert_exporter": "python",
   "pygments_lexer": "ipython3",
   "version": "3.11.9"
  }
 },
 "nbformat": 4,
 "nbformat_minor": 4
}
