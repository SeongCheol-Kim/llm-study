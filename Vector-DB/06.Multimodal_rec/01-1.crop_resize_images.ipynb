{
 "cells": [
  {
   "cell_type": "code",
   "execution_count": 1,
   "metadata": {},
   "outputs": [],
   "source": [
    "import numpy as np\n",
    "import pandas as pd\n",
    "import matplotlib.pyplot as plt\n",
    "from PIL import Image\n",
    "import json\n",
    "\n",
    "import os\n",
    "import openai\n",
    "from tqdm.notebook import tqdm\n",
    "\n",
    "from image_utils import crop_bbox"
   ]
  },
  {
   "cell_type": "code",
   "execution_count": 3,
   "metadata": {},
   "outputs": [],
   "source": [
    "df = pd.read_csv(\"../data/imaterialist-fashion-2020-fgvc7/clothes_final.csv\")"
   ]
  },
  {
   "cell_type": "code",
   "execution_count": 4,
   "metadata": {},
   "outputs": [
    {
     "data": {
      "text/html": [
       "<div>\n",
       "<style scoped>\n",
       "    .dataframe tbody tr th:only-of-type {\n",
       "        vertical-align: middle;\n",
       "    }\n",
       "\n",
       "    .dataframe tbody tr th {\n",
       "        vertical-align: top;\n",
       "    }\n",
       "\n",
       "    .dataframe thead th {\n",
       "        text-align: right;\n",
       "    }\n",
       "</style>\n",
       "<table border=\"1\" class=\"dataframe\">\n",
       "  <thead>\n",
       "    <tr style=\"text-align: right;\">\n",
       "      <th></th>\n",
       "      <th>ImageId</th>\n",
       "      <th>EncodedPixels</th>\n",
       "      <th>Height</th>\n",
       "      <th>Width</th>\n",
       "      <th>ClassId</th>\n",
       "      <th>AttributesIds</th>\n",
       "      <th>second_AttributesIds</th>\n",
       "      <th>bbox</th>\n",
       "      <th>bbox_big</th>\n",
       "      <th>width</th>\n",
       "      <th>height</th>\n",
       "      <th>area</th>\n",
       "      <th>id</th>\n",
       "      <th>name</th>\n",
       "      <th>supercategory</th>\n",
       "      <th>AttributesNames</th>\n",
       "      <th>second_AttributesNames</th>\n",
       "    </tr>\n",
       "  </thead>\n",
       "  <tbody>\n",
       "    <tr>\n",
       "      <th>0</th>\n",
       "      <td>00000663ed1ff0c4e0132b9b9ac53f6e</td>\n",
       "      <td>6068157 7 6073371 20 6078584 34 6083797 48 608...</td>\n",
       "      <td>5214</td>\n",
       "      <td>3676</td>\n",
       "      <td>6</td>\n",
       "      <td>115,136,143,154,230,295,316,317</td>\n",
       "      <td>NaN</td>\n",
       "      <td>[1163, 3923, 2839, 5212]</td>\n",
       "      <td>(1122, 3891, 2880, 5214)</td>\n",
       "      <td>1758</td>\n",
       "      <td>1323</td>\n",
       "      <td>2325834</td>\n",
       "      <td>6</td>\n",
       "      <td>pants</td>\n",
       "      <td>lowerbody</td>\n",
       "      <td>symmetrical, regular (fit), low waist, maxi (l...</td>\n",
       "      <td>NaN</td>\n",
       "    </tr>\n",
       "    <tr>\n",
       "      <th>1</th>\n",
       "      <td>00000663ed1ff0c4e0132b9b9ac53f6e</td>\n",
       "      <td>6323163 11 6328356 32 6333549 53 6338742 75 63...</td>\n",
       "      <td>5214</td>\n",
       "      <td>3676</td>\n",
       "      <td>0</td>\n",
       "      <td>115,136,142,146,225,295,316,317</td>\n",
       "      <td>163</td>\n",
       "      <td>[1212, 1371, 2394, 3978]</td>\n",
       "      <td>(1183, 1306, 2423, 4043)</td>\n",
       "      <td>1240</td>\n",
       "      <td>2737</td>\n",
       "      <td>3393880</td>\n",
       "      <td>0</td>\n",
       "      <td>shirt, blouse</td>\n",
       "      <td>upperbody</td>\n",
       "      <td>symmetrical, regular (fit), normal waist, abov...</td>\n",
       "      <td>shirt (collar)</td>\n",
       "    </tr>\n",
       "    <tr>\n",
       "      <th>2</th>\n",
       "      <td>00000663ed1ff0c4e0132b9b9ac53f6e</td>\n",
       "      <td>4566382 8 4571592 25 4576803 41 4582013 58 458...</td>\n",
       "      <td>5214</td>\n",
       "      <td>3676</td>\n",
       "      <td>4</td>\n",
       "      <td>17,115,136,145,149,225,295,311,317</td>\n",
       "      <td>219,204,160,174</td>\n",
       "      <td>[875, 1437, 3309, 4871]</td>\n",
       "      <td>(815, 1352, 3369, 4956)</td>\n",
       "      <td>2554</td>\n",
       "      <td>3604</td>\n",
       "      <td>9204616</td>\n",
       "      <td>4</td>\n",
       "      <td>jacket</td>\n",
       "      <td>upperbody</td>\n",
       "      <td>blazer, symmetrical, regular (fit), no waistli...</td>\n",
       "      <td>welt (pocket), set-in sleeve, wrist-length, no...</td>\n",
       "    </tr>\n",
       "  </tbody>\n",
       "</table>\n",
       "</div>"
      ],
      "text/plain": [
       "                            ImageId  \\\n",
       "0  00000663ed1ff0c4e0132b9b9ac53f6e   \n",
       "1  00000663ed1ff0c4e0132b9b9ac53f6e   \n",
       "2  00000663ed1ff0c4e0132b9b9ac53f6e   \n",
       "\n",
       "                                       EncodedPixels  Height  Width  ClassId  \\\n",
       "0  6068157 7 6073371 20 6078584 34 6083797 48 608...    5214   3676        6   \n",
       "1  6323163 11 6328356 32 6333549 53 6338742 75 63...    5214   3676        0   \n",
       "2  4566382 8 4571592 25 4576803 41 4582013 58 458...    5214   3676        4   \n",
       "\n",
       "                        AttributesIds second_AttributesIds  \\\n",
       "0     115,136,143,154,230,295,316,317                  NaN   \n",
       "1     115,136,142,146,225,295,316,317                  163   \n",
       "2  17,115,136,145,149,225,295,311,317      219,204,160,174   \n",
       "\n",
       "                       bbox                  bbox_big  width  height     area  \\\n",
       "0  [1163, 3923, 2839, 5212]  (1122, 3891, 2880, 5214)   1758    1323  2325834   \n",
       "1  [1212, 1371, 2394, 3978]  (1183, 1306, 2423, 4043)   1240    2737  3393880   \n",
       "2   [875, 1437, 3309, 4871]   (815, 1352, 3369, 4956)   2554    3604  9204616   \n",
       "\n",
       "   id           name supercategory  \\\n",
       "0   6          pants     lowerbody   \n",
       "1   0  shirt, blouse     upperbody   \n",
       "2   4         jacket     upperbody   \n",
       "\n",
       "                                     AttributesNames  \\\n",
       "0  symmetrical, regular (fit), low waist, maxi (l...   \n",
       "1  symmetrical, regular (fit), normal waist, abov...   \n",
       "2  blazer, symmetrical, regular (fit), no waistli...   \n",
       "\n",
       "                              second_AttributesNames  \n",
       "0                                                NaN  \n",
       "1                                     shirt (collar)  \n",
       "2  welt (pocket), set-in sleeve, wrist-length, no...  "
      ]
     },
     "execution_count": 4,
     "metadata": {},
     "output_type": "execute_result"
    }
   ],
   "source": [
    "df.head(3)"
   ]
  },
  {
   "cell_type": "code",
   "execution_count": 5,
   "metadata": {},
   "outputs": [
    {
     "data": {
      "text/plain": [
       "'[1163, 3923, 2839, 5212]'"
      ]
     },
     "execution_count": 5,
     "metadata": {},
     "output_type": "execute_result"
    }
   ],
   "source": [
    "df['bbox'][0]"
   ]
  },
  {
   "cell_type": "code",
   "execution_count": 6,
   "metadata": {},
   "outputs": [],
   "source": [
    "def listify(string, encap_type=\"()\"):\n",
    "    '''\n",
    "    string 값들을 list 화\n",
    "    '''\n",
    "    return [int(num) for num in string.strip(encap_type).split(', ')]"
   ]
  },
  {
   "cell_type": "code",
   "execution_count": 8,
   "metadata": {},
   "outputs": [],
   "source": [
    "# 처음 읽을 때, pandas dataframe에서 list가 아닌 string 값으로 인식하기 때문에 변환 필요\n",
    "df['bbox'] = [listify(i, encap_type=\"[]\") for i in df['bbox']]\n",
    "df['bbox_big'] = [listify(i) for i in df['bbox_big']]"
   ]
  },
  {
   "cell_type": "code",
   "execution_count": 9,
   "metadata": {},
   "outputs": [
    {
     "data": {
      "text/html": [
       "<div>\n",
       "<style scoped>\n",
       "    .dataframe tbody tr th:only-of-type {\n",
       "        vertical-align: middle;\n",
       "    }\n",
       "\n",
       "    .dataframe tbody tr th {\n",
       "        vertical-align: top;\n",
       "    }\n",
       "\n",
       "    .dataframe thead th {\n",
       "        text-align: right;\n",
       "    }\n",
       "</style>\n",
       "<table border=\"1\" class=\"dataframe\">\n",
       "  <thead>\n",
       "    <tr style=\"text-align: right;\">\n",
       "      <th></th>\n",
       "      <th>ImageId</th>\n",
       "      <th>EncodedPixels</th>\n",
       "      <th>Height</th>\n",
       "      <th>Width</th>\n",
       "      <th>ClassId</th>\n",
       "      <th>AttributesIds</th>\n",
       "      <th>second_AttributesIds</th>\n",
       "      <th>bbox</th>\n",
       "      <th>bbox_big</th>\n",
       "      <th>width</th>\n",
       "      <th>height</th>\n",
       "      <th>area</th>\n",
       "      <th>id</th>\n",
       "      <th>name</th>\n",
       "      <th>supercategory</th>\n",
       "      <th>AttributesNames</th>\n",
       "      <th>second_AttributesNames</th>\n",
       "    </tr>\n",
       "  </thead>\n",
       "  <tbody>\n",
       "    <tr>\n",
       "      <th>0</th>\n",
       "      <td>00000663ed1ff0c4e0132b9b9ac53f6e</td>\n",
       "      <td>6068157 7 6073371 20 6078584 34 6083797 48 608...</td>\n",
       "      <td>5214</td>\n",
       "      <td>3676</td>\n",
       "      <td>6</td>\n",
       "      <td>115,136,143,154,230,295,316,317</td>\n",
       "      <td>NaN</td>\n",
       "      <td>[1163, 3923, 2839, 5212]</td>\n",
       "      <td>[1122, 3891, 2880, 5214]</td>\n",
       "      <td>1758</td>\n",
       "      <td>1323</td>\n",
       "      <td>2325834</td>\n",
       "      <td>6</td>\n",
       "      <td>pants</td>\n",
       "      <td>lowerbody</td>\n",
       "      <td>symmetrical, regular (fit), low waist, maxi (l...</td>\n",
       "      <td>NaN</td>\n",
       "    </tr>\n",
       "    <tr>\n",
       "      <th>1</th>\n",
       "      <td>00000663ed1ff0c4e0132b9b9ac53f6e</td>\n",
       "      <td>6323163 11 6328356 32 6333549 53 6338742 75 63...</td>\n",
       "      <td>5214</td>\n",
       "      <td>3676</td>\n",
       "      <td>0</td>\n",
       "      <td>115,136,142,146,225,295,316,317</td>\n",
       "      <td>163</td>\n",
       "      <td>[1212, 1371, 2394, 3978]</td>\n",
       "      <td>[1183, 1306, 2423, 4043]</td>\n",
       "      <td>1240</td>\n",
       "      <td>2737</td>\n",
       "      <td>3393880</td>\n",
       "      <td>0</td>\n",
       "      <td>shirt, blouse</td>\n",
       "      <td>upperbody</td>\n",
       "      <td>symmetrical, regular (fit), normal waist, abov...</td>\n",
       "      <td>shirt (collar)</td>\n",
       "    </tr>\n",
       "  </tbody>\n",
       "</table>\n",
       "</div>"
      ],
      "text/plain": [
       "                            ImageId  \\\n",
       "0  00000663ed1ff0c4e0132b9b9ac53f6e   \n",
       "1  00000663ed1ff0c4e0132b9b9ac53f6e   \n",
       "\n",
       "                                       EncodedPixels  Height  Width  ClassId  \\\n",
       "0  6068157 7 6073371 20 6078584 34 6083797 48 608...    5214   3676        6   \n",
       "1  6323163 11 6328356 32 6333549 53 6338742 75 63...    5214   3676        0   \n",
       "\n",
       "                     AttributesIds second_AttributesIds  \\\n",
       "0  115,136,143,154,230,295,316,317                  NaN   \n",
       "1  115,136,142,146,225,295,316,317                  163   \n",
       "\n",
       "                       bbox                  bbox_big  width  height     area  \\\n",
       "0  [1163, 3923, 2839, 5212]  [1122, 3891, 2880, 5214]   1758    1323  2325834   \n",
       "1  [1212, 1371, 2394, 3978]  [1183, 1306, 2423, 4043]   1240    2737  3393880   \n",
       "\n",
       "   id           name supercategory  \\\n",
       "0   6          pants     lowerbody   \n",
       "1   0  shirt, blouse     upperbody   \n",
       "\n",
       "                                     AttributesNames second_AttributesNames  \n",
       "0  symmetrical, regular (fit), low waist, maxi (l...                    NaN  \n",
       "1  symmetrical, regular (fit), normal waist, abov...         shirt (collar)  "
      ]
     },
     "execution_count": 9,
     "metadata": {},
     "output_type": "execute_result"
    }
   ],
   "source": [
    "df.head(2)"
   ]
  },
  {
   "cell_type": "markdown",
   "metadata": {},
   "source": [
    "# CLIP embeddings\n",
    "\n",
    "- Local에 각 상품별 cropped image 저장\n",
    "- CLIP embeddings 생성"
   ]
  },
  {
   "cell_type": "markdown",
   "metadata": {},
   "source": [
    "---"
   ]
  },
  {
   "cell_type": "markdown",
   "metadata": {},
   "source": [
    "## 1. Bounding box EDA\n",
    "- 각 이미지에 들어있는 상품들의 '크기'는?\n",
    "- 유사도는 이미지의 크기에도 영향을 받기 때문에 중요한 요인 중 하나\n",
    "- 따라서 한 카테고리 내에 속하는 이미지들은 모두 동일한 크기로 표현되는 것이 중요"
   ]
  },
  {
   "cell_type": "code",
   "execution_count": 10,
   "metadata": {},
   "outputs": [],
   "source": [
    "img = Image.open(\"../data/imaterialist-fashion-2020-fgvc7/train/007e66e7c2864eb3c1ef95cd3ab52687.jpg\")"
   ]
  },
  {
   "cell_type": "code",
   "execution_count": 12,
   "metadata": {},
   "outputs": [],
   "source": [
    "# img"
   ]
  },
  {
   "cell_type": "code",
   "execution_count": 13,
   "metadata": {},
   "outputs": [
    {
     "data": {
      "text/plain": [
       "ImageId                                    007e66e7c2864eb3c1ef95cd3ab52687\n",
       "EncodedPixels             5093384 3 5098565 11 5103747 17 5108928 25 511...\n",
       "Height                                                                 5184\n",
       "Width                                                                  3456\n",
       "ClassId                                                                   2\n",
       "AttributesIds                               115,136,145,146,295,316,317,328\n",
       "second_AttributesIds                                                204,160\n",
       "bbox                                                [982, 1247, 2484, 3049]\n",
       "bbox_big                                            [945, 1202, 2521, 3094]\n",
       "width                                                                  1576\n",
       "height                                                                 1892\n",
       "area                                                                2981792\n",
       "id                                                                        2\n",
       "name                                                                sweater\n",
       "supercategory                                                     upperbody\n",
       "AttributesNames           symmetrical, regular (fit), no waistline, abov...\n",
       "second_AttributesNames                          set-in sleeve, wrist-length\n",
       "Name: 218, dtype: object"
      ]
     },
     "execution_count": 13,
     "metadata": {},
     "output_type": "execute_result"
    }
   ],
   "source": [
    "df.loc[218]"
   ]
  },
  {
   "cell_type": "code",
   "execution_count": 15,
   "metadata": {},
   "outputs": [],
   "source": [
    "cropped = crop_bbox(img, df['bbox'][218])\n",
    "# cropped"
   ]
  },
  {
   "cell_type": "code",
   "execution_count": null,
   "metadata": {},
   "outputs": [],
   "source": [
    "df.loc[223]"
   ]
  },
  {
   "cell_type": "code",
   "execution_count": 16,
   "metadata": {},
   "outputs": [],
   "source": [
    "img = Image.open(\"../data/imaterialist-fashion-2020-fgvc7/train/007e66e7c2864eb3c1ef95cd3ab52687.jpg\")\n",
    "cropped = crop_bbox(img, df['bbox'][223])\n",
    "# cropped"
   ]
  },
  {
   "cell_type": "code",
   "execution_count": 17,
   "metadata": {
    "scrolled": true
   },
   "outputs": [
    {
     "name": "stdout",
     "output_type": "stream",
     "text": [
      "lowerbody\n",
      "['pants' 'skirt' 'shorts']\n",
      "Area : 215033.0, width : 416.0, height : 539.0\n",
      "----------\n",
      "upperbody\n",
      "['shirt, blouse' 'jacket' 'top, t-shirt, sweatshirt' 'sweater' 'vest'\n",
      " 'cardigan']\n",
      "Area : 338575.0, width : 498.0, height : 691.0\n",
      "----------\n",
      "wholebody\n",
      "['dress' 'coat' 'cape' 'jumpsuit']\n",
      "Area : 406373.0, width : 478.0, height : 877.0\n",
      "----------\n",
      "legs and feet\n",
      "['shoe' 'sock' 'tights, stockings' 'leg warmer']\n",
      "Area : 13851.0, width : 100.0, height : 143.0\n",
      "----------\n",
      "head\n",
      "['glasses' 'headband, head covering, hair accessory' 'hat']\n",
      "Area : 14508.0, width : 156.0, height : 95.0\n",
      "----------\n",
      "others\n",
      "['bag, wallet' 'scarf' 'umbrella']\n",
      "Area : 64343.0, width : 196.0, height : 345.0\n",
      "----------\n",
      "waist\n",
      "['belt']\n",
      "Area : 21033.0, width : 195.0, height : 102.0\n",
      "----------\n",
      "arms and hands\n",
      "['watch' 'glove']\n",
      "Area : 5454.0, width : 72.0, height : 75.0\n",
      "----------\n",
      "neck\n",
      "['tie']\n",
      "Area : 20720.0, width : 123.0, height : 200.0\n",
      "----------\n"
     ]
    }
   ],
   "source": [
    "# 카테고리별 crop할 기준 확인\n",
    "\n",
    "for cat in df['supercategory'].unique():\n",
    "    tmp = df.loc[df['supercategory']==cat]\n",
    "    print(cat)\n",
    "    print(tmp['name'].unique())\n",
    "    print(\"Area : {}, width : {}, height : {}\".format(np.median(tmp['area']), np.median(tmp['width']), np.median(tmp['height'])))\n",
    "    print(\"-\"*10)"
   ]
  },
  {
   "cell_type": "markdown",
   "metadata": {},
   "source": [
    "각 카테고리 별로 이미지들의 특징을 갖고 있음\n",
    "- lower body는 가로 평균 410, 세로 540\n",
    "- upper body는 lower body보다 세로 비율이 더 길다\n",
    "- wholebody는 그보다 세로 비율이 더 길다\n",
    "- waist는 기로가 세로보다 더 길다\n",
    "- arms and hands는 가로 세로 비율이 비슷하며, 전체적으로 작음"
   ]
  },
  {
   "cell_type": "markdown",
   "metadata": {},
   "source": [
    "## 2. Bounding box를 기준으로 각 eneity를 crop"
   ]
  },
  {
   "cell_type": "code",
   "execution_count": 18,
   "metadata": {},
   "outputs": [],
   "source": [
    "size = {\"lowerbody\":[420, 540],\n",
    "        \"upperbody\":[500, 700],\n",
    "        \"wholebody\":[480, 880],\n",
    "        \"legs and feet\":[100, 150],\n",
    "        \"head\":[150, 100],\n",
    "        \"others\":[200, 350],\n",
    "        \"waist\":[200, 100],\n",
    "        \"arms and hands\":[75, 75],\n",
    "        \"neck\":[120, 200]}"
   ]
  },
  {
   "cell_type": "code",
   "execution_count": 19,
   "metadata": {},
   "outputs": [
    {
     "data": {
      "text/html": [
       "<div>\n",
       "<style scoped>\n",
       "    .dataframe tbody tr th:only-of-type {\n",
       "        vertical-align: middle;\n",
       "    }\n",
       "\n",
       "    .dataframe tbody tr th {\n",
       "        vertical-align: top;\n",
       "    }\n",
       "\n",
       "    .dataframe thead th {\n",
       "        text-align: right;\n",
       "    }\n",
       "</style>\n",
       "<table border=\"1\" class=\"dataframe\">\n",
       "  <thead>\n",
       "    <tr style=\"text-align: right;\">\n",
       "      <th></th>\n",
       "      <th>ImageId</th>\n",
       "      <th>EncodedPixels</th>\n",
       "      <th>Height</th>\n",
       "      <th>Width</th>\n",
       "      <th>ClassId</th>\n",
       "      <th>AttributesIds</th>\n",
       "      <th>second_AttributesIds</th>\n",
       "      <th>bbox</th>\n",
       "      <th>bbox_big</th>\n",
       "      <th>width</th>\n",
       "      <th>height</th>\n",
       "      <th>area</th>\n",
       "      <th>id</th>\n",
       "      <th>name</th>\n",
       "      <th>supercategory</th>\n",
       "      <th>AttributesNames</th>\n",
       "      <th>second_AttributesNames</th>\n",
       "    </tr>\n",
       "  </thead>\n",
       "  <tbody>\n",
       "    <tr>\n",
       "      <th>0</th>\n",
       "      <td>00000663ed1ff0c4e0132b9b9ac53f6e</td>\n",
       "      <td>6068157 7 6073371 20 6078584 34 6083797 48 608...</td>\n",
       "      <td>5214</td>\n",
       "      <td>3676</td>\n",
       "      <td>6</td>\n",
       "      <td>115,136,143,154,230,295,316,317</td>\n",
       "      <td>NaN</td>\n",
       "      <td>[1163, 3923, 2839, 5212]</td>\n",
       "      <td>[1122, 3891, 2880, 5214]</td>\n",
       "      <td>1758</td>\n",
       "      <td>1323</td>\n",
       "      <td>2325834</td>\n",
       "      <td>6</td>\n",
       "      <td>pants</td>\n",
       "      <td>lowerbody</td>\n",
       "      <td>symmetrical, regular (fit), low waist, maxi (l...</td>\n",
       "      <td>NaN</td>\n",
       "    </tr>\n",
       "    <tr>\n",
       "      <th>1</th>\n",
       "      <td>00000663ed1ff0c4e0132b9b9ac53f6e</td>\n",
       "      <td>6323163 11 6328356 32 6333549 53 6338742 75 63...</td>\n",
       "      <td>5214</td>\n",
       "      <td>3676</td>\n",
       "      <td>0</td>\n",
       "      <td>115,136,142,146,225,295,316,317</td>\n",
       "      <td>163</td>\n",
       "      <td>[1212, 1371, 2394, 3978]</td>\n",
       "      <td>[1183, 1306, 2423, 4043]</td>\n",
       "      <td>1240</td>\n",
       "      <td>2737</td>\n",
       "      <td>3393880</td>\n",
       "      <td>0</td>\n",
       "      <td>shirt, blouse</td>\n",
       "      <td>upperbody</td>\n",
       "      <td>symmetrical, regular (fit), normal waist, abov...</td>\n",
       "      <td>shirt (collar)</td>\n",
       "    </tr>\n",
       "    <tr>\n",
       "      <th>2</th>\n",
       "      <td>00000663ed1ff0c4e0132b9b9ac53f6e</td>\n",
       "      <td>4566382 8 4571592 25 4576803 41 4582013 58 458...</td>\n",
       "      <td>5214</td>\n",
       "      <td>3676</td>\n",
       "      <td>4</td>\n",
       "      <td>17,115,136,145,149,225,295,311,317</td>\n",
       "      <td>219,204,160,174</td>\n",
       "      <td>[875, 1437, 3309, 4871]</td>\n",
       "      <td>[815, 1352, 3369, 4956]</td>\n",
       "      <td>2554</td>\n",
       "      <td>3604</td>\n",
       "      <td>9204616</td>\n",
       "      <td>4</td>\n",
       "      <td>jacket</td>\n",
       "      <td>upperbody</td>\n",
       "      <td>blazer, symmetrical, regular (fit), no waistli...</td>\n",
       "      <td>welt (pocket), set-in sleeve, wrist-length, no...</td>\n",
       "    </tr>\n",
       "  </tbody>\n",
       "</table>\n",
       "</div>"
      ],
      "text/plain": [
       "                            ImageId  \\\n",
       "0  00000663ed1ff0c4e0132b9b9ac53f6e   \n",
       "1  00000663ed1ff0c4e0132b9b9ac53f6e   \n",
       "2  00000663ed1ff0c4e0132b9b9ac53f6e   \n",
       "\n",
       "                                       EncodedPixels  Height  Width  ClassId  \\\n",
       "0  6068157 7 6073371 20 6078584 34 6083797 48 608...    5214   3676        6   \n",
       "1  6323163 11 6328356 32 6333549 53 6338742 75 63...    5214   3676        0   \n",
       "2  4566382 8 4571592 25 4576803 41 4582013 58 458...    5214   3676        4   \n",
       "\n",
       "                        AttributesIds second_AttributesIds  \\\n",
       "0     115,136,143,154,230,295,316,317                  NaN   \n",
       "1     115,136,142,146,225,295,316,317                  163   \n",
       "2  17,115,136,145,149,225,295,311,317      219,204,160,174   \n",
       "\n",
       "                       bbox                  bbox_big  width  height     area  \\\n",
       "0  [1163, 3923, 2839, 5212]  [1122, 3891, 2880, 5214]   1758    1323  2325834   \n",
       "1  [1212, 1371, 2394, 3978]  [1183, 1306, 2423, 4043]   1240    2737  3393880   \n",
       "2   [875, 1437, 3309, 4871]   [815, 1352, 3369, 4956]   2554    3604  9204616   \n",
       "\n",
       "   id           name supercategory  \\\n",
       "0   6          pants     lowerbody   \n",
       "1   0  shirt, blouse     upperbody   \n",
       "2   4         jacket     upperbody   \n",
       "\n",
       "                                     AttributesNames  \\\n",
       "0  symmetrical, regular (fit), low waist, maxi (l...   \n",
       "1  symmetrical, regular (fit), normal waist, abov...   \n",
       "2  blazer, symmetrical, regular (fit), no waistli...   \n",
       "\n",
       "                              second_AttributesNames  \n",
       "0                                                NaN  \n",
       "1                                     shirt (collar)  \n",
       "2  welt (pocket), set-in sleeve, wrist-length, no...  "
      ]
     },
     "execution_count": 19,
     "metadata": {},
     "output_type": "execute_result"
    }
   ],
   "source": [
    "df.head(3)"
   ]
  },
  {
   "cell_type": "code",
   "execution_count": 21,
   "metadata": {},
   "outputs": [],
   "source": [
    "img = Image.open(\"../data/imaterialist-fashion-2020-fgvc7/train/00000663ed1ff0c4e0132b9b9ac53f6e.jpg\")\n",
    "cropped = crop_bbox(img, df['bbox_big'][0])\n",
    "# cropped"
   ]
  },
  {
   "cell_type": "markdown",
   "metadata": {},
   "source": [
    "#### 이미지 resize"
   ]
  },
  {
   "cell_type": "code",
   "execution_count": 22,
   "metadata": {},
   "outputs": [],
   "source": [
    "from PIL import Image, ImageFilter\n",
    "\n",
    "def resize_img(image, standard_size, category):\n",
    "    w, h = image.size\n",
    "    img_size = w*h\n",
    "\n",
    "    new_width, new_height = standard_size[category]\n",
    "    new_size = new_width * new_height\n",
    "\n",
    "    if img_size >= new_size:\n",
    "        # For downsizing\n",
    "        downsized_image = image.resize((new_width, new_height), Image.Resampling.LANCZOS)\n",
    "        return downsized_image\n",
    "    else:\n",
    "        # For upsizing\n",
    "        upsized_image = image.resize((new_width, new_height), Image.Resampling.LANCZOS)\n",
    "        upsized_image = upsized_image.filter(ImageFilter.UnsharpMask(radius=2, percent=150, threshold=3))\n",
    "        return upsized_image"
   ]
  },
  {
   "cell_type": "code",
   "execution_count": 24,
   "metadata": {},
   "outputs": [],
   "source": [
    "# resize_img(cropped, size, df['supercategory'][0])"
   ]
  },
  {
   "cell_type": "markdown",
   "metadata": {},
   "source": [
    "## 3. Cropping 된 이미지를 각 항목에 따라 resize 후 로컬에 저장"
   ]
  },
  {
   "cell_type": "markdown",
   "metadata": {},
   "source": [
    "약 40분 소요"
   ]
  },
  {
   "cell_type": "code",
   "execution_count": 26,
   "metadata": {},
   "outputs": [
    {
     "data": {
      "application/vnd.jupyter.widget-view+json": {
       "model_id": "188ed0f6ef45462a8967926177a3c59a",
       "version_major": 2,
       "version_minor": 0
      },
      "text/plain": [
       "  0%|          | 0/27375 [00:00<?, ?it/s]"
      ]
     },
     "metadata": {},
     "output_type": "display_data"
    }
   ],
   "source": [
    "base_path = \"../data/imaterialist-fashion-2020-fgvc7/train\"\n",
    "cropped_path = \"../data/imaterialist-fashion-2020-fgvc7/cropped_images\"\n",
    "new_df = pd.DataFrame()\n",
    "\n",
    "for image_name in tqdm(df['ImageId'].unique()):\n",
    "    # 한 이미지와 관련된 dataframe\n",
    "    tmp = df.loc[df['ImageId']==image_name]\n",
    "    tmp = tmp.reset_index().rename(columns={\"index\":\"entity_id\"})\n",
    "    image = Image.open(os.path.join(base_path, image_name+\".jpg\"))\n",
    "    # 각 이미지 내에 있는 상품들을 crop -> local save\n",
    "    for idx, row in tmp.iterrows():\n",
    "        cropped_img = crop_bbox(image, row['bbox_big'])\n",
    "        resized_img = resize_img(cropped_img, size, row['supercategory'])\n",
    "        resized_img.save(os.path.join(cropped_path, image_name + \"_\" + str(row['entity_id']) + \".jpg\"))\n",
    "\n",
    "    new_df = pd.concat([new_df, tmp], axis=0)"
   ]
  },
  {
   "cell_type": "code",
   "execution_count": 27,
   "metadata": {},
   "outputs": [],
   "source": [
    "# new_df.to_csv(\"../data/imaterialist-fashion-2020-fgvc7/clothes_final2.csv\", index=False)"
   ]
  },
  {
   "cell_type": "code",
   "execution_count": 28,
   "metadata": {},
   "outputs": [],
   "source": [
    "new_df = pd.read_csv(\"../data/imaterialist-fashion-2020-fgvc7/clothes_final2.csv\")\n",
    "\n",
    "new_df['bbox'] = [listify(i, \"[]\") for i in new_df['bbox']]\n",
    "new_df['bbox_big'] = [listify(i, \"[]\") for i in new_df['bbox_big']]"
   ]
  },
  {
   "cell_type": "code",
   "execution_count": 29,
   "metadata": {},
   "outputs": [
    {
     "data": {
      "text/html": [
       "<div>\n",
       "<style scoped>\n",
       "    .dataframe tbody tr th:only-of-type {\n",
       "        vertical-align: middle;\n",
       "    }\n",
       "\n",
       "    .dataframe tbody tr th {\n",
       "        vertical-align: top;\n",
       "    }\n",
       "\n",
       "    .dataframe thead th {\n",
       "        text-align: right;\n",
       "    }\n",
       "</style>\n",
       "<table border=\"1\" class=\"dataframe\">\n",
       "  <thead>\n",
       "    <tr style=\"text-align: right;\">\n",
       "      <th></th>\n",
       "      <th>ImageId</th>\n",
       "      <th>EncodedPixels</th>\n",
       "      <th>Height</th>\n",
       "      <th>Width</th>\n",
       "      <th>ClassId</th>\n",
       "      <th>AttributesIds</th>\n",
       "      <th>second_AttributesIds</th>\n",
       "      <th>bbox</th>\n",
       "      <th>bbox_big</th>\n",
       "      <th>width</th>\n",
       "      <th>height</th>\n",
       "      <th>area</th>\n",
       "      <th>id</th>\n",
       "      <th>name</th>\n",
       "      <th>supercategory</th>\n",
       "      <th>AttributesNames</th>\n",
       "      <th>second_AttributesNames</th>\n",
       "    </tr>\n",
       "  </thead>\n",
       "  <tbody>\n",
       "    <tr>\n",
       "      <th>0</th>\n",
       "      <td>00000663ed1ff0c4e0132b9b9ac53f6e</td>\n",
       "      <td>6068157 7 6073371 20 6078584 34 6083797 48 608...</td>\n",
       "      <td>5214</td>\n",
       "      <td>3676</td>\n",
       "      <td>6</td>\n",
       "      <td>115,136,143,154,230,295,316,317</td>\n",
       "      <td>NaN</td>\n",
       "      <td>[1163, 3923, 2839, 5212]</td>\n",
       "      <td>[1122, 3891, 2880, 5214]</td>\n",
       "      <td>1758</td>\n",
       "      <td>1323</td>\n",
       "      <td>2325834</td>\n",
       "      <td>6</td>\n",
       "      <td>pants</td>\n",
       "      <td>lowerbody</td>\n",
       "      <td>symmetrical, regular (fit), low waist, maxi (l...</td>\n",
       "      <td>NaN</td>\n",
       "    </tr>\n",
       "    <tr>\n",
       "      <th>1</th>\n",
       "      <td>00000663ed1ff0c4e0132b9b9ac53f6e</td>\n",
       "      <td>6323163 11 6328356 32 6333549 53 6338742 75 63...</td>\n",
       "      <td>5214</td>\n",
       "      <td>3676</td>\n",
       "      <td>0</td>\n",
       "      <td>115,136,142,146,225,295,316,317</td>\n",
       "      <td>163</td>\n",
       "      <td>[1212, 1371, 2394, 3978]</td>\n",
       "      <td>[1183, 1306, 2423, 4043]</td>\n",
       "      <td>1240</td>\n",
       "      <td>2737</td>\n",
       "      <td>3393880</td>\n",
       "      <td>0</td>\n",
       "      <td>shirt, blouse</td>\n",
       "      <td>upperbody</td>\n",
       "      <td>symmetrical, regular (fit), normal waist, abov...</td>\n",
       "      <td>shirt (collar)</td>\n",
       "    </tr>\n",
       "  </tbody>\n",
       "</table>\n",
       "</div>"
      ],
      "text/plain": [
       "                            ImageId  \\\n",
       "0  00000663ed1ff0c4e0132b9b9ac53f6e   \n",
       "1  00000663ed1ff0c4e0132b9b9ac53f6e   \n",
       "\n",
       "                                       EncodedPixels  Height  Width  ClassId  \\\n",
       "0  6068157 7 6073371 20 6078584 34 6083797 48 608...    5214   3676        6   \n",
       "1  6323163 11 6328356 32 6333549 53 6338742 75 63...    5214   3676        0   \n",
       "\n",
       "                     AttributesIds second_AttributesIds  \\\n",
       "0  115,136,143,154,230,295,316,317                  NaN   \n",
       "1  115,136,142,146,225,295,316,317                  163   \n",
       "\n",
       "                       bbox                  bbox_big  width  height     area  \\\n",
       "0  [1163, 3923, 2839, 5212]  [1122, 3891, 2880, 5214]   1758    1323  2325834   \n",
       "1  [1212, 1371, 2394, 3978]  [1183, 1306, 2423, 4043]   1240    2737  3393880   \n",
       "\n",
       "   id           name supercategory  \\\n",
       "0   6          pants     lowerbody   \n",
       "1   0  shirt, blouse     upperbody   \n",
       "\n",
       "                                     AttributesNames second_AttributesNames  \n",
       "0  symmetrical, regular (fit), low waist, maxi (l...                    NaN  \n",
       "1  symmetrical, regular (fit), normal waist, abov...         shirt (collar)  "
      ]
     },
     "execution_count": 29,
     "metadata": {},
     "output_type": "execute_result"
    }
   ],
   "source": [
    "df.head(2)"
   ]
  },
  {
   "cell_type": "code",
   "execution_count": 30,
   "metadata": {},
   "outputs": [
    {
     "data": {
      "text/html": [
       "<div>\n",
       "<style scoped>\n",
       "    .dataframe tbody tr th:only-of-type {\n",
       "        vertical-align: middle;\n",
       "    }\n",
       "\n",
       "    .dataframe tbody tr th {\n",
       "        vertical-align: top;\n",
       "    }\n",
       "\n",
       "    .dataframe thead th {\n",
       "        text-align: right;\n",
       "    }\n",
       "</style>\n",
       "<table border=\"1\" class=\"dataframe\">\n",
       "  <thead>\n",
       "    <tr style=\"text-align: right;\">\n",
       "      <th></th>\n",
       "      <th>entity_id</th>\n",
       "      <th>ImageId</th>\n",
       "      <th>EncodedPixels</th>\n",
       "      <th>Height</th>\n",
       "      <th>Width</th>\n",
       "      <th>ClassId</th>\n",
       "      <th>AttributesIds</th>\n",
       "      <th>second_AttributesIds</th>\n",
       "      <th>bbox</th>\n",
       "      <th>bbox_big</th>\n",
       "      <th>width</th>\n",
       "      <th>height</th>\n",
       "      <th>area</th>\n",
       "      <th>id</th>\n",
       "      <th>name</th>\n",
       "      <th>supercategory</th>\n",
       "      <th>AttributesNames</th>\n",
       "      <th>second_AttributesNames</th>\n",
       "    </tr>\n",
       "  </thead>\n",
       "  <tbody>\n",
       "    <tr>\n",
       "      <th>0</th>\n",
       "      <td>0</td>\n",
       "      <td>00000663ed1ff0c4e0132b9b9ac53f6e</td>\n",
       "      <td>6068157 7 6073371 20 6078584 34 6083797 48 608...</td>\n",
       "      <td>5214</td>\n",
       "      <td>3676</td>\n",
       "      <td>6</td>\n",
       "      <td>115,136,143,154,230,295,316,317</td>\n",
       "      <td>NaN</td>\n",
       "      <td>[1163, 3923, 2839, 5212]</td>\n",
       "      <td>[1122, 3891, 2880, 5214]</td>\n",
       "      <td>1758</td>\n",
       "      <td>1323</td>\n",
       "      <td>2325834</td>\n",
       "      <td>6</td>\n",
       "      <td>pants</td>\n",
       "      <td>lowerbody</td>\n",
       "      <td>symmetrical, regular (fit), low waist, maxi (l...</td>\n",
       "      <td>NaN</td>\n",
       "    </tr>\n",
       "    <tr>\n",
       "      <th>1</th>\n",
       "      <td>1</td>\n",
       "      <td>00000663ed1ff0c4e0132b9b9ac53f6e</td>\n",
       "      <td>6323163 11 6328356 32 6333549 53 6338742 75 63...</td>\n",
       "      <td>5214</td>\n",
       "      <td>3676</td>\n",
       "      <td>0</td>\n",
       "      <td>115,136,142,146,225,295,316,317</td>\n",
       "      <td>163</td>\n",
       "      <td>[1212, 1371, 2394, 3978]</td>\n",
       "      <td>[1183, 1306, 2423, 4043]</td>\n",
       "      <td>1240</td>\n",
       "      <td>2737</td>\n",
       "      <td>3393880</td>\n",
       "      <td>0</td>\n",
       "      <td>shirt, blouse</td>\n",
       "      <td>upperbody</td>\n",
       "      <td>symmetrical, regular (fit), normal waist, abov...</td>\n",
       "      <td>shirt (collar)</td>\n",
       "    </tr>\n",
       "    <tr>\n",
       "      <th>2</th>\n",
       "      <td>2</td>\n",
       "      <td>00000663ed1ff0c4e0132b9b9ac53f6e</td>\n",
       "      <td>4566382 8 4571592 25 4576803 41 4582013 58 458...</td>\n",
       "      <td>5214</td>\n",
       "      <td>3676</td>\n",
       "      <td>4</td>\n",
       "      <td>17,115,136,145,149,225,295,311,317</td>\n",
       "      <td>219,204,160,174</td>\n",
       "      <td>[875, 1437, 3309, 4871]</td>\n",
       "      <td>[815, 1352, 3369, 4956]</td>\n",
       "      <td>2554</td>\n",
       "      <td>3604</td>\n",
       "      <td>9204616</td>\n",
       "      <td>4</td>\n",
       "      <td>jacket</td>\n",
       "      <td>upperbody</td>\n",
       "      <td>blazer, symmetrical, regular (fit), no waistli...</td>\n",
       "      <td>welt (pocket), set-in sleeve, wrist-length, no...</td>\n",
       "    </tr>\n",
       "    <tr>\n",
       "      <th>3</th>\n",
       "      <td>3</td>\n",
       "      <td>0000fe7c9191fba733c8a69cfaf962b7</td>\n",
       "      <td>1343707 9 1346138 27 1348569 44 1351000 62 135...</td>\n",
       "      <td>2448</td>\n",
       "      <td>2448</td>\n",
       "      <td>1</td>\n",
       "      <td>0,115,145,146,295,316,317</td>\n",
       "      <td>190</td>\n",
       "      <td>[548, 405, 1946, 2263]</td>\n",
       "      <td>[514, 359, 1980, 2309]</td>\n",
       "      <td>1466</td>\n",
       "      <td>1950</td>\n",
       "      <td>2858700</td>\n",
       "      <td>1</td>\n",
       "      <td>top, t-shirt, sweatshirt</td>\n",
       "      <td>upperbody</td>\n",
       "      <td>classic (t-shirt), symmetrical, no waistline, ...</td>\n",
       "      <td>scoop (neck)</td>\n",
       "    </tr>\n",
       "    <tr>\n",
       "      <th>4</th>\n",
       "      <td>4</td>\n",
       "      <td>0002ec21ddb8477e98b2cbb87ea2e269</td>\n",
       "      <td>2287509 4 2290504 12 2290588 26 2293501 18 229...</td>\n",
       "      <td>3000</td>\n",
       "      <td>1997</td>\n",
       "      <td>10</td>\n",
       "      <td>102,128,142,150,229,295,301,318</td>\n",
       "      <td>182</td>\n",
       "      <td>[762, 719, 1262, 1967]</td>\n",
       "      <td>[750, 688, 1274, 1998]</td>\n",
       "      <td>524</td>\n",
       "      <td>1310</td>\n",
       "      <td>686440</td>\n",
       "      <td>10</td>\n",
       "      <td>dress</td>\n",
       "      <td>wholebody</td>\n",
       "      <td>sheath (dress), straight, normal waist, above-...</td>\n",
       "      <td>round (neck)</td>\n",
       "    </tr>\n",
       "  </tbody>\n",
       "</table>\n",
       "</div>"
      ],
      "text/plain": [
       "   entity_id                           ImageId  \\\n",
       "0          0  00000663ed1ff0c4e0132b9b9ac53f6e   \n",
       "1          1  00000663ed1ff0c4e0132b9b9ac53f6e   \n",
       "2          2  00000663ed1ff0c4e0132b9b9ac53f6e   \n",
       "3          3  0000fe7c9191fba733c8a69cfaf962b7   \n",
       "4          4  0002ec21ddb8477e98b2cbb87ea2e269   \n",
       "\n",
       "                                       EncodedPixels  Height  Width  ClassId  \\\n",
       "0  6068157 7 6073371 20 6078584 34 6083797 48 608...    5214   3676        6   \n",
       "1  6323163 11 6328356 32 6333549 53 6338742 75 63...    5214   3676        0   \n",
       "2  4566382 8 4571592 25 4576803 41 4582013 58 458...    5214   3676        4   \n",
       "3  1343707 9 1346138 27 1348569 44 1351000 62 135...    2448   2448        1   \n",
       "4  2287509 4 2290504 12 2290588 26 2293501 18 229...    3000   1997       10   \n",
       "\n",
       "                        AttributesIds second_AttributesIds  \\\n",
       "0     115,136,143,154,230,295,316,317                  NaN   \n",
       "1     115,136,142,146,225,295,316,317                  163   \n",
       "2  17,115,136,145,149,225,295,311,317      219,204,160,174   \n",
       "3           0,115,145,146,295,316,317                  190   \n",
       "4     102,128,142,150,229,295,301,318                  182   \n",
       "\n",
       "                       bbox                  bbox_big  width  height     area  \\\n",
       "0  [1163, 3923, 2839, 5212]  [1122, 3891, 2880, 5214]   1758    1323  2325834   \n",
       "1  [1212, 1371, 2394, 3978]  [1183, 1306, 2423, 4043]   1240    2737  3393880   \n",
       "2   [875, 1437, 3309, 4871]   [815, 1352, 3369, 4956]   2554    3604  9204616   \n",
       "3    [548, 405, 1946, 2263]    [514, 359, 1980, 2309]   1466    1950  2858700   \n",
       "4    [762, 719, 1262, 1967]    [750, 688, 1274, 1998]    524    1310   686440   \n",
       "\n",
       "   id                      name supercategory  \\\n",
       "0   6                     pants     lowerbody   \n",
       "1   0             shirt, blouse     upperbody   \n",
       "2   4                    jacket     upperbody   \n",
       "3   1  top, t-shirt, sweatshirt     upperbody   \n",
       "4  10                     dress     wholebody   \n",
       "\n",
       "                                     AttributesNames  \\\n",
       "0  symmetrical, regular (fit), low waist, maxi (l...   \n",
       "1  symmetrical, regular (fit), normal waist, abov...   \n",
       "2  blazer, symmetrical, regular (fit), no waistli...   \n",
       "3  classic (t-shirt), symmetrical, no waistline, ...   \n",
       "4  sheath (dress), straight, normal waist, above-...   \n",
       "\n",
       "                              second_AttributesNames  \n",
       "0                                                NaN  \n",
       "1                                     shirt (collar)  \n",
       "2  welt (pocket), set-in sleeve, wrist-length, no...  \n",
       "3                                       scoop (neck)  \n",
       "4                                       round (neck)  "
      ]
     },
     "execution_count": 30,
     "metadata": {},
     "output_type": "execute_result"
    }
   ],
   "source": [
    "new_df.head()"
   ]
  },
  {
   "cell_type": "markdown",
   "metadata": {},
   "source": [
    "## 4. CLIP을 활용한 embedding"
   ]
  },
  {
   "cell_type": "markdown",
   "metadata": {},
   "source": [
    "- fashion 데이터셋을 활용하여 pretrain된 CLIP 모델\n",
    "- CLIP 모델은 <이미지>-<caption> pair를 input data로 사용, 두 개를 하나의 동일한 embedding space에 구현\n",
    "- 따라서 <패션 이미지>-<패션 caption> pair를 활용하여 fine-tuned된 모델이 현재 프로젝트 목적에 적합\n",
    "- dot product를 사용하여 embedding ranking을 측정할 예정\n",
    "```json\n",
    "\"FashionCLIP performs the dot product between the input caption embedding and each image vector embedding\"\n",
    "\n",
    "\"The text used is a concatenation of the highlight (e.g., “stripes”, “long sleeves”, “Armani”) and short description (“80s styled t-shirt”)) available in the Farfetch dataset.\"\n",
    "```\n",
    "\n",
    "[Fine-tune 훈련 데이터](https://media.springernature.com/full/springer-static/image/art%3A10.1038%2Fs41598-022-23052-9/MediaObjects/41598_2022_23052_Fig3_HTML.png?as=webp, \"Fine-tune 훈련 데이터\")\n",
    "\n",
    "(출처 : Contrastive language and vision learning of general fashion concepts)\n",
    "\n",
    "- hugging face : https://huggingface.co/patrickjohncyh/fashion-clip\n",
    "- paper : https://www.nature.com/articles/s41598-022-23052-9"
   ]
  },
  {
   "cell_type": "markdown",
   "metadata": {},
   "source": [
    "#### F-CLIP VS CLIP 성능 차이\n",
    "\n",
    "https://www.nature.com/articles/s41598-022-23052-9/tables/1\n",
    "\n",
    "- HIT@5 = (서치 결과 top5에 있는 연관 상품의 개수) / (총 연관 상품의 개수)"
   ]
  },
  {
   "cell_type": "code",
   "execution_count": 32,
   "metadata": {},
   "outputs": [],
   "source": [
    "# new_df.head()"
   ]
  },
  {
   "cell_type": "code",
   "execution_count": 33,
   "metadata": {},
   "outputs": [
    {
     "data": {
      "application/vnd.jupyter.widget-view+json": {
       "model_id": "b76e944a3fd24216b08b546f6483229a",
       "version_major": 2,
       "version_minor": 0
      },
      "text/plain": [
       "config.json:   0%|          | 0.00/4.46k [00:00<?, ?B/s]"
      ]
     },
     "metadata": {},
     "output_type": "display_data"
    },
    {
     "name": "stderr",
     "output_type": "stream",
     "text": [
      "C:\\Users\\sckim\\.conda\\envs\\vectordb\\Lib\\site-packages\\huggingface_hub\\file_download.py:149: UserWarning: `huggingface_hub` cache-system uses symlinks by default to efficiently store duplicated files but your machine does not support them in C:\\Users\\sckim\\.cache\\huggingface\\hub\\models--patrickjohncyh--fashion-clip. Caching files will still work but in a degraded version that might require more space on your disk. This warning can be disabled by setting the `HF_HUB_DISABLE_SYMLINKS_WARNING` environment variable. For more details, see https://huggingface.co/docs/huggingface_hub/how-to-cache#limitations.\n",
      "To support symlinks on Windows, you either need to activate Developer Mode or to run Python as an administrator. In order to see activate developer mode, see this article: https://docs.microsoft.com/en-us/windows/apps/get-started/enable-your-device-for-development\n",
      "  warnings.warn(message)\n"
     ]
    },
    {
     "data": {
      "application/vnd.jupyter.widget-view+json": {
       "model_id": "60de7b44b3f54494ab58f65c38681e19",
       "version_major": 2,
       "version_minor": 0
      },
      "text/plain": [
       "model.safetensors:   0%|          | 0.00/605M [00:00<?, ?B/s]"
      ]
     },
     "metadata": {},
     "output_type": "display_data"
    },
    {
     "data": {
      "application/vnd.jupyter.widget-view+json": {
       "model_id": "b2ae82a317f349919f72c460f2a4ff34",
       "version_major": 2,
       "version_minor": 0
      },
      "text/plain": [
       "preprocessor_config.json:   0%|          | 0.00/316 [00:00<?, ?B/s]"
      ]
     },
     "metadata": {},
     "output_type": "display_data"
    },
    {
     "data": {
      "application/vnd.jupyter.widget-view+json": {
       "model_id": "1b204ffadc0c4273885563f2451e13d4",
       "version_major": 2,
       "version_minor": 0
      },
      "text/plain": [
       "tokenizer_config.json:   0%|          | 0.00/568 [00:00<?, ?B/s]"
      ]
     },
     "metadata": {},
     "output_type": "display_data"
    },
    {
     "data": {
      "application/vnd.jupyter.widget-view+json": {
       "model_id": "5e8cd2ed009f4abfbe1598aef0cab0b4",
       "version_major": 2,
       "version_minor": 0
      },
      "text/plain": [
       "vocab.json:   0%|          | 0.00/862k [00:00<?, ?B/s]"
      ]
     },
     "metadata": {},
     "output_type": "display_data"
    },
    {
     "data": {
      "application/vnd.jupyter.widget-view+json": {
       "model_id": "14909dc3f27e4fe1b9ac19454c0f4aa3",
       "version_major": 2,
       "version_minor": 0
      },
      "text/plain": [
       "merges.txt:   0%|          | 0.00/525k [00:00<?, ?B/s]"
      ]
     },
     "metadata": {},
     "output_type": "display_data"
    },
    {
     "data": {
      "application/vnd.jupyter.widget-view+json": {
       "model_id": "aa193bfae1da4e26b3dd230aacb7c038",
       "version_major": 2,
       "version_minor": 0
      },
      "text/plain": [
       "tokenizer.json:   0%|          | 0.00/2.22M [00:00<?, ?B/s]"
      ]
     },
     "metadata": {},
     "output_type": "display_data"
    },
    {
     "data": {
      "application/vnd.jupyter.widget-view+json": {
       "model_id": "f4ab4d03f54b4be2b9d7b13a3fb64aa9",
       "version_major": 2,
       "version_minor": 0
      },
      "text/plain": [
       "special_tokens_map.json:   0%|          | 0.00/389 [00:00<?, ?B/s]"
      ]
     },
     "metadata": {},
     "output_type": "display_data"
    }
   ],
   "source": [
    "from transformers import CLIPProcessor, CLIPModel\n",
    "\n",
    "model_name = \"patrickjohncyh/fashion-clip\"\n",
    "model = CLIPModel.from_pretrained(model_name)\n",
    "processor = CLIPProcessor.from_pretrained(model_name)"
   ]
  },
  {
   "cell_type": "code",
   "execution_count": 34,
   "metadata": {},
   "outputs": [],
   "source": [
    "# crop된 이미지들의 path 불러오기\n",
    "cropped_path = \"../data/imaterialist-fashion-2020-fgvc7/cropped_images\"\n",
    "\n",
    "images = list(os.walk(cropped_path))[0][2]"
   ]
  },
  {
   "cell_type": "code",
   "execution_count": 35,
   "metadata": {},
   "outputs": [
    {
     "data": {
      "text/plain": [
       "['00000663ed1ff0c4e0132b9b9ac53f6e_0.jpg',\n",
       " '00000663ed1ff0c4e0132b9b9ac53f6e_1.jpg',\n",
       " '00000663ed1ff0c4e0132b9b9ac53f6e_2.jpg']"
      ]
     },
     "execution_count": 35,
     "metadata": {},
     "output_type": "execute_result"
    }
   ],
   "source": [
    "images[:3]"
   ]
  },
  {
   "cell_type": "markdown",
   "metadata": {},
   "source": [
    "image embeddings from CLIP"
   ]
  },
  {
   "cell_type": "code",
   "execution_count": 36,
   "metadata": {},
   "outputs": [],
   "source": [
    "from image_utils import extract_img_features\n",
    "\n",
    "img_emb = extract_img_features(img, processor, model)"
   ]
  },
  {
   "cell_type": "code",
   "execution_count": 37,
   "metadata": {},
   "outputs": [
    {
     "data": {
      "text/plain": [
       "torch.Size([1, 512])"
      ]
     },
     "execution_count": 37,
     "metadata": {},
     "output_type": "execute_result"
    }
   ],
   "source": [
    "img_emb.shape"
   ]
  },
  {
   "cell_type": "markdown",
   "metadata": {},
   "source": [
    "- `01.Create_image_embeddings.py` 참고"
   ]
  },
  {
   "cell_type": "markdown",
   "metadata": {},
   "source": [
    "text embeddings from CLIP"
   ]
  },
  {
   "cell_type": "code",
   "execution_count": null,
   "metadata": {},
   "outputs": [],
   "source": [
    "from transformers import CLIPProcessor, CLIPModel, AutoTokenizer\n",
    "\n",
    "# model_name = \"patrickjohncyh/fashion-clip\"\n",
    "\n",
    "model = CLIPModel.from_pretrained(model_name)\n",
    "processor = CLIPProcessor.from_pretrained(model_name)\n",
    "tokenizer = AutoTokenizer.from_pretrained(model_name)"
   ]
  },
  {
   "cell_type": "code",
   "execution_count": null,
   "metadata": {},
   "outputs": [],
   "source": [
    "def get_single_text_embedding(text, model, tokenizer):\n",
    "    inputs = tokenizer(text, return_tensors = \"pt\", padding=True)\n",
    "    text_embeddings = model.get_text_features(**inputs)\n",
    "    # convert the embeddings to numpy array\n",
    "    embedding_as_np = text_embeddings.cpu().detach().numpy()\n",
    "    return embedding_as_np.tolist()"
   ]
  },
  {
   "cell_type": "code",
   "execution_count": null,
   "metadata": {},
   "outputs": [],
   "source": [
    "from sklearn.metrics.pairwise import cosine_similarity"
   ]
  },
  {
   "cell_type": "code",
   "execution_count": null,
   "metadata": {},
   "outputs": [],
   "source": [
    "img = Image.open(\"../data/imaterialist-fashion-2020-fgvc7/train/3bccf2e618d8f5f51442037ad3c8d4fb.jpg\")\n",
    "img"
   ]
  },
  {
   "cell_type": "markdown",
   "metadata": {},
   "source": [
    "fashion fine-tuned model"
   ]
  },
  {
   "cell_type": "markdown",
   "metadata": {},
   "source": [
    "```json\n",
    "\"The text used is a concatenation of the highlight (e.g., “stripes”, “long sleeves”, “Armani”) and short description (“80s styled t-shirt”)) available in the Farfetch dataset.\"\n",
    "```"
   ]
  },
  {
   "cell_type": "code",
   "execution_count": null,
   "metadata": {},
   "outputs": [],
   "source": [
    "img_emb = extract_img_features(img, processor, model)\n",
    "\n",
    "sample_texts = ['tshirt', \"formal suit and tie\", \n",
    "                'a woman', \"a lion in a cage\", \"black top short sleeves\",\n",
    "                'black shirt with check patterns, topwear', 'iphone']\n",
    "\n",
    "sample_texts_emb = get_single_text_embedding(sample_texts, model, tokenizer)\n",
    "\n",
    "sims = cosine_similarity(img_emb.cpu().detach().numpy(), sample_texts_emb)\n",
    "# 이후세는 dot product를 사용 예정 \n",
    "print(\"이미지와의 유사도\")\n",
    "for t, s in zip(sample_texts, sims[0]):\n",
    "    print(\"{} : {}\".format(t, s))\n",
    "    print()"
   ]
  },
  {
   "cell_type": "code",
   "execution_count": null,
   "metadata": {},
   "outputs": [],
   "source": [
    "img_emb.cpu().detach().numpy()[0].shape"
   ]
  },
  {
   "cell_type": "code",
   "execution_count": null,
   "metadata": {},
   "outputs": [],
   "source": [
    "np.array(s).shape"
   ]
  },
  {
   "cell_type": "code",
   "execution_count": null,
   "metadata": {},
   "outputs": [],
   "source": [
    "print('dot product')\n",
    "for text, s in zip(sample_texts, sample_texts_emb):\n",
    "    sim = np.dot(img_emb.cpu().detach().numpy()[0], np.array(s))\n",
    "    print(text, sim)"
   ]
  },
  {
   "cell_type": "markdown",
   "metadata": {},
   "source": [
    "---"
   ]
  },
  {
   "cell_type": "code",
   "execution_count": null,
   "metadata": {},
   "outputs": [],
   "source": [
    "embeddings = {}\n",
    "\n",
    "with open('../data/imaterialist-fashion-2020-fgvc7/img_embeddings_fashion_fine_tuned.json', 'r') as file:\n",
    "    for line in file:\n",
    "        # Convert each line to a dictionary\n",
    "        embedding_dict = json.loads(line.strip())\n",
    "        \n",
    "        # Convert the list back to a NumPy array if necessary\n",
    "        for img_name, emb_list in embedding_dict.items():\n",
    "            embeddings[img_name] = np.array(emb_list)"
   ]
  },
  {
   "cell_type": "code",
   "execution_count": null,
   "metadata": {},
   "outputs": [],
   "source": [
    "len(embeddings)"
   ]
  },
  {
   "cell_type": "code",
   "execution_count": null,
   "metadata": {},
   "outputs": [],
   "source": [
    "type(embeddings)"
   ]
  },
  {
   "cell_type": "code",
   "execution_count": null,
   "metadata": {},
   "outputs": [],
   "source": [
    "for k,v in embeddings.items():\n",
    "    print(k)\n",
    "    break"
   ]
  },
  {
   "cell_type": "code",
   "execution_count": null,
   "metadata": {},
   "outputs": [],
   "source": [
    "v.shape"
   ]
  },
  {
   "cell_type": "code",
   "execution_count": null,
   "metadata": {},
   "outputs": [],
   "source": []
  }
 ],
 "metadata": {
  "kernelspec": {
   "display_name": "Python 3 (ipykernel)",
   "language": "python",
   "name": "python3"
  },
  "language_info": {
   "codemirror_mode": {
    "name": "ipython",
    "version": 3
   },
   "file_extension": ".py",
   "mimetype": "text/x-python",
   "name": "python",
   "nbconvert_exporter": "python",
   "pygments_lexer": "ipython3",
   "version": "3.11.9"
  }
 },
 "nbformat": 4,
 "nbformat_minor": 4
}
