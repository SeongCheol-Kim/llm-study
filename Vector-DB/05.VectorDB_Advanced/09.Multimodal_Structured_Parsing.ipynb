{
 "cells": [
  {
   "cell_type": "markdown",
   "metadata": {
    "id": "SoFqtcUPFMIP"
   },
   "source": [
    "Learning Objectives\n",
    "- OpenAI GPT-4V 모델 이용해서 비정형 이미지 데이터로부터 정형 필드 파싱해보기"
   ]
  },
  {
   "cell_type": "code",
   "execution_count": 1,
   "metadata": {
    "id": "02V6CRkjEfKH"
   },
   "outputs": [],
   "source": [
    "import os\n",
    "from dotenv import load_dotenv\n",
    "load_dotenv()\n",
    "\n",
    "openai_api_key = os.environ.get('OPENAI_API_KEY')"
   ]
  },
  {
   "cell_type": "code",
   "execution_count": 2,
   "metadata": {
    "id": "EDXJcEtcEnO8"
   },
   "outputs": [],
   "source": [
    "from pathlib import Path\n",
    "\n",
    "input_image_path = Path(\"../data/restaurant_images\")\n",
    "if not input_image_path.exists():\n",
    "    Path.mkdir(input_image_path)"
   ]
  },
  {
   "cell_type": "code",
   "execution_count": 4,
   "metadata": {
    "id": "dp1UCOmDE7s4"
   },
   "outputs": [],
   "source": [
    "from PIL import Image\n",
    "import matplotlib.pyplot as plt\n",
    "\n",
    "# Data downlaod: https://docs.google.com/uc?export=download&id=1GlqcNJhGGbwLKjJK1QJ_nyswCTQ2K2Fq\n",
    "imageUrl = \"../data/restaurant_images/fried_chicken.png\"\n",
    "image = Image.open(imageUrl).convert(\"RGB\")\n",
    "\n",
    "# plt.figure(figsize=(16, 5))\n",
    "# plt.imshow(image)"
   ]
  },
  {
   "cell_type": "code",
   "execution_count": 5,
   "metadata": {
    "id": "vznakLFTE1aq"
   },
   "outputs": [],
   "source": [
    "from pydantic import BaseModel\n",
    "\n",
    "class Restaurant(BaseModel):\n",
    "    # 파싱 클래스 설명넣기\n",
    "    \"\"\"Data model for an restaurant.\"\"\"\n",
    "    # 파싱 필드 정의하기\n",
    "    restaurant: str\n",
    "    food: str\n",
    "    discount: str\n",
    "    price: str\n",
    "    rating: str\n",
    "    review: str"
   ]
  },
  {
   "cell_type": "code",
   "execution_count": 6,
   "metadata": {
    "id": "wTwb9GZDE4jd"
   },
   "outputs": [],
   "source": [
    "from llama_index.multi_modal_llms.openai import OpenAIMultiModal\n",
    "from llama_index.core import SimpleDirectoryReader\n",
    "\n",
    "image_documents = SimpleDirectoryReader(\"../data/restaurant_images\").load_data()\n",
    "\n",
    "# 유저가 업로드한 파일을 파싱하는 경우 openai 최신 모델은 token limit이 부족할 수 있음\n",
    "# 혹은 비용이 너무 비쌀 수 있음\n",
    "# 사용량이 많지 않은 비정형 데이터 파싱인 경우 gpt-4-vision 사용이 가능\n",
    "openai_mm_llm = OpenAIMultiModal(\n",
    "    model=\"gpt-4-vision-preview\", max_new_tokens=1000, api_key=openai_api_key,\n",
    ")"
   ]
  },
  {
   "cell_type": "code",
   "execution_count": 7,
   "metadata": {
    "id": "EVj-zoB9FDxS"
   },
   "outputs": [],
   "source": [
    "from llama_index.core.program import MultiModalLLMCompletionProgram\n",
    "from llama_index.core.output_parsers import PydanticOutputParser\n",
    "\n",
    "#파싱 인스트럭션\n",
    "# GPT-4 이전 모델의 경우 return format을 원하는대로 지정 불가\n",
    "# 따라서 production level의 application을 구현할 경우 pydantic 사용 필수\n",
    "# pydantic 설명: https://data-newbie.tistory.com/836\n",
    "prompt_template_str = \"\"\"\\\n",
    "    can you summarize what is in the image\\\n",
    "    and return the answer with json format \\\n",
    "\"\"\"\n",
    "openai_program = MultiModalLLMCompletionProgram.from_defaults(\n",
    "    output_parser=PydanticOutputParser(Restaurant),\n",
    "    image_documents=image_documents,\n",
    "    prompt_template_str=prompt_template_str,\n",
    "    multi_modal_llm=openai_mm_llm,\n",
    "    verbose=True,\n",
    ")"
   ]
  },
  {
   "cell_type": "code",
   "execution_count": 8,
   "metadata": {
    "id": "stagGXHbJOY5"
   },
   "outputs": [
    {
     "name": "stdout",
     "output_type": "stream",
     "text": [
      "\u001b[1;3;38;2;90;149;237m> Raw output: ```json\n",
      "{\n",
      "  \"restaurant\": \"Not Specified\",\n",
      "  \"food\": \"8 Wings or Chicken Poppers\",\n",
      "  \"discount\": \"Black Friday Offer\",\n",
      "  \"price\": \"$8.73\",\n",
      "  \"rating\": \"Not Specified\",\n",
      "  \"review\": \"Not Specified\"\n",
      "}\n",
      "```\n",
      "\u001b[0m('restaurant', 'Not Specified')\n",
      "('food', '8 Wings or Chicken Poppers')\n",
      "('discount', 'Black Friday Offer')\n",
      "('price', '$8.73')\n",
      "('rating', 'Not Specified')\n",
      "('review', 'Not Specified')\n"
     ]
    }
   ],
   "source": [
    "response = openai_program()\n",
    "for res in response:\n",
    "    print(res)"
   ]
  },
  {
   "cell_type": "code",
   "execution_count": 10,
   "metadata": {
    "id": "8FIlbUQRFIuH"
   },
   "outputs": [],
   "source": [
    "# 아마존 상품\n",
    "input_image_path = Path(\"../data/amazon_images\")\n",
    "if not input_image_path.exists():\n",
    "    Path.mkdir(input_image_path)"
   ]
  },
  {
   "cell_type": "code",
   "execution_count": 12,
   "metadata": {
    "id": "ljepSDx6O2NK"
   },
   "outputs": [],
   "source": [
    "# Image downlaod: https://docs.google.com/uc?export=download&id=1p1Y1qAoM68eC4sAvvHaiJyPhdUZS0Gqb\n",
    "imageUrl = \"../data/amazon_images/amazon.png\"\n",
    "image = Image.open(imageUrl).convert(\"RGB\")\n",
    "\n",
    "# plt.figure(figsize=(16, 5))\n",
    "# plt.imshow(image)"
   ]
  },
  {
   "cell_type": "code",
   "execution_count": 13,
   "metadata": {
    "id": "mm2H8gS4OpiM"
   },
   "outputs": [],
   "source": [
    "class Product(BaseModel):\n",
    "    # 클래스 디스크립션 작성\n",
    "    \"\"\"Data model for a Amazon Product.\"\"\"\n",
    "\n",
    "    title: str\n",
    "    category: str\n",
    "    discount: str\n",
    "    inventory: str\n",
    "    description: str\n",
    "    # 파싱 필드 정의"
   ]
  },
  {
   "cell_type": "code",
   "execution_count": 15,
   "metadata": {
    "id": "cJiofcrZO41n"
   },
   "outputs": [],
   "source": [
    "amazon_image_documents = SimpleDirectoryReader(\"../data/amazon_images\").load_data()\n",
    "\n",
    "prompt_template_str = \"\"\"\\\n",
    "    can you summarize what is in the image\\\n",
    "    and return the answer with json format \\\n",
    "\"\"\"\n",
    "openai_program_amazon = MultiModalLLMCompletionProgram.from_defaults(\n",
    "    output_parser=PydanticOutputParser(Product),\n",
    "    image_documents=amazon_image_documents,\n",
    "    prompt_template_str=prompt_template_str,\n",
    "    multi_modal_llm=openai_mm_llm,\n",
    "    verbose=True,\n",
    ")"
   ]
  },
  {
   "cell_type": "code",
   "execution_count": 16,
   "metadata": {
    "id": "20gB_iY1PaIa"
   },
   "outputs": [
    {
     "name": "stdout",
     "output_type": "stream",
     "text": [
      "\u001b[1;3;38;2;90;149;237m> Raw output: ```json\n",
      "{\n",
      "  \"title\": \"Instant Vortex 5.7QT Air Fryer Oven Combo, The Makers of Instant Pot, Customizable Smart Cooking Programs, Digital Touchscreen, Nonstick and Dishwasher-Safe Basket, App with over 100 Recipes\",\n",
      "  \"category\": \"Kitchen Appliances\",\n",
      "  \"discount\": \"20% off, save $25.19 from $129.99\",\n",
      "  \"inventory\": \"In stock\",\n",
      "  \"description\": \"A versatile and convenient air fryer by Instant Pot with customizable smart cooking programs and a digital touchscreen interface. It features a nonstick and dishwasher-safe basket, and comes with an app that includes over 100 recipes. The 5.7QT capacity is suitable for preparing family-sized meals.\"\n",
      "}\n",
      "```\n",
      "\u001b[0m('title', 'Instant Vortex 5.7QT Air Fryer Oven Combo, The Makers of Instant Pot, Customizable Smart Cooking Programs, Digital Touchscreen, Nonstick and Dishwasher-Safe Basket, App with over 100 Recipes')\n",
      "('category', 'Kitchen Appliances')\n",
      "('discount', '20% off, save $25.19 from $129.99')\n",
      "('inventory', 'In stock')\n",
      "('description', 'A versatile and convenient air fryer by Instant Pot with customizable smart cooking programs and a digital touchscreen interface. It features a nonstick and dishwasher-safe basket, and comes with an app that includes over 100 recipes. The 5.7QT capacity is suitable for preparing family-sized meals.')\n"
     ]
    }
   ],
   "source": [
    "response = openai_program_amazon()\n",
    "for res in response:\n",
    "    print(res)"
   ]
  },
  {
   "cell_type": "code",
   "execution_count": 17,
   "metadata": {
    "id": "xgWj9pe7PscT"
   },
   "outputs": [],
   "source": [
    "input_image_path = Path(\"../data/instagram_images\")\n",
    "if not input_image_path.exists():\n",
    "    Path.mkdir(input_image_path)"
   ]
  },
  {
   "cell_type": "code",
   "execution_count": 19,
   "metadata": {
    "id": "pdj1ByQLPxgt"
   },
   "outputs": [],
   "source": [
    "from PIL import Image\n",
    "import matplotlib.pyplot as plt\n",
    "\n",
    "# Image download: https://docs.google.com/uc?export=download&id=12ZpBBFkYu-jzz1iz356U5kMikn4uN9ww\n",
    "imageUrl = \"../data/instagram_images/jordan.png\"\n",
    "image = Image.open(imageUrl).convert(\"RGB\")\n",
    "\n",
    "# plt.figure(figsize=(16, 5))\n",
    "# plt.imshow(image)"
   ]
  },
  {
   "cell_type": "code",
   "execution_count": 20,
   "metadata": {
    "id": "FhXpfHXpPx17"
   },
   "outputs": [],
   "source": [
    "class InsAds(BaseModel):\n",
    "    # 파싱 클래스 디스크립션 작성\n",
    "    \"\"\"Data model for a Instagram Ads.\"\"\"\n",
    "\n",
    "    account: str\n",
    "    brand: str\n",
    "    product: str\n",
    "    price: str\n",
    "    comments: str\n",
    "    # 파싱 희망 필드 작성"
   ]
  },
  {
   "cell_type": "code",
   "execution_count": 21,
   "metadata": {
    "id": "U7TvwL7kP1vU"
   },
   "outputs": [
    {
     "name": "stdout",
     "output_type": "stream",
     "text": [
      "\u001b[1;3;38;2;90;149;237m> Raw output: ```json\n",
      "{\n",
      "  \"account\": \"jordansdaily\",\n",
      "  \"brand\": \"Air Jordan\",\n",
      "  \"product\": \"Air Jordan 2 'Italy'\",\n",
      "  \"price\": \"$175\",\n",
      "  \"comments\": \"Liked by cemmck and others\"\n",
      "}\n",
      "```\n",
      "\u001b[0m('account', 'jordansdaily')\n",
      "('brand', 'Air Jordan')\n",
      "('product', \"Air Jordan 2 'Italy'\")\n",
      "('price', '$175')\n",
      "('comments', 'Liked by cemmck and others')\n"
     ]
    }
   ],
   "source": [
    "ins_image_documents = SimpleDirectoryReader(\"../data/instagram_images\").load_data()\n",
    "\n",
    "prompt_template_str = \"\"\"\\\n",
    "    can you summarize what is in the image\\\n",
    "    and return the answer with json format \\\n",
    "\"\"\"\n",
    "openai_program_ins = MultiModalLLMCompletionProgram.from_defaults(\n",
    "    output_parser=PydanticOutputParser(InsAds),\n",
    "    image_documents=ins_image_documents,\n",
    "    prompt_template_str=prompt_template_str,\n",
    "    multi_modal_llm=openai_mm_llm,\n",
    "    verbose=True,\n",
    ")\n",
    "\n",
    "\n",
    "response = openai_program_ins()\n",
    "for res in response:\n",
    "    print(res)"
   ]
  },
  {
   "cell_type": "markdown",
   "metadata": {
    "id": "rlwTG66fFlTD"
   },
   "source": []
  }
 ],
 "metadata": {
  "colab": {
   "authorship_tag": "ABX9TyPH8nm0aHbN1I8JCZJMhMaB",
   "provenance": []
  },
  "kernelspec": {
   "display_name": "Python 3 (ipykernel)",
   "language": "python",
   "name": "python3"
  },
  "language_info": {
   "codemirror_mode": {
    "name": "ipython",
    "version": 3
   },
   "file_extension": ".py",
   "mimetype": "text/x-python",
   "name": "python",
   "nbconvert_exporter": "python",
   "pygments_lexer": "ipython3",
   "version": "3.11.9"
  }
 },
 "nbformat": 4,
 "nbformat_minor": 4
}
