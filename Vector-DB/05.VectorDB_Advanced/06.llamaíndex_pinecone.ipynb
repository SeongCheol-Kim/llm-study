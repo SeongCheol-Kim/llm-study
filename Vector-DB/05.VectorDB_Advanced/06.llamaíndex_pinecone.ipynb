{
 "cells": [
  {
   "cell_type": "code",
   "execution_count": 10,
   "metadata": {
    "id": "Aogun3FTed1Y"
   },
   "outputs": [],
   "source": [
    "from datasets import load_dataset\n",
    "from llama_index.core import Document, VectorStoreIndex\n",
    "from llama_index.core.ingestion import IngestionPipeline\n",
    "from llama_index.embeddings.openai import OpenAIEmbedding\n",
    "from llama_index.vector_stores.pinecone import PineconeVectorStore\n",
    "from llama_index.core.node_parser import SimpleNodeParser\n",
    "from llama_index.core.retrievers import VectorIndexRetriever\n",
    "from llama_index.core.query_engine import RetrieverQueryEngine\n",
    "from llama_index.core.evaluation import RelevancyEvaluator\n",
    "from pinecone import Pinecone, ServerlessSpec\n",
    "import re, os, nest_asyncio\n",
    "from time import sleep"
   ]
  },
  {
   "cell_type": "code",
   "execution_count": 2,
   "metadata": {
    "id": "u7vRwQNberUr"
   },
   "outputs": [],
   "source": [
    "from dotenv import load_dotenv\n",
    "load_dotenv()\n",
    "\n",
    "pinecone_api_key = os.environ.get('PINECONE_API_KEY')\n",
    "openai_api_key = os.environ.get('OPENAI_API_KEY')"
   ]
  },
  {
   "cell_type": "code",
   "execution_count": 3,
   "metadata": {
    "id": "QzpR9IRoe9J2"
   },
   "outputs": [],
   "source": [
    "# 실습 데이터 로드 및 판다스 데이터프레임화\n",
    "dataset = load_dataset(\"lcw99/wikipedia-korean-20221001\", split='train[:100]')\n",
    "data = dataset.to_pandas()[['id', 'text', 'title']].drop_duplicates(subset='text', keep='first')"
   ]
  },
  {
   "cell_type": "code",
   "execution_count": 4,
   "metadata": {
    "id": "Ur6vcEZmfMfK"
   },
   "outputs": [],
   "source": [
    "# 스트링 전처리\n",
    "def clean_up_text(content: str) -> str:\n",
    "    content = re.sub(r'(\\w+)-\\n(\\w+)', r'\\1\\2', content)\n",
    "    content = re.sub(r'\\\\n|  —|——————————|—————————|—————|\\\\u[\\dA-Fa-f]{4}|\\uf075|\\uf0b7', \"\", content)\n",
    "    content = re.sub(r'(\\w)\\s*-\\s*(\\w)', r'\\1-\\2', content)\n",
    "    content = re.sub(r'\\s+', ' ', content)\n",
    "\n",
    "    return content\n",
    "\n",
    "# 텍스트 전처리와 곁들여 document화 진행\n",
    "docs = [Document(\n",
    "    text=clean_up_text(row['text']),\n",
    "    doc_id=row['id'],\n",
    "    extra_info={'title': row['title']}\n",
    ") for _, row in data.iterrows()]"
   ]
  },
  {
   "cell_type": "code",
   "execution_count": 7,
   "metadata": {},
   "outputs": [],
   "source": [
    "# docs[0]"
   ]
  },
  {
   "cell_type": "code",
   "execution_count": 8,
   "metadata": {
    "id": "S-QgRjGufikQ"
   },
   "outputs": [],
   "source": [
    "# Pinecone setup\n",
    "\n",
    "pc = Pinecone(api_key=pinecone_api_key)"
   ]
  },
  {
   "cell_type": "code",
   "execution_count": 11,
   "metadata": {
    "id": "oJnXGRZ0flvv"
   },
   "outputs": [
    {
     "name": "stdout",
     "output_type": "stream",
     "text": [
      "{'dimension': 1536,\n",
      " 'index_fullness': 0.0,\n",
      " 'namespaces': {},\n",
      " 'total_vector_count': 0}\n"
     ]
    }
   ],
   "source": [
    "# 파인콘 인덱스 생성\n",
    "from time import sleep\n",
    "\n",
    "index_name=\"quickstart\"\n",
    "\n",
    "if index_name in [index_info[\"name\"] for index_info in pc.list_indexes()]:\n",
    "    pc.delete_index(index_name)\n",
    "\n",
    "pc.create_index(\n",
    "   name=index_name,\n",
    "   dimension=1536,\n",
    "   metric=\"dotproduct\",\n",
    "   spec=ServerlessSpec(\n",
    "       cloud='aws',\n",
    "       region='us-east-1'\n",
    "   )\n",
    ")\n",
    "\n",
    "while not pc.describe_index(index_name).status['ready']:\n",
    "    sleep(1)\n",
    "index = pc.Index(index_name)\n",
    "sleep(1)\n",
    "index_stats = index.describe_index_stats()\n",
    "print(index_stats)"
   ]
  },
  {
   "cell_type": "code",
   "execution_count": null,
   "metadata": {
    "colab": {
     "background_save": true
    },
    "id": "u3jZeQ9AfpiI"
   },
   "outputs": [],
   "source": [
    "# Ingestion Pipeline 정의\n",
    "# chunking, embedding 한번에 수행\n",
    "embed_model = OpenAIEmbedding(api_key=openai_api_key, model='text-embedding-ada-002')\n",
    "vector_store = PineconeVectorStore(pinecone_index=index)\n",
    "pipeline = IngestionPipeline(transformations=[SimpleNodeParser(), embed_model], vector_store=vector_store)\n",
    "\n",
    "# Run pipeline\n",
    "pipeline.run(documents=docs)"
   ]
  },
  {
   "cell_type": "code",
   "execution_count": 13,
   "metadata": {
    "id": "-tST4ny2fv3J"
   },
   "outputs": [],
   "source": [
    "# querying stage 구성\n",
    "vector_index = VectorStoreIndex.from_vector_store(vector_store=vector_store)\n",
    "retriever = VectorIndexRetriever(index=vector_index, similarty_top_k=5)"
   ]
  },
  {
   "cell_type": "code",
   "execution_count": null,
   "metadata": {
    "id": "E3ShmMUYgDC7"
   },
   "outputs": [],
   "source": [
    "# 단순 retreive 테스트\n",
    "answer = retriever.retrieve('구글의 광고수익에 대해 알려줘')\n",
    "print([i.get_content() for i in answer])"
   ]
  },
  {
   "cell_type": "code",
   "execution_count": 19,
   "metadata": {
    "id": "Cy9kkAu8gCcj"
   },
   "outputs": [
    {
     "data": {
      "text/plain": [
       "'구글의 광고 수익은 2008년에는 42억 달러로 상승하여 전체 수입의 97%를 占하였고, 2011년에는 미국 내 웹 광고 시장의 전체 규모가 600억 달러에 이를 것으로 전망되었다.'"
      ]
     },
     "execution_count": 19,
     "metadata": {},
     "output_type": "execute_result"
    }
   ],
   "source": [
    "from llama_index.core import ServiceContext\n",
    "\n",
    "# RAG 구성\n",
    "query_engine = RetrieverQueryEngine(retriever=retriever).from_args(retriever=retriever)\n",
    "nest_asyncio.apply() # 다중 query 수행시 필요\n",
    " \n",
    "query = '구글의 광고수익에 대해 알려줘'\n",
    "llm_response = query_engine.query(query)\n",
    "llm_response.response"
   ]
  },
  {
   "cell_type": "code",
   "execution_count": 20,
   "metadata": {
    "id": "vCYCE-ciVefZ"
   },
   "outputs": [
    {
     "data": {
      "text/plain": [
       "'구글의 2008년 광고 수익은 42억 달러였습니다.'"
      ]
     },
     "execution_count": 20,
     "metadata": {},
     "output_type": "execute_result"
    }
   ],
   "source": [
    "# 구체적인 수치에 대한 질문\n",
    "query = '구글의 2008년 광고 수익이 얼마였지?'\n",
    "llm_response = query_engine.query(query)\n",
    "llm_response.response"
   ]
  },
  {
   "cell_type": "code",
   "execution_count": 21,
   "metadata": {
    "id": "iEBPJk6iWDHc"
   },
   "outputs": [
    {
     "data": {
      "text/plain": [
       "'The combined advertising revenue of CBS, NBC, ABC, FOX, and CW in 2008 was equivalent to the advertising revenue of Google in that year, which was over 42 billion dollars.'"
      ]
     },
     "execution_count": 21,
     "metadata": {},
     "output_type": "execute_result"
    }
   ],
   "source": [
    "# 명시되지 않았지만, 1차적인 reasoning이 있으면 답변 가능한 질문\n",
    "query = '2008년 CBS, NBC, ABC, FOX, CW의 합산 광고 수익이 달러로 얼마야?'\n",
    "llm_response = query_engine.query(query)\n",
    "llm_response.response"
   ]
  },
  {
   "cell_type": "code",
   "execution_count": 22,
   "metadata": {
    "id": "UHjVqsBiVUFu"
   },
   "outputs": [
    {
     "data": {
      "text/plain": [
       "'네이버의 광고수익은 구글과는 다르게 명시적으로 언급되지 않았습니다. 따라서 네이버의 광고수익에 대한 구체적인 정보는 이 문서에서는 제공되지 않습니다.'"
      ]
     },
     "execution_count": 22,
     "metadata": {},
     "output_type": "execute_result"
    }
   ],
   "source": [
    "# 답할수 없는 질문일땐?\n",
    "query = '네이버의 광고수익에 대해 알려줘'\n",
    "llm_response = query_engine.query(query)\n",
    "llm_response.response"
   ]
  },
  {
   "cell_type": "code",
   "execution_count": null,
   "metadata": {
    "id": "F1u2Yz_FhOYu"
   },
   "outputs": [],
   "source": [
    "# 답변 생성시 사용된 source node 확인\n",
    "llm_response_source_nodes = [i.get_content() for i in llm_response.source_nodes]\n",
    "llm_response_source_nodes"
   ]
  },
  {
   "cell_type": "code",
   "execution_count": 23,
   "metadata": {
    "id": "BUwH-P2Kgl8Q"
   },
   "outputs": [
    {
     "name": "stdout",
     "output_type": "stream",
     "text": [
      "\n",
      "Given the 2 chunks of content (below), is your LLM's response relevant? True\n",
      "         \n",
      " ----Contexts----- \n",
      "         \n",
      "['그리고 그 가운데 97%가 광고 수입이었다. 2008년, 구글의 광고 수입은 5개 방송사(CBS, NBC, ABC, FOX, CW)의 광고 수입을 합한 것에 맞먹었다. 2011년에 이르면 미국 내 웹 광고는 600억 달러(전체 13%)에 달할 것으로 전망된다. 게다가 구글은 TV, 라디오, 신문에 광고를 판매함으로써 시장점유율을 가일층 확대할 사업구상을 이미 개시했다. 사용자가 텍스트 광고를 클릭할 때만 광고료를 부과해서 광고주들 중에서 우군을 확보했고, 무료이자 2009년 초반까지 광고가 붙지 않았던 구글 뉴스로 뉴스독자들 중에서 우군을 확보했으며, 광고 수익과 신규 고객을 발생시켜 줌으로써 웹사이트와 소규모 사업자들 중에서 우군을 확보했다. 구글은 두 번째 경매 프로그램 애드센스 때부터 수입의 20%만 자기 주머니에 넣고 나머지는 웹사이트들에게 돌려 주었다. 2008년에 구글은 총 50억 달러가 넘는 돈을 수십만에 달하는 \\'파트너들\\'에게 제공했다. 제품 Gmail, 구글 뉴스, 구글 어스, 구글 맵스, 구글 비디오, 구글 번역, 피카사(Picasa-디지털 사진 공유), 구글 클래스룸, 구글 북스(발행된 모든 책 검색), 구글 트렌드 (검색량 통계 제공), 오컷(Orkut-인맥, 친목 사이트), 여기에 데스크톱(Desktop)이나 문서도구(Docs), 구글 플레이같은 \\'클라우드 컴퓨팅(cloud computing)\\' 응용 프로그램까지 제공한다. 구글에서 사용하는 컴퓨터는 보통 PC들로 구성된 컴퓨터 클러스터들인데, 이 클러스터들은 일을 병렬적으로 처리하여 방대한 양의 데이터베이스를 처리한다. 특히 여러 대의 PC를 운영하면서 계속적인 데이터베이스를 처리하기 위해 한 컴퓨터에 오류가 났을 경우 그 컴퓨터는 꺼지고, 다른 컴퓨터가 일을 계속 처리하도록 한다. 구글은 이러한 방식이 거대하고 비싼 컴퓨터(서버)를 대신하는 대안이 될 수 있음을 증명했고 이러한 방식을 지금도 사용하고 있다. 최근에는 인공지능 사업에도 투자를 하여 알파고나 무인자동차의 영역에서 활발히 활동하고 있다. 구글의 문화 구글의 철학은 \"You can make money without doing evil.\"(악해지지 않고도 돈을 벌 수 있다.)와, \"You can be serious without a suit.\"(정장 없이도 진지해질 수 있다) 그리고 \"Work should be challenging and the challenge should be fun.', '광고 구글은 광고주에게 구글 애즈 프로그램을 제공한다. 이 프로그램을 통해 입찰함으로써 검색 결과 옆에 뜨는 텍스트 광고를 구매할 수 있다. 희소성이 높은 키워드는 클릭당 광고비가 더 비싸게 책정된다. 애드센스를 통해서 광고를 하고 싶어하는 회사와 관련 사이트를 연결하는 역할을 한다. 애드워즈와 유사한 자동화 프로그램을 통해 둘을 연결해 준다. 구글은 클릭당 지불 데이터를 가지고 해당 광고를 클릭할 때만 비용을 내도록 한다. 구글 애널리틱스(Google Analytics)는 광고주에게 해당 광고의 효과를 즉시 확인 할 수 있는 무료 툴을 제공한다. 이 프로그램은 매시간 클릭수와 판매량, 해당 키워드의 트래픽, 클릭이 판매로 이어진 비율 등 광고 효과를 즉각 확인 할 수 있게 해준다. 미디어 업체로 하여금 광고 판매에 들어가는 비용을 줄임으로써 롱테일(long tail)이라는 형태로 변화하도록 한다. 그렇게 한다면 기존에는 광고를 잘 하지 않던 이들까지도 타킷팅이 잘 된 저렴한 광고를 구매하도록 끌어들일 수 있다는 것이다. 구글은 사용자들에게 신문이나 책, 잡지를 자유롭게 검색하도록 권장한다. 해당 발행물들 역시 검색 트래픽을 활용해서 무료로 자신들을 홍보하고 광고를 판매해 수익을 창출한다. TV 방송사나 영화사들은 유튜브를 홍보 채널 겸 온라인 배급시스템으로 활용하도록 권장한다. 광고주들에게는 구글이 2007년에 인수한 디지털 광고 서비스 업체 더블클릭(Doubleclick)을 통해 온라인 광고를 하도록 권한다. 구글의 수입은 2004년 32억 달러이던 것이 2007년에는 166억 달러로 뛰었다. 세계적 불황을 비웃기라도 하듯, 구글은 2008년에 42억 달러의 수익을 거두었고 매출은 218억 달러로 상승했다. 그리고 그 가운데 97%가 광고 수입이었다. 2008년, 구글의 광고 수입은 5개 방송사(CBS, NBC, ABC, FOX, CW)의 광고 수입을 합한 것에 맞먹었다. 2011년에 이르면 미국 내 웹 광고는 600억 달러(전체 13%)에 달할 것으로 전망된다. 게다가 구글은 TV, 라디오, 신문에 광고를 판매함으로써 시장점유율을 가일층 확대할 사업구상을 이미 개시했다.']\n"
     ]
    }
   ],
   "source": [
    "# 할루시네이션 답변을 평가하고 사용자에게 노출 전 평가\n",
    "query = '구글의 2008년 광고 수익이 얼마였지?'\n",
    "evaluator = RelevancyEvaluator()\n",
    "eval_result = evaluator.evaluate_response(query=query, response=llm_response)\n",
    "\n",
    "llm_response_source_nodes = [i.get_content() for i in llm_response.source_nodes]\n",
    "print(f'\\nGiven the {len(llm_response_source_nodes)} chunks of content (below), is your LLM\\'s response relevant? {eval_result.passing}\\n \\\n",
    "        \\n ----Contexts----- \\n \\\n",
    "        \\n{llm_response_source_nodes}')"
   ]
  },
  {
   "cell_type": "code",
   "execution_count": null,
   "metadata": {
    "id": "TyeKAiqGbi9D"
   },
   "outputs": [],
   "source": []
  }
 ],
 "metadata": {
  "colab": {
   "authorship_tag": "ABX9TyOC4R4icfDSHQGVALrJRkK/",
   "provenance": []
  },
  "kernelspec": {
   "display_name": "Python 3 (ipykernel)",
   "language": "python",
   "name": "python3"
  },
  "language_info": {
   "codemirror_mode": {
    "name": "ipython",
    "version": 3
   },
   "file_extension": ".py",
   "mimetype": "text/x-python",
   "name": "python",
   "nbconvert_exporter": "python",
   "pygments_lexer": "ipython3",
   "version": "3.11.9"
  }
 },
 "nbformat": 4,
 "nbformat_minor": 4
}
