{
 "cells": [
  {
   "cell_type": "code",
   "execution_count": 2,
   "metadata": {
    "id": "V9da5bBZmhsL"
   },
   "outputs": [],
   "source": [
    "import os\n",
    "import time\n",
    "from dotenv import load_dotenv\n",
    "load_dotenv()\n",
    "\n",
    "pinecone_api_key = os.environ.get('PINECONE_API_KEY')\n",
    "openai_api_key = os.environ.get('OPENAI_API_KEY')"
   ]
  },
  {
   "cell_type": "code",
   "execution_count": 4,
   "metadata": {
    "id": "fSigdjF2mn1c"
   },
   "outputs": [],
   "source": [
    "# 기반 데이터셋 로드\n",
    "from datasets import load_dataset\n",
    "\n",
    "dataset = load_dataset(\"lcw99/wikipedia-korean-20221001\", split='train[:100]')"
   ]
  },
  {
   "cell_type": "code",
   "execution_count": 5,
   "metadata": {
    "id": "Tn8Ym746mraA"
   },
   "outputs": [
    {
     "data": {
      "text/html": [
       "<div>\n",
       "<style scoped>\n",
       "    .dataframe tbody tr th:only-of-type {\n",
       "        vertical-align: middle;\n",
       "    }\n",
       "\n",
       "    .dataframe tbody tr th {\n",
       "        vertical-align: top;\n",
       "    }\n",
       "\n",
       "    .dataframe thead th {\n",
       "        text-align: right;\n",
       "    }\n",
       "</style>\n",
       "<table border=\"1\" class=\"dataframe\">\n",
       "  <thead>\n",
       "    <tr style=\"text-align: right;\">\n",
       "      <th></th>\n",
       "      <th>id</th>\n",
       "      <th>text</th>\n",
       "      <th>title</th>\n",
       "    </tr>\n",
       "  </thead>\n",
       "  <tbody>\n",
       "    <tr>\n",
       "      <th>0</th>\n",
       "      <td>5</td>\n",
       "      <td>제임스 얼 카터 주니어(, 1924년 10월 1일 ~ )는 민주당 출신 미국 39대...</td>\n",
       "      <td>지미 카터</td>\n",
       "    </tr>\n",
       "    <tr>\n",
       "      <th>1</th>\n",
       "      <td>9</td>\n",
       "      <td>수학(數學, , 줄여서 math)은 수, 양, 구조, 공간, 변화 등의 개념을 다루...</td>\n",
       "      <td>수학</td>\n",
       "    </tr>\n",
       "    <tr>\n",
       "      <th>2</th>\n",
       "      <td>10</td>\n",
       "      <td>수학에서 상수란 그 값이 변하지 않는 불변량으로, 변수의 반대말이다. 물리 상수와는...</td>\n",
       "      <td>수학 상수</td>\n",
       "    </tr>\n",
       "    <tr>\n",
       "      <th>3</th>\n",
       "      <td>19</td>\n",
       "      <td>문학(文學, )은 언어를 예술적 표현의 제재로 삼아 새로운 의미를 창출하여, 인간과...</td>\n",
       "      <td>문학</td>\n",
       "    </tr>\n",
       "    <tr>\n",
       "      <th>4</th>\n",
       "      <td>20</td>\n",
       "      <td>이 목록에 실린 국가 기준은 1933년 몬테비데오 협약 1장을 참고로 하였다. 협정...</td>\n",
       "      <td>나라 목록</td>\n",
       "    </tr>\n",
       "  </tbody>\n",
       "</table>\n",
       "</div>"
      ],
      "text/plain": [
       "   id                                               text  title\n",
       "0   5  제임스 얼 카터 주니어(, 1924년 10월 1일 ~ )는 민주당 출신 미국 39대...  지미 카터\n",
       "1   9  수학(數學, , 줄여서 math)은 수, 양, 구조, 공간, 변화 등의 개념을 다루...     수학\n",
       "2  10  수학에서 상수란 그 값이 변하지 않는 불변량으로, 변수의 반대말이다. 물리 상수와는...  수학 상수\n",
       "3  19  문학(文學, )은 언어를 예술적 표현의 제재로 삼아 새로운 의미를 창출하여, 인간과...     문학\n",
       "4  20  이 목록에 실린 국가 기준은 1933년 몬테비데오 협약 1장을 참고로 하였다. 협정...  나라 목록"
      ]
     },
     "execution_count": 5,
     "metadata": {},
     "output_type": "execute_result"
    }
   ],
   "source": [
    "# 라마인덱스 네이티브 형태의 다큐먼트로 파싱하기 위해 데이터프레임으로 정의\n",
    "data = dataset.to_pandas()[['id', 'text', 'title']]\n",
    "data.drop_duplicates(subset='text', keep='first', inplace=True)\n",
    "data.head()"
   ]
  },
  {
   "cell_type": "code",
   "execution_count": 6,
   "metadata": {
    "id": "bFBTwXZym7dV"
   },
   "outputs": [],
   "source": [
    "#라마인덱스 다큐먼트 오브젝트로서 텍스트 데이터를 메타와 함께 정의\n",
    "from llama_index.core import Document\n",
    "\n",
    "docs = []\n",
    "\n",
    "for i, row in data.iterrows():\n",
    "    docs.append(Document(\n",
    "        text=row['text'],\n",
    "        doc_id=row['id'],\n",
    "        extra_info={'title': row['title']}\n",
    "    ))"
   ]
  },
  {
   "cell_type": "code",
   "execution_count": 8,
   "metadata": {
    "id": "-YKpho8im8uk"
   },
   "outputs": [],
   "source": [
    "# # Document 확인\n",
    "# docs[0]"
   ]
  },
  {
   "cell_type": "code",
   "execution_count": 9,
   "metadata": {
    "id": "fUcBLO7CnZa4"
   },
   "outputs": [
    {
     "data": {
      "text/plain": [
       "TextNode(id_='ab3ac2b3-a2ac-44c1-92d4-1a015f7ca13f', embedding=None, metadata={'title': '지미 카터'}, excluded_embed_metadata_keys=[], excluded_llm_metadata_keys=[], relationships={<NodeRelationship.SOURCE: '1'>: RelatedNodeInfo(node_id='5', node_type=<ObjectType.DOCUMENT: '4'>, metadata={'title': '지미 카터'}, hash='6c4f6250b2c71196e0876bb59e94d9496a6fae62ee2104a452c19434f7e2bc0d'), <NodeRelationship.NEXT: '3'>: RelatedNodeInfo(node_id='d392f6b4-eda4-4cf5-82a7-14218e93e317', node_type=<ObjectType.TEXT: '1'>, metadata={}, hash='b1c0fcd751e6cd8d42a1d9900d9c841da7c7ff46b5583259d4b56955547c75f6')}, text='제임스 얼 카터 주니어(, 1924년 10월 1일 ~ )는 민주당 출신 미국 39대 대통령 (1977년 ~ 1981년)이다.\\n\\n생애\\n\\n어린 시절 \\n지미 카터는 조지아주 섬터 카운티 플레인스 마을에서 태어났다.\\n\\n조지아 공과대학교를 졸업하였다. 그 후 해군에 들어가 전함·원자력·잠수함의 승무원으로 일하였다. 1953년 미국 해군 대위로 예편하였고 이후 땅콩·면화 등을 가꿔 많은 돈을 벌었다. 그의 별명이 \"땅콩 농부\" (Peanut Farmer)로 알려졌다.\\n\\n정계 입문 \\n1962년 조지아주 상원 의원 선거에서 낙선하나 그 선거가 부정선거 였음을 입증하게 되어 당선되고, 1966년 조지아 주지사 선거에 낙선하지만, 1970년 조지아 주지사를 역임했다. 대통령이 되기 전 조지아주 상원의원을 두번 연임했으며, 1971년부터 1975년까지 조지아 지사로 근무했다. 조지아 주지사로 지내면서, 미국에 사는 흑인 등용법을 내세웠다.\\n\\n대통령 재임 \\n\\n1976년 미합중국 제39대 대통령 선거에 민주당 후보로 출마하여 도덕주의 정책으로 내세워서, 많은 지지를 받고 제럴드 포드 대통령을 누르고 당선되었다.\\n\\n카터 대통령은 에너지 개발을 촉구했으나 공화당의 반대로 무산되었다.\\n\\n외교 정책 \\n카터는 이집트와 이스라엘을 조정하여 캠프 데이비드에서 안와르 사다트 대통령과 메나헴 베긴 수상과 함께 중동 평화를 위한 캠프데이비드 협정을 체결했다. 이것은 공화당과 미국의 유대인 단체의 반발을 일으켰다. 그러나 1979년, 양국 간의 평화조약이 백악관에서 이루어졌다.\\n\\n소련과 제2차 전략 무기 제한 협상(SALT II)에 조인했다.\\n\\n카터는 1970년대 후반 당시 대한민국 등 인권 후진국의 국민들의 인권을 지키기 위해 노력했으며, 취임 이후 계속해서 도덕정치를 내세웠다.\\n\\n임기 말, 소련의 아프가니스탄 침공 사건으로 인해 1980년 하계 올림픽에 반공국가들의 보이콧을 하였다.', start_char_idx=0, end_char_idx=934, text_template='{metadata_str}\\n\\n{content}', metadata_template='{key}: {value}', metadata_seperator='\\n')"
      ]
     },
     "execution_count": 9,
     "metadata": {},
     "output_type": "execute_result"
    }
   ],
   "source": [
    "# 노드로 청킹\n",
    "# Node는 llamaindex의 기본 문서 유닛\n",
    "from llama_index.core.node_parser import SimpleNodeParser\n",
    "\n",
    "parser = SimpleNodeParser()\n",
    "\n",
    "nodes = parser.get_nodes_from_documents(docs)\n",
    "nodes[0]"
   ]
  },
  {
   "cell_type": "code",
   "execution_count": 10,
   "metadata": {
    "id": "sye_Von0n0Lq"
   },
   "outputs": [],
   "source": [
    "# 파인콘 연결\n",
    "from pinecone import Pinecone, ServerlessSpec\n",
    "\n",
    "pc = Pinecone(api_key=pinecone_api_key)"
   ]
  },
  {
   "cell_type": "code",
   "execution_count": 11,
   "metadata": {
    "id": "GBARpmu3ojoS"
   },
   "outputs": [
    {
     "name": "stdout",
     "output_type": "stream",
     "text": [
      "{'dimension': 1536,\n",
      " 'index_fullness': 0.0,\n",
      " 'namespaces': {},\n",
      " 'total_vector_count': 0}\n"
     ]
    }
   ],
   "source": [
    "from time import sleep\n",
    "\n",
    "index_name=\"quickstart\"\n",
    "\n",
    "if index_name in [index_info[\"name\"] for index_info in pc.list_indexes()]:\n",
    "    pc.delete_index(index_name)\n",
    "\n",
    "pc.create_index(\n",
    "   name=index_name,\n",
    "   dimension=1536,\n",
    "   metric=\"dotproduct\",\n",
    "   spec=ServerlessSpec(\n",
    "       cloud='aws',\n",
    "       region='us-east-1'\n",
    "   )\n",
    ")\n",
    "\n",
    "while not pc.describe_index(index_name).status['ready']:\n",
    "    sleep(1)\n",
    "index = pc.Index(index_name)\n",
    "sleep(1)\n",
    "index_stats = index.describe_index_stats()\n",
    "print(index_stats)"
   ]
  },
  {
   "cell_type": "code",
   "execution_count": 12,
   "metadata": {
    "id": "t3zX8ztio1D_"
   },
   "outputs": [],
   "source": [
    "# 라마인덱스 벡터스토어로 정의\n",
    "from llama_index.vector_stores.pinecone import PineconeVectorStore\n",
    "\n",
    "vector_store = PineconeVectorStore(pinecone_index=index)"
   ]
  },
  {
   "cell_type": "code",
   "execution_count": 15,
   "metadata": {
    "id": "asurFEySpBPD"
   },
   "outputs": [
    {
     "name": "stderr",
     "output_type": "stream",
     "text": [
      "C:\\Users\\Public\\Documents\\ESTsoft\\CreatorTemp\\ipykernel_21420\\1469514084.py:13: DeprecationWarning: Call to deprecated class method from_defaults. (ServiceContext is deprecated, please use `llama_index.settings.Settings` instead.) -- Deprecated since version 0.10.0.\n",
      "  service_context = ServiceContext.from_defaults(embed_model=embed_model)\n"
     ]
    },
    {
     "data": {
      "application/vnd.jupyter.widget-view+json": {
       "model_id": "15aa3dc6fe474574bb5e1293e5afcf57",
       "version_major": 2,
       "version_minor": 0
      },
      "text/plain": [
       "Upserted vectors:   0%|          | 0/516 [00:00<?, ?it/s]"
      ]
     },
     "metadata": {},
     "output_type": "display_data"
    }
   ],
   "source": [
    "# embeddings upsert\n",
    "from llama_index.core import VectorStoreIndex, StorageContext, ServiceContext\n",
    "from llama_index.embeddings.openai import OpenAIEmbedding\n",
    "\n",
    "# 벡터스토어 인덱스에 들어가는 스토리지 컴포넌트 정의\n",
    "# 참조할 storage 정의\n",
    "storage_context = StorageContext.from_defaults(\n",
    "    vector_store=vector_store\n",
    ")\n",
    "\n",
    "# 서비스 컨텍스트에 해당 인덱스를 활용한 연결 컴포넌트 정의(임베딩 모델 +@)\n",
    "embed_model = OpenAIEmbedding(model='text-embedding-ada-002', embed_batch_size=100) # embed_batch_size는 한번에 embed할 node의 수\n",
    "service_context = ServiceContext.from_defaults(embed_model=embed_model)\n",
    "\n",
    "index = VectorStoreIndex.from_documents(\n",
    "    docs, storage_context=storage_context,\n",
    "    service_context=service_context\n",
    ")"
   ]
  },
  {
   "cell_type": "code",
   "execution_count": 16,
   "metadata": {
    "id": "nN3Bsk6DqEEW"
   },
   "outputs": [
    {
     "name": "stdout",
     "output_type": "stream",
     "text": [
      "지미 카터는 민주당 출신으로 미국의 39대 대통령이다. 그는 미국의 역사에서 중요한 역할을 한 인물로, 대통령으로서 다양한 정책과 외교 노력을 펼쳤으며, 후에는 인권과 중재 역할에 대한 공로로 노벨 평화상을 수상한 인물이다.\n"
     ]
    }
   ],
   "source": [
    "query_engine = index.as_query_engine()\n",
    "res = query_engine.query(\"지미 카터가 누구야?\")\n",
    "print(res)"
   ]
  },
  {
   "cell_type": "markdown",
   "metadata": {},
   "source": [
    "llamaindex는 langchain에 비해 간단하게 사용가능 -> high level framework"
   ]
  }
 ],
 "metadata": {
  "colab": {
   "authorship_tag": "ABX9TyMdOIOXC7VdLIoaL1F/jwsa",
   "provenance": []
  },
  "kernelspec": {
   "display_name": "Python 3 (ipykernel)",
   "language": "python",
   "name": "python3"
  },
  "language_info": {
   "codemirror_mode": {
    "name": "ipython",
    "version": 3
   },
   "file_extension": ".py",
   "mimetype": "text/x-python",
   "name": "python",
   "nbconvert_exporter": "python",
   "pygments_lexer": "ipython3",
   "version": "3.11.9"
  }
 },
 "nbformat": 4,
 "nbformat_minor": 4
}
