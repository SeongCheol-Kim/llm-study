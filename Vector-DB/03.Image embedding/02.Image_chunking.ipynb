{
 "cells": [
  {
   "cell_type": "markdown",
   "metadata": {},
   "source": [
    "### Image preprocessing의 필요성\n",
    "- 이미지에서 중요한 대상을 추출\n",
    "- Image search 성능 향상\n",
    "\n",
    "참고 : https://arxiv.org/pdf/2309.06581.pdf"
   ]
  },
  {
   "cell_type": "markdown",
   "metadata": {
    "id": "p7ocirGklwE9"
   },
   "source": [
    "---"
   ]
  },
  {
   "cell_type": "code",
   "execution_count": 1,
   "metadata": {
    "executionInfo": {
     "elapsed": 368,
     "status": "ok",
     "timestamp": 1707403815332,
     "user": {
      "displayName": "G K",
      "userId": "13042508361283215932"
     },
     "user_tz": -540
    },
    "id": "YlYnW1ZVrE_c"
   },
   "outputs": [],
   "source": [
    "from PIL import Image\n",
    "from sklearn.metrics.pairwise import cosine_similarity\n",
    "import json\n",
    "import matplotlib.pyplot as plt\n",
    "import torch\n",
    "import numpy as np\n",
    "import os"
   ]
  },
  {
   "cell_type": "markdown",
   "metadata": {
    "id": "3uYUwpM7lwE9"
   },
   "source": [
    "Read coco dataset"
   ]
  },
  {
   "cell_type": "code",
   "execution_count": 2,
   "metadata": {
    "executionInfo": {
     "elapsed": 888,
     "status": "ok",
     "timestamp": 1707402859683,
     "user": {
      "displayName": "G K",
      "userId": "13042508361283215932"
     },
     "user_tz": -540
    },
    "id": "DYeescVPlwE-"
   },
   "outputs": [],
   "source": [
    "annotation_file = '../data/coco/annotations/instances_val2017.json'\n",
    "with open(annotation_file, 'r') as file:\n",
    "    data = json.load(file)"
   ]
  },
  {
   "cell_type": "code",
   "execution_count": 3,
   "metadata": {
    "colab": {
     "base_uri": "https://localhost:8080/"
    },
    "executionInfo": {
     "elapsed": 1,
     "status": "ok",
     "timestamp": 1707399453120,
     "user": {
      "displayName": "G K",
      "userId": "13042508361283215932"
     },
     "user_tz": -540
    },
    "id": "woO73m4kfemc",
    "outputId": "31fc3c77-996a-4400-ec54-83e6ece54ec2"
   },
   "outputs": [
    {
     "data": {
      "text/plain": [
       "dict_keys(['info', 'licenses', 'images', 'annotations', 'categories'])"
      ]
     },
     "execution_count": 3,
     "metadata": {},
     "output_type": "execute_result"
    }
   ],
   "source": [
    "data.keys()"
   ]
  },
  {
   "cell_type": "code",
   "execution_count": 4,
   "metadata": {
    "scrolled": true
   },
   "outputs": [
    {
     "data": {
      "text/plain": [
       "[{'supercategory': 'person', 'id': 1, 'name': 'person'},\n",
       " {'supercategory': 'vehicle', 'id': 2, 'name': 'bicycle'},\n",
       " {'supercategory': 'vehicle', 'id': 3, 'name': 'car'},\n",
       " {'supercategory': 'vehicle', 'id': 4, 'name': 'motorcycle'},\n",
       " {'supercategory': 'vehicle', 'id': 5, 'name': 'airplane'},\n",
       " {'supercategory': 'vehicle', 'id': 6, 'name': 'bus'},\n",
       " {'supercategory': 'vehicle', 'id': 7, 'name': 'train'},\n",
       " {'supercategory': 'vehicle', 'id': 8, 'name': 'truck'},\n",
       " {'supercategory': 'vehicle', 'id': 9, 'name': 'boat'},\n",
       " {'supercategory': 'outdoor', 'id': 10, 'name': 'traffic light'},\n",
       " {'supercategory': 'outdoor', 'id': 11, 'name': 'fire hydrant'},\n",
       " {'supercategory': 'outdoor', 'id': 13, 'name': 'stop sign'},\n",
       " {'supercategory': 'outdoor', 'id': 14, 'name': 'parking meter'},\n",
       " {'supercategory': 'outdoor', 'id': 15, 'name': 'bench'},\n",
       " {'supercategory': 'animal', 'id': 16, 'name': 'bird'},\n",
       " {'supercategory': 'animal', 'id': 17, 'name': 'cat'},\n",
       " {'supercategory': 'animal', 'id': 18, 'name': 'dog'},\n",
       " {'supercategory': 'animal', 'id': 19, 'name': 'horse'},\n",
       " {'supercategory': 'animal', 'id': 20, 'name': 'sheep'},\n",
       " {'supercategory': 'animal', 'id': 21, 'name': 'cow'},\n",
       " {'supercategory': 'animal', 'id': 22, 'name': 'elephant'},\n",
       " {'supercategory': 'animal', 'id': 23, 'name': 'bear'},\n",
       " {'supercategory': 'animal', 'id': 24, 'name': 'zebra'},\n",
       " {'supercategory': 'animal', 'id': 25, 'name': 'giraffe'},\n",
       " {'supercategory': 'accessory', 'id': 27, 'name': 'backpack'},\n",
       " {'supercategory': 'accessory', 'id': 28, 'name': 'umbrella'},\n",
       " {'supercategory': 'accessory', 'id': 31, 'name': 'handbag'},\n",
       " {'supercategory': 'accessory', 'id': 32, 'name': 'tie'},\n",
       " {'supercategory': 'accessory', 'id': 33, 'name': 'suitcase'},\n",
       " {'supercategory': 'sports', 'id': 34, 'name': 'frisbee'},\n",
       " {'supercategory': 'sports', 'id': 35, 'name': 'skis'},\n",
       " {'supercategory': 'sports', 'id': 36, 'name': 'snowboard'},\n",
       " {'supercategory': 'sports', 'id': 37, 'name': 'sports ball'},\n",
       " {'supercategory': 'sports', 'id': 38, 'name': 'kite'},\n",
       " {'supercategory': 'sports', 'id': 39, 'name': 'baseball bat'},\n",
       " {'supercategory': 'sports', 'id': 40, 'name': 'baseball glove'},\n",
       " {'supercategory': 'sports', 'id': 41, 'name': 'skateboard'},\n",
       " {'supercategory': 'sports', 'id': 42, 'name': 'surfboard'},\n",
       " {'supercategory': 'sports', 'id': 43, 'name': 'tennis racket'},\n",
       " {'supercategory': 'kitchen', 'id': 44, 'name': 'bottle'},\n",
       " {'supercategory': 'kitchen', 'id': 46, 'name': 'wine glass'},\n",
       " {'supercategory': 'kitchen', 'id': 47, 'name': 'cup'},\n",
       " {'supercategory': 'kitchen', 'id': 48, 'name': 'fork'},\n",
       " {'supercategory': 'kitchen', 'id': 49, 'name': 'knife'},\n",
       " {'supercategory': 'kitchen', 'id': 50, 'name': 'spoon'},\n",
       " {'supercategory': 'kitchen', 'id': 51, 'name': 'bowl'},\n",
       " {'supercategory': 'food', 'id': 52, 'name': 'banana'},\n",
       " {'supercategory': 'food', 'id': 53, 'name': 'apple'},\n",
       " {'supercategory': 'food', 'id': 54, 'name': 'sandwich'},\n",
       " {'supercategory': 'food', 'id': 55, 'name': 'orange'},\n",
       " {'supercategory': 'food', 'id': 56, 'name': 'broccoli'},\n",
       " {'supercategory': 'food', 'id': 57, 'name': 'carrot'},\n",
       " {'supercategory': 'food', 'id': 58, 'name': 'hot dog'},\n",
       " {'supercategory': 'food', 'id': 59, 'name': 'pizza'},\n",
       " {'supercategory': 'food', 'id': 60, 'name': 'donut'},\n",
       " {'supercategory': 'food', 'id': 61, 'name': 'cake'},\n",
       " {'supercategory': 'furniture', 'id': 62, 'name': 'chair'},\n",
       " {'supercategory': 'furniture', 'id': 63, 'name': 'couch'},\n",
       " {'supercategory': 'furniture', 'id': 64, 'name': 'potted plant'},\n",
       " {'supercategory': 'furniture', 'id': 65, 'name': 'bed'},\n",
       " {'supercategory': 'furniture', 'id': 67, 'name': 'dining table'},\n",
       " {'supercategory': 'furniture', 'id': 70, 'name': 'toilet'},\n",
       " {'supercategory': 'electronic', 'id': 72, 'name': 'tv'},\n",
       " {'supercategory': 'electronic', 'id': 73, 'name': 'laptop'},\n",
       " {'supercategory': 'electronic', 'id': 74, 'name': 'mouse'},\n",
       " {'supercategory': 'electronic', 'id': 75, 'name': 'remote'},\n",
       " {'supercategory': 'electronic', 'id': 76, 'name': 'keyboard'},\n",
       " {'supercategory': 'electronic', 'id': 77, 'name': 'cell phone'},\n",
       " {'supercategory': 'appliance', 'id': 78, 'name': 'microwave'},\n",
       " {'supercategory': 'appliance', 'id': 79, 'name': 'oven'},\n",
       " {'supercategory': 'appliance', 'id': 80, 'name': 'toaster'},\n",
       " {'supercategory': 'appliance', 'id': 81, 'name': 'sink'},\n",
       " {'supercategory': 'appliance', 'id': 82, 'name': 'refrigerator'},\n",
       " {'supercategory': 'indoor', 'id': 84, 'name': 'book'},\n",
       " {'supercategory': 'indoor', 'id': 85, 'name': 'clock'},\n",
       " {'supercategory': 'indoor', 'id': 86, 'name': 'vase'},\n",
       " {'supercategory': 'indoor', 'id': 87, 'name': 'scissors'},\n",
       " {'supercategory': 'indoor', 'id': 88, 'name': 'teddy bear'},\n",
       " {'supercategory': 'indoor', 'id': 89, 'name': 'hair drier'},\n",
       " {'supercategory': 'indoor', 'id': 90, 'name': 'toothbrush'}]"
      ]
     },
     "execution_count": 4,
     "metadata": {},
     "output_type": "execute_result"
    }
   ],
   "source": [
    "data['categories']"
   ]
  },
  {
   "cell_type": "code",
   "execution_count": 6,
   "metadata": {
    "executionInfo": {
     "elapsed": 724,
     "status": "ok",
     "timestamp": 1707402864174,
     "user": {
      "displayName": "G K",
      "userId": "13042508361283215932"
     },
     "user_tz": -540
    },
    "id": "b0xuCzu4lwE-"
   },
   "outputs": [],
   "source": [
    "image_ids = [i['image_id'] for i in data['annotations'] if ( i['category_id'] in [17, 18] )]\n",
    "image_paths = [os.path.join(\"../data\", \"coco\", \"val2017\", i['file_name']) for i in data['images']\n",
    "               if (i['id'] in image_ids) & (i['license'] in [4, 5, 6])]"
   ]
  },
  {
   "cell_type": "markdown",
   "metadata": {
    "id": "Ryv8HtDkMLaj"
   },
   "source": [
    "### @강아지를 찾습니다@\n",
    "\n",
    "- 실제 프로젝트에서는 이미지 내에 있는 특정한 부분을 찾아야 하는 경우가 많음\n",
    "- 따라서 텍스트에서 document를 chunking하여 문장 또는 문단 단위로 분석하듯이,\n",
    "- 이미지 역시 '구성요소'를 파악할 수 있어야 보다 정확한 search가 가능해짐"
   ]
  },
  {
   "cell_type": "code",
   "execution_count": 8,
   "metadata": {
    "executionInfo": {
     "elapsed": 867,
     "status": "ok",
     "timestamp": 1707400531253,
     "user": {
      "displayName": "G K",
      "userId": "13042508361283215932"
     },
     "user_tz": -540
    },
    "id": "Z6cIIvUxMT-K"
   },
   "outputs": [],
   "source": [
    "dog = Image.open('../data/dog.jpg')\n",
    "# 출처 : https://unsplash.com/photos/white-and-brown-long-coat-large-dog-U3aF7hgUSrk"
   ]
  },
  {
   "cell_type": "markdown",
   "metadata": {
    "id": "SW46QO3BNQYG"
   },
   "source": [
    "- CLIP 모델을 활용하여 COCO image set 중 유사한 사진 탐색"
   ]
  },
  {
   "cell_type": "code",
   "execution_count": 10,
   "metadata": {},
   "outputs": [],
   "source": [
    "from utils import fetch_clip, extract_img_features, search_image, draw_images"
   ]
  },
  {
   "cell_type": "code",
   "execution_count": 11,
   "metadata": {
    "colab": {
     "base_uri": "https://localhost:8080/"
    },
    "executionInfo": {
     "elapsed": 19287,
     "status": "ok",
     "timestamp": 1707402888583,
     "user": {
      "displayName": "G K",
      "userId": "13042508361283215932"
     },
     "user_tz": -540
    },
    "id": "hbPOpjj9MJqH",
    "outputId": "69269296-610d-48c3-95b2-ead4cfd71218"
   },
   "outputs": [],
   "source": [
    "clip, processor = fetch_clip()"
   ]
  },
  {
   "cell_type": "code",
   "execution_count": 12,
   "metadata": {
    "executionInfo": {
     "elapsed": 22627,
     "status": "ok",
     "timestamp": 1707402911209,
     "user": {
      "displayName": "G K",
      "userId": "13042508361283215932"
     },
     "user_tz": -540
    },
    "id": "69ImgkXKMJk1"
   },
   "outputs": [],
   "source": [
    "coco_features = [extract_img_features(Image.open(i), processor, clip) for i in image_paths]"
   ]
  },
  {
   "cell_type": "code",
   "execution_count": 13,
   "metadata": {
    "colab": {
     "base_uri": "https://localhost:8080/"
    },
    "executionInfo": {
     "elapsed": 14,
     "status": "ok",
     "timestamp": 1707402911209,
     "user": {
      "displayName": "G K",
      "userId": "13042508361283215932"
     },
     "user_tz": -540
    },
    "id": "dViW6O4K8Yp5",
    "outputId": "16e822b9-36fe-49fc-cfbe-770a669b571d"
   },
   "outputs": [
    {
     "data": {
      "text/plain": [
       "97"
      ]
     },
     "execution_count": 13,
     "metadata": {},
     "output_type": "execute_result"
    }
   ],
   "source": [
    "len(image_paths)"
   ]
  },
  {
   "cell_type": "code",
   "execution_count": 14,
   "metadata": {
    "executionInfo": {
     "elapsed": 12,
     "status": "ok",
     "timestamp": 1707402911210,
     "user": {
      "displayName": "G K",
      "userId": "13042508361283215932"
     },
     "user_tz": -540
    },
    "id": "_r_eTc4_MJie"
   },
   "outputs": [],
   "source": [
    "input_image = Image.open('../data/dog.jpg')\n",
    "query_features = extract_img_features(input_image, processor, clip)"
   ]
  },
  {
   "cell_type": "code",
   "execution_count": 15,
   "metadata": {
    "colab": {
     "base_uri": "https://localhost:8080/"
    },
    "executionInfo": {
     "elapsed": 920,
     "status": "ok",
     "timestamp": 1707402912118,
     "user": {
      "displayName": "G K",
      "userId": "13042508361283215932"
     },
     "user_tz": -540
    },
    "id": "-Y8ctVdEBg1f",
    "outputId": "33336eab-b0a9-4d39-8def-cada87f06ac6"
   },
   "outputs": [
    {
     "data": {
      "text/plain": [
       "(4272, 2848)"
      ]
     },
     "execution_count": 15,
     "metadata": {},
     "output_type": "execute_result"
    }
   ],
   "source": [
    "input_image.size"
   ]
  },
  {
   "cell_type": "code",
   "execution_count": 16,
   "metadata": {
    "executionInfo": {
     "elapsed": 4,
     "status": "ok",
     "timestamp": 1707402990549,
     "user": {
      "displayName": "G K",
      "userId": "13042508361283215932"
     },
     "user_tz": -540
    },
    "id": "rM86U6pKMJgJ"
   },
   "outputs": [],
   "source": [
    "most_similar_idx, distance = search_image(query_features, coco_features)"
   ]
  },
  {
   "cell_type": "code",
   "execution_count": 17,
   "metadata": {
    "executionInfo": {
     "elapsed": 5,
     "status": "ok",
     "timestamp": 1707402993751,
     "user": {
      "displayName": "G K",
      "userId": "13042508361283215932"
     },
     "user_tz": -540
    },
    "id": "Ghlhgn7fPI7_"
   },
   "outputs": [],
   "source": [
    "similar_images = [Image.open(image_paths[i]) for i in most_similar_idx]"
   ]
  },
  {
   "cell_type": "code",
   "execution_count": 50,
   "metadata": {},
   "outputs": [],
   "source": [
    "# input_image"
   ]
  },
  {
   "cell_type": "code",
   "execution_count": 51,
   "metadata": {
    "colab": {
     "base_uri": "https://localhost:8080/",
     "height": 301
    },
    "executionInfo": {
     "elapsed": 3210,
     "status": "ok",
     "timestamp": 1707402996958,
     "user": {
      "displayName": "G K",
      "userId": "13042508361283215932"
     },
     "user_tz": -540
    },
    "id": "A9-SabaZO_z3",
    "outputId": "33689a3c-0814-4e6c-b17c-dbae5df7859a"
   },
   "outputs": [],
   "source": [
    "# draw_images(similar_images[:5], distance[:5])"
   ]
  },
  {
   "cell_type": "code",
   "execution_count": 52,
   "metadata": {
    "colab": {
     "base_uri": "https://localhost:8080/",
     "height": 322
    },
    "executionInfo": {
     "elapsed": 2411,
     "status": "ok",
     "timestamp": 1707402999366,
     "user": {
      "displayName": "G K",
      "userId": "13042508361283215932"
     },
     "user_tz": -540
    },
    "id": "wQ-q8KhseLff",
    "outputId": "02f239a0-4391-4ad1-d03c-5c3cd2c0e1b7"
   },
   "outputs": [],
   "source": [
    "# draw_images(similar_images[5:], distance[5:])"
   ]
  },
  {
   "cell_type": "markdown",
   "metadata": {},
   "source": [
    "- 강아지의 종 구분 불가"
   ]
  },
  {
   "cell_type": "markdown",
   "metadata": {
    "id": "eI7szt_PlwE-"
   },
   "source": [
    "## [Preprocessing] YOLO를 활용한 object detection"
   ]
  },
  {
   "cell_type": "markdown",
   "metadata": {},
   "source": [
    "### Prepare model"
   ]
  },
  {
   "cell_type": "code",
   "execution_count": 22,
   "metadata": {
    "executionInfo": {
     "elapsed": 5601,
     "status": "ok",
     "timestamp": 1707403005515,
     "user": {
      "displayName": "G K",
      "userId": "13042508361283215932"
     },
     "user_tz": -540
    },
    "id": "VWJdpfetlwE-"
   },
   "outputs": [
    {
     "name": "stderr",
     "output_type": "stream",
     "text": [
      "YOLOv5  2024-5-17 Python-3.11.9 torch-2.3.0 CUDA:0 (NVIDIA GeForce GTX 1050 Ti, 4096MiB)\n",
      "\n",
      "Downloading https://github.com/ultralytics/yolov5/releases/download/v7.0/yolov5s.pt to yolov5s.pt...\n",
      "\n",
      "Fusing layers... \n",
      "YOLOv5s summary: 270 layers, 7235389 parameters, 0 gradients, 16.6 GFLOPs\n",
      "Adding AutoShape... \n"
     ]
    }
   ],
   "source": [
    "import yolov5\n",
    "\n",
    "# load pretrained model\n",
    "model = yolov5.load('yolov5s.pt')\n",
    "\n",
    "# set model parameters\n",
    "model.conf = 0.25  # NMS confidence threshold\n",
    "model.iou = 0.45  # NMS IoU threshold\n",
    "model.agnostic = False  # NMS class-agnostic\n",
    "model.multi_label = False  # NMS multiple labels per box\n",
    "model.max_det = 1000  # maximum number of detections per image"
   ]
  },
  {
   "cell_type": "code",
   "execution_count": 23,
   "metadata": {
    "executionInfo": {
     "elapsed": 384,
     "status": "ok",
     "timestamp": 1707404328272,
     "user": {
      "displayName": "G K",
      "userId": "13042508361283215932"
     },
     "user_tz": -540
    },
    "id": "FQUz5_BiJrK6"
   },
   "outputs": [],
   "source": [
    "def tensor2np(tensor):\n",
    "    if tensor.is_cuda:\n",
    "      numpy_array = tensor.cpu().numpy()\n",
    "    else:\n",
    "      numpy_array = tensor.numpy()\n",
    "\n",
    "    return numpy_array\n",
    "\n",
    "def detect_objects(img_path):\n",
    "    img = Image.open(img_path)\n",
    "    results = model(img, size=1280, augment=True)\n",
    "\n",
    "    pred_dict = dict()\n",
    "    predictions =results.pred[0]\n",
    "\n",
    "    pred_dict['boxes'] = tensor2np(predictions[:, :4]) # x1, y1, x2, y2\n",
    "    pred_dict['scores'] = tensor2np(predictions[:, 4])\n",
    "    pred_dict['categories'] = tensor2np(predictions[:, 5])\n",
    "\n",
    "    return results, pred_dict"
   ]
  },
  {
   "cell_type": "code",
   "execution_count": 24,
   "metadata": {},
   "outputs": [],
   "source": [
    "dog = Image.open('../data/dog.jpg')\n",
    "dog_result, dog_pred = detect_objects('../data/dog.jpg')"
   ]
  },
  {
   "cell_type": "code",
   "execution_count": 49,
   "metadata": {},
   "outputs": [],
   "source": [
    "# dog_result.show()"
   ]
  },
  {
   "cell_type": "code",
   "execution_count": 26,
   "metadata": {
    "colab": {
     "base_uri": "https://localhost:8080/"
    },
    "executionInfo": {
     "elapsed": 6767,
     "status": "ok",
     "timestamp": 1707404337499,
     "user": {
      "displayName": "G K",
      "userId": "13042508361283215932"
     },
     "user_tz": -540
    },
    "id": "7n4uBCwHB6S0",
    "outputId": "4157a550-8d1c-4cac-b62b-29049b344423"
   },
   "outputs": [
    {
     "name": "stdout",
     "output_type": "stream",
     "text": [
      "Extracting objects from 97 images\n"
     ]
    }
   ],
   "source": [
    "predictions = list()\n",
    "results = list()\n",
    "print(\"Extracting objects from {} images\".format(len(image_paths)))\n",
    "for image_path in image_paths:\n",
    "  result, pred = detect_objects(image_path)\n",
    "  predictions.append(pred)\n",
    "  results.append(result)"
   ]
  },
  {
   "cell_type": "code",
   "execution_count": 53,
   "metadata": {
    "colab": {
     "base_uri": "https://localhost:8080/",
     "height": 257
    },
    "executionInfo": {
     "elapsed": 1087,
     "status": "ok",
     "timestamp": 1707404194310,
     "user": {
      "displayName": "G K",
      "userId": "13042508361283215932"
     },
     "user_tz": -540
    },
    "id": "ZGl8MF0SLys6",
    "outputId": "d39fed54-79ef-4cad-9530-3801520a57c8"
   },
   "outputs": [],
   "source": [
    "# results[79].show()"
   ]
  },
  {
   "cell_type": "markdown",
   "metadata": {
    "id": "02j-iOazlwFI"
   },
   "source": [
    "## Preprocessing\n",
    "- [Zero-Shot Visual Classification with Guided Cropping](https://arxiv.org/pdf/2309.06581.pdf)"
   ]
  },
  {
   "cell_type": "markdown",
   "metadata": {},
   "source": [
    "- Image crop\n",
    "- Resize\n",
    "- normalize pixel values"
   ]
  },
  {
   "cell_type": "code",
   "execution_count": 28,
   "metadata": {
    "executionInfo": {
     "elapsed": 575,
     "status": "ok",
     "timestamp": 1707404341440,
     "user": {
      "displayName": "G K",
      "userId": "13042508361283215932"
     },
     "user_tz": -540
    },
    "id": "9RUGDcepWlGT"
   },
   "outputs": [],
   "source": [
    "def crop_bbox(pil_image, bbox):\n",
    "    x_min, y_min, x_max, y_max = bbox\n",
    "    crop_box = (x_min, y_min, x_max, y_max)\n",
    "\n",
    "    cropped_image = pil_image.crop(crop_box)\n",
    "\n",
    "    return cropped_image\n",
    "\n",
    "def normalize_image(pil_image, target_size=(224, 224)):\n",
    "    # pixel resizing\n",
    "    resized_image = pil_image.resize(target_size, Image.LANCZOS)\n",
    "\n",
    "    # normalization\n",
    "    np_image = np.array(resized_image).astype('float32')\n",
    "    np_image /= 255.0  # pixel values to [0, 1]\n",
    "    normalized_image = Image.fromarray((np_image * 255).astype('uint8'))\n",
    "    return normalized_image"
   ]
  },
  {
   "cell_type": "code",
   "execution_count": 29,
   "metadata": {
    "executionInfo": {
     "elapsed": 2047,
     "status": "ok",
     "timestamp": 1707404346114,
     "user": {
      "displayName": "G K",
      "userId": "13042508361283215932"
     },
     "user_tz": -540
    },
    "id": "u0DKt1RNMyKX"
   },
   "outputs": [],
   "source": [
    "cropped_images = list()\n",
    "\n",
    "for img_path, preds in zip(image_paths, predictions):\n",
    "  img = Image.open(img_path)\n",
    "  cropped = [crop_bbox(img, bbox) for bbox in preds['boxes']]\n",
    "  normalized = [normalize_image(c) for c in cropped]\n",
    "  cropped_images.extend(normalized)"
   ]
  },
  {
   "cell_type": "code",
   "execution_count": 30,
   "metadata": {
    "colab": {
     "base_uri": "https://localhost:8080/"
    },
    "executionInfo": {
     "elapsed": 369,
     "status": "ok",
     "timestamp": 1707404370978,
     "user": {
      "displayName": "G K",
      "userId": "13042508361283215932"
     },
     "user_tz": -540
    },
    "id": "a1HQbwd5OxTn",
    "outputId": "8b46f33b-8a3e-4207-a638-c99d278d3ba7"
   },
   "outputs": [
    {
     "data": {
      "text/plain": [
       "478"
      ]
     },
     "execution_count": 30,
     "metadata": {},
     "output_type": "execute_result"
    }
   ],
   "source": [
    "len(cropped_images)"
   ]
  },
  {
   "cell_type": "code",
   "execution_count": 46,
   "metadata": {
    "colab": {
     "base_uri": "https://localhost:8080/",
     "height": 241
    },
    "executionInfo": {
     "elapsed": 843,
     "status": "ok",
     "timestamp": 1707404358906,
     "user": {
      "displayName": "G K",
      "userId": "13042508361283215932"
     },
     "user_tz": -540
    },
    "id": "dfRH5OkVWwau",
    "outputId": "28993201-fc8d-4c76-fe44-95cb3f6debd6"
   },
   "outputs": [],
   "source": [
    "# cropped_images[0]"
   ]
  },
  {
   "cell_type": "code",
   "execution_count": 47,
   "metadata": {
    "colab": {
     "base_uri": "https://localhost:8080/",
     "height": 241
    },
    "executionInfo": {
     "elapsed": 911,
     "status": "ok",
     "timestamp": 1707404386350,
     "user": {
      "displayName": "G K",
      "userId": "13042508361283215932"
     },
     "user_tz": -540
    },
    "id": "dV6303QUXGeQ",
    "outputId": "2a30427b-5d27-44e9-974c-37b3b62db6d9"
   },
   "outputs": [],
   "source": [
    "# cropped_images[400]"
   ]
  },
  {
   "cell_type": "code",
   "execution_count": 48,
   "metadata": {
    "colab": {
     "base_uri": "https://localhost:8080/",
     "height": 241
    },
    "executionInfo": {
     "elapsed": 1309,
     "status": "ok",
     "timestamp": 1707404392153,
     "user": {
      "displayName": "G K",
      "userId": "13042508361283215932"
     },
     "user_tz": -540
    },
    "id": "sK0Fu3lIlwFI",
    "outputId": "5f920be5-4ea3-45a4-ccd6-dfbc05e57d66"
   },
   "outputs": [],
   "source": [
    "# cropped_images[410]"
   ]
  },
  {
   "cell_type": "markdown",
   "metadata": {
    "id": "6_JBat65Xb-y"
   },
   "source": [
    "### Search"
   ]
  },
  {
   "cell_type": "code",
   "execution_count": 34,
   "metadata": {},
   "outputs": [],
   "source": [
    "dog = Image.open('../data/dog.jpg')\n",
    "dog_result, dog_pred = detect_objects('../data/dog.jpg')"
   ]
  },
  {
   "cell_type": "code",
   "execution_count": 35,
   "metadata": {},
   "outputs": [],
   "source": [
    "dog_cropped = normalize_image(crop_bbox(dog, dog_pred['boxes'][0]))"
   ]
  },
  {
   "cell_type": "code",
   "execution_count": 54,
   "metadata": {},
   "outputs": [],
   "source": [
    "# dog_cropped"
   ]
  },
  {
   "cell_type": "code",
   "execution_count": 37,
   "metadata": {
    "executionInfo": {
     "elapsed": 5373,
     "status": "ok",
     "timestamp": 1707357777048,
     "user": {
      "displayName": "G K",
      "userId": "13042508361283215932"
     },
     "user_tz": -540
    },
    "id": "BbWBTWcDXbYK"
   },
   "outputs": [],
   "source": [
    "# extract item features\n",
    "item_features = [extract_img_features(i, processor, clip) for i in cropped_images]\n",
    "# extract input item feature\n",
    "dog_features = extract_img_features(dog_cropped, processor, clip)"
   ]
  },
  {
   "cell_type": "code",
   "execution_count": 38,
   "metadata": {},
   "outputs": [],
   "source": [
    "most_similar_idx, distance = search_image(dog_features, item_features)"
   ]
  },
  {
   "cell_type": "code",
   "execution_count": 39,
   "metadata": {},
   "outputs": [],
   "source": [
    "similar_items = [cropped_images[i] for i in most_similar_idx]"
   ]
  },
  {
   "cell_type": "code",
   "execution_count": 40,
   "metadata": {},
   "outputs": [
    {
     "data": {
      "text/plain": [
       "array([    0.89113,     0.88722,     0.82846,      0.8035,     0.80085,      0.7968,     0.78888,     0.78307,     0.77808,      0.7729], dtype=float32)"
      ]
     },
     "execution_count": 40,
     "metadata": {},
     "output_type": "execute_result"
    }
   ],
   "source": [
    "# cosine 유사도 상승\n",
    "distance"
   ]
  },
  {
   "cell_type": "code",
   "execution_count": 55,
   "metadata": {},
   "outputs": [],
   "source": [
    "# similar_items[0]"
   ]
  },
  {
   "cell_type": "code",
   "execution_count": 56,
   "metadata": {},
   "outputs": [],
   "source": [
    "# similar_items[1]"
   ]
  },
  {
   "cell_type": "code",
   "execution_count": 57,
   "metadata": {},
   "outputs": [],
   "source": [
    "# similar_items[2]"
   ]
  },
  {
   "cell_type": "code",
   "execution_count": 58,
   "metadata": {},
   "outputs": [],
   "source": [
    "# similar_items[3]"
   ]
  },
  {
   "cell_type": "code",
   "execution_count": 59,
   "metadata": {},
   "outputs": [],
   "source": [
    "# similar_items[4]"
   ]
  },
  {
   "cell_type": "markdown",
   "metadata": {
    "id": "LsrJe-bilwFJ"
   },
   "source": [
    "## 한계점\n",
    "- 이미지에서 정보를 '추출'할 수 있는 기술이 필수적\n",
    "    - i.g. OCR, semantic segmentation, localized object detection, pose estimation"
   ]
  }
 ],
 "metadata": {
  "accelerator": "GPU",
  "colab": {
   "gpuType": "T4",
   "provenance": []
  },
  "kernelspec": {
   "display_name": "Python 3 (ipykernel)",
   "language": "python",
   "name": "python3"
  },
  "language_info": {
   "codemirror_mode": {
    "name": "ipython",
    "version": 3
   },
   "file_extension": ".py",
   "mimetype": "text/x-python",
   "name": "python",
   "nbconvert_exporter": "python",
   "pygments_lexer": "ipython3",
   "version": "3.11.9"
  }
 },
 "nbformat": 4,
 "nbformat_minor": 4
}
