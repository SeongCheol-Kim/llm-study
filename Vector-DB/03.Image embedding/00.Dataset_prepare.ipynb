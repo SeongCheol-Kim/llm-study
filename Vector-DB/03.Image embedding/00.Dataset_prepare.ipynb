{
 "cells": [
  {
   "cell_type": "markdown",
   "metadata": {},
   "source": [
    "데이터셋 다운로드 및 확인\n",
    "\n",
    "---"
   ]
  },
  {
   "cell_type": "markdown",
   "metadata": {},
   "source": [
    "# 1. Art dataset (Image to image search)"
   ]
  },
  {
   "cell_type": "markdown",
   "metadata": {},
   "source": [
    "#### 데이터 소개 : 다양한 예술 작품을 담은 이미지 데이터셋\n",
    "#### 데이터 활용 목적 : CLIP을 활용한 순수 이미지-to-이미지 search. 이미지 속에 들어있는 다양한 feature들을 종합적으로 고려함."
   ]
  },
  {
   "cell_type": "code",
   "execution_count": null,
   "metadata": {},
   "outputs": [],
   "source": [
    "import os\n",
    "from PIL import Image\n",
    "from utils import draw_images"
   ]
  },
  {
   "cell_type": "code",
   "execution_count": null,
   "metadata": {},
   "outputs": [],
   "source": [
    "folder = '../data/art_dataset/drawings/'\n",
    "image_paths = [os.path.join(folder, i) for i in list(os.walk(folder))[0][2]]"
   ]
  },
  {
   "cell_type": "code",
   "execution_count": null,
   "metadata": {},
   "outputs": [],
   "source": [
    "images = [Image.open(i) for i in image_paths]"
   ]
  },
  {
   "cell_type": "code",
   "execution_count": null,
   "metadata": {},
   "outputs": [],
   "source": [
    "draw_images(images[40:45])"
   ]
  },
  {
   "cell_type": "code",
   "execution_count": null,
   "metadata": {},
   "outputs": [],
   "source": [
    "draw_images(images[60:65])"
   ]
  },
  {
   "cell_type": "markdown",
   "metadata": {},
   "source": [
    "# 2. COCO dataset (Object localization + Image search)"
   ]
  },
  {
   "cell_type": "markdown",
   "metadata": {},
   "source": [
    "- 다운로드 : https://cocodataset.org/#home"
   ]
  },
  {
   "cell_type": "markdown",
   "metadata": {},
   "source": [
    "#### 데이터 소개 : COCO dataset. Object detection, semantic segmentation 등 이미지 분석에 가장 많이 활용되는 표준 데이터 셋 중 하나.\n",
    "#### 데이터 활용 목적 : 이미지 전체보다는 세부 물건에 초점을 맞춘 localized search. "
   ]
  },
  {
   "cell_type": "code",
   "execution_count": null,
   "metadata": {},
   "outputs": [],
   "source": [
    "import json"
   ]
  },
  {
   "cell_type": "code",
   "execution_count": null,
   "metadata": {},
   "outputs": [],
   "source": [
    "annotation = '../data/coco/annotations/instances_val2017.json'"
   ]
  },
  {
   "cell_type": "code",
   "execution_count": null,
   "metadata": {},
   "outputs": [],
   "source": [
    "with open(annotation, 'r') as file:\n",
    "    anno = json.load(file)"
   ]
  },
  {
   "cell_type": "code",
   "execution_count": null,
   "metadata": {},
   "outputs": [],
   "source": [
    "anno.keys()"
   ]
  },
  {
   "cell_type": "code",
   "execution_count": null,
   "metadata": {},
   "outputs": [],
   "source": [
    "Image.open(os.path.join(\"../data/coco/val2017\", anno['images'][0]['file_name']))"
   ]
  },
  {
   "cell_type": "code",
   "execution_count": null,
   "metadata": {},
   "outputs": [],
   "source": [
    "anno['licenses']"
   ]
  },
  {
   "cell_type": "code",
   "execution_count": null,
   "metadata": {},
   "outputs": [],
   "source": [
    "anno['annotations'][0].keys()"
   ]
  },
  {
   "cell_type": "code",
   "execution_count": null,
   "metadata": {},
   "outputs": [],
   "source": [
    "anno['images'][0].keys()"
   ]
  },
  {
   "cell_type": "code",
   "execution_count": null,
   "metadata": {
    "scrolled": true
   },
   "outputs": [],
   "source": [
    "anno['categories']"
   ]
  },
  {
   "cell_type": "markdown",
   "metadata": {},
   "source": [
    "filter COCO dataset "
   ]
  },
  {
   "cell_type": "code",
   "execution_count": null,
   "metadata": {},
   "outputs": [],
   "source": [
    "def filter_image(annoation, cat_ids, img_path=\"../data/coco/val2017\"):\n",
    "    image_ids = [i['image_id'] for i in annoation['annotations'] if ( i['category_id'] in cat_ids )]\n",
    "    image_paths = [os.path.join(img_path, i['file_name']) for i in annoation['images'] \n",
    "                if (i['id'] in image_ids) & (i['license'] in [4, 5, 6])]\n",
    "    return image_paths"
   ]
  },
  {
   "cell_type": "code",
   "execution_count": null,
   "metadata": {},
   "outputs": [],
   "source": [
    "teddy = filter_image(anno, [88])"
   ]
  },
  {
   "cell_type": "code",
   "execution_count": null,
   "metadata": {},
   "outputs": [],
   "source": [
    "len(teddy)"
   ]
  },
  {
   "cell_type": "code",
   "execution_count": null,
   "metadata": {
    "scrolled": true
   },
   "outputs": [],
   "source": [
    "teddy"
   ]
  },
  {
   "cell_type": "code",
   "execution_count": null,
   "metadata": {},
   "outputs": [],
   "source": [
    "Image.open(teddy[11])"
   ]
  },
  {
   "cell_type": "markdown",
   "metadata": {},
   "source": [
    "# 3. House Rooms dataset (Multimodal search)"
   ]
  },
  {
   "cell_type": "markdown",
   "metadata": {},
   "source": [
    "- 다운로드 : https://www.kaggle.com/datasets/annielu21/house-rooms"
   ]
  },
  {
   "cell_type": "markdown",
   "metadata": {},
   "source": [
    "#### 데이터 소개 : 집의 내부 인테리어를 담은 이미지 데이터셋\n",
    "#### 데이터 활용 목적 : 이미지뿐만 아니라, 텍스트까지 활용하여 원하는 feature에 가중치를 둔 multimodal search 구현\n",
    "#### 실습 주제 : \n",
    "- 원하는 분위기의 사진/text를 사용자가 제공 -> 유사한 분위기의 다른 거실 레퍼런스 + 사용자가 제공한 이미지에 있는 가구 중 유사한 가구 제공\n",
    "    - CLIP : image input -> image output\n",
    "    - GPT-4v : text input -> image output\n",
    "    - object detection : crop images"
   ]
  },
  {
   "cell_type": "code",
   "execution_count": null,
   "metadata": {},
   "outputs": [],
   "source": [
    "img_paths = list(os.walk('../data/room-dataset/living'))[0][2]\n",
    "img_paths = [i for i in img_paths if i!=\".DS_Store\"]\n",
    "img_paths = [os.path.join('../data/room-dataset/living', i) for i in img_paths]"
   ]
  },
  {
   "cell_type": "code",
   "execution_count": null,
   "metadata": {
    "scrolled": true
   },
   "outputs": [],
   "source": [
    "Image.open(img_paths[100])"
   ]
  },
  {
   "cell_type": "markdown",
   "metadata": {},
   "source": [
    "--END--"
   ]
  }
 ],
 "metadata": {
  "kernelspec": {
   "display_name": "Python 3 (ipykernel)",
   "language": "python",
   "name": "python3"
  },
  "language_info": {
   "codemirror_mode": {
    "name": "ipython",
    "version": 3
   },
   "file_extension": ".py",
   "mimetype": "text/x-python",
   "name": "python",
   "nbconvert_exporter": "python",
   "pygments_lexer": "ipython3",
   "version": "3.11.9"
  }
 },
 "nbformat": 4,
 "nbformat_minor": 4
}
