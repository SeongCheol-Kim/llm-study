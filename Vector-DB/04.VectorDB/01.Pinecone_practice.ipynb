{
 "cells": [
  {
   "cell_type": "code",
   "execution_count": 1,
   "metadata": {
    "id": "6Et_dq5aHjPg"
   },
   "outputs": [],
   "source": [
    "import os\n",
    "from pinecone import Pinecone\n",
    "from dotenv import load_dotenv\n",
    "load_dotenv()\n",
    "\n",
    "#파인콘 클라이언트 initialize\n",
    "pc = Pinecone(api_key = os.environ[\"PINECONE_API_KEY\"])"
   ]
  },
  {
   "cell_type": "code",
   "execution_count": 6,
   "metadata": {
    "id": "qMBfwMDrI0ou"
   },
   "outputs": [
    {
     "name": "stdout",
     "output_type": "stream",
     "text": [
      "{'dimension': 8,\n",
      " 'index_fullness': 0.0,\n",
      " 'namespaces': {},\n",
      " 'total_vector_count': 0}\n"
     ]
    }
   ],
   "source": [
    "# pinecone serverless example\n",
    "from pinecone import Pinecone, ServerlessSpec\n",
    "\n",
    "# pc.create_index(\n",
    "#    name=\"quickstart\",\n",
    "#    dimension=8,\n",
    "#    metric=\"euclidean\",\n",
    "#    spec=ServerlessSpec(\n",
    "#        cloud='aws',\n",
    "#        region='us-east-1'\n",
    "#    )\n",
    "# )\n",
    "\n",
    "index = pc.Index('quickstart')\n",
    "\n",
    "index_stats = index.describe_index_stats()\n",
    "print(index_stats)"
   ]
  },
  {
   "cell_type": "code",
   "execution_count": null,
   "metadata": {
    "id": "CK4z_6OcIIZ_"
   },
   "outputs": [],
   "source": [
    "# # pinecone pod base example\n",
    "# # 해당 예제에서는 사용하지 않음\n",
    "# # pinecone free tier에서는 해당 spec 사용 불가\n",
    "\n",
    "# from pinecone import Pinecone, PodSpec\n",
    "\n",
    "# index_name = 'llm-study'\n",
    "# dimension = 8\n",
    "# metric = 'euclidean'\n",
    "# spec = PodSpec('gcp-starter')\n",
    "\n",
    "# if index_name in [index_info[\"name\"] for index_info in pc.list_indexes()]:\n",
    "#     pc.delete_index(index_name)\n",
    "\n",
    "# pc.create_index(index_name, dimension=dimension, metric=metric, spec=spec)\n",
    "\n",
    "\n",
    "# index = pc.Index(index_name)\n",
    "\n",
    "# index_stats = index.describe_index_stats()\n",
    "# print(index_stats)"
   ]
  },
  {
   "cell_type": "code",
   "execution_count": 7,
   "metadata": {
    "id": "KjFE-qenJgL7"
   },
   "outputs": [
    {
     "data": {
      "text/plain": [
       "{'upserted_count': 4}"
      ]
     },
     "execution_count": 7,
     "metadata": {},
     "output_type": "execute_result"
    }
   ],
   "source": [
    "index.upsert(\n",
    "  vectors=[\n",
    "    {\"id\": \"vec1\", \"values\": [0.1, 0.1, 0.1, 0.1, 0.1, 0.1, 0.1, 0.1]},\n",
    "    {\"id\": \"vec2\", \"values\": [0.2, 0.2, 0.2, 0.2, 0.2, 0.2, 0.2, 0.2]},\n",
    "    {\"id\": \"vec3\", \"values\": [0.3, 0.3, 0.3, 0.3, 0.3, 0.3, 0.3, 0.3]},\n",
    "    {\"id\": \"vec4\", \"values\": [0.4, 0.4, 0.4, 0.4, 0.4, 0.4, 0.4, 0.4]}\n",
    "  ],\n",
    "  namespace=\"ns1\"\n",
    ")\n",
    "\n",
    "index.upsert(\n",
    "  vectors=[\n",
    "    {\"id\": \"vec5\", \"values\": [0.5, 0.5, 0.5, 0.5, 0.5, 0.5, 0.5, 0.5]},\n",
    "    {\"id\": \"vec6\", \"values\": [0.6, 0.6, 0.6, 0.6, 0.6, 0.6, 0.6, 0.6]},\n",
    "    {\"id\": \"vec7\", \"values\": [0.7, 0.7, 0.7, 0.7, 0.7, 0.7, 0.7, 0.7]},\n",
    "    {\"id\": \"vec8\", \"values\": [0.8, 0.8, 0.8, 0.8, 0.8, 0.8, 0.8, 0.8]}\n",
    "  ],\n",
    "  namespace=\"ns2\"\n",
    ")"
   ]
  },
  {
   "cell_type": "code",
   "execution_count": 8,
   "metadata": {
    "id": "u30JlikBKGiZ"
   },
   "outputs": [
    {
     "data": {
      "text/plain": [
       "{'dimension': 8,\n",
       " 'index_fullness': 0.0,\n",
       " 'namespaces': {'ns1': {'vector_count': 4}, 'ns2': {'vector_count': 4}},\n",
       " 'total_vector_count': 8}"
      ]
     },
     "execution_count": 8,
     "metadata": {},
     "output_type": "execute_result"
    }
   ],
   "source": [
    "index.describe_index_stats()"
   ]
  },
  {
   "cell_type": "code",
   "execution_count": 9,
   "metadata": {
    "id": "QioIQeBJKLjL"
   },
   "outputs": [
    {
     "data": {
      "text/plain": [
       "{'matches': [{'id': 'vec3',\n",
       "              'score': 0.00999987125,\n",
       "              'values': [0.3, 0.3, 0.3, 0.3, 0.3, 0.3, 0.3, 0.3]},\n",
       "             {'id': 'vec4',\n",
       "              'score': 0.0700001717,\n",
       "              'values': [0.4, 0.4, 0.4, 0.4, 0.4, 0.4, 0.4, 0.4]}],\n",
       " 'namespace': 'ns1',\n",
       " 'usage': {'read_units': 6}}"
      ]
     },
     "execution_count": 9,
     "metadata": {},
     "output_type": "execute_result"
    }
   ],
   "source": [
    "index.query(\n",
    "  namespace=\"ns1\",\n",
    "  vector=[0.3,0.3,0.3,0.3,0.4,0.3,0.3,0.3],\n",
    "  top_k=2,\n",
    "  include_values=True\n",
    ")"
   ]
  },
  {
   "cell_type": "code",
   "execution_count": 10,
   "metadata": {
    "id": "gHi5TtbPKjso"
   },
   "outputs": [
    {
     "data": {
      "text/plain": [
       "{'matches': [{'id': 'vec7',\n",
       "              'score': 0.0,\n",
       "              'values': [0.7, 0.7, 0.7, 0.7, 0.7, 0.7, 0.7, 0.7]},\n",
       "             {'id': 'vec6',\n",
       "              'score': 0.0799999237,\n",
       "              'values': [0.6, 0.6, 0.6, 0.6, 0.6, 0.6, 0.6, 0.6]},\n",
       "             {'id': 'vec8',\n",
       "              'score': 0.0799999237,\n",
       "              'values': [0.8, 0.8, 0.8, 0.8, 0.8, 0.8, 0.8, 0.8]}],\n",
       " 'namespace': 'ns2',\n",
       " 'usage': {'read_units': 6}}"
      ]
     },
     "execution_count": 10,
     "metadata": {},
     "output_type": "execute_result"
    }
   ],
   "source": [
    "index.query(\n",
    "  namespace=\"ns2\",\n",
    "  vector=[0.7,0.7,0.7,0.7,0.7,0.7,0.7,0.7],\n",
    "  top_k=3,\n",
    "  include_values=True\n",
    ")"
   ]
  },
  {
   "cell_type": "markdown",
   "metadata": {
    "id": "K_NReoBuP3y2"
   },
   "source": [
    "## Hybrid Search용 metadata Upsert"
   ]
  },
  {
   "cell_type": "code",
   "execution_count": 11,
   "metadata": {},
   "outputs": [
    {
     "name": "stdout",
     "output_type": "stream",
     "text": [
      "{'dimension': 8,\n",
      " 'index_fullness': 0.0,\n",
      " 'namespaces': {},\n",
      " 'total_vector_count': 0}\n"
     ]
    }
   ],
   "source": [
    "index_name = 'quickstart'\n",
    "\n",
    "if index_name in [index_info[\"name\"] for index_info in pc.list_indexes()]:\n",
    "    pc.delete_index(index_name)\n",
    "\n",
    "pc.create_index(\n",
    "   name=index_name,\n",
    "   dimension=8,\n",
    "   metric=\"euclidean\",\n",
    "   spec=ServerlessSpec(\n",
    "       cloud='aws',\n",
    "       region='us-east-1'\n",
    "   )\n",
    ")\n",
    "\n",
    "index = pc.Index(index_name)\n",
    "\n",
    "index_stats = index.describe_index_stats()\n",
    "print(index_stats)"
   ]
  },
  {
   "cell_type": "code",
   "execution_count": 12,
   "metadata": {
    "id": "XTLYzzIWMYy-"
   },
   "outputs": [
    {
     "data": {
      "text/plain": [
       "{'upserted_count': 4}"
      ]
     },
     "execution_count": 12,
     "metadata": {},
     "output_type": "execute_result"
    }
   ],
   "source": [
    "index.upsert(\n",
    "  vectors=[\n",
    "    {\n",
    "      \"id\": \"A\",\n",
    "      \"values\": [0.1, 0.1, 0.1, 0.1, 0.1, 0.1, 0.1, 0.1],\n",
    "      \"metadata\": {\"genre\":\"comedy\", \"year\": 2020}\n",
    "    },\n",
    "    {\n",
    "      \"id\": \"B\",\n",
    "      \"values\": [0.2, 0.2, 0.2, 0.2, 0.2, 0.2, 0.2, 0.2],\n",
    "      \"metadata\": {\"genre\":\"documentary\", \"year\":2019}\n",
    "    },\n",
    "    {\n",
    "      \"id\": \"C\",\n",
    "      \"values\": [0.3, 0.3, 0.3, 0.3, 0.3, 0.3, 0.3, 0.3],\n",
    "      \"metadata\": {\"genre\":\"comedy\",\"year\":2019}\n",
    "    },\n",
    "    {\n",
    "      \"id\": \"D\",\n",
    "      \"values\": [0.4, 0.4, 0.4, 0.4, 0.4, 0.4, 0.4, 0.4],\n",
    "      \"metadata\": {\"genre\":\"drama\"}\n",
    "    }\n",
    "  ]\n",
    ")"
   ]
  },
  {
   "cell_type": "markdown",
   "metadata": {
    "id": "sO-Nu1PCMxKx"
   },
   "source": [
    "### query filter\n",
    "mongoDB와 동일\n",
    "- $eq - Equal to (number, string, boolean)\n",
    "\n",
    "- $ne - Not equal to (number, string, boolean)\n",
    "\n",
    "- $gt - Greater than (number)\n",
    "\n",
    "- $gte - Greater than or equal to (number)\n",
    "\n",
    "- $lt - Less than (number)\n",
    "\n",
    "- $lte - Less than or equal to (number)\n",
    "\n",
    "- $in - In array (string or number)\n",
    "\n",
    "- $nin - Not in array (string or number)"
   ]
  },
  {
   "cell_type": "code",
   "execution_count": 13,
   "metadata": {
    "id": "Fa5Bd4_cMeXY"
   },
   "outputs": [
    {
     "data": {
      "text/plain": [
       "{'dimension': 8,\n",
       " 'index_fullness': 0.0,\n",
       " 'namespaces': {'': {'vector_count': 4}},\n",
       " 'total_vector_count': 4}"
      ]
     },
     "execution_count": 13,
     "metadata": {},
     "output_type": "execute_result"
    }
   ],
   "source": [
    "index.describe_index_stats()"
   ]
  },
  {
   "cell_type": "code",
   "execution_count": 14,
   "metadata": {
    "id": "6AdMAHBANB55"
   },
   "outputs": [
    {
     "data": {
      "text/plain": [
       "{'matches': [{'id': 'B',\n",
       "              'metadata': {'genre': 'documentary', 'year': 2019.0},\n",
       "              'score': 0.0800000131,\n",
       "              'values': []}],\n",
       " 'namespace': '',\n",
       " 'usage': {'read_units': 6}}"
      ]
     },
     "execution_count": 14,
     "metadata": {},
     "output_type": "execute_result"
    }
   ],
   "source": [
    "#쿼리연습\n",
    "index.query(\n",
    "    vector=[0.1, 0.1, 0.1, 0.1, 0.1, 0.1, 0.1, 0.1],\n",
    "    filter={\"genre\": {\"$eq\": \"documentary\"},\n",
    "            \"year\": 2019\n",
    "    },\n",
    "    top_k=1,\n",
    "    include_metadata=True\n",
    ")"
   ]
  },
  {
   "cell_type": "code",
   "execution_count": 15,
   "metadata": {
    "id": "ns2pOAMCNIlI"
   },
   "outputs": [
    {
     "data": {
      "text/plain": [
       "{'matches': [{'id': 'A',\n",
       "              'metadata': {'genre': 'comedy', 'year': 2020.0},\n",
       "              'score': 0.0,\n",
       "              'values': []},\n",
       "             {'id': 'B',\n",
       "              'metadata': {'genre': 'documentary', 'year': 2019.0},\n",
       "              'score': 0.0800000131,\n",
       "              'values': []}],\n",
       " 'namespace': '',\n",
       " 'usage': {'read_units': 6}}"
      ]
     },
     "execution_count": 15,
     "metadata": {},
     "output_type": "execute_result"
    }
   ],
   "source": [
    "#쿼리연습\n",
    "index.query(\n",
    "    vector=[0.1, 0.1, 0.1, 0.1, 0.1, 0.1, 0.1, 0.1],\n",
    "    filter={\"genre\": {\"$in\": [\"comedy\", \"documentary\", \"drama\"]}\n",
    "        },\n",
    "    top_k=2,\n",
    "    include_metadata=True\n",
    ")\n"
   ]
  },
  {
   "cell_type": "code",
   "execution_count": 16,
   "metadata": {
    "id": "j1dVFqf_NjlI"
   },
   "outputs": [
    {
     "data": {
      "text/plain": [
       "{'matches': [], 'namespace': '', 'usage': {'read_units': 1}}"
      ]
     },
     "execution_count": 16,
     "metadata": {},
     "output_type": "execute_result"
    }
   ],
   "source": [
    "#쿼리연습\n",
    "index.query(\n",
    "    vector=[0.1, 0.1, 0.1, 0.1, 0.1, 0.1, 0.1, 0.1],\n",
    "    filter={\"genre\": {\"$eq\":\"documentary\"},\n",
    "            \"year\" : {\"$gte\": 2020}\n",
    "\n",
    "        },\n",
    "    top_k=2,\n",
    "    include_metadata=True\n",
    ")\n"
   ]
  },
  {
   "cell_type": "code",
   "execution_count": 17,
   "metadata": {
    "id": "5uWr98QONwUO"
   },
   "outputs": [
    {
     "data": {
      "text/plain": [
       "{'matches': [{'id': 'A',\n",
       "              'metadata': {'genre': 'comedy', 'year': 2020.0},\n",
       "              'score': 0.0,\n",
       "              'values': []},\n",
       "             {'id': 'B',\n",
       "              'metadata': {'genre': 'documentary', 'year': 2019.0},\n",
       "              'score': 0.0800000131,\n",
       "              'values': []}],\n",
       " 'namespace': '',\n",
       " 'usage': {'read_units': 6}}"
      ]
     },
     "execution_count": 17,
     "metadata": {},
     "output_type": "execute_result"
    }
   ],
   "source": [
    "#or filter\n",
    "index.query(\n",
    "    vector=[0.1, 0.1, 0.1, 0.1, 0.1, 0.1, 0.1, 0.1],\n",
    "    filter={\"$or\":[\n",
    "        {\"genre\": {\"$eq\":\"documentary\"}},\n",
    "        {\"year\": {\"$gte\": 2020}}\n",
    "    ]\n",
    "\n",
    "    },\n",
    "    top_k=2,\n",
    "    include_metadata=True\n",
    ")\n"
   ]
  },
  {
   "cell_type": "markdown",
   "metadata": {
    "id": "Fyn4SQoPSekz"
   },
   "source": [
    "## Hybrid Search용 Sparse Vector Upsert"
   ]
  },
  {
   "cell_type": "code",
   "execution_count": 18,
   "metadata": {
    "id": "TTFLr-7iTWtf"
   },
   "outputs": [
    {
     "name": "stdout",
     "output_type": "stream",
     "text": [
      "{'dimension': 8,\n",
      " 'index_fullness': 0.0,\n",
      " 'namespaces': {},\n",
      " 'total_vector_count': 0}\n"
     ]
    }
   ],
   "source": [
    "index_name = 'quickstart'\n",
    "\n",
    "if index_name in [index_info[\"name\"] for index_info in pc.list_indexes()]:\n",
    "    pc.delete_index(index_name)\n",
    "\n",
    "pc.create_index(\n",
    "   name=index_name,\n",
    "   dimension=8,\n",
    "   metric=\"dotproduct\", # Sparse Vector Operation 지원\n",
    "   spec=ServerlessSpec(\n",
    "       cloud='aws',\n",
    "       region='us-east-1'\n",
    "   )\n",
    ")\n",
    "\n",
    "index = pc.Index(index_name)\n",
    "\n",
    "index_stats = index.describe_index_stats()\n",
    "print(index_stats)"
   ]
  },
  {
   "cell_type": "code",
   "execution_count": 19,
   "metadata": {
    "id": "W07EQNpNSkW-"
   },
   "outputs": [],
   "source": [
    "# 파인콘 레코드에 id, 덴스벡터, 메타데이터, 스파스벡터 모두 생성해보기\n",
    "records=[\n",
    "    {'id': 'vec1',\n",
    "     'values': [0.1, 0.2, 0.3, 0.1, 0.2, 0.3, 0.1, 0.2],\n",
    "     'metadata': {'genre': 'drama'},\n",
    "     # index를 제외한 나머지 인덱스는 0\n",
    "     'sparse_values': {\n",
    "        'indices': [10, 45, 16],\n",
    "        'values' : [0.5, 0.5, 0.2]\n",
    "     }\n",
    "    },\n",
    "    {'id': 'vec2',\n",
    "     'values': [0.2, 0.3, 0.4, 0.2, 0.3, 0.4, 0.9, 0.2],\n",
    "     'metadata': {'genre': 'action'},\n",
    "     'sparse_values': {\n",
    "        'indices' : [15, 40, 11],\n",
    "        'values' : [0.4, 0.5, 0.2]\n",
    "     }\n",
    "    }\n",
    "]"
   ]
  },
  {
   "cell_type": "code",
   "execution_count": 20,
   "metadata": {
    "id": "5d6QS0o3SkUe"
   },
   "outputs": [
    {
     "data": {
      "text/plain": [
       "{'upserted_count': 2}"
      ]
     },
     "execution_count": 20,
     "metadata": {},
     "output_type": "execute_result"
    }
   ],
   "source": [
    "# 파인콘 레코드 업서트하기:\n",
    "index.upsert(records)"
   ]
  },
  {
   "cell_type": "code",
   "execution_count": 21,
   "metadata": {
    "id": "CgfNi15JTwx6"
   },
   "outputs": [
    {
     "data": {
      "text/plain": [
       "{'matches': [{'id': 'vec2', 'score': 0.620000064, 'values': []},\n",
       "             {'id': 'vec1', 'score': 0.28, 'values': []}],\n",
       " 'namespace': '',\n",
       " 'usage': {'read_units': 5}}"
      ]
     },
     "execution_count": 21,
     "metadata": {},
     "output_type": "execute_result"
    }
   ],
   "source": [
    "# 시맨틱서치 해보기\n",
    "index.query(\n",
    "    top_k=2,\n",
    "    vector=[0.1, 0.2, 0.3, 0.1, 0.1, 0.2, 0.3, 0.1],\n",
    ")"
   ]
  },
  {
   "cell_type": "code",
   "execution_count": 22,
   "metadata": {
    "id": "lecx1dvwTMRq"
   },
   "outputs": [
    {
     "data": {
      "text/plain": [
       "{'matches': [{'id': 'vec1', 'score': 0.819999933, 'values': []},\n",
       "             {'id': 'vec2', 'score': 0.620000064, 'values': []}],\n",
       " 'namespace': '',\n",
       " 'usage': {'read_units': 5}}"
      ]
     },
     "execution_count": 22,
     "metadata": {},
     "output_type": "execute_result"
    }
   ],
   "source": [
    "# 하이브리드 서치 해보기 (스파스벡터 추가)\n",
    "index.query(\n",
    "    top_k=2,\n",
    "    vector=[0.1, 0.2, 0.3, 0.1, 0.1, 0.2, 0.3, 0.1],\n",
    "    sparse_vector={\n",
    "        'indices' :[10,45,16],\n",
    "        'values' : [0.5,0.5,0.2]\n",
    "    }\n",
    ")"
   ]
  },
  {
   "cell_type": "code",
   "execution_count": 24,
   "metadata": {
    "id": "i7MWQlZIUpZ_"
   },
   "outputs": [
    {
     "name": "stdout",
     "output_type": "stream",
     "text": [
      "[0.08000000000000002, 0.16000000000000003, 0.24, 0.08000000000000002, 0.08000000000000002, 0.16000000000000003, 0.24, 0.08000000000000002]\n",
      "{'indices': [10, 45, 16], 'values': [0.09999999999999998, 0.09999999999999998, 0.039999999999999994]}\n"
     ]
    }
   ],
   "source": [
    "# Fusion Algorithm으로 하이브리드 결과 스코어링 방식 커스터마이즈\n",
    "# alpha값으로 덴스<->스파스 가중치 조정\n",
    "def hybrid_score_norm(dense, sparse, alpha: float):\n",
    "    hs = {\n",
    "        'indices': sparse['indices'],\n",
    "        'values':  [v * (1 - alpha) for v in sparse['values']]\n",
    "    }\n",
    "    return [v * alpha for v in dense], hs\n",
    "\n",
    "hs_dense, hs_sparse = hybrid_score_norm(\n",
    "    [0.1, 0.2, 0.3, 0.1, 0.1, 0.2, 0.3, 0.1], \n",
    "    {\n",
    "        'indices': [10, 45, 16],\n",
    "        'values':  [0.5, 0.5, 0.2]\n",
    "    }, \n",
    "    alpha=0.8)\n",
    "\n",
    "print(hs_dense)\n",
    "print(hs_sparse)"
   ]
  },
  {
   "cell_type": "code",
   "execution_count": 25,
   "metadata": {
    "id": "lz97Bm1PVtiW"
   },
   "outputs": [
    {
     "data": {
      "text/plain": [
       "{'matches': [{'id': 'vec2', 'score': 0.496, 'values': []},\n",
       "             {'id': 'vec1', 'score': 0.332000017, 'values': []}],\n",
       " 'namespace': '',\n",
       " 'usage': {'read_units': 5}}"
      ]
     },
     "execution_count": 25,
     "metadata": {},
     "output_type": "execute_result"
    }
   ],
   "source": [
    "# 조정된 가중치 값으로 다시 서치해보기\n",
    "index.query(top_k=2,vector=hs_dense,sparse_vector=hs_sparse)"
   ]
  },
  {
   "cell_type": "markdown",
   "metadata": {
    "id": "7GO2_RgyPxb4"
   },
   "source": [
    "## 대용량 데이터 Upsert\n",
    "- 한번의 upsert에 수천,수만개의 벡터를 다 업서트 시키는 대신, 배치화를 통해 업서트 파이프라인 가져가는 방법"
   ]
  },
  {
   "cell_type": "code",
   "execution_count": 26,
   "metadata": {
    "id": "EjITi_c3OK60"
   },
   "outputs": [],
   "source": [
    "import random\n",
    "import itertools\n",
    "\n",
    "# Batch job\n",
    "def chunks(iterable, batch_size=100):\n",
    "    it = iter(iterable)\n",
    "    chunk = tuple(itertools.islice(it, batch_size))\n",
    "    while chunk:\n",
    "        yield chunk\n",
    "        chunk = tuple(itertools.islice(it, batch_size))\n",
    "\n",
    "vector_dim = 8\n",
    "vector_count = 500\n",
    "\n",
    "example_data_generator = map(lambda i: (f'id-{i}', [random.random() for _ in range(vector_dim)]), range(vector_count))\n",
    "\n",
    "for ids_vectors_chunk in chunks(example_data_generator, batch_size=100):\n",
    "    index.upsert(vectors=ids_vectors_chunk)"
   ]
  },
  {
   "cell_type": "code",
   "execution_count": 28,
   "metadata": {
    "id": "q2viOBQVO6so"
   },
   "outputs": [
    {
     "data": {
      "text/plain": [
       "{'dimension': 8,\n",
       " 'index_fullness': 0.0,\n",
       " 'namespaces': {'': {'vector_count': 502}},\n",
       " 'total_vector_count': 502}"
      ]
     },
     "execution_count": 28,
     "metadata": {},
     "output_type": "execute_result"
    }
   ],
   "source": [
    "index.describe_index_stats()"
   ]
  },
  {
   "cell_type": "markdown",
   "metadata": {
    "id": "LH8rqpXqQuyt"
   },
   "source": [
    "## Fetch / Update / Delete\n",
    "- 인덱스 된 레코드들에 대한 일련의 CRUD Operation\n"
   ]
  },
  {
   "cell_type": "code",
   "execution_count": 29,
   "metadata": {
    "id": "rqqY_ElmQhlV"
   },
   "outputs": [
    {
     "data": {
      "text/plain": [
       "{'namespace': '',\n",
       " 'usage': {'read_units': 1},\n",
       " 'vectors': {'vec1': {'id': 'vec1',\n",
       "                      'metadata': {'genre': 'drama'},\n",
       "                      'sparse_values': {'indices': [10, 16, 45],\n",
       "                                        'values': [0.5, 0.2, 0.5]},\n",
       "                      'values': [0.1, 0.2, 0.3, 0.1, 0.2, 0.3, 0.1, 0.2]},\n",
       "             'vec2': {'id': 'vec2',\n",
       "                      'metadata': {'genre': 'action'},\n",
       "                      'sparse_values': {'indices': [11, 15, 40],\n",
       "                                        'values': [0.2, 0.4, 0.5]},\n",
       "                      'values': [0.2, 0.3, 0.4, 0.2, 0.3, 0.4, 0.9, 0.2]}}}"
      ]
     },
     "execution_count": 29,
     "metadata": {},
     "output_type": "execute_result"
    }
   ],
   "source": [
    "# upsert 시 동봉된 id 값을 이용하여 조회\n",
    "index.fetch([\"vec1\",\"vec2\"])"
   ]
  },
  {
   "cell_type": "code",
   "execution_count": 30,
   "metadata": {
    "id": "aJ-Jl3JkRFuC"
   },
   "outputs": [
    {
     "data": {
      "text/plain": [
       "{}"
      ]
     },
     "execution_count": 30,
     "metadata": {},
     "output_type": "execute_result"
    }
   ],
   "source": [
    "# 덴스벡터 업데이트\n",
    "\n",
    "index.update(\"vec1\", values=[0.1,0.2,0.3,0.4,0.5,0.6,0.7,0.8])"
   ]
  },
  {
   "cell_type": "code",
   "execution_count": 31,
   "metadata": {
    "id": "hEw_QKj4R1gx"
   },
   "outputs": [
    {
     "data": {
      "text/plain": [
       "{'namespace': '',\n",
       " 'usage': {'read_units': 1},\n",
       " 'vectors': {'vec1': {'id': 'vec1',\n",
       "                      'metadata': {'genre': 'drama'},\n",
       "                      'sparse_values': {'indices': [10, 16, 45],\n",
       "                                        'values': [0.5, 0.2, 0.5]},\n",
       "                      'values': [0.1, 0.2, 0.3, 0.4, 0.5, 0.6, 0.7, 0.8]}}}"
      ]
     },
     "execution_count": 31,
     "metadata": {},
     "output_type": "execute_result"
    }
   ],
   "source": [
    "index.fetch([\"vec1\"])"
   ]
  },
  {
   "cell_type": "code",
   "execution_count": 32,
   "metadata": {
    "id": "5WJNbF7ER4Nq"
   },
   "outputs": [
    {
     "data": {
      "text/plain": [
       "{}"
      ]
     },
     "execution_count": 32,
     "metadata": {},
     "output_type": "execute_result"
    }
   ],
   "source": [
    "# 메타데이터 업데이트\n",
    "index.update(\"vec1\", set_metadata={\"genre\": \"Hero\", \"year\":2018})"
   ]
  },
  {
   "cell_type": "code",
   "execution_count": 33,
   "metadata": {
    "id": "veTt-F2XSHqo"
   },
   "outputs": [
    {
     "data": {
      "text/plain": [
       "{'namespace': '',\n",
       " 'usage': {'read_units': 1},\n",
       " 'vectors': {'vec1': {'id': 'vec1',\n",
       "                      'metadata': {'genre': 'Hero', 'year': 2018.0},\n",
       "                      'sparse_values': {'indices': [10, 16, 45],\n",
       "                                        'values': [0.5, 0.2, 0.5]},\n",
       "                      'values': [0.1, 0.2, 0.3, 0.4, 0.5, 0.6, 0.7, 0.8]}}}"
      ]
     },
     "execution_count": 33,
     "metadata": {},
     "output_type": "execute_result"
    }
   ],
   "source": [
    "index.fetch([\"vec1\"])"
   ]
  },
  {
   "cell_type": "code",
   "execution_count": 34,
   "metadata": {
    "id": "XCJ7XNcOSIwd"
   },
   "outputs": [
    {
     "data": {
      "text/plain": [
       "{}"
      ]
     },
     "execution_count": 34,
     "metadata": {},
     "output_type": "execute_result"
    }
   ],
   "source": [
    "# sparse vector update\n",
    "index.update(\n",
    "\tid=\"vec1\",\n",
    "\tsparse_values={\"indices\": [3,9], \"values\":[0.5,0.5]}\n",
    ")"
   ]
  },
  {
   "cell_type": "code",
   "execution_count": 35,
   "metadata": {
    "id": "qrtmTKy6Wa5Y"
   },
   "outputs": [
    {
     "data": {
      "text/plain": [
       "{'namespace': '',\n",
       " 'usage': {'read_units': 1},\n",
       " 'vectors': {'vec1': {'id': 'vec1',\n",
       "                      'metadata': {'genre': 'Hero', 'year': 2018.0},\n",
       "                      'sparse_values': {'indices': [3, 9],\n",
       "                                        'values': [0.5, 0.5]},\n",
       "                      'values': [0.1, 0.2, 0.3, 0.4, 0.5, 0.6, 0.7, 0.8]}}}"
      ]
     },
     "execution_count": 35,
     "metadata": {},
     "output_type": "execute_result"
    }
   ],
   "source": [
    "index.fetch(['vec1'])"
   ]
  },
  {
   "cell_type": "code",
   "execution_count": 36,
   "metadata": {
    "id": "Qf2LordxWcua"
   },
   "outputs": [
    {
     "data": {
      "text/plain": [
       "{}"
      ]
     },
     "execution_count": 36,
     "metadata": {},
     "output_type": "execute_result"
    }
   ],
   "source": [
    "# id값으로 특정 레코드 삭제\n",
    "index.delete(['vec1'])"
   ]
  },
  {
   "cell_type": "code",
   "execution_count": 37,
   "metadata": {
    "id": "0GscegBSWrXc"
   },
   "outputs": [
    {
     "data": {
      "text/plain": [
       "{'namespace': '', 'usage': {'read_units': 1}, 'vectors': {}}"
      ]
     },
     "execution_count": 37,
     "metadata": {},
     "output_type": "execute_result"
    }
   ],
   "source": [
    "index.fetch(['vec1'])"
   ]
  }
 ],
 "metadata": {
  "colab": {
   "authorship_tag": "ABX9TyPDss26H+zzwkxyFwxKH0AW",
   "provenance": []
  },
  "kernelspec": {
   "display_name": "Python 3 (ipykernel)",
   "language": "python",
   "name": "python3"
  },
  "language_info": {
   "codemirror_mode": {
    "name": "ipython",
    "version": 3
   },
   "file_extension": ".py",
   "mimetype": "text/x-python",
   "name": "python",
   "nbconvert_exporter": "python",
   "pygments_lexer": "ipython3",
   "version": "3.11.9"
  }
 },
 "nbformat": 4,
 "nbformat_minor": 4
}
