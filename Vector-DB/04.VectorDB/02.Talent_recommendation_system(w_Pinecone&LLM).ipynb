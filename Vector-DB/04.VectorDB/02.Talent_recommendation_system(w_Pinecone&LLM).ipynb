{
 "cells": [
  {
   "cell_type": "code",
   "execution_count": 1,
   "metadata": {},
   "outputs": [
    {
     "data": {
      "text/plain": [
       "True"
      ]
     },
     "execution_count": 1,
     "metadata": {},
     "output_type": "execute_result"
    }
   ],
   "source": [
    "import pandas as pd\n",
    "import numpy as np\n",
    "import json\n",
    "import os\n",
    "import openai\n",
    "from tqdm.notebook import tqdm\n",
    "from dotenv import load_dotenv\n",
    "load_dotenv()"
   ]
  },
  {
   "cell_type": "code",
   "execution_count": 2,
   "metadata": {},
   "outputs": [],
   "source": [
    "# initialize openai\n",
    "openai.api_key = os.environ[\"OPENAI_API_KEY\"]\n",
    "\n",
    "client = openai.OpenAI()"
   ]
  },
  {
   "cell_type": "code",
   "execution_count": 3,
   "metadata": {},
   "outputs": [
    {
     "data": {
      "text/plain": [
       "(2484, 4)"
      ]
     },
     "execution_count": 3,
     "metadata": {},
     "output_type": "execute_result"
    }
   ],
   "source": [
    "df = pd.read_csv(\"../data/Resume.csv\")\n",
    "df.shape"
   ]
  },
  {
   "cell_type": "code",
   "execution_count": 4,
   "metadata": {},
   "outputs": [
    {
     "data": {
      "text/plain": [
       "array(['HR', 'DESIGNER', 'INFORMATION-TECHNOLOGY', 'TEACHER', 'ADVOCATE',\n",
       "       'BUSINESS-DEVELOPMENT', 'HEALTHCARE', 'FITNESS', 'AGRICULTURE',\n",
       "       'BPO', 'SALES', 'CONSULTANT', 'DIGITAL-MEDIA', 'AUTOMOBILE',\n",
       "       'CHEF', 'FINANCE', 'APPAREL', 'ENGINEERING', 'ACCOUNTANT',\n",
       "       'CONSTRUCTION', 'PUBLIC-RELATIONS', 'BANKING', 'ARTS', 'AVIATION'],\n",
       "      dtype=object)"
      ]
     },
     "execution_count": 4,
     "metadata": {},
     "output_type": "execute_result"
    }
   ],
   "source": [
    "df.Category.unique()"
   ]
  },
  {
   "cell_type": "code",
   "execution_count": 6,
   "metadata": {},
   "outputs": [
    {
     "data": {
      "text/html": [
       "<div>\n",
       "<style scoped>\n",
       "    .dataframe tbody tr th:only-of-type {\n",
       "        vertical-align: middle;\n",
       "    }\n",
       "\n",
       "    .dataframe tbody tr th {\n",
       "        vertical-align: top;\n",
       "    }\n",
       "\n",
       "    .dataframe thead th {\n",
       "        text-align: right;\n",
       "    }\n",
       "</style>\n",
       "<table border=\"1\" class=\"dataframe\">\n",
       "  <thead>\n",
       "    <tr style=\"text-align: right;\">\n",
       "      <th></th>\n",
       "      <th>ID</th>\n",
       "      <th>Resume_str</th>\n",
       "      <th>Resume_html</th>\n",
       "      <th>Category</th>\n",
       "    </tr>\n",
       "  </thead>\n",
       "  <tbody>\n",
       "    <tr>\n",
       "      <th>1357</th>\n",
       "      <td>15180322</td>\n",
       "      <td>CHEF       Career Focus     I am a nu...</td>\n",
       "      <td>&lt;div class=\"fontsize fontface vmargins hmargin...</td>\n",
       "      <td>CHEF</td>\n",
       "    </tr>\n",
       "    <tr>\n",
       "      <th>1358</th>\n",
       "      <td>24221960</td>\n",
       "      <td>CHEF           Summary     Customer-o...</td>\n",
       "      <td>&lt;div class=\"fontsize fontface vmargins hmargin...</td>\n",
       "      <td>CHEF</td>\n",
       "    </tr>\n",
       "    <tr>\n",
       "      <th>1359</th>\n",
       "      <td>24673903</td>\n",
       "      <td>CHEF           Career Overview     De...</td>\n",
       "      <td>&lt;div class=\"fontsize fontface vmargins hmargin...</td>\n",
       "      <td>CHEF</td>\n",
       "    </tr>\n",
       "    <tr>\n",
       "      <th>1360</th>\n",
       "      <td>19007667</td>\n",
       "      <td>CHEF       Summary     Experienced ca...</td>\n",
       "      <td>&lt;div class=\"fontsize fontface vmargins hmargin...</td>\n",
       "      <td>CHEF</td>\n",
       "    </tr>\n",
       "    <tr>\n",
       "      <th>1361</th>\n",
       "      <td>30311202</td>\n",
       "      <td>RM     Roxanne    Mejia       Summary ...</td>\n",
       "      <td>&lt;div class=\"RNA skn-mng3 fontsize fontface vma...</td>\n",
       "      <td>CHEF</td>\n",
       "    </tr>\n",
       "    <tr>\n",
       "      <th>...</th>\n",
       "      <td>...</td>\n",
       "      <td>...</td>\n",
       "      <td>...</td>\n",
       "      <td>...</td>\n",
       "    </tr>\n",
       "    <tr>\n",
       "      <th>1470</th>\n",
       "      <td>15354126</td>\n",
       "      <td>OWNER/CHEF       Summary     Chef wit...</td>\n",
       "      <td>&lt;div class=\"fontsize fontface vmargins hmargin...</td>\n",
       "      <td>CHEF</td>\n",
       "    </tr>\n",
       "    <tr>\n",
       "      <th>1471</th>\n",
       "      <td>12155206</td>\n",
       "      <td>KINDERGARTEN TEACHER         Professi...</td>\n",
       "      <td>&lt;div class=\"fontsize fontface vmargins hmargin...</td>\n",
       "      <td>CHEF</td>\n",
       "    </tr>\n",
       "    <tr>\n",
       "      <th>1472</th>\n",
       "      <td>27298953</td>\n",
       "      <td>SUBSTITUTE PARA PROFESSIONAL       Su...</td>\n",
       "      <td>&lt;div class=\"fontsize fontface vmargins hmargin...</td>\n",
       "      <td>CHEF</td>\n",
       "    </tr>\n",
       "    <tr>\n",
       "      <th>1473</th>\n",
       "      <td>68338341</td>\n",
       "      <td>EXECUTIVE CHEF-PARTNER           Summ...</td>\n",
       "      <td>&lt;div class=\"fontsize fontface vmargins hmargin...</td>\n",
       "      <td>CHEF</td>\n",
       "    </tr>\n",
       "    <tr>\n",
       "      <th>1474</th>\n",
       "      <td>22349169</td>\n",
       "      <td>LINE CHEF/EXPEDITER       Summary    ...</td>\n",
       "      <td>&lt;div class=\"fontsize fontface vmargins hmargin...</td>\n",
       "      <td>CHEF</td>\n",
       "    </tr>\n",
       "  </tbody>\n",
       "</table>\n",
       "<p>118 rows × 4 columns</p>\n",
       "</div>"
      ],
      "text/plain": [
       "            ID                                         Resume_str  \\\n",
       "1357  15180322           CHEF       Career Focus     I am a nu...   \n",
       "1358  24221960           CHEF           Summary     Customer-o...   \n",
       "1359  24673903           CHEF           Career Overview     De...   \n",
       "1360  19007667           CHEF       Summary     Experienced ca...   \n",
       "1361  30311202          RM     Roxanne    Mejia       Summary ...   \n",
       "...        ...                                                ...   \n",
       "1470  15354126           OWNER/CHEF       Summary     Chef wit...   \n",
       "1471  12155206           KINDERGARTEN TEACHER         Professi...   \n",
       "1472  27298953           SUBSTITUTE PARA PROFESSIONAL       Su...   \n",
       "1473  68338341           EXECUTIVE CHEF-PARTNER           Summ...   \n",
       "1474  22349169           LINE CHEF/EXPEDITER       Summary    ...   \n",
       "\n",
       "                                            Resume_html Category  \n",
       "1357  <div class=\"fontsize fontface vmargins hmargin...     CHEF  \n",
       "1358  <div class=\"fontsize fontface vmargins hmargin...     CHEF  \n",
       "1359  <div class=\"fontsize fontface vmargins hmargin...     CHEF  \n",
       "1360  <div class=\"fontsize fontface vmargins hmargin...     CHEF  \n",
       "1361  <div class=\"RNA skn-mng3 fontsize fontface vma...     CHEF  \n",
       "...                                                 ...      ...  \n",
       "1470  <div class=\"fontsize fontface vmargins hmargin...     CHEF  \n",
       "1471  <div class=\"fontsize fontface vmargins hmargin...     CHEF  \n",
       "1472  <div class=\"fontsize fontface vmargins hmargin...     CHEF  \n",
       "1473  <div class=\"fontsize fontface vmargins hmargin...     CHEF  \n",
       "1474  <div class=\"fontsize fontface vmargins hmargin...     CHEF  \n",
       "\n",
       "[118 rows x 4 columns]"
      ]
     },
     "execution_count": 6,
     "metadata": {},
     "output_type": "execute_result"
    }
   ],
   "source": [
    "df.loc[df['Category']=='CHEF']"
   ]
  },
  {
   "cell_type": "code",
   "execution_count": 7,
   "metadata": {},
   "outputs": [],
   "source": [
    "with open(\"../data/resume_info_extracted.json\", 'r') as file:\n",
    "    data = json.load(file)\n",
    "\n",
    "with open(\"../data/resume_info_extracted_emb.json\", 'r') as file:\n",
    "    emb_data = json.load(file)"
   ]
  },
  {
   "cell_type": "code",
   "execution_count": 8,
   "metadata": {},
   "outputs": [
    {
     "data": {
      "text/plain": [
       "{'skills': ['CPR/AED Certified', 'CPI Certified', 'THSCA Member'],\n",
       " 'work experience (years)': '7',\n",
       " 'summary': ['Worked as Fitness Consultant from 09/2013 to 03/2014, doing tours, wellness advice, outside marketing, and calls to prospective members.',\n",
       "  'Worked as DAEP/Special Education/Coach from 08/2012 to 05/2013, doing teaching in DAEP, working with Autism and Down Syndrome children in Special Education, and coaching Football, Basketball, and Strength and Conditioning programs.',\n",
       "  'Worked as PE/Special Education/Coach from 08/2009 to 05/2012, doing teaching in Middle School PE and Content Mastery programs, working with Special Education at various levels, and coaching Football, Basketball, Baseball, and Track & Field.',\n",
       "  'Worked as Sales from 07/2014 to Current, doing business growth, maintaining detailed records of jobs and potential clients, and maintaining client relations.'],\n",
       " 'ID': '17576030',\n",
       " 'title': 'FITNESS CONSULTANT'}"
      ]
     },
     "execution_count": 8,
     "metadata": {},
     "output_type": "execute_result"
    }
   ],
   "source": [
    "data[0]"
   ]
  },
  {
   "cell_type": "code",
   "execution_count": 9,
   "metadata": {},
   "outputs": [
    {
     "data": {
      "text/plain": [
       "'17576030'"
      ]
     },
     "execution_count": 9,
     "metadata": {},
     "output_type": "execute_result"
    }
   ],
   "source": [
    "emb_data[0]['ID']"
   ]
  },
  {
   "cell_type": "markdown",
   "metadata": {},
   "source": [
    "### Connect to Pinecone"
   ]
  },
  {
   "cell_type": "code",
   "execution_count": 10,
   "metadata": {},
   "outputs": [],
   "source": [
    "from pinecone import Pinecone\n",
    "\n",
    "pc = Pinecone(api_key=os.environ[\"PINECONE_API_KEY\"])\n",
    "index = pc.Index(\"llm-study\")"
   ]
  },
  {
   "cell_type": "code",
   "execution_count": 11,
   "metadata": {},
   "outputs": [
    {
     "data": {
      "text/plain": [
       "{'dimension': 1536,\n",
       " 'host': 'llm-study-etttk3j.svc.aped-4627-b74a.pinecone.io',\n",
       " 'metric': 'cosine',\n",
       " 'name': 'llm-study',\n",
       " 'spec': {'serverless': {'cloud': 'aws', 'region': 'us-east-1'}},\n",
       " 'status': {'ready': True, 'state': 'Ready'}}"
      ]
     },
     "execution_count": 11,
     "metadata": {},
     "output_type": "execute_result"
    }
   ],
   "source": [
    "pc.describe_index(\"llm-study\")"
   ]
  },
  {
   "cell_type": "markdown",
   "metadata": {},
   "source": [
    "### Upset data"
   ]
  },
  {
   "cell_type": "code",
   "execution_count": 12,
   "metadata": {},
   "outputs": [
    {
     "data": {
      "text/plain": [
       "{'skills': ['CPR/AED Certified', 'CPI Certified', 'THSCA Member'],\n",
       " 'work experience (years)': '7',\n",
       " 'summary': ['Worked as Fitness Consultant from 09/2013 to 03/2014, doing tours, wellness advice, outside marketing, and calls to prospective members.',\n",
       "  'Worked as DAEP/Special Education/Coach from 08/2012 to 05/2013, doing teaching in DAEP, working with Autism and Down Syndrome children in Special Education, and coaching Football, Basketball, and Strength and Conditioning programs.',\n",
       "  'Worked as PE/Special Education/Coach from 08/2009 to 05/2012, doing teaching in Middle School PE and Content Mastery programs, working with Special Education at various levels, and coaching Football, Basketball, Baseball, and Track & Field.',\n",
       "  'Worked as Sales from 07/2014 to Current, doing business growth, maintaining detailed records of jobs and potential clients, and maintaining client relations.'],\n",
       " 'ID': '17576030',\n",
       " 'title': 'FITNESS CONSULTANT'}"
      ]
     },
     "execution_count": 12,
     "metadata": {},
     "output_type": "execute_result"
    }
   ],
   "source": [
    "data[0]"
   ]
  },
  {
   "cell_type": "markdown",
   "metadata": {},
   "source": [
    "- 필요한 데이터:\n",
    "    - skills & work summary\n",
    "- 문제점:\n",
    "    - pinecone에 저장을 하기 위해서는 한 row당 index 하나 밖에 만들지 못 함\n",
    "- 해결 방법:\n",
    "    - meta data에 field를 추가하여 이력서 ID 등과 같은 데이터를 저장\n",
    "- 기존 dataframe을 사용할 때와 다른 점 :\n",
    "    - 각 data point가 하나의 embedding vector가 되어야 함"
   ]
  },
  {
   "cell_type": "markdown",
   "metadata": {},
   "source": [
    "Desired input format : \n",
    "```json\n",
    "work_experience = {\n",
    "    \"id\" : 1234-work,\n",
    "    \"values\" : [0.23432, 0.22149, ...],\n",
    "    \"metadata\" : {\n",
    "        \"summary\" : \"Worked as a head chef in ...\",\n",
    "        \"ID\" : 1234\n",
    "    }\n",
    "}\n",
    "\n",
    "skill = {\n",
    "    \"id\" : 1234-skill,\n",
    "    \"values\" : [0.92372, 0.678234, ...],\n",
    "    \"metadata\" : {\n",
    "        \"summary\" : \"Cooking\",\n",
    "        \"ID\" : 1234\n",
    "    }\n",
    "}\n",
    "\n",
    "```"
   ]
  },
  {
   "cell_type": "markdown",
   "metadata": {},
   "source": [
    "#### Indexing\n",
    "- Custom Index"
   ]
  },
  {
   "cell_type": "code",
   "execution_count": 13,
   "metadata": {},
   "outputs": [
    {
     "data": {
      "text/plain": [
       "{'skills': ['CPR/AED Certified', 'CPI Certified', 'THSCA Member'],\n",
       " 'work experience (years)': '7',\n",
       " 'summary': ['Worked as Fitness Consultant from 09/2013 to 03/2014, doing tours, wellness advice, outside marketing, and calls to prospective members.',\n",
       "  'Worked as DAEP/Special Education/Coach from 08/2012 to 05/2013, doing teaching in DAEP, working with Autism and Down Syndrome children in Special Education, and coaching Football, Basketball, and Strength and Conditioning programs.',\n",
       "  'Worked as PE/Special Education/Coach from 08/2009 to 05/2012, doing teaching in Middle School PE and Content Mastery programs, working with Special Education at various levels, and coaching Football, Basketball, Baseball, and Track & Field.',\n",
       "  'Worked as Sales from 07/2014 to Current, doing business growth, maintaining detailed records of jobs and potential clients, and maintaining client relations.'],\n",
       " 'ID': '17576030',\n",
       " 'title': 'FITNESS CONSULTANT'}"
      ]
     },
     "execution_count": 13,
     "metadata": {},
     "output_type": "execute_result"
    }
   ],
   "source": [
    "data[0]"
   ]
  },
  {
   "cell_type": "code",
   "execution_count": 14,
   "metadata": {},
   "outputs": [],
   "source": [
    "exp_vectors = list()\n",
    "skill_vectors = list()\n",
    "\n",
    "for d, emb in zip(data, emb_data):\n",
    "    assert d['ID']==emb['ID'], \"You should check your embeddings again\"\n",
    "\n",
    "    for i, summary_emb in enumerate(emb['summary']):\n",
    "        value = {\n",
    "                \"id\" : str(d['ID']) + \"-work\" + str(i),\n",
    "                \"values\" : summary_emb,\n",
    "                \"metadata\" : {'summary' : d['summary'][i],\n",
    "                            'ID':d['ID']},\n",
    "                }\n",
    "        exp_vectors.append(value)\n",
    "\n",
    "    for i, skill_emb in enumerate(emb['skills']):\n",
    "        value = {\n",
    "                \"id\" : str(d['ID']) + \"-skill\" + str(i),\n",
    "                \"values\" : skill_emb,\n",
    "                \"metadata\" : {\"skill\" : d['skills'][i],\n",
    "                              \"ID\":d['ID']}\n",
    "                }\n",
    "        skill_vectors.append(value)"
   ]
  },
  {
   "cell_type": "code",
   "execution_count": 15,
   "metadata": {},
   "outputs": [],
   "source": [
    "def create_batches(lst, n):\n",
    "    for i in range(0, len(lst), n):\n",
    "        yield lst[i:i + n]"
   ]
  },
  {
   "cell_type": "markdown",
   "metadata": {},
   "source": [
    "index upsert시 확인 필요 - [Pinecone Quotas and limits](https://docs.pinecone.io/reference/quotas-and-limits)"
   ]
  },
  {
   "cell_type": "markdown",
   "metadata": {},
   "source": [
    "Batch upsert"
   ]
  },
  {
   "cell_type": "code",
   "execution_count": 16,
   "metadata": {},
   "outputs": [
    {
     "data": {
      "application/vnd.jupyter.widget-view+json": {
       "model_id": "aa306e519f9548078b887c85597e3527",
       "version_major": 2,
       "version_minor": 0
      },
      "text/plain": [
       "  0%|          | 0/23 [00:00<?, ?it/s]"
      ]
     },
     "metadata": {},
     "output_type": "display_data"
    }
   ],
   "source": [
    "exp_batches = list(create_batches(exp_vectors, 50))\n",
    "\n",
    "for batch in tqdm(exp_batches):\n",
    "    index.upsert(vectors=batch,\n",
    "                 namespace=\"work_exp\")"
   ]
  },
  {
   "cell_type": "code",
   "execution_count": 17,
   "metadata": {},
   "outputs": [
    {
     "data": {
      "text/plain": [
       "1122"
      ]
     },
     "execution_count": 17,
     "metadata": {},
     "output_type": "execute_result"
    }
   ],
   "source": [
    "len(exp_vectors)"
   ]
  },
  {
   "cell_type": "code",
   "execution_count": 18,
   "metadata": {},
   "outputs": [
    {
     "data": {
      "application/vnd.jupyter.widget-view+json": {
       "model_id": "da46127b75034c0397d341fe1b027586",
       "version_major": 2,
       "version_minor": 0
      },
      "text/plain": [
       "  0%|          | 0/108 [00:00<?, ?it/s]"
      ]
     },
     "metadata": {},
     "output_type": "display_data"
    }
   ],
   "source": [
    "skill_batches = list(create_batches(skill_vectors, 50))\n",
    "\n",
    "for batch in tqdm(skill_batches):\n",
    "    index.upsert(vectors=batch,\n",
    "                 namespace=\"skill\")"
   ]
  },
  {
   "cell_type": "code",
   "execution_count": 19,
   "metadata": {},
   "outputs": [],
   "source": [
    "# index.delete(delete_all=True, namespace='work_exp')\n",
    "# index.delete(delete_all=True, namespace='skill')"
   ]
  },
  {
   "cell_type": "markdown",
   "metadata": {},
   "source": [
    "---"
   ]
  },
  {
   "cell_type": "markdown",
   "metadata": {},
   "source": [
    "### Search & retrieval (test)"
   ]
  },
  {
   "cell_type": "code",
   "execution_count": 20,
   "metadata": {},
   "outputs": [],
   "source": [
    "from text_utils import create_embeddings"
   ]
  },
  {
   "cell_type": "markdown",
   "metadata": {},
   "source": [
    "현재 예시에 hybrid search가 적합하지 않은 이유 : \n",
    "- 우리의 'skills'들이 사전에 정해진 단어들로만 이루어져 있으면 가능하겠지만, 그렇지 않은 상황\n",
    "- 사용자의 input을 통해 얻는 query가 우리가 갖고 있는 skill의 리스트에 국한되지 않음\n",
    "- hybrid search에 많이 쓰이는, ranking function 중 하나인 BM25는 training 과정에서 보지 못 한 단어는 처리하지 못함 (sparse vector 상으로 표현 X)\n",
    "\n",
    "hybrid search가 적합한 경우:\n",
    "- Skill의 list를 활용하여 후보군들을 선정\n",
    "- 만약 이력서 데이터셋에 있는 skill들의 variation이 정해져 있덨다면 아주 적합\n",
    "- 전문 용어들을 활용하여 document search를 하는 경우 (semantic representation으로 나타내기 어려운 전문용어의 경우에도 활용 가능)"
   ]
  },
  {
   "cell_type": "code",
   "execution_count": 21,
   "metadata": {},
   "outputs": [
    {
     "data": {
      "text/plain": [
       "{'skills': ['CPR/AED Certified', 'CPI Certified', 'THSCA Member'],\n",
       " 'work experience (years)': '7',\n",
       " 'summary': ['Worked as Fitness Consultant from 09/2013 to 03/2014, doing tours, wellness advice, outside marketing, and calls to prospective members.',\n",
       "  'Worked as DAEP/Special Education/Coach from 08/2012 to 05/2013, doing teaching in DAEP, working with Autism and Down Syndrome children in Special Education, and coaching Football, Basketball, and Strength and Conditioning programs.',\n",
       "  'Worked as PE/Special Education/Coach from 08/2009 to 05/2012, doing teaching in Middle School PE and Content Mastery programs, working with Special Education at various levels, and coaching Football, Basketball, Baseball, and Track & Field.',\n",
       "  'Worked as Sales from 07/2014 to Current, doing business growth, maintaining detailed records of jobs and potential clients, and maintaining client relations.'],\n",
       " 'ID': '17576030',\n",
       " 'title': 'FITNESS CONSULTANT'}"
      ]
     },
     "execution_count": 21,
     "metadata": {},
     "output_type": "execute_result"
    }
   ],
   "source": [
    "data[0]"
   ]
  },
  {
   "cell_type": "code",
   "execution_count": 22,
   "metadata": {},
   "outputs": [
    {
     "name": "stdout",
     "output_type": "stream",
     "text": [
      "CPR/AED Certified\n"
     ]
    }
   ],
   "source": [
    "search_skill = data[0]['skills'][0]\n",
    "search_emb = create_embeddings(search_skill)\n",
    "print(search_skill)"
   ]
  },
  {
   "cell_type": "code",
   "execution_count": 23,
   "metadata": {},
   "outputs": [
    {
     "data": {
      "text/plain": [
       "{'matches': [{'id': '17163375-skill2',\n",
       "              'metadata': {'ID': '17163375', 'skill': 'CPR/AED Certified'},\n",
       "              'score': 0.999999464,\n",
       "              'values': []},\n",
       "             {'id': '70603826-skill2',\n",
       "              'metadata': {'ID': '70603826', 'skill': 'CPR/AED Certified'},\n",
       "              'score': 0.999999464,\n",
       "              'values': []},\n",
       "             {'id': '32636041-skill15',\n",
       "              'metadata': {'ID': '32636041', 'skill': 'CPR/AED Certified'},\n",
       "              'score': 0.999999464,\n",
       "              'values': []},\n",
       "             {'id': '17576030-skill0',\n",
       "              'metadata': {'ID': '17576030', 'skill': 'CPR/AED Certified'},\n",
       "              'score': 0.999999464,\n",
       "              'values': []},\n",
       "             {'id': '63282405-skill14',\n",
       "              'metadata': {'ID': '63282405', 'skill': 'CPR Certified'},\n",
       "              'score': 0.904459953,\n",
       "              'values': []},\n",
       "             {'id': '20457611-skill11',\n",
       "              'metadata': {'ID': '20457611', 'skill': 'CPR Certified'},\n",
       "              'score': 0.904448569,\n",
       "              'values': []},\n",
       "             {'id': '22093368-skill36',\n",
       "              'metadata': {'ID': '22093368', 'skill': 'CPR certified'},\n",
       "              'score': 0.887979627,\n",
       "              'values': []},\n",
       "             {'id': '12791244-skill5',\n",
       "              'metadata': {'ID': '12791244', 'skill': 'CPR certified'},\n",
       "              'score': 0.887967587,\n",
       "              'values': []},\n",
       "             {'id': '16038911-skill0',\n",
       "              'metadata': {'ID': '16038911', 'skill': 'CPR certified'},\n",
       "              'score': 0.887967587,\n",
       "              'values': []},\n",
       "             {'id': '24444525-skill5',\n",
       "              'metadata': {'ID': '24444525',\n",
       "                           'skill': 'CPR and First Aid certified'},\n",
       "              'score': 0.839232,\n",
       "              'values': []},\n",
       "             {'id': '15932017-skill1',\n",
       "              'metadata': {'ID': '15932017',\n",
       "                           'skill': 'CPR and First Aid certified'},\n",
       "              'score': 0.839174151,\n",
       "              'values': []},\n",
       "             {'id': '32517106-skill1',\n",
       "              'metadata': {'ID': '32517106',\n",
       "                           'skill': 'CPR and First Aid certified'},\n",
       "              'score': 0.839174151,\n",
       "              'values': []},\n",
       "             {'id': '20279756-skill6',\n",
       "              'metadata': {'ID': '20279756',\n",
       "                           'skill': 'CPR and First Aid certified'},\n",
       "              'score': 0.839149833,\n",
       "              'values': []},\n",
       "             {'id': '15932017-skill16',\n",
       "              'metadata': {'ID': '15932017',\n",
       "                           'skill': 'First Aid and CPR Certified'},\n",
       "              'score': 0.804236174,\n",
       "              'values': []},\n",
       "             {'id': '10428916-skill3',\n",
       "              'metadata': {'ID': '10428916',\n",
       "                           'skill': 'AHA CPR/AED & First Aid'},\n",
       "              'score': 0.782503784,\n",
       "              'values': []},\n",
       "             {'id': '24251588-skill26',\n",
       "              'metadata': {'ID': '24251588', 'skill': 'AED Certified'},\n",
       "              'score': 0.780208051,\n",
       "              'values': []},\n",
       "             {'id': '55746506-skill20',\n",
       "              'metadata': {'ID': '55746506', 'skill': 'CPR/First Aid'},\n",
       "              'score': 0.765636802,\n",
       "              'values': []},\n",
       "             {'id': '20565486-skill13',\n",
       "              'metadata': {'ID': '20565486', 'skill': 'CPR and First Aid'},\n",
       "              'score': 0.738715708,\n",
       "              'values': []},\n",
       "             {'id': '17163375-skill3',\n",
       "              'metadata': {'ID': '17163375', 'skill': 'First Aid Certified'},\n",
       "              'score': 0.734583735,\n",
       "              'values': []},\n",
       "             {'id': '77266989-skill8',\n",
       "              'metadata': {'ID': '77266989',\n",
       "                           'skill': 'CPR First Aid Instructor'},\n",
       "              'score': 0.714648545,\n",
       "              'values': []},\n",
       "             {'id': '13367322-skill19',\n",
       "              'metadata': {'ID': '13367322', 'skill': 'First Aid/CPR'},\n",
       "              'score': 0.714467168,\n",
       "              'values': []},\n",
       "             {'id': '89858892-skill20',\n",
       "              'metadata': {'ID': '89858892', 'skill': 'First Aid/CPR'},\n",
       "              'score': 0.714467168,\n",
       "              'values': []},\n",
       "             {'id': '54259150-skill5',\n",
       "              'metadata': {'ID': '54259150', 'skill': 'CPR'},\n",
       "              'score': 0.703596652,\n",
       "              'values': []},\n",
       "             {'id': '27084878-skill10',\n",
       "              'metadata': {'ID': '27084878', 'skill': 'CPR'},\n",
       "              'score': 0.703596652,\n",
       "              'values': []},\n",
       "             {'id': '29165698-skill2',\n",
       "              'metadata': {'ID': '29165698', 'skill': 'CPR'},\n",
       "              'score': 0.703596652,\n",
       "              'values': []},\n",
       "             {'id': '26459032-skill11',\n",
       "              'metadata': {'ID': '26459032', 'skill': 'CPR'},\n",
       "              'score': 0.703596652,\n",
       "              'values': []},\n",
       "             {'id': '30990885-skill1',\n",
       "              'metadata': {'ID': '30990885', 'skill': 'CPR'},\n",
       "              'score': 0.703596652,\n",
       "              'values': []},\n",
       "             {'id': '52684666-skill5',\n",
       "              'metadata': {'ID': '52684666', 'skill': 'CPR'},\n",
       "              'score': 0.703596652,\n",
       "              'values': []},\n",
       "             {'id': '21334981-skill5',\n",
       "              'metadata': {'ID': '21334981', 'skill': 'CPR'},\n",
       "              'score': 0.703596652,\n",
       "              'values': []},\n",
       "             {'id': '10816645-skill1',\n",
       "              'metadata': {'ID': '10816645', 'skill': 'CPR'},\n",
       "              'score': 0.703596652,\n",
       "              'values': []},\n",
       "             {'id': '24251588-skill25',\n",
       "              'metadata': {'ID': '24251588', 'skill': 'CPR'},\n",
       "              'score': 0.703596652,\n",
       "              'values': []},\n",
       "             {'id': '22855060-skill39',\n",
       "              'metadata': {'ID': '22855060', 'skill': 'CPR'},\n",
       "              'score': 0.703596652,\n",
       "              'values': []},\n",
       "             {'id': '10001727-skill4',\n",
       "              'metadata': {'ID': '10001727', 'skill': 'CPR'},\n",
       "              'score': 0.703596652,\n",
       "              'values': []},\n",
       "             {'id': '16605352-skill17',\n",
       "              'metadata': {'ID': '16605352', 'skill': 'CPR'},\n",
       "              'score': 0.703596652,\n",
       "              'values': []},\n",
       "             {'id': '23011221-skill31',\n",
       "              'metadata': {'ID': '23011221', 'skill': 'CPR'},\n",
       "              'score': 0.703564,\n",
       "              'values': []},\n",
       "             {'id': '17915015-skill4',\n",
       "              'metadata': {'ID': '17915015', 'skill': 'CPR'},\n",
       "              'score': 0.70355016,\n",
       "              'values': []},\n",
       "             {'id': '32651555-skill21',\n",
       "              'metadata': {'ID': '32651555', 'skill': 'CPR'},\n",
       "              'score': 0.703529537,\n",
       "              'values': []},\n",
       "             {'id': '10333051-skill27',\n",
       "              'metadata': {'ID': '10333051', 'skill': 'CPR'},\n",
       "              'score': 0.703529537,\n",
       "              'values': []},\n",
       "             {'id': '16038911-skill10',\n",
       "              'metadata': {'ID': '16038911', 'skill': 'AED certification'},\n",
       "              'score': 0.669475257,\n",
       "              'values': []},\n",
       "             {'id': '32517106-skill3',\n",
       "              'metadata': {'ID': '32517106', 'skill': 'AED certification'},\n",
       "              'score': 0.669475257,\n",
       "              'values': []},\n",
       "             {'id': '24444525-skill8',\n",
       "              'metadata': {'ID': '24444525', 'skill': 'AED certification'},\n",
       "              'score': 0.669401705,\n",
       "              'values': []},\n",
       "             {'id': '27974588-skill20',\n",
       "              'metadata': {'ID': '27974588', 'skill': 'CPR - thru 6-17-17'},\n",
       "              'score': 0.612220764,\n",
       "              'values': []},\n",
       "             {'id': '70603826-skill3',\n",
       "              'metadata': {'ID': '70603826',\n",
       "                           'skill': 'Safety & First Aid Certification'},\n",
       "              'score': 0.611895382,\n",
       "              'values': []},\n",
       "             {'id': '32651555-skill22',\n",
       "              'metadata': {'ID': '32651555', 'skill': 'First Aid'},\n",
       "              'score': 0.503325284,\n",
       "              'values': []},\n",
       "             {'id': '26459032-skill18',\n",
       "              'metadata': {'ID': '26459032', 'skill': 'First Aid'},\n",
       "              'score': 0.503296256,\n",
       "              'values': []},\n",
       "             {'id': '17915015-skill9',\n",
       "              'metadata': {'ID': '17915015', 'skill': 'First Aid'},\n",
       "              'score': 0.503296256,\n",
       "              'values': []},\n",
       "             {'id': '16038911-skill1',\n",
       "              'metadata': {'ID': '16038911', 'skill': 'First Aid'},\n",
       "              'score': 0.503296256,\n",
       "              'values': []},\n",
       "             {'id': '63282405-skill19',\n",
       "              'metadata': {'ID': '63282405', 'skill': 'First Aid'},\n",
       "              'score': 0.503296256,\n",
       "              'values': []},\n",
       "             {'id': '29165698-skill6',\n",
       "              'metadata': {'ID': '29165698', 'skill': 'First Aid'},\n",
       "              'score': 0.503296256,\n",
       "              'values': []},\n",
       "             {'id': '22488036-skill46',\n",
       "              'metadata': {'ID': '22488036', 'skill': 'First Aid'},\n",
       "              'score': 0.503296256,\n",
       "              'values': []}],\n",
       " 'namespace': 'skill',\n",
       " 'usage': {'read_units': 10}}"
      ]
     },
     "execution_count": 23,
     "metadata": {},
     "output_type": "execute_result"
    }
   ],
   "source": [
    "index.query(\n",
    "    top_k=50,\n",
    "    vector=search_emb,\n",
    "    namespace='skill',\n",
    "    include_metadata=True\n",
    "    )"
   ]
  },
  {
   "cell_type": "markdown",
   "metadata": {},
   "source": [
    "---"
   ]
  },
  {
   "cell_type": "markdown",
   "metadata": {},
   "source": [
    "### Search & retrieval + postprocessing"
   ]
  },
  {
   "cell_type": "code",
   "execution_count": 24,
   "metadata": {},
   "outputs": [
    {
     "data": {
      "text/plain": [
       "{'skills': ['CPR/AED Certified', 'CPI Certified', 'THSCA Member'],\n",
       " 'work experience (years)': '7',\n",
       " 'summary': ['Worked as Fitness Consultant from 09/2013 to 03/2014, doing tours, wellness advice, outside marketing, and calls to prospective members.',\n",
       "  'Worked as DAEP/Special Education/Coach from 08/2012 to 05/2013, doing teaching in DAEP, working with Autism and Down Syndrome children in Special Education, and coaching Football, Basketball, and Strength and Conditioning programs.',\n",
       "  'Worked as PE/Special Education/Coach from 08/2009 to 05/2012, doing teaching in Middle School PE and Content Mastery programs, working with Special Education at various levels, and coaching Football, Basketball, Baseball, and Track & Field.',\n",
       "  'Worked as Sales from 07/2014 to Current, doing business growth, maintaining detailed records of jobs and potential clients, and maintaining client relations.'],\n",
       " 'ID': '17576030',\n",
       " 'title': 'FITNESS CONSULTANT'}"
      ]
     },
     "execution_count": 24,
     "metadata": {},
     "output_type": "execute_result"
    }
   ],
   "source": [
    "data[0]"
   ]
  },
  {
   "cell_type": "code",
   "execution_count": 25,
   "metadata": {},
   "outputs": [],
   "source": [
    "skills = ['Menu Development', 'Catering', 'Inventory Management']\n",
    "exp = 'As the Executive Chef at Le Gourmet Quatre, a Michelin-starred fine dining restaurant, I led a team of 20 chefs in developing innovative French-Asian fusion menus, while also managing kitchen operations efficiently to uphold the highest standards of food safety and cost control'"
   ]
  },
  {
   "cell_type": "markdown",
   "metadata": {},
   "source": [
    "#### search & retrieval\n",
    "- Top-K retrieval\n",
    "- Metadata replacement"
   ]
  },
  {
   "cell_type": "code",
   "execution_count": 26,
   "metadata": {},
   "outputs": [],
   "source": [
    "emb_skills = create_embeddings(skills)\n",
    "emb_exp = create_embeddings(exp)[0]"
   ]
  },
  {
   "cell_type": "code",
   "execution_count": 27,
   "metadata": {},
   "outputs": [],
   "source": [
    "def search_vdb(vdb_index, query_emb, top_k, namespace):\n",
    "    output = vdb_index.query(\n",
    "        namespace=namespace,\n",
    "        top_k=top_k,\n",
    "        vector=query_emb,\n",
    "        include_metadata=True\n",
    "    )\n",
    "\n",
    "    return output['matches']"
   ]
  },
  {
   "cell_type": "code",
   "execution_count": 28,
   "metadata": {},
   "outputs": [],
   "source": [
    "# search\n",
    "skill_outputs = {s:search_vdb(index, i, 10, 'skill') for s,i in zip(skills, emb_skills)}\n",
    "exp_outputs = search_vdb(index, emb_exp, 10, 'work_exp')"
   ]
  },
  {
   "cell_type": "code",
   "execution_count": 29,
   "metadata": {},
   "outputs": [
    {
     "data": {
      "text/plain": [
       "dict_keys(['Menu Development', 'Catering', 'Inventory Management'])"
      ]
     },
     "execution_count": 29,
     "metadata": {},
     "output_type": "execute_result"
    }
   ],
   "source": [
    "skill_outputs.keys()"
   ]
  },
  {
   "cell_type": "code",
   "execution_count": 30,
   "metadata": {},
   "outputs": [
    {
     "data": {
      "text/plain": [
       "[{'id': '34452806-skill15',\n",
       "  'metadata': {'ID': '34452806', 'skill': 'Catering'},\n",
       "  'score': 0.999999583,\n",
       "  'values': []},\n",
       " {'id': '25128608-skill17',\n",
       "  'metadata': {'ID': '25128608', 'skill': 'Catering'},\n",
       "  'score': 0.999999583,\n",
       "  'values': []},\n",
       " {'id': '29775391-skill13',\n",
       "  'metadata': {'ID': '29775391', 'skill': 'Catering'},\n",
       "  'score': 0.999999583,\n",
       "  'values': []},\n",
       " {'id': '21611637-skill11',\n",
       "  'metadata': {'ID': '21611637', 'skill': 'catering'},\n",
       "  'score': 0.928126335,\n",
       "  'values': []},\n",
       " {'id': '37231163-skill5',\n",
       "  'metadata': {'ID': '37231163', 'skill': 'catering style'},\n",
       "  'score': 0.76884979,\n",
       "  'values': []},\n",
       " {'id': '34452806-skill39',\n",
       "  'metadata': {'ID': '34452806', 'skill': 'Private catering'},\n",
       "  'score': 0.749412596,\n",
       "  'values': []},\n",
       " {'id': '29449419-skill26',\n",
       "  'metadata': {'ID': '29449419', 'skill': 'Strong Catering abilities'},\n",
       "  'score': 0.745458901,\n",
       "  'values': []},\n",
       " {'id': '65373280-skill1',\n",
       "  'metadata': {'ID': '65373280', 'skill': 'Banquets and catering'},\n",
       "  'score': 0.70724833,\n",
       "  'values': []},\n",
       " {'id': '18825446-skill35',\n",
       "  'metadata': {'ID': '18825446', 'skill': 'Off-site catering'},\n",
       "  'score': 0.700032592,\n",
       "  'values': []},\n",
       " {'id': '10276858-skill23',\n",
       "  'metadata': {'ID': '10276858', 'skill': 'off-site catering'},\n",
       "  'score': 0.67172873,\n",
       "  'values': []}]"
      ]
     },
     "execution_count": 30,
     "metadata": {},
     "output_type": "execute_result"
    }
   ],
   "source": [
    "skill_outputs['Catering']"
   ]
  },
  {
   "cell_type": "code",
   "execution_count": 31,
   "metadata": {},
   "outputs": [
    {
     "data": {
      "text/plain": [
       "[{'id': '19285236-work0',\n",
       "  'metadata': {'ID': '19285236',\n",
       "               'summary': 'Worked as Executive Chef from February 2014, '\n",
       "                          'overseeing kitchen and Café activities, managing a '\n",
       "                          'significant budget, and leading a staff through peak '\n",
       "                          'seasons, achieving improved service and safety '\n",
       "                          'standards.'},\n",
       "  'score': 0.660633683,\n",
       "  'values': []},\n",
       " {'id': '13212436-work2',\n",
       "  'metadata': {'ID': '13212436',\n",
       "               'summary': 'Worked as Executive Chef/Director of Culinary from '\n",
       "                          '01/2015 to 03/2018, focusing on high quality, '\n",
       "                          'innovative food so clients and customers feel like '\n",
       "                          'they are not in a convention center atmosphere, '\n",
       "                          'overseeing 100+ employees and 6 chefs daily.'},\n",
       "  'score': 0.657844484,\n",
       "  'values': []},\n",
       " {'id': '22561438-work0',\n",
       "  'metadata': {'ID': '22561438',\n",
       "               'summary': 'Worked as Chef De Cuisine from 04/2016 to Current, '\n",
       "                          'doing seasonal menu development, maintaining food '\n",
       "                          'quality with low cost, managing inventory and '\n",
       "                          'ordering, hiring and firing, and training new '\n",
       "                          'employees to uphold standards.'},\n",
       "  'score': 0.657054722,\n",
       "  'values': []},\n",
       " {'id': '34452806-work2',\n",
       "  'metadata': {'ID': '34452806',\n",
       "               'summary': 'Worked as Executive Chef/Food Service Manager from '\n",
       "                          'May 2005 to January 2013, doing premium menu design, '\n",
       "                          'recipe development, culinary education for kitchen '\n",
       "                          'staff, and managing nutritional standards for food '\n",
       "                          'outlets, and accomplishing a 65% sales increase over '\n",
       "                          '5 years and positive guest feedback surveys.'},\n",
       "  'score': 0.655931354,\n",
       "  'values': []},\n",
       " {'id': '20691949-work1',\n",
       "  'metadata': {'ID': '20691949',\n",
       "               'summary': 'Worked as Sous Chef from 04/2015 to Current, '\n",
       "                          'effectively managing a kitchen team over two '\n",
       "                          'kitchens, tasked with special event menus '\n",
       "                          'preparation, executing a daily changing dinner menu, '\n",
       "                          'and training new team members.'},\n",
       "  'score': 0.649339139,\n",
       "  'values': []},\n",
       " {'id': '65373280-work1',\n",
       "  'metadata': {'ID': '65373280',\n",
       "               'summary': 'Worked as Restaurant Chef / Executive Sous-Chef from '\n",
       "                          '08/2008 to 08/2013, creating innovative menus and '\n",
       "                          'supervising a staff of 30 to ensure high health '\n",
       "                          'inspection scores and customer satisfaction.'},\n",
       "  'score': 0.64484477,\n",
       "  'values': []},\n",
       " {'id': '25128608-work3',\n",
       "  'metadata': {'ID': '25128608',\n",
       "               'summary': 'Worked as Executive Chef from 01/2006 to 01/2010, '\n",
       "                          'leading a high volume fine dining restaurant, '\n",
       "                          'achieving over 6.5 million in yearly sales.'},\n",
       "  'score': 0.644814193,\n",
       "  'values': []},\n",
       " {'id': '21611637-work2',\n",
       "  'metadata': {'ID': '21611637',\n",
       "               'summary': 'Worked as Executive Chef/Food Service Manager from '\n",
       "                          'May 2005 to January 2013, doing premium menu design, '\n",
       "                          'recipe development, culinary education, and '\n",
       "                          'nutrition consulting and accomplished a 65% sales '\n",
       "                          'increase over 5-year period with high positive guest '\n",
       "                          'feedback.'},\n",
       "  'score': 0.642682433,\n",
       "  'values': []},\n",
       " {'id': '34452806-work1',\n",
       "  'metadata': {'ID': '34452806',\n",
       "               'summary': 'Worked as Executive Chef from July 2013 to January '\n",
       "                          '2014, doing operational performance management, food '\n",
       "                          'quality and meal service improvement, ensuring '\n",
       "                          'compliance to food safety and workplace safety '\n",
       "                          'standards, managing staff training, and '\n",
       "                          'accomplishing maintained client relationships '\n",
       "                          'through high satisfaction.'},\n",
       "  'score': 0.638276756,\n",
       "  'values': []},\n",
       " {'id': '92985983-work0',\n",
       "  'metadata': {'ID': '92985983',\n",
       "               'summary': 'Worked as Executive Chef from 02/2014 to Current, '\n",
       "                          'doing managing staff of 50+ employees, improving '\n",
       "                          'menus with seasonal and local products, managing '\n",
       "                          'inventory, training staff, overseeing kitchen, '\n",
       "                          'maintaining budget of 2.5M, responsible for special '\n",
       "                          'functions up to 2000+, and supplying food to 940 '\n",
       "                          'students, achieving effective management and support '\n",
       "                          'for company initiatives.'},\n",
       "  'score': 0.637215137,\n",
       "  'values': []}]"
      ]
     },
     "execution_count": 31,
     "metadata": {},
     "output_type": "execute_result"
    }
   ],
   "source": [
    "exp_outputs"
   ]
  },
  {
   "cell_type": "markdown",
   "metadata": {},
   "source": [
    "#### postprocessing\n",
    "- Custom processing"
   ]
  },
  {
   "cell_type": "code",
   "execution_count": 32,
   "metadata": {},
   "outputs": [],
   "source": [
    "skill_df = pd.DataFrame()\n",
    "\n",
    "for k,v in skill_outputs.items():\n",
    "    # score thresholding\n",
    "    v = [i for i in v if i['score']>0.5]\n",
    "    # top3개만 가져옴. 필요한 정보는 모두 metadata에 저장되어 있음\n",
    "    v = [i['metadata'] for i in v][:3]\n",
    "    # convert to dataframe (다루기 쉽도록)\n",
    "    v_df = pd.DataFrame(v)\n",
    "    v_df['query_skill'] = k\n",
    "    # concat\n",
    "    skill_df = pd.concat([skill_df, v_df], axis=0)"
   ]
  },
  {
   "cell_type": "code",
   "execution_count": 33,
   "metadata": {},
   "outputs": [
    {
     "data": {
      "text/html": [
       "<div>\n",
       "<style scoped>\n",
       "    .dataframe tbody tr th:only-of-type {\n",
       "        vertical-align: middle;\n",
       "    }\n",
       "\n",
       "    .dataframe tbody tr th {\n",
       "        vertical-align: top;\n",
       "    }\n",
       "\n",
       "    .dataframe thead th {\n",
       "        text-align: right;\n",
       "    }\n",
       "</style>\n",
       "<table border=\"1\" class=\"dataframe\">\n",
       "  <thead>\n",
       "    <tr style=\"text-align: right;\">\n",
       "      <th></th>\n",
       "      <th>ID</th>\n",
       "      <th>skill</th>\n",
       "      <th>query_skill</th>\n",
       "    </tr>\n",
       "  </thead>\n",
       "  <tbody>\n",
       "    <tr>\n",
       "      <th>0</th>\n",
       "      <td>19285236</td>\n",
       "      <td>Menu Development</td>\n",
       "      <td>Menu Development</td>\n",
       "    </tr>\n",
       "    <tr>\n",
       "      <th>1</th>\n",
       "      <td>13095891</td>\n",
       "      <td>Menu Development</td>\n",
       "      <td>Menu Development</td>\n",
       "    </tr>\n",
       "    <tr>\n",
       "      <th>2</th>\n",
       "      <td>28092317</td>\n",
       "      <td>Menu Development</td>\n",
       "      <td>Menu Development</td>\n",
       "    </tr>\n",
       "    <tr>\n",
       "      <th>0</th>\n",
       "      <td>34452806</td>\n",
       "      <td>Catering</td>\n",
       "      <td>Catering</td>\n",
       "    </tr>\n",
       "    <tr>\n",
       "      <th>1</th>\n",
       "      <td>25128608</td>\n",
       "      <td>Catering</td>\n",
       "      <td>Catering</td>\n",
       "    </tr>\n",
       "    <tr>\n",
       "      <th>2</th>\n",
       "      <td>29775391</td>\n",
       "      <td>Catering</td>\n",
       "      <td>Catering</td>\n",
       "    </tr>\n",
       "    <tr>\n",
       "      <th>0</th>\n",
       "      <td>19285236</td>\n",
       "      <td>Inventory Management</td>\n",
       "      <td>Inventory Management</td>\n",
       "    </tr>\n",
       "    <tr>\n",
       "      <th>1</th>\n",
       "      <td>10333299</td>\n",
       "      <td>Inventory Management</td>\n",
       "      <td>Inventory Management</td>\n",
       "    </tr>\n",
       "    <tr>\n",
       "      <th>2</th>\n",
       "      <td>35468363</td>\n",
       "      <td>Inventory Management</td>\n",
       "      <td>Inventory Management</td>\n",
       "    </tr>\n",
       "  </tbody>\n",
       "</table>\n",
       "</div>"
      ],
      "text/plain": [
       "         ID                 skill           query_skill\n",
       "0  19285236      Menu Development      Menu Development\n",
       "1  13095891      Menu Development      Menu Development\n",
       "2  28092317      Menu Development      Menu Development\n",
       "0  34452806              Catering              Catering\n",
       "1  25128608              Catering              Catering\n",
       "2  29775391              Catering              Catering\n",
       "0  19285236  Inventory Management  Inventory Management\n",
       "1  10333299  Inventory Management  Inventory Management\n",
       "2  35468363  Inventory Management  Inventory Management"
      ]
     },
     "execution_count": 33,
     "metadata": {},
     "output_type": "execute_result"
    }
   ],
   "source": [
    "skill_df"
   ]
  },
  {
   "cell_type": "code",
   "execution_count": 34,
   "metadata": {},
   "outputs": [],
   "source": [
    "exp_outputs = [i for i in exp_outputs if i['score']>0.5]\n",
    "exp_outputs = [i['metadata'] for i in exp_outputs][:3]"
   ]
  },
  {
   "cell_type": "code",
   "execution_count": 35,
   "metadata": {},
   "outputs": [
    {
     "data": {
      "text/plain": [
       "[{'ID': '19285236',\n",
       "  'summary': 'Worked as Executive Chef from February 2014, overseeing kitchen and Café activities, managing a significant budget, and leading a staff through peak seasons, achieving improved service and safety standards.'},\n",
       " {'ID': '13212436',\n",
       "  'summary': 'Worked as Executive Chef/Director of Culinary from 01/2015 to 03/2018, focusing on high quality, innovative food so clients and customers feel like they are not in a convention center atmosphere, overseeing 100+ employees and 6 chefs daily.'},\n",
       " {'ID': '22561438',\n",
       "  'summary': 'Worked as Chef De Cuisine from 04/2016 to Current, doing seasonal menu development, maintaining food quality with low cost, managing inventory and ordering, hiring and firing, and training new employees to uphold standards.'}]"
      ]
     },
     "execution_count": 35,
     "metadata": {},
     "output_type": "execute_result"
    }
   ],
   "source": [
    "exp_outputs"
   ]
  },
  {
   "cell_type": "code",
   "execution_count": 36,
   "metadata": {},
   "outputs": [
    {
     "data": {
      "text/html": [
       "<div>\n",
       "<style scoped>\n",
       "    .dataframe tbody tr th:only-of-type {\n",
       "        vertical-align: middle;\n",
       "    }\n",
       "\n",
       "    .dataframe tbody tr th {\n",
       "        vertical-align: top;\n",
       "    }\n",
       "\n",
       "    .dataframe thead th {\n",
       "        text-align: right;\n",
       "    }\n",
       "</style>\n",
       "<table border=\"1\" class=\"dataframe\">\n",
       "  <thead>\n",
       "    <tr style=\"text-align: right;\">\n",
       "      <th></th>\n",
       "      <th>ID</th>\n",
       "      <th>summary</th>\n",
       "    </tr>\n",
       "  </thead>\n",
       "  <tbody>\n",
       "    <tr>\n",
       "      <th>0</th>\n",
       "      <td>19285236</td>\n",
       "      <td>Worked as Executive Chef from February 2014, o...</td>\n",
       "    </tr>\n",
       "    <tr>\n",
       "      <th>1</th>\n",
       "      <td>13212436</td>\n",
       "      <td>Worked as Executive Chef/Director of Culinary ...</td>\n",
       "    </tr>\n",
       "    <tr>\n",
       "      <th>2</th>\n",
       "      <td>22561438</td>\n",
       "      <td>Worked as Chef De Cuisine from 04/2016 to Curr...</td>\n",
       "    </tr>\n",
       "  </tbody>\n",
       "</table>\n",
       "</div>"
      ],
      "text/plain": [
       "         ID                                            summary\n",
       "0  19285236  Worked as Executive Chef from February 2014, o...\n",
       "1  13212436  Worked as Executive Chef/Director of Culinary ...\n",
       "2  22561438  Worked as Chef De Cuisine from 04/2016 to Curr..."
      ]
     },
     "execution_count": 36,
     "metadata": {},
     "output_type": "execute_result"
    }
   ],
   "source": [
    "pd.DataFrame(exp_outputs)"
   ]
  },
  {
   "cell_type": "markdown",
   "metadata": {},
   "source": [
    "하나의 function으로 변환"
   ]
  },
  {
   "cell_type": "code",
   "execution_count": 37,
   "metadata": {},
   "outputs": [],
   "source": [
    "def search(index, skills, exp, top_k=10, threshold=0.5):\n",
    "    emb_skills = create_embeddings(skills)\n",
    "    emb_exp = create_embeddings(exp)[0]\n",
    "\n",
    "    skill_outputs = {s:search_vdb(index, i, top_k, 'skill') for s,i in zip(skills, emb_skills)}\n",
    "    exp_outputs = search_vdb(index, emb_exp, top_k, 'work_exp')\n",
    "    \n",
    "    skill_df = pd.DataFrame()\n",
    "\n",
    "    for k,v in skill_outputs.items():\n",
    "        # score thresholding\n",
    "        v = [i for i in v if i['score']>threshold]\n",
    "        # top3개만 가져옴. 필요한 정보는 모두 metadata에 저장되어 있음\n",
    "        v = [i['metadata'] for i in v][:3]\n",
    "        # convert to dataframe (다루기 쉽도록)\n",
    "        v_df = pd.DataFrame(v)\n",
    "        v_df['query_skill'] = k\n",
    "        # concat\n",
    "        skill_df = pd.concat([skill_df, v_df], axis=0)\n",
    "\n",
    "    exp_outputs = [i for i in exp_outputs if i['score']>threshold]\n",
    "    exp_outputs = [i['metadata'] for i in exp_outputs][:3]\n",
    "    exp_df = pd.DataFrame(exp_outputs)\n",
    "\n",
    "    return skill_df, exp_df"
   ]
  },
  {
   "cell_type": "code",
   "execution_count": 38,
   "metadata": {},
   "outputs": [],
   "source": [
    "s, e = search(index, skills, exp)"
   ]
  },
  {
   "cell_type": "code",
   "execution_count": 39,
   "metadata": {},
   "outputs": [
    {
     "data": {
      "text/html": [
       "<div>\n",
       "<style scoped>\n",
       "    .dataframe tbody tr th:only-of-type {\n",
       "        vertical-align: middle;\n",
       "    }\n",
       "\n",
       "    .dataframe tbody tr th {\n",
       "        vertical-align: top;\n",
       "    }\n",
       "\n",
       "    .dataframe thead th {\n",
       "        text-align: right;\n",
       "    }\n",
       "</style>\n",
       "<table border=\"1\" class=\"dataframe\">\n",
       "  <thead>\n",
       "    <tr style=\"text-align: right;\">\n",
       "      <th></th>\n",
       "      <th>ID</th>\n",
       "      <th>skill</th>\n",
       "      <th>query_skill</th>\n",
       "    </tr>\n",
       "  </thead>\n",
       "  <tbody>\n",
       "    <tr>\n",
       "      <th>0</th>\n",
       "      <td>19285236</td>\n",
       "      <td>Menu Development</td>\n",
       "      <td>Menu Development</td>\n",
       "    </tr>\n",
       "    <tr>\n",
       "      <th>1</th>\n",
       "      <td>13095891</td>\n",
       "      <td>Menu Development</td>\n",
       "      <td>Menu Development</td>\n",
       "    </tr>\n",
       "    <tr>\n",
       "      <th>2</th>\n",
       "      <td>28092317</td>\n",
       "      <td>Menu Development</td>\n",
       "      <td>Menu Development</td>\n",
       "    </tr>\n",
       "    <tr>\n",
       "      <th>0</th>\n",
       "      <td>34452806</td>\n",
       "      <td>Catering</td>\n",
       "      <td>Catering</td>\n",
       "    </tr>\n",
       "    <tr>\n",
       "      <th>1</th>\n",
       "      <td>25128608</td>\n",
       "      <td>Catering</td>\n",
       "      <td>Catering</td>\n",
       "    </tr>\n",
       "    <tr>\n",
       "      <th>2</th>\n",
       "      <td>29775391</td>\n",
       "      <td>Catering</td>\n",
       "      <td>Catering</td>\n",
       "    </tr>\n",
       "    <tr>\n",
       "      <th>0</th>\n",
       "      <td>19285236</td>\n",
       "      <td>Inventory Management</td>\n",
       "      <td>Inventory Management</td>\n",
       "    </tr>\n",
       "    <tr>\n",
       "      <th>1</th>\n",
       "      <td>10333299</td>\n",
       "      <td>Inventory Management</td>\n",
       "      <td>Inventory Management</td>\n",
       "    </tr>\n",
       "    <tr>\n",
       "      <th>2</th>\n",
       "      <td>35468363</td>\n",
       "      <td>Inventory Management</td>\n",
       "      <td>Inventory Management</td>\n",
       "    </tr>\n",
       "  </tbody>\n",
       "</table>\n",
       "</div>"
      ],
      "text/plain": [
       "         ID                 skill           query_skill\n",
       "0  19285236      Menu Development      Menu Development\n",
       "1  13095891      Menu Development      Menu Development\n",
       "2  28092317      Menu Development      Menu Development\n",
       "0  34452806              Catering              Catering\n",
       "1  25128608              Catering              Catering\n",
       "2  29775391              Catering              Catering\n",
       "0  19285236  Inventory Management  Inventory Management\n",
       "1  10333299  Inventory Management  Inventory Management\n",
       "2  35468363  Inventory Management  Inventory Management"
      ]
     },
     "execution_count": 39,
     "metadata": {},
     "output_type": "execute_result"
    }
   ],
   "source": [
    "s"
   ]
  },
  {
   "cell_type": "code",
   "execution_count": 40,
   "metadata": {},
   "outputs": [
    {
     "data": {
      "text/html": [
       "<div>\n",
       "<style scoped>\n",
       "    .dataframe tbody tr th:only-of-type {\n",
       "        vertical-align: middle;\n",
       "    }\n",
       "\n",
       "    .dataframe tbody tr th {\n",
       "        vertical-align: top;\n",
       "    }\n",
       "\n",
       "    .dataframe thead th {\n",
       "        text-align: right;\n",
       "    }\n",
       "</style>\n",
       "<table border=\"1\" class=\"dataframe\">\n",
       "  <thead>\n",
       "    <tr style=\"text-align: right;\">\n",
       "      <th></th>\n",
       "      <th>ID</th>\n",
       "      <th>summary</th>\n",
       "    </tr>\n",
       "  </thead>\n",
       "  <tbody>\n",
       "    <tr>\n",
       "      <th>0</th>\n",
       "      <td>19285236</td>\n",
       "      <td>Worked as Executive Chef from February 2014, o...</td>\n",
       "    </tr>\n",
       "    <tr>\n",
       "      <th>1</th>\n",
       "      <td>13212436</td>\n",
       "      <td>Worked as Executive Chef/Director of Culinary ...</td>\n",
       "    </tr>\n",
       "    <tr>\n",
       "      <th>2</th>\n",
       "      <td>22561438</td>\n",
       "      <td>Worked as Chef De Cuisine from 04/2016 to Curr...</td>\n",
       "    </tr>\n",
       "  </tbody>\n",
       "</table>\n",
       "</div>"
      ],
      "text/plain": [
       "         ID                                            summary\n",
       "0  19285236  Worked as Executive Chef from February 2014, o...\n",
       "1  13212436  Worked as Executive Chef/Director of Culinary ...\n",
       "2  22561438  Worked as Chef De Cuisine from 04/2016 to Curr..."
      ]
     },
     "execution_count": 40,
     "metadata": {},
     "output_type": "execute_result"
    }
   ],
   "source": [
    "e"
   ]
  },
  {
   "cell_type": "markdown",
   "metadata": {},
   "source": [
    "---"
   ]
  },
  {
   "cell_type": "markdown",
   "metadata": {},
   "source": [
    "### Query transformation\n",
    "- Custom transformation\n",
    "- Sub query generation\n",
    "- Query rewriting"
   ]
  },
  {
   "cell_type": "code",
   "execution_count": 41,
   "metadata": {},
   "outputs": [],
   "source": [
    "from text_utils import normal_chat_completion"
   ]
  },
  {
   "cell_type": "code",
   "execution_count": 42,
   "metadata": {},
   "outputs": [],
   "source": [
    "skills = ['Menu Development', 'Catering', 'Inventory Management']\n",
    "exp = 'As the Executive Chef at Le Gourmet Quatre, a Michelin-starred fine dining restaurant, I led a team of 20 chefs in developing innovative French-Asian fusion menus, while also managing kitchen operations efficiently to uphold the highest standards of food safety and cost control'"
   ]
  },
  {
   "cell_type": "markdown",
   "metadata": {},
   "source": [
    "1. Query rewriting\n",
    "- 사용자의 쿼리를 rewrite하여 search에 최적화된 형태로 변형"
   ]
  },
  {
   "cell_type": "code",
   "execution_count": 43,
   "metadata": {},
   "outputs": [],
   "source": [
    "rewriting_prompt = \"\"\"Convert the [user input] into a format as if it was written in a resume.\n",
    "Example: \n",
    "    - [user input] : 내가 벤치 프레스, 스쿼트, 그리고 데드리프트를 총 500kg을 들 수 있는데 도와줄 수 있는 사람을 추천해줘.\n",
    "    - [output] : Worked as a personal trainer, helping people to achieve their personal fitness goals in various fields such as weight lifting and losing weight.\n",
    "    - [skills] : [Strength training, weight lifting, coathing, anatomy]\n",
    "23\n",
    "Desired output format:\n",
    "    - json format with 'output' and 'skills'\n",
    "    - the value of 'output' should be a sentence string in a format of 'Worked as a <job title>, <job description>'\n",
    "    - the value of 'skills' should be a list of 5 strings. Each element in a list should be a realistic skill that matches with the job description\n",
    "    \n",
    "The [user input] : {}\n",
    "[output] : \n",
    "\"\"\""
   ]
  },
  {
   "cell_type": "code",
   "execution_count": 44,
   "metadata": {},
   "outputs": [],
   "source": [
    "input = \"3대 500을 할 수 있도록 도와줄 수 있는 사람을 찾아줘\"\n",
    "\n",
    "a = normal_chat_completion(rewriting_prompt.format(input))"
   ]
  },
  {
   "cell_type": "code",
   "execution_count": 45,
   "metadata": {},
   "outputs": [
    {
     "data": {
      "text/plain": [
       "{'output': 'Worked as a strength and conditioning coach, specializing in coaching individuals to achieve their powerlifting goals, particularly in bench press, squat, and deadlift with a total lift of 500kg.',\n",
       " 'skills': ['Powerlifting coaching',\n",
       "  'Strength training',\n",
       "  'Fitness assessment',\n",
       "  'Nutritional guidance',\n",
       "  'Motivational coaching']}"
      ]
     },
     "execution_count": 45,
     "metadata": {},
     "output_type": "execute_result"
    }
   ],
   "source": [
    "json.loads(a.choices[0].message.content)"
   ]
  },
  {
   "cell_type": "markdown",
   "metadata": {},
   "source": [
    "2. Breakdown multiple requests\n",
    "- 사용자의 쿼리 내에 여러개의 요구사항이 있다면, 해당 요구사항들을 개별적으로 분리\n",
    "- 분리된 요구사항들을 개별적으로 처리"
   ]
  },
  {
   "cell_type": "code",
   "execution_count": 46,
   "metadata": {},
   "outputs": [],
   "source": [
    "sub_query_prompt = \"\"\"The user will request a talent recommendation.\n",
    "If the user's request contains mentions of multiple talent recommendation,\n",
    "divide them into a separate but full sentences.\n",
    "\n",
    "Example 1 :\n",
    "    - [user input] : 내가 벤치 프레스, 스쿼트, 그리고 데드리프트를 총 500kg을 들 수 있는데 도와줄 수 있는 사람을 추천해주고, 그에 맞는 식단을 만들어줄 수 있는 사람도 추천해줘.\n",
    "    - [output] : [내가 벤치 프레스, 스쿼트, 그리고 데드리프트를 총 500kg을 들 수 있는데 도와줄 수 있는 사람을 추천해줘, \n",
    "                          내가 벤치 프레스, 스쿼트, 그리고 데드리프트를 총 500kg을 드는데 도움을 줄 식단을 만들어 줄 수 있는 사람을 추천해줘]\n",
    "\n",
    "If the user's request only mentions of one talent recommendation,\n",
    "provide the exact same input as output.\n",
    "\n",
    "Example 2 :\n",
    "    - [user input] : 내가 벤치 프레스, 스쿼트, 그리고 데드리프트를 총 500kg을 들 수 있는데 도와줄 수 있는 사람을 추천해줘\n",
    "    - [output] : [내가 벤치 프레스, 스쿼트, 그리고 데드리프트를 총 500kg을 들 수 있는데 도와줄 수 있는 사람을 추천해줘]\n",
    "\n",
    "If the user's request does not mention clear descriptions about each talent,\n",
    "provide 'False' as output.\n",
    "\n",
    "Example 3 :\n",
    "    - [user input] : 내 이사를 도와줄 사람 5명을 추천해줘\n",
    "    - [output] : [False]\n",
    "\n",
    "Desired output format :\n",
    "    - json format with 'original_input' and 'output' as keys.\n",
    "    - the 'original_input' should be the input I provide you.\n",
    "    - the 'output' is the rewritten input by you.\n",
    "\n",
    "[user input] : {}\n",
    "\"\"\""
   ]
  },
  {
   "cell_type": "code",
   "execution_count": 47,
   "metadata": {},
   "outputs": [
    {
     "data": {
      "text/plain": [
       "{'original_input': '파인다이닝 음식점에서 음식을 구상할 수 있는 사람 한 명, 그리고 그 음식을 서빙할 수 있는 사람을 추천해줘',\n",
       " 'output': ['파인다이닝 음식점에서 음식을 구상할 수 있는 사람 한 명을 추천해줘',\n",
       "  '파인다이닝 음식점에서 음식을 서빙할 수 있는 사람을 추천해줘']}"
      ]
     },
     "execution_count": 47,
     "metadata": {},
     "output_type": "execute_result"
    }
   ],
   "source": [
    "input = \"파인다이닝 음식점에서 음식을 구상할 수 있는 사람 한 명, 그리고 그 음식을 서빙할 수 있는 사람을 추천해줘\"\n",
    "\n",
    "a = normal_chat_completion(sub_query_prompt.format(input))\n",
    "\n",
    "json.loads(a.choices[0].message.content)"
   ]
  },
  {
   "cell_type": "code",
   "execution_count": 48,
   "metadata": {},
   "outputs": [
    {
     "data": {
      "text/plain": [
       "{'original_input': '내가 이번에 음식점을 오픈하는데, 거기에 들어갈 인원 5명을 추천해줘', 'output': [False]}"
      ]
     },
     "execution_count": 48,
     "metadata": {},
     "output_type": "execute_result"
    }
   ],
   "source": [
    "input = \"내가 이번에 음식점을 오픈하는데, 거기에 들어갈 인원 5명을 추천해줘\"\n",
    "\n",
    "a = normal_chat_completion(sub_query_prompt.format(input))\n",
    "\n",
    "json.loads(a.choices[0].message.content)"
   ]
  },
  {
   "cell_type": "code",
   "execution_count": 49,
   "metadata": {},
   "outputs": [],
   "source": [
    "def query_transformation(input, sub_query_prompt, rewriting_prompt):\n",
    "    transformed_query = normal_chat_completion(sub_query_prompt.format(input))\n",
    "    transform_output = json.loads(transformed_query.choices[0].message.content)['output']\n",
    "    \n",
    "    if isinstance(transform_output, list):\n",
    "        if transform_output[0]==False:\n",
    "            return \"조금 더 구체적으로 인풋을 작성해주세요\"\n",
    "        else:\n",
    "            search_queries = [normal_chat_completion(rewriting_prompt.format(output)) for output in transform_output]\n",
    "            search_queries = [json.loads(i.choices[0].message.content) for i in search_queries]\n",
    "            return search_queries\n",
    "    else:\n",
    "        search_queries = [normal_chat_completion(rewriting_prompt.format(transform_output))]\n",
    "        search_queries = [json.loads(search_queries.choices[0].message.content)]\n",
    "        return search_queries"
   ]
  },
  {
   "cell_type": "code",
   "execution_count": 52,
   "metadata": {},
   "outputs": [
    {
     "data": {
      "text/plain": [
       "'조금 더 구체적으로 인풋을 작성해주세요'"
      ]
     },
     "execution_count": 52,
     "metadata": {},
     "output_type": "execute_result"
    }
   ],
   "source": [
    "# 정보 부족시 chat 생성 example\n",
    "input = \"내가 이번에 음식점을 오픈하는데, 거기에 들어갈 인원 5명을 추천해줘\"\n",
    "\n",
    "query_transformation(input, sub_query_prompt, rewriting_prompt)"
   ]
  },
  {
   "cell_type": "code",
   "execution_count": 51,
   "metadata": {},
   "outputs": [
    {
     "data": {
      "text/plain": [
       "[{'output': 'Worked as a Business Development Manager, focusing on strategizing and executing plans to drive business success and growth.',\n",
       "  'skills': ['Strategic planning',\n",
       "   'Market research and analysis',\n",
       "   'Financial modeling',\n",
       "   'Leadership and team management',\n",
       "   'Sales and marketing strategies']}]"
      ]
     },
     "execution_count": 51,
     "metadata": {},
     "output_type": "execute_result"
    }
   ],
   "source": [
    "input = \"내 사업을 성공시켜줄 사람을 추천해줘\"\n",
    "\n",
    "query_transformation(input, sub_query_prompt, rewriting_prompt)"
   ]
  },
  {
   "cell_type": "markdown",
   "metadata": {},
   "source": [
    "---"
   ]
  },
  {
   "cell_type": "code",
   "execution_count": null,
   "metadata": {},
   "outputs": [],
   "source": [
    "input = \"파인다이닝 음식점에서 음식을 구상할 수 있는 사람 한 명, 그리고 그 음식을 서빙할 수 있는 사람을 추천해줘\"\n",
    "\n",
    "queries = query_transformation(input, sub_query_prompt, rewriting_prompt)"
   ]
  },
  {
   "cell_type": "code",
   "execution_count": null,
   "metadata": {},
   "outputs": [],
   "source": [
    "queries"
   ]
  },
  {
   "cell_type": "code",
   "execution_count": null,
   "metadata": {},
   "outputs": [],
   "source": [
    "retrieved = [search(index, query['skills'], query['output']) for query in queries]"
   ]
  },
  {
   "cell_type": "code",
   "execution_count": null,
   "metadata": {},
   "outputs": [],
   "source": [
    "retrieved[0]"
   ]
  },
  {
   "cell_type": "code",
   "execution_count": null,
   "metadata": {},
   "outputs": [],
   "source": [
    "input = \"보디빌딩 대회에서 우승을 할 수 있게끔 도와줄 수 있는 사람을 추천해줘\"\n",
    "\n",
    "queries = query_transformation(input, sub_query_prompt, rewriting_prompt)\n",
    "retrieved = [search(index, query['skills'], query['output']) for query in queries]"
   ]
  },
  {
   "cell_type": "code",
   "execution_count": null,
   "metadata": {},
   "outputs": [],
   "source": [
    "retrieved[0][0]"
   ]
  },
  {
   "cell_type": "code",
   "execution_count": null,
   "metadata": {},
   "outputs": [],
   "source": [
    "retrieved[0][1]"
   ]
  }
 ],
 "metadata": {
  "kernelspec": {
   "display_name": "Python 3 (ipykernel)",
   "language": "python",
   "name": "python3"
  },
  "language_info": {
   "codemirror_mode": {
    "name": "ipython",
    "version": 3
   },
   "file_extension": ".py",
   "mimetype": "text/x-python",
   "name": "python",
   "nbconvert_exporter": "python",
   "pygments_lexer": "ipython3",
   "version": "3.11.9"
  }
 },
 "nbformat": 4,
 "nbformat_minor": 4
}
